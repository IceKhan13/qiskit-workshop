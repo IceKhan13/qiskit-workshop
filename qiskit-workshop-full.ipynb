{
 "cells": [
  {
   "cell_type": "markdown",
   "id": "617ea102",
   "metadata": {},
   "source": [
    "\n",
    "# Qiskit: Open-Source Quantum Development, an introduction\n",
    "\n",
    "---\n",
    "\n",
    "\n",
    "\n",
    "\n",
    "\n",
    "\n"
   ]
  },
  {
   "cell_type": "markdown",
   "id": "7828387c",
   "metadata": {},
   "source": [
    "### Jan 2022, Iskandar Sitdikov\n"
   ]
  },
  {
   "cell_type": "markdown",
   "id": "b4186963",
   "metadata": {},
   "source": [
    "\n",
    "\n",
    "### Workshop contents\n",
    "\n",
    "1.   Intro IBM Quantum Lab and Qiskit modules\n",
    "2.   Circuits, backends, visualization\n",
    "3.   Quantum info, circuit lib, algorithms\n",
    "4.   Circuit compilation, pulse, opflow\n",
    "\n"
   ]
  },
  {
   "cell_type": "markdown",
   "id": "cbf4c6f1",
   "metadata": {},
   "source": [
    "## 1. Intro IBM Quantum Lab and Qiskit modules"
   ]
  },
  {
   "cell_type": "markdown",
   "id": "cdb252ab",
   "metadata": {},
   "source": [
    "### https://quantum-computing.ibm.com/lab\n",
    "\n",
    "### https://qiskit.org/documentation/\n",
    "\n",
    "### https://github.com/qiskit"
   ]
  },
  {
   "cell_type": "markdown",
   "id": "987f92d3",
   "metadata": {},
   "source": [
    "![architecutre](./qiskit-architecture.png)"
   ]
  },
  {
   "cell_type": "markdown",
   "id": "af6f13f0",
   "metadata": {},
   "source": [
    "## 2. Circuits, backends and visualization"
   ]
  },
  {
   "cell_type": "code",
   "execution_count": null,
   "id": "b3702a45",
   "metadata": {},
   "outputs": [],
   "source": [
    "from qiskit import IBMQ\n",
    "# Loading your IBM Quantum account(s)\n",
    "provider = IBMQ.load_account()"
   ]
  },
  {
   "cell_type": "code",
   "execution_count": 23,
   "id": "fd7e3443",
   "metadata": {},
   "outputs": [
    {
     "data": {
      "text/plain": [
       "[<AccountProvider for IBMQ(hub='ibm-q', group='open', project='main')>]"
      ]
     },
     "execution_count": 23,
     "metadata": {},
     "output_type": "execute_result"
    }
   ],
   "source": [
    "IBMQ.providers()"
   ]
  },
  {
   "cell_type": "markdown",
   "id": "8d2add04",
   "metadata": {},
   "source": [
    "### Your first quantum circuit\n",
    "\n",
    "Let's begin exploring the different tools in Qiskit Terra. For that, we will now create a Quantum Circuit.\n",
    "\n"
   ]
  },
  {
   "cell_type": "code",
   "execution_count": 3,
   "id": "f73fe8be",
   "metadata": {},
   "outputs": [],
   "source": [
    "from qiskit import QuantumCircuit\n",
    "\n",
    "# Create circuit\n",
    "# <INSERT CODE>\n",
    "circuit = QuantumCircuit(2)\n",
    "circuit.h(0)\n",
    "circuit.cx(0, 1)\n",
    "circuit.measure_all()"
   ]
  },
  {
   "cell_type": "code",
   "execution_count": 4,
   "id": "f910cb44",
   "metadata": {},
   "outputs": [
    {
     "data": {
      "text/html": [
       "<pre style=\"word-wrap: normal;white-space: pre;background: #fff0;line-height: 1.1;font-family: &quot;Courier New&quot;,Courier,monospace\">          ┌───┐      ░ ┌─┐   \n",
       "  q_0: |0>┤ H ├──■───░─┤M├───\n",
       "          └───┘┌─┴─┐ ░ └╥┘┌─┐\n",
       "  q_1: |0>─────┤ X ├─░──╫─┤M├\n",
       "               └───┘ ░  ║ └╥┘\n",
       "meas: 0 2/══════════════╩══╩═\n",
       "                        0  1 </pre>"
      ],
      "text/plain": [
       "          ┌───┐      ░ ┌─┐   \n",
       "  q_0: |0>┤ H ├──■───░─┤M├───\n",
       "          └───┘┌─┴─┐ ░ └╥┘┌─┐\n",
       "  q_1: |0>─────┤ X ├─░──╫─┤M├\n",
       "               └───┘ ░  ║ └╥┘\n",
       "meas: 0 2/══════════════╩══╩═\n",
       "                        0  1 "
      ]
     },
     "execution_count": 4,
     "metadata": {},
     "output_type": "execute_result"
    }
   ],
   "source": [
    "# print circuit\n",
    "# <INSERT CODE>\n",
    "\n",
    "circuit.draw(initial_state=True)"
   ]
  },
  {
   "cell_type": "markdown",
   "id": "07f5337e",
   "metadata": {},
   "source": [
    "Now let's run the circuit in the Aer simulator and plot the results in a histogram.\n"
   ]
  },
  {
   "cell_type": "code",
   "execution_count": 13,
   "id": "b0c5f066",
   "metadata": {},
   "outputs": [
    {
     "data": {
      "text/plain": [
       "{'11': 495, '00': 529}"
      ]
     },
     "execution_count": 13,
     "metadata": {},
     "output_type": "execute_result"
    }
   ],
   "source": [
    "from qiskit import Aer\n",
    "\n",
    "# run circuit on Aer simulator\n",
    "# <INSERT CODE>\n",
    "\n",
    "sim = Aer.get_backend('aer_simulator')  # this is the simulator we'll use\n",
    "result = sim.run(circuit).result()  # we run the experiment and get the result from that experiment\n",
    "# from the results, we get a dictionary containing the number of times (counts)\n",
    "# each result appeared\n",
    "counts = result.get_counts()\n",
    "counts"
   ]
  },
  {
   "cell_type": "code",
   "execution_count": 15,
   "id": "20a858a5",
   "metadata": {},
   "outputs": [
    {
     "data": {
      "image/png": "[encoded data removed]",
      "text/plain": [
       "<Figure size 504x360 with 1 Axes>"
      ]
     },
     "execution_count": 15,
     "metadata": {},
     "output_type": "execute_result"
    }
   ],
   "source": [
    "from qiskit.visualization import plot_histogram\n",
    "\n",
    "# and display it on a histogram\n",
    "# <INSERT CODE>\n",
    "plot_histogram(counts)"
   ]
  },
  {
   "cell_type": "markdown",
   "id": "d52f7282",
   "metadata": {},
   "source": [
    "### Qiskit Visualization tools"
   ]
  },
  {
   "cell_type": "markdown",
   "id": "3049c04c",
   "metadata": {},
   "source": [
    "We have already seen how to plot the results in a histogram. There are other visualization tools that are useful when working with quantum computers, let's explore them.\n",
    "\n",
    "#### Plot a state\n",
    "\n",
    "In many situations you want to see the state of a quantum computer. This could be for debugging. Here we assume you have this state (either from simulation or state tomography) and the goal is to visualize the quantum state. This requires exponential resources, so we advise to only view the state of small quantum systems. There are several functions for generating different types of visualization of a quantum state\n",
    "\n",
    "\n",
    "\n",
    "```\n",
    "plot_state_city(quantum_state)\n",
    "plot_state_qsphere(quantum_state)\n",
    "plot_state_paulivec(quantum_state)\n",
    "plot_state_hinton(quantum_state)\n",
    "plot_bloch_multivector(quantum_state)\n",
    "```\n",
    "\n"
   ]
  },
  {
   "cell_type": "markdown",
   "id": "70cf48fe",
   "metadata": {},
   "source": [
    "A quantum state is either a state matrix $ \\rho $ (Hermitian matrix) or statevector $ | \\psi ⟩ $ (complex vector). The state matrix is related to the statevector by \n",
    "$$ \\rho = | \\psi ⟩⟨ \\psi | $$"
   ]
  },
  {
   "cell_type": "markdown",
   "id": "47d1d2e1",
   "metadata": {},
   "source": [
    "The visualizations generated by the functions are:\n",
    "\n",
    "`'plot_state_city'`: The standard view for quantum states where the real and imaginary (imag) parts of the state matrix are plotted like a city.\n",
    "\n",
    "`'plot_state_qsphere'`: The Qiskit unique view of a quantum state where the amplitude and phase of the state vector are plotted in a spherical ball. \n",
    "The amplitude is the thickness of the arrow and the phase is the color. For mixed states it will show different 'qsphere' for each component.\n",
    "\n",
    "`'plot_state_paulivec'`: The representation of the state matrix using Pauli operators as the basis. \n",
    "\n",
    "`'plot_state_hinton'`: Same as 'city' but where the size of the element represents the value of the matrix element.\n",
    "\n",
    "`'plot_bloch_multivector'`: The projection of the quantum state onto the single qubit space and plotting on a bloch sphere."
   ]
  },
  {
   "cell_type": "code",
   "execution_count": 16,
   "id": "283b1096",
   "metadata": {},
   "outputs": [],
   "source": [
    "from qiskit.visualization import plot_state_city, plot_state_paulivec, plot_state_hinton"
   ]
  },
  {
   "cell_type": "code",
   "execution_count": 17,
   "id": "5ee92a66",
   "metadata": {},
   "outputs": [
    {
     "data": {
      "text/plain": [
       "<qiskit.circuit.instructionset.InstructionSet at 0x7fe1e0c48400>"
      ]
     },
     "execution_count": 17,
     "metadata": {},
     "output_type": "execute_result"
    }
   ],
   "source": [
    "circuit = QuantumCircuit(2, 2)\n",
    "circuit.h(0)\n",
    "circuit.cx(0, 1)"
   ]
  },
  {
   "cell_type": "code",
   "execution_count": 9,
   "id": "fee6e5a6",
   "metadata": {},
   "outputs": [],
   "source": [
    "backend = Aer.get_backend('statevector_simulator') # the device to run on\n",
    "result = backend.run(circuit).result()\n",
    "psi  = result.get_statevector(circuit)"
   ]
  },
  {
   "cell_type": "code",
   "execution_count": 10,
   "id": "d4acce6d",
   "metadata": {},
   "outputs": [
    {
     "data": {
      "image/png": "[encoded data removed]",
      "text/plain": [
       "<Figure size 1080x360 with 2 Axes>"
      ]
     },
     "execution_count": 10,
     "metadata": {},
     "output_type": "execute_result"
    }
   ],
   "source": [
    "# plot state city\n",
    "# <INSERT CODE>\n",
    "plot_state_city(psi)"
   ]
  },
  {
   "cell_type": "code",
   "execution_count": 11,
   "id": "8138314c",
   "metadata": {},
   "outputs": [
    {
     "data": {
      "image/png": "[encoded data removed]",
      "text/plain": [
       "<Figure size 576x360 with 2 Axes>"
      ]
     },
     "execution_count": 11,
     "metadata": {},
     "output_type": "execute_result"
    }
   ],
   "source": [
    "# plot state hinton\n",
    "# <INSERT CODE>\n",
    "plot_state_hinton(psi)"
   ]
  },
  {
   "cell_type": "code",
   "execution_count": 12,
   "id": "f31b332d",
   "metadata": {},
   "outputs": [
    {
     "data": {
      "image/png": "[encoded data removed]",
      "text/plain": [
       "<Figure size 504x360 with 1 Axes>"
      ]
     },
     "execution_count": 12,
     "metadata": {},
     "output_type": "execute_result"
    }
   ],
   "source": [
    "# plot state paulivec\n",
    "# <INSERT CODE>\n",
    "plot_state_paulivec(psi)"
   ]
  },
  {
   "cell_type": "markdown",
   "id": "78b9e2bd",
   "metadata": {},
   "source": [
    "#### Circuit Visualization"
   ]
  },
  {
   "cell_type": "markdown",
   "id": "3b1f87fe",
   "metadata": {},
   "source": [
    "When building a quantum circuit, it often helps to draw the circuit. This is supported natively by a ``QuantumCircuit`` object. You can either call ``print()`` on the circuit, or call the ``draw()`` method on the object."
   ]
  },
  {
   "cell_type": "code",
   "execution_count": 13,
   "id": "44d2d2c3",
   "metadata": {},
   "outputs": [],
   "source": [
    "from qiskit import QuantumCircuit, ClassicalRegister, QuantumRegister"
   ]
  },
  {
   "cell_type": "code",
   "execution_count": 18,
   "id": "cb9b07cd",
   "metadata": {},
   "outputs": [],
   "source": [
    "# Build a quantum circuit\n",
    "circuit = QuantumCircuit(3, 3)\n",
    "\n",
    "circuit.x(1)\n",
    "circuit.h(range(3))\n",
    "circuit.cx(0, 1)\n",
    "circuit.measure(range(3), range(3));"
   ]
  },
  {
   "cell_type": "code",
   "execution_count": 19,
   "id": "13ac4b50",
   "metadata": {},
   "outputs": [
    {
     "name": "stdout",
     "output_type": "stream",
     "text": [
      "     ┌───┐          ┌─┐   \n",
      "q_0: ┤ H ├───────■──┤M├───\n",
      "     ├───┤┌───┐┌─┴─┐└╥┘┌─┐\n",
      "q_1: ┤ X ├┤ H ├┤ X ├─╫─┤M├\n",
      "     ├───┤└┬─┬┘└───┘ ║ └╥┘\n",
      "q_2: ┤ H ├─┤M├───────╫──╫─\n",
      "     └───┘ └╥┘       ║  ║ \n",
      "c: 3/═══════╩════════╩══╩═\n",
      "            2        0  1 \n"
     ]
    }
   ],
   "source": [
    "# print circuit\n",
    "# <INSERT CODE>\n",
    "print(circuit)"
   ]
  },
  {
   "cell_type": "code",
   "execution_count": 16,
   "id": "4223dd99",
   "metadata": {},
   "outputs": [
    {
     "data": {
      "text/html": [
       "<pre style=\"word-wrap: normal;white-space: pre;background: #fff0;line-height: 1.1;font-family: &quot;Courier New&quot;,Courier,monospace\">     ┌───┐          ┌─┐   \n",
       "q_0: ┤ H ├───────■──┤M├───\n",
       "     ├───┤┌───┐┌─┴─┐└╥┘┌─┐\n",
       "q_1: ┤ X ├┤ H ├┤ X ├─╫─┤M├\n",
       "     ├───┤└┬─┬┘└───┘ ║ └╥┘\n",
       "q_2: ┤ H ├─┤M├───────╫──╫─\n",
       "     └───┘ └╥┘       ║  ║ \n",
       "c: 3/═══════╩════════╩══╩═\n",
       "            2        0  1 </pre>"
      ],
      "text/plain": [
       "     ┌───┐          ┌─┐   \n",
       "q_0: ┤ H ├───────■──┤M├───\n",
       "     ├───┤┌───┐┌─┴─┐└╥┘┌─┐\n",
       "q_1: ┤ X ├┤ H ├┤ X ├─╫─┤M├\n",
       "     ├───┤└┬─┬┘└───┘ ║ └╥┘\n",
       "q_2: ┤ H ├─┤M├───────╫──╫─\n",
       "     └───┘ └╥┘       ║  ║ \n",
       "c: 3/═══════╩════════╩══╩═\n",
       "            2        0  1 "
      ]
     },
     "execution_count": 16,
     "metadata": {},
     "output_type": "execute_result"
    }
   ],
   "source": [
    "# print circuit using draw method\n",
    "# <INSERT CODE>\n",
    "circuit.draw()"
   ]
  },
  {
   "cell_type": "markdown",
   "id": "2499607f",
   "metadata": {},
   "source": [
    "There are different drawing formats. The parameter output (str) selects the output method to use for drawing the circuit. Valid choices are ``text, mpl, latex, latex_source``. See [qiskit.circuit.QuantumCircuit.draw](https://qiskit.org/documentation/stubs/qiskit.circuit.QuantumCircuit.draw.html?highlight=draw)"
   ]
  },
  {
   "cell_type": "code",
   "execution_count": 17,
   "id": "1223e4b0",
   "metadata": {},
   "outputs": [
    {
     "data": {
      "image/png": "[encoded data removed]",
      "text/plain": [
       "<Figure size 431.441x264.88 with 1 Axes>"
      ]
     },
     "execution_count": 17,
     "metadata": {},
     "output_type": "execute_result"
    }
   ],
   "source": [
    "# print circuit using different drawer (mlp for example)\n",
    "# <INSERT CODE>\n",
    "circuit.draw(initial_state=True, output='mpl')"
   ]
  },
  {
   "cell_type": "markdown",
   "id": "de9c90ab",
   "metadata": {},
   "source": [
    "##### Disable Plot Barriers and Reversing Bit Order"
   ]
  },
  {
   "cell_type": "markdown",
   "id": "dacc7b3e",
   "metadata": {},
   "source": [
    "The first two options are shared among all three backends. They allow you to configure both the bit orders and whether or not you draw barriers. These can be set by the ``reverse_bits`` `kwarg and ``plot_barriers`` kwarg, respectively. The examples below will work with any output backend; mpl is used here for brevity."
   ]
  },
  {
   "cell_type": "code",
   "execution_count": 18,
   "id": "53c54616",
   "metadata": {},
   "outputs": [],
   "source": [
    "# Draw a new circuit with barriers and more registers\n",
    "\n",
    "q_a = QuantumRegister(3, name='qa')\n",
    "q_b = QuantumRegister(5, name='qb')\n",
    "c_a = ClassicalRegister(3)\n",
    "c_b = ClassicalRegister(5)\n",
    "\n",
    "circuit = QuantumCircuit(q_a, q_b, c_a, c_b)\n",
    "\n",
    "circuit.x(q_a[1])\n",
    "circuit.x(q_b[1])\n",
    "circuit.x(q_b[2])\n",
    "circuit.x(q_b[4])\n",
    "circuit.barrier()\n",
    "circuit.h(q_a)\n",
    "circuit.barrier(q_a)\n",
    "circuit.h(q_b)\n",
    "circuit.cswap(q_b[0], q_b[1], q_b[2])\n",
    "circuit.cswap(q_b[2], q_b[3], q_b[4])\n",
    "circuit.cswap(q_b[3], q_b[4], q_b[0])\n",
    "circuit.barrier(q_b)\n",
    "circuit.measure(q_a, c_a)\n",
    "circuit.measure(q_b, c_b);"
   ]
  },
  {
   "cell_type": "code",
   "execution_count": 19,
   "id": "2fcdf4c4",
   "metadata": {},
   "outputs": [
    {
     "data": {
      "image/png": "[encoded data removed]",
      "text/plain": [
       "<Figure size 1002.87x626.08 with 1 Axes>"
      ]
     },
     "execution_count": 19,
     "metadata": {},
     "output_type": "execute_result"
    }
   ],
   "source": [
    "# Draw the circuit\n",
    "# <INSERT CODE>\n",
    "circuit.draw(output='mpl')"
   ]
  },
  {
   "cell_type": "code",
   "execution_count": 20,
   "id": "0d7bf342",
   "metadata": {},
   "outputs": [
    {
     "data": {
      "image/png": "[encoded data removed]",
      "text/plain": [
       "<Figure size 822.269x626.08 with 1 Axes>"
      ]
     },
     "execution_count": 20,
     "metadata": {},
     "output_type": "execute_result"
    }
   ],
   "source": [
    "# Draw the circuit with reversed bit order\n",
    "# <INSERT CODE>\n",
    "circuit.draw(output='mpl', reverse_bits=True)"
   ]
  },
  {
   "cell_type": "code",
   "execution_count": 21,
   "id": "16915afb",
   "metadata": {},
   "outputs": [
    {
     "data": {
      "image/png": "[encoded data removed]",
      "text/plain": [
       "<Figure size 882.469x626.08 with 1 Axes>"
      ]
     },
     "execution_count": 21,
     "metadata": {},
     "output_type": "execute_result"
    }
   ],
   "source": [
    "# Draw the circuit without barriers\n",
    "# <INSERT CODE>\n",
    "circuit.draw(output='mpl', plot_barriers=False)"
   ]
  },
  {
   "cell_type": "markdown",
   "id": "e864a5b0",
   "metadata": {},
   "source": [
    "##### MPL specific costumizations"
   ]
  },
  {
   "cell_type": "code",
   "execution_count": 23,
   "id": "dd56c8b6",
   "metadata": {},
   "outputs": [
    {
     "data": {
      "image/png": "[encoded data removed]",
      "text/plain": [
       "<Figure size 1002.87x626.08 with 1 Axes>"
      ]
     },
     "execution_count": 23,
     "metadata": {},
     "output_type": "execute_result"
    }
   ],
   "source": [
    "# Change the background color in mpl\n",
    "# <INSERT CODE>\n",
    "\n",
    "style = {'backgroundcolor': 'lightgreen'}\n",
    "\n",
    "circuit.draw(output='mpl', style=style)"
   ]
  },
  {
   "cell_type": "code",
   "execution_count": 24,
   "id": "9fdd18a9",
   "metadata": {},
   "outputs": [
    {
     "data": {
      "image/png": "[encoded data removed]",
      "text/plain": [
       "<Figure size 501.434x313.04 with 1 Axes>"
      ]
     },
     "execution_count": 24,
     "metadata": {},
     "output_type": "execute_result"
    }
   ],
   "source": [
    "# Scale the mpl output to 1/2 the normal size\n",
    "# <INSERT CODE>\n",
    "\n",
    "circuit.draw(output='mpl', scale=0.5)"
   ]
  },
  {
   "cell_type": "markdown",
   "id": "82de8cd1",
   "metadata": {},
   "source": [
    "### Simulators "
   ]
  },
  {
   "cell_type": "markdown",
   "id": "143ccd13",
   "metadata": {},
   "source": [
    "Now we will show how to import the Qiskit Aer simulator backend and use it to run ideal (noise free) Qiskit Terra circuits."
   ]
  },
  {
   "cell_type": "code",
   "execution_count": 25,
   "id": "3687d2a5",
   "metadata": {},
   "outputs": [],
   "source": [
    "import numpy as np\n",
    "\n",
    "# Import Qiskit\n",
    "from qiskit import QuantumCircuit\n",
    "from qiskit import Aer, transpile\n",
    "from qiskit.tools.visualization import plot_histogram, plot_state_city\n",
    "import qiskit.quantum_info as qi"
   ]
  },
  {
   "cell_type": "code",
   "execution_count": 26,
   "id": "a6d6cffd",
   "metadata": {},
   "outputs": [
    {
     "data": {
      "text/plain": [
       "[AerSimulator('aer_simulator'),\n",
       " AerSimulator('aer_simulator_statevector'),\n",
       " AerSimulator('aer_simulator_density_matrix'),\n",
       " AerSimulator('aer_simulator_stabilizer'),\n",
       " AerSimulator('aer_simulator_matrix_product_state'),\n",
       " AerSimulator('aer_simulator_extended_stabilizer'),\n",
       " AerSimulator('aer_simulator_unitary'),\n",
       " AerSimulator('aer_simulator_superop'),\n",
       " QasmSimulator('qasm_simulator'),\n",
       " StatevectorSimulator('statevector_simulator'),\n",
       " UnitarySimulator('unitary_simulator'),\n",
       " PulseSimulator('pulse_simulator')]"
      ]
     },
     "execution_count": 26,
     "metadata": {},
     "output_type": "execute_result"
    }
   ],
   "source": [
    "Aer.backends()"
   ]
  },
  {
   "cell_type": "code",
   "execution_count": 27,
   "id": "1fdf8bee",
   "metadata": {},
   "outputs": [],
   "source": [
    "simulator = Aer.get_backend('aer_simulator')"
   ]
  },
  {
   "cell_type": "markdown",
   "id": "a461bb0f",
   "metadata": {},
   "source": [
    "The default behavior of the ``AerSimulator`` backend is to mimic the execution of an actual device. If a ``QuantumCircuit`` containing measurements is run it will return a count dictionary containing the final values of any classical registers in the circuit. The circuit may contain gates, measurements, resets, conditionals, and other custom simulator instructions "
   ]
  },
  {
   "cell_type": "code",
   "execution_count": 28,
   "id": "e189fb3c",
   "metadata": {},
   "outputs": [
    {
     "data": {
      "image/png": "[encoded data removed]",
      "text/plain": [
       "<Figure size 504x360 with 1 Axes>"
      ]
     },
     "execution_count": 28,
     "metadata": {},
     "output_type": "execute_result"
    }
   ],
   "source": [
    "# Create circuit\n",
    "circ = QuantumCircuit(2)\n",
    "circ.h(0)\n",
    "circ.cx(0, 1)\n",
    "circ.measure_all()\n",
    "\n",
    "# Transpile for simulator\n",
    "simulator = Aer.get_backend('aer_simulator')\n",
    "circ = transpile(circ, simulator)\n",
    "\n",
    "# Run and get counts\n",
    "result = simulator.run(circ).result()\n",
    "counts = result.get_counts(circ)\n",
    "plot_histogram(counts, title='Bell-State counts')"
   ]
  },
  {
   "cell_type": "code",
   "execution_count": 29,
   "id": "e916d0dc",
   "metadata": {},
   "outputs": [
    {
     "name": "stdout",
     "output_type": "stream",
     "text": [
      "['00', '00', '00', '11', '00', '00', '00', '11', '00', '11']\n"
     ]
    }
   ],
   "source": [
    "# Run and get memory (measurement outcomes for each individual shot)\n",
    "result = simulator.run(circ, shots=10, memory=True).result()\n",
    "memory = result.get_memory(circ)\n",
    "print(memory)"
   ]
  },
  {
   "cell_type": "markdown",
   "id": "67579a7c",
   "metadata": {},
   "source": [
    "##### Simulation methods\n",
    "\n",
    "The AerSimulator supports a variety of simulation methods, each of which supports a different set of instructions. The method can be set manually using ``simulator.set_option(method=value)`` option, or a simulator backend with a preconfigured method can be obtained directly from the Aer provider using ``Aer.get_backend``.\n",
    "\n",
    "When simulating ideal circuits, changing the method between the exact simulation methods stabilizer, ``statevector``, ``density_matrix`` and ``matrix_product_state`` should not change the simulation result (other than usual variations from sampling probabilities for measurement outcomes)\n",
    "\n",
    "Each of these methods determines the internal representation of the quantum circuit and the algorithms used to process the quantum operations. They each have advantages and disadvantages, and choosing the best method is a matter of investigation. "
   ]
  },
  {
   "cell_type": "code",
   "execution_count": 30,
   "id": "e107e6d1",
   "metadata": {},
   "outputs": [
    {
     "data": {
      "image/png": "[encoded data removed]",
      "text/plain": [
       "<Figure size 504x360 with 1 Axes>"
      ]
     },
     "execution_count": 30,
     "metadata": {},
     "output_type": "execute_result"
    }
   ],
   "source": [
    "# Increase shots to reduce sampling variance\n",
    "shots = 10000\n",
    "\n",
    "# Stabilizer simulation method\n",
    "sim_stabilizer = Aer.get_backend('aer_simulator_stabilizer')\n",
    "job_stabilizer = sim_stabilizer.run(circ, shots=shots)\n",
    "counts_stabilizer = job_stabilizer.result().get_counts(0)\n",
    "\n",
    "# Statevector simulation method\n",
    "sim_statevector = Aer.get_backend('aer_simulator_statevector')\n",
    "job_statevector = sim_statevector.run(circ, shots=shots)\n",
    "counts_statevector = job_statevector.result().get_counts(0)\n",
    "\n",
    "# Density Matrix simulation method\n",
    "sim_density = Aer.get_backend('aer_simulator_density_matrix')\n",
    "job_density = sim_density.run(circ, shots=shots)\n",
    "counts_density = job_density.result().get_counts(0)\n",
    "\n",
    "# Matrix Product State simulation method\n",
    "sim_mps = Aer.get_backend('aer_simulator_matrix_product_state')\n",
    "job_mps = sim_mps.run(circ, shots=shots)\n",
    "counts_mps = job_mps.result().get_counts(0)\n",
    "\n",
    "plot_histogram([counts_stabilizer, counts_statevector, counts_density, counts_mps],\n",
    "               title='Counts for different simulation methods',\n",
    "               legend=['stabilizer', 'statevector',\n",
    "                       'density_matrix', 'matrix_product_state'])"
   ]
  },
  {
   "cell_type": "markdown",
   "id": "de2c8a90",
   "metadata": {},
   "source": [
    "The default simulation method is automatic which will automatically select a one of the other simulation methods for each circuit based on the instructions in those circuits. A fixed simulation method can be specified by by adding the method name when getting the backend, or by setting the method option on the backend."
   ]
  },
  {
   "cell_type": "markdown",
   "id": "3f9574ef",
   "metadata": {},
   "source": [
    "##### Simulation precision\n",
    "\n",
    "One of the available simulator options allows setting the float precision for the statevector, density_matrix unitary and superop methods. This is done using the ``set_precision=\"single\"`` or ``precision=\"double\" `` (default) option:"
   ]
  },
  {
   "cell_type": "code",
   "execution_count": 31,
   "id": "8ac5c75b",
   "metadata": {},
   "outputs": [
    {
     "name": "stdout",
     "output_type": "stream",
     "text": [
      "{'00': 498, '11': 526}\n"
     ]
    }
   ],
   "source": [
    "# Configure a single-precision statevector simulator backend\n",
    "simulator = Aer.get_backend('aer_simulator_statevector')\n",
    "simulator.set_options(precision='single')\n",
    "\n",
    "# Run and get counts\n",
    "result = simulator.run(circ).result()\n",
    "counts = result.get_counts(circ)\n",
    "print(counts)"
   ]
  },
  {
   "cell_type": "markdown",
   "id": "d4393ab1",
   "metadata": {},
   "source": [
    "##### Device backend noise model simulations\n",
    "\n",
    "We will now show how to use the Qiskit Aer noise module to automatically generate a basic noise model for an IBMQ hardware device, and use this model to do noisy simulations of QuantumCircuits to study the effects of errors which occur on real devices.\n",
    "\n",
    "Note, that these automatic models are only an approximation of the real errors that occur on actual devices, due to the fact that they must be build from a limited set of input parameters related to average error rates on gates. The study of quantum errors on real devices is an active area of research and we discuss the Qiskit Aer tools for configuring more detailed noise models in another notebook."
   ]
  },
  {
   "cell_type": "code",
   "execution_count": 32,
   "id": "ef502cbe",
   "metadata": {},
   "outputs": [],
   "source": [
    "from qiskit import IBMQ, transpile\n",
    "from qiskit import QuantumCircuit\n",
    "from qiskit.providers.aer import AerSimulator\n",
    "from qiskit.tools.visualization import plot_histogram"
   ]
  },
  {
   "cell_type": "markdown",
   "id": "63e8cb72",
   "metadata": {},
   "source": [
    "The Qiskit Aer device noise model automatically generates a simplified noise model for a real device. This model is generated using the calibration information reported in the ``BackendProperties`` of a device and takes into account\n",
    "\n",
    "* The gate_error probability of each basis gate on each qubit.\n",
    "* The gate_length of each basis gate on each qubit.\n",
    "* The T1, T2 relaxation time constants of each qubit.\n",
    "* The readout error probability of each qubit."
   ]
  },
  {
   "cell_type": "markdown",
   "id": "6252b060",
   "metadata": {},
   "source": [
    "We will use real noise data for an IBM Quantum device using the data stored in Qiskit Terra. Specifically, in this tutorial, the device is ``ibmq_vigo```."
   ]
  },
  {
   "cell_type": "code",
   "execution_count": 33,
   "id": "6387fbd6",
   "metadata": {},
   "outputs": [],
   "source": [
    "from qiskit.test.mock import FakeVigo\n",
    "device_backend = FakeVigo()"
   ]
  },
  {
   "cell_type": "markdown",
   "id": "f9e77694",
   "metadata": {},
   "source": [
    "Now we construct a test circuit to compare the output of the real device with the noisy output simulated on the Qiskit Aer AerSimulator. Before running with noise or on the device we show the ideal expected output with no noise."
   ]
  },
  {
   "cell_type": "code",
   "execution_count": 34,
   "id": "7614cee3",
   "metadata": {},
   "outputs": [
    {
     "data": {
      "image/png": "[encoded data removed]",
      "text/plain": [
       "<Figure size 504x360 with 1 Axes>"
      ]
     },
     "execution_count": 34,
     "metadata": {},
     "output_type": "execute_result"
    }
   ],
   "source": [
    "# Construct quantum circuit\n",
    "circ = QuantumCircuit(3, 3)\n",
    "circ.h(0)\n",
    "circ.cx(0, 1)\n",
    "circ.cx(1, 2)\n",
    "circ.measure([0, 1, 2], [0, 1, 2])\n",
    "\n",
    "# Create ideal simulator and run\n",
    "# <INSERT CODE>\n",
    "sim_ideal = AerSimulator()\n",
    "\n",
    "result = sim_ideal.run(transpile(circ, sim_ideal)).result()\n",
    "counts = result.get_counts(0)\n",
    "plot_histogram(counts, title='Ideal counts for 3-qubit GHZ state')"
   ]
  },
  {
   "cell_type": "markdown",
   "id": "7c2b1942",
   "metadata": {},
   "source": [
    "How to generate a simulator that mimics a device?\n",
    "\n",
    "We call ``from_backend`` to create a simulator for ``ibmq_vigo``"
   ]
  },
  {
   "cell_type": "code",
   "execution_count": 35,
   "id": "2c371ffc",
   "metadata": {},
   "outputs": [],
   "source": [
    "# Create simulator from backend \n",
    "# <INSERT CODE>\n",
    "sim_vigo = AerSimulator.from_backend(device_backend)"
   ]
  },
  {
   "cell_type": "markdown",
   "id": "d7a015c5",
   "metadata": {},
   "source": [
    "By storing the device properties in ``vigo_simulator``, we ensure that the appropriate basis gates and coupling map are used when compiling circuits for simulation, thereby most closely mimicking the gates that will be executed on a real device. In addition ``vigo_simulator`` contains an approximate noise model consisting of:\n",
    "\n",
    "* Single-qubit gate errors consisting of a single qubit depolarizing error followed by a single qubit thermal relaxation error.\n",
    "* Two-qubit gate errors consisting of a two-qubit depolarizing error followed by single-qubit thermal relaxation errors on both qubits in the gate.\n",
    "* Single-qubit readout errors on the classical bit value obtained from measurements on individual qubits.\n",
    "\n",
    "For the gate errors the error parameter of the thermal relaxation errors is derived using the ``thermal_relaxation_error`` function from ``aer.noise.errors module``, along with the individual qubit T1 and T2 parameters, and the ``gate_time`` parameter from the device backend properties. The probability of the depolarizing error is then set so that the combined average gate infidelity from the depolarizing error followed by the thermal relaxation is equal to the ``gate_error`` value from the backend properties.\n",
    "\n",
    "For the readout errors the probability that the recorded classical bit value will be flipped from the true outcome after a measurement is given by the qubit ``readout_errors``."
   ]
  },
  {
   "cell_type": "markdown",
   "id": "769639d9",
   "metadata": {},
   "source": [
    "Once we have created a noisy simulator backend based on a real device we can use it to run noisy simulations.\n",
    "\n",
    "Important: When running noisy simulations it is critical to transpile the circuit for the backend so that the circuit is transpiled to the correct noisy basis gate set for the backend."
   ]
  },
  {
   "cell_type": "code",
   "execution_count": 36,
   "id": "057f30c2",
   "metadata": {},
   "outputs": [
    {
     "data": {
      "image/png": "[encoded data removed]",
      "text/plain": [
       "<Figure size 504x360 with 1 Axes>"
      ]
     },
     "execution_count": 36,
     "metadata": {},
     "output_type": "execute_result"
    }
   ],
   "source": [
    "# Transpile the circuit for the noisy basis gates and get results\n",
    "# <INSERT CODE>\n",
    "tcirc = transpile(circ, sim_vigo)\n",
    "\n",
    "result_noise = sim_vigo.run(tcirc).result()\n",
    "counts_noise = result_noise.get_counts(0)\n",
    "plot_histogram(counts_noise,\n",
    "               title=\"Counts for 3-qubit GHZ state with device noise model\")"
   ]
  },
  {
   "cell_type": "markdown",
   "id": "fa63f0a4",
   "metadata": {},
   "source": [
    "You may also be interested in:\n",
    "* Building Noise Models https://qiskit.org/documentation/tutorials/simulators/3_building_noise_models.html\n",
    "* Applying noise to custom unitary gates https://qiskit.org/documentation/tutorials/simulators/4_custom_gate_noise.html"
   ]
  },
  {
   "cell_type": "markdown",
   "id": "b729eef2",
   "metadata": {},
   "source": [
    "Usefull operations with circuits"
   ]
  },
  {
   "cell_type": "code",
   "execution_count": 255,
   "id": "d67ab6fd",
   "metadata": {},
   "outputs": [
    {
     "data": {
      "text/html": [
       "<pre style=\"word-wrap: normal;white-space: pre;background: #fff0;line-height: 1.1;font-family: &quot;Courier New&quot;,Courier,monospace\">      ┌───┐                                                           \n",
       " q_0: ┤ H ├──■────────────────────────────────────────────────────────\n",
       "      ├───┤  │                                                        \n",
       " q_1: ┤ H ├──┼────■───────────────────■────■─────────■────────────────\n",
       "      ├───┤  │    │                   │    │         │                \n",
       " q_2: ┤ H ├──┼────┼────■──────────────┼────┼─────────┼────────────────\n",
       "      ├───┤  │    │    │              │    │         │                \n",
       " q_3: ┤ H ├──┼────┼────┼────■─────────┼────┼─────────┼────────────────\n",
       "      ├───┤  │    │    │    │         │    │         │                \n",
       " q_4: ┤ H ├──┼────┼────┼────┼────■────┼────┼─────────┼────────────────\n",
       "      └───┘┌─┴─┐  │    │    │    │    │    │         │                \n",
       " q_5: ─────┤ X ├──┼────┼────┼────┼────┼────┼─────────┼────────────────\n",
       "           └───┘┌─┴─┐  │    │    │    │    │         │           ┌───┐\n",
       " q_6: ──────────┤ X ├──┼────┼────┼────┼────┼─────────┼───X──X──X─┤ X ├\n",
       "                └───┘┌─┴─┐  │    │  ┌─┴─┐  │  ┌───┐  │   │  │  │ └───┘\n",
       " q_7: ───────────────┤ X ├──┼────┼──┤ X ├──┼──┤ X ├──┼───┼──┼──┼──────\n",
       "                     └───┘┌─┴─┐  │  ├───┤  │  └───┘  │   │  │  │      \n",
       " q_8: ────────────────────┤ X ├──┼──┤ X ├──┼─────────┼───┼──┼──┼──────\n",
       "                          └───┘┌─┴─┐└───┘┌─┴─┐       │   │  │  │      \n",
       " q_9: ─────────────────────────┤ X ├─────┤ X ├───────┼───┼──X──┼──────\n",
       "                               └───┘     └───┘       │   │     │      \n",
       "q_10: ───────────────────────────────────────────────┼───┼─────X──────\n",
       "                                                   ┌─┴─┐ │            \n",
       "q_11: ─────────────────────────────────────────────┤ X ├─X────────────\n",
       "                                                   └───┘              </pre>"
      ],
      "text/plain": [
       "      ┌───┐                                                           \n",
       " q_0: ┤ H ├──■────────────────────────────────────────────────────────\n",
       "      ├───┤  │                                                        \n",
       " q_1: ┤ H ├──┼────■───────────────────■────■─────────■────────────────\n",
       "      ├───┤  │    │                   │    │         │                \n",
       " q_2: ┤ H ├──┼────┼────■──────────────┼────┼─────────┼────────────────\n",
       "      ├───┤  │    │    │              │    │         │                \n",
       " q_3: ┤ H ├──┼────┼────┼────■─────────┼────┼─────────┼────────────────\n",
       "      ├───┤  │    │    │    │         │    │         │                \n",
       " q_4: ┤ H ├──┼────┼────┼────┼────■────┼────┼─────────┼────────────────\n",
       "      └───┘┌─┴─┐  │    │    │    │    │    │         │                \n",
       " q_5: ─────┤ X ├──┼────┼────┼────┼────┼────┼─────────┼────────────────\n",
       "           └───┘┌─┴─┐  │    │    │    │    │         │           ┌───┐\n",
       " q_6: ──────────┤ X ├──┼────┼────┼────┼────┼─────────┼───X──X──X─┤ X ├\n",
       "                └───┘┌─┴─┐  │    │  ┌─┴─┐  │  ┌───┐  │   │  │  │ └───┘\n",
       " q_7: ───────────────┤ X ├──┼────┼──┤ X ├──┼──┤ X ├──┼───┼──┼──┼──────\n",
       "                     └───┘┌─┴─┐  │  ├───┤  │  └───┘  │   │  │  │      \n",
       " q_8: ────────────────────┤ X ├──┼──┤ X ├──┼─────────┼───┼──┼──┼──────\n",
       "                          └───┘┌─┴─┐└───┘┌─┴─┐       │   │  │  │      \n",
       " q_9: ─────────────────────────┤ X ├─────┤ X ├───────┼───┼──X──┼──────\n",
       "                               └───┘     └───┘       │   │     │      \n",
       "q_10: ───────────────────────────────────────────────┼───┼─────X──────\n",
       "                                                   ┌─┴─┐ │            \n",
       "q_11: ─────────────────────────────────────────────┤ X ├─X────────────\n",
       "                                                   └───┘              "
      ]
     },
     "execution_count": 255,
     "metadata": {},
     "output_type": "execute_result"
    }
   ],
   "source": [
    "qc = QuantumCircuit(12)\n",
    "for idx in range(5):\n",
    "    qc.h(idx)\n",
    "    qc.cx(idx, idx+5)\n",
    "\n",
    "qc.cx(1, 7)\n",
    "qc.x(8)\n",
    "qc.cx(1, 9)\n",
    "qc.x(7)\n",
    "qc.cx(1, 11)\n",
    "qc.swap(6, 11)\n",
    "qc.swap(6, 9)\n",
    "qc.swap(6, 10)\n",
    "qc.x(6)\n",
    "qc.draw()"
   ]
  },
  {
   "cell_type": "code",
   "execution_count": 40,
   "id": "45c75ead",
   "metadata": {},
   "outputs": [
    {
     "data": {
      "text/plain": [
       "12"
      ]
     },
     "execution_count": 40,
     "metadata": {},
     "output_type": "execute_result"
    }
   ],
   "source": [
    "# width of circuit\n",
    "# <INSERT CODE>\n",
    "\n",
    "qc.width()"
   ]
  },
  {
   "cell_type": "code",
   "execution_count": 41,
   "id": "0583493b",
   "metadata": {},
   "outputs": [
    {
     "data": {
      "text/plain": [
       "12"
      ]
     },
     "execution_count": 41,
     "metadata": {},
     "output_type": "execute_result"
    }
   ],
   "source": [
    "# number of qubits\n",
    "# <INSERT CODE>\n",
    "\n",
    "qc.num_qubits"
   ]
  },
  {
   "cell_type": "code",
   "execution_count": 42,
   "id": "d170acec",
   "metadata": {},
   "outputs": [
    {
     "data": {
      "text/plain": [
       "OrderedDict([('cx', 8), ('h', 5), ('x', 3), ('swap', 3)])"
      ]
     },
     "execution_count": 42,
     "metadata": {},
     "output_type": "execute_result"
    }
   ],
   "source": [
    "# count of operations\n",
    "# <INSERT CODE>\n",
    "\n",
    "qc.count_ops()"
   ]
  },
  {
   "cell_type": "code",
   "execution_count": 43,
   "id": "ef56541e",
   "metadata": {},
   "outputs": [
    {
     "data": {
      "text/plain": [
       "19"
      ]
     },
     "execution_count": 43,
     "metadata": {},
     "output_type": "execute_result"
    }
   ],
   "source": [
    "# size of circuit\n",
    "# <INSERT CODE>\n",
    "\n",
    "qc.size()"
   ]
  },
  {
   "cell_type": "code",
   "execution_count": 44,
   "id": "5547315d",
   "metadata": {},
   "outputs": [
    {
     "data": {
      "text/plain": [
       "9"
      ]
     },
     "execution_count": 44,
     "metadata": {},
     "output_type": "execute_result"
    }
   ],
   "source": [
    "# depth of circuit\n",
    "# <INSERT CODE>\n",
    "\n",
    "qc.depth()"
   ]
  },
  {
   "cell_type": "markdown",
   "id": "8c632547",
   "metadata": {},
   "source": [
    "#### Final statevector"
   ]
  },
  {
   "cell_type": "code",
   "execution_count": 46,
   "id": "4e2672ab",
   "metadata": {},
   "outputs": [
    {
     "data": {
      "text/latex": [
       "$$\n",
       "\n",
       "\\begin{bmatrix}\n",
       "\\tfrac{1}{\\sqrt{2}} & 0 & 0 & \\tfrac{1}{\\sqrt{2}}  \\\\\n",
       " \\end{bmatrix}\n",
       "$$"
      ],
      "text/plain": [
       "<IPython.core.display.Latex object>"
      ]
     },
     "execution_count": 46,
     "metadata": {},
     "output_type": "execute_result"
    }
   ],
   "source": [
    "# Saving the final statevector\n",
    "# Construct quantum circuit without measure\n",
    "\n",
    "from qiskit.visualization import array_to_latex\n",
    "\n",
    "circuit = QuantumCircuit(2)\n",
    "circuit.h(0)\n",
    "circuit.cx(0, 1)\n",
    "# save statevector, run circuit and get results\n",
    "# <INSERT CODE>\n",
    "circuit.save_statevector()\n",
    "\n",
    "backend = Aer.get_backend('aer_simulator')\n",
    "result = backend.run(circuit).result()\n",
    "array_to_latex(result.get_statevector())"
   ]
  },
  {
   "cell_type": "code",
   "execution_count": 47,
   "id": "fe062b33",
   "metadata": {},
   "outputs": [
    {
     "data": {
      "text/latex": [
       "$$\n",
       "\n",
       "\\begin{bmatrix}\n",
       "\\tfrac{1}{\\sqrt{2}} & \\tfrac{1}{\\sqrt{2}} & 0 & 0  \\\\\n",
       " 0 & 0 & \\tfrac{1}{\\sqrt{2}} & -\\tfrac{1}{\\sqrt{2}}  \\\\\n",
       " 0 & 0 & \\tfrac{1}{\\sqrt{2}} & \\tfrac{1}{\\sqrt{2}}  \\\\\n",
       " \\tfrac{1}{\\sqrt{2}} & -\\tfrac{1}{\\sqrt{2}} & 0 & 0  \\\\\n",
       " \\end{bmatrix}\n",
       "$$"
      ],
      "text/plain": [
       "<IPython.core.display.Latex object>"
      ]
     },
     "execution_count": 47,
     "metadata": {},
     "output_type": "execute_result"
    }
   ],
   "source": [
    "# Saving the circuit unitary\n",
    "# Construct quantum circuit without measure\n",
    "\n",
    "circuit = QuantumCircuit(2)\n",
    "circuit.h(0)\n",
    "circuit.cx(0, 1)\n",
    "# save unitary, run circuit and get results\n",
    "# <INSERT CODE>\n",
    "circuit.save_unitary()\n",
    "\n",
    "result = backend.run(circuit).result()\n",
    "array_to_latex(result.get_unitary())"
   ]
  },
  {
   "cell_type": "markdown",
   "id": "97418919",
   "metadata": {},
   "source": [
    "Saving multiple statevectors"
   ]
  },
  {
   "cell_type": "code",
   "execution_count": 48,
   "id": "363537fb",
   "metadata": {},
   "outputs": [
    {
     "data": {
      "text/plain": [
       "{'psi_3': Statevector([0.58778525+0.j        , 0.        -0.80901699j],\n",
       "             dims=(2,)),\n",
       " 'psi_2': Statevector([0.95105652+0.j        , 0.        -0.30901699j],\n",
       "             dims=(2,)),\n",
       " 'psi_5': Statevector([-1.+0.00000000e+00j,  0.-2.77555756e-16j],\n",
       "             dims=(2,)),\n",
       " 'psi_1': Statevector([1.+0.j, 0.+0.j],\n",
       "             dims=(2,)),\n",
       " 'psi_4': Statevector([-0.30901699+0.j        ,  0.        -0.95105652j],\n",
       "             dims=(2,)),\n",
       " 'psi_0': Statevector([1.+0.j, 0.+0.j],\n",
       "             dims=(2,))}"
      ]
     },
     "execution_count": 48,
     "metadata": {},
     "output_type": "execute_result"
    }
   ],
   "source": [
    "# Saving multiple states\n",
    "# Construct quantum circuit without measure\n",
    "\n",
    "steps = 5\n",
    "circ = QuantumCircuit(1)\n",
    "for i in range(steps):\n",
    "    circ.save_statevector(label=f'psi_{i}')\n",
    "    circ.rx(i * np.pi / steps, 0)\n",
    "circ.save_statevector(label=f'psi_{steps}')\n",
    "\n",
    "# Transpile for simulator\n",
    "simulator = Aer.get_backend('aer_simulator')\n",
    "circ = transpile(circ, simulator)\n",
    "\n",
    "# Run and get saved data\n",
    "result = simulator.run(circ).result()\n",
    "data = result.data(0)\n",
    "data"
   ]
  },
  {
   "cell_type": "markdown",
   "id": "601da0d7",
   "metadata": {},
   "source": [
    "Saving custom statevector"
   ]
  },
  {
   "cell_type": "code",
   "execution_count": 49,
   "id": "2b25fe65",
   "metadata": {},
   "outputs": [
    {
     "data": {
      "text/plain": [
       "{'statevector': Statevector([ 0.18572453-0.03102771j, -0.26191269-0.18155865j,\n",
       "               0.12367038-0.47837907j,  0.66510011-0.4200986j ],\n",
       "             dims=(2, 2))}"
      ]
     },
     "execution_count": 49,
     "metadata": {},
     "output_type": "execute_result"
    }
   ],
   "source": [
    "# Generate a random statevector\n",
    "num_qubits = 2\n",
    "psi = qi.random_statevector(2 ** num_qubits, seed=100)\n",
    "\n",
    "# Set initial state to generated statevector\n",
    "circ = QuantumCircuit(num_qubits)\n",
    "circ.set_statevector(psi)\n",
    "circ.save_state()\n",
    "\n",
    "# Transpile for simulator\n",
    "simulator = Aer.get_backend('aer_simulator')\n",
    "circ = transpile(circ, simulator)\n",
    "\n",
    "# Run and get saved data\n",
    "result = simulator.run(circ).result()\n",
    "result.data(0)"
   ]
  },
  {
   "cell_type": "markdown",
   "id": "4820f827",
   "metadata": {},
   "source": [
    "### Parametric circuits"
   ]
  },
  {
   "cell_type": "code",
   "execution_count": 256,
   "id": "6768d69f",
   "metadata": {},
   "outputs": [
    {
     "data": {
      "text/html": [
       "<pre style=\"word-wrap: normal;white-space: pre;background: #fff0;line-height: 1.1;font-family: &quot;Courier New&quot;,Courier,monospace\">        ┌───────────┐ ░ ┌─┐\n",
       "     q: ┤ Rx(theta) ├─░─┤M├\n",
       "        └───────────┘ ░ └╥┘\n",
       "meas: 1/═════════════════╩═\n",
       "                         0 </pre>"
      ],
      "text/plain": [
       "        ┌───────────┐ ░ ┌─┐\n",
       "     q: ┤ Rx(theta) ├─░─┤M├\n",
       "        └───────────┘ ░ └╥┘\n",
       "meas: 1/═════════════════╩═\n",
       "                         0 "
      ]
     },
     "execution_count": 256,
     "metadata": {},
     "output_type": "execute_result"
    }
   ],
   "source": [
    "# Parameterized Quantum Circuits \n",
    "\n",
    "from qiskit.circuit import Parameter\n",
    "\n",
    "# create parameter and use it in circuit\n",
    "# <INSERT CODE>\n",
    "theta = Parameter('theta')\n",
    "\n",
    "circuit = QuantumCircuit(1)\n",
    "circuit.rx(theta, 0)\n",
    "circuit.measure_all()\n",
    "circuit.draw()"
   ]
  },
  {
   "cell_type": "code",
   "execution_count": 52,
   "id": "673e7ae2",
   "metadata": {},
   "outputs": [
    {
     "data": {
      "text/plain": [
       "[{'0': 520, '1': 504}, {'1': 1024}, {'0': 1024}]"
      ]
     },
     "execution_count": 52,
     "metadata": {},
     "output_type": "execute_result"
    }
   ],
   "source": [
    "res = sim.run(circuit, parameter_binds=[{theta: [np.pi/2, np.pi, 0]}]).result()  # Different bindings\n",
    "res.get_counts()"
   ]
  },
  {
   "cell_type": "code",
   "execution_count": 53,
   "id": "3d10f2d2",
   "metadata": {},
   "outputs": [
    {
     "data": {
      "image/png": "[encoded data removed]",
      "text/plain": [
       "<Figure size 929.397x385.28 with 1 Axes>"
      ]
     },
     "execution_count": 53,
     "metadata": {},
     "output_type": "execute_result"
    }
   ],
   "source": [
    "from qiskit.circuit import Parameter\n",
    "\n",
    "theta = Parameter('θ')\n",
    "\n",
    "n = 5\n",
    "\n",
    "qc = QuantumCircuit(5, 1)\n",
    "\n",
    "qc.h(0)\n",
    "for i in range(n-1):\n",
    "    qc.cx(i, i+1)\n",
    "\n",
    "qc.barrier()\n",
    "qc.rz(theta, range(5))\n",
    "qc.barrier()\n",
    "\n",
    "for i in reversed(range(n-1)):\n",
    "    qc.cx(i, i+1)\n",
    "qc.h(0)\n",
    "qc.measure(0, 0)\n",
    "\n",
    "qc.draw('mpl')"
   ]
  },
  {
   "cell_type": "code",
   "execution_count": 54,
   "id": "f2748966",
   "metadata": {},
   "outputs": [
    {
     "name": "stdout",
     "output_type": "stream",
     "text": [
      "ParameterView([Parameter(θ)])\n"
     ]
    }
   ],
   "source": [
    "#We can inspect the circuit’s parameters\n",
    "# <INSERT CODE>\n",
    "print(qc.parameters)"
   ]
  },
  {
   "cell_type": "markdown",
   "id": "16d8b7c2",
   "metadata": {},
   "source": [
    "All circuit parameters must be bound before sending the circuit to a backend. This can be done as follows: - The``bind_parameters`` method accepts a dictionary mapping ``Parameter``s to values, and returns a new circuit with each parameter replaced by its corresponding value. Partial binding is supported, in which case the returned circuit will be parameterized by any ``Parameter``s that were not mapped to a value."
   ]
  },
  {
   "cell_type": "code",
   "execution_count": 56,
   "id": "1223dfe9",
   "metadata": {},
   "outputs": [
    {
     "data": {
      "text/html": [
       "<pre style=\"word-wrap: normal;white-space: pre;background: #fff0;line-height: 1.1;font-family: &quot;Courier New&quot;,Courier,monospace\">     ┌───┐                     ░ ┌────────┐ ░                     ┌───┐┌─┐\n",
       "q_0: ┤ H ├──■──────────────────░─┤ Rz(2π) ├─░──────────────────■──┤ H ├┤M├\n",
       "     └───┘┌─┴─┐                ░ ├────────┤ ░                ┌─┴─┐└───┘└╥┘\n",
       "q_1: ─────┤ X ├──■─────────────░─┤ Rz(2π) ├─░─────────────■──┤ X ├──────╫─\n",
       "          └───┘┌─┴─┐           ░ ├────────┤ ░           ┌─┴─┐└───┘      ║ \n",
       "q_2: ──────────┤ X ├──■────────░─┤ Rz(2π) ├─░────────■──┤ X ├───────────╫─\n",
       "               └───┘┌─┴─┐      ░ ├────────┤ ░      ┌─┴─┐└───┘           ║ \n",
       "q_3: ───────────────┤ X ├──■───░─┤ Rz(2π) ├─░───■──┤ X ├────────────────╫─\n",
       "                    └───┘┌─┴─┐ ░ ├────────┤ ░ ┌─┴─┐└───┘                ║ \n",
       "q_4: ────────────────────┤ X ├─░─┤ Rz(2π) ├─░─┤ X ├─────────────────────╫─\n",
       "                         └───┘ ░ └────────┘ ░ └───┘                     ║ \n",
       "c: 1/═══════════════════════════════════════════════════════════════════╩═\n",
       "                                                                        0 </pre>"
      ],
      "text/plain": [
       "     ┌───┐                     ░ ┌────────┐ ░                     ┌───┐┌─┐\n",
       "q_0: ┤ H ├──■──────────────────░─┤ Rz(2π) ├─░──────────────────■──┤ H ├┤M├\n",
       "     └───┘┌─┴─┐                ░ ├────────┤ ░                ┌─┴─┐└───┘└╥┘\n",
       "q_1: ─────┤ X ├──■─────────────░─┤ Rz(2π) ├─░─────────────■──┤ X ├──────╫─\n",
       "          └───┘┌─┴─┐           ░ ├────────┤ ░           ┌─┴─┐└───┘      ║ \n",
       "q_2: ──────────┤ X ├──■────────░─┤ Rz(2π) ├─░────────■──┤ X ├───────────╫─\n",
       "               └───┘┌─┴─┐      ░ ├────────┤ ░      ┌─┴─┐└───┘           ║ \n",
       "q_3: ───────────────┤ X ├──■───░─┤ Rz(2π) ├─░───■──┤ X ├────────────────╫─\n",
       "                    └───┘┌─┴─┐ ░ ├────────┤ ░ ┌─┴─┐└───┘                ║ \n",
       "q_4: ────────────────────┤ X ├─░─┤ Rz(2π) ├─░─┤ X ├─────────────────────╫─\n",
       "                         └───┘ ░ └────────┘ ░ └───┘                     ║ \n",
       "c: 1/═══════════════════════════════════════════════════════════════════╩═\n",
       "                                                                        0 "
      ]
     },
     "execution_count": 56,
     "metadata": {},
     "output_type": "execute_result"
    }
   ],
   "source": [
    "import numpy as np\n",
    "\n",
    "theta_range = np.linspace(0, 2 * np.pi, 128)\n",
    "\n",
    "circuits = [qc.bind_parameters({theta: theta_val})\n",
    "            for theta_val in theta_range]\n",
    "\n",
    "circuits[-1].draw()"
   ]
  },
  {
   "cell_type": "code",
   "execution_count": 57,
   "id": "51a0bef0",
   "metadata": {},
   "outputs": [],
   "source": [
    "backend = Aer.get_backend('aer_simulator')\n",
    "job = backend.run(transpile(circuits, backend))\n",
    "counts = job.result().get_counts()"
   ]
  },
  {
   "cell_type": "code",
   "execution_count": 58,
   "id": "e2913bf5",
   "metadata": {},
   "outputs": [
    {
     "data": {
      "text/plain": [
       "<matplotlib.legend.Legend at 0x7ffdd8e72e50>"
      ]
     },
     "execution_count": 58,
     "metadata": {},
     "output_type": "execute_result"
    },
    {
     "data": {
      "image/png": "[encoded data removed]",
      "text/plain": [
       "<Figure size 576x432 with 1 Axes>"
      ]
     },
     "metadata": {
      "needs_background": "light"
     },
     "output_type": "display_data"
    }
   ],
   "source": [
    "import matplotlib.pyplot as plt\n",
    "fig = plt.figure(figsize=(8,6))\n",
    "ax = fig.add_subplot(111)\n",
    "\n",
    "ax.plot(theta_range, list(map(lambda c: c.get('0', 0), counts)), '.-', label='0')\n",
    "ax.plot(theta_range, list(map(lambda c: c.get('1', 0), counts)), '.-', label='1')\n",
    "\n",
    "ax.set_xticks([i * np.pi / 2 for i in range(5)])\n",
    "ax.set_xticklabels(['0', r'$\\frac{\\pi}{2}$', r'$\\pi$', r'$\\frac{3\\pi}{2}$', r'$2\\pi$'], fontsize=14)\n",
    "ax.set_xlabel('θ', fontsize=14)\n",
    "ax.set_ylabel('Counts', fontsize=14)\n",
    "ax.legend(fontsize=14)"
   ]
  },
  {
   "cell_type": "code",
   "execution_count": 59,
   "id": "8cda6f93",
   "metadata": {},
   "outputs": [
    {
     "data": {
      "image/png": "[encoded data removed]",
      "text/plain": [
       "<Figure size 327.252x204.68 with 1 Axes>"
      ]
     },
     "execution_count": 59,
     "metadata": {},
     "output_type": "execute_result"
    }
   ],
   "source": [
    "# Random Circuit\n",
    "\n",
    "from qiskit.circuit.random import random_circuit\n",
    "\n",
    "# create random circuit\n",
    "# <INSERT CODE>\n",
    "\n",
    "circ = random_circuit(2, 2, measure=True)\n",
    "circ.draw(output='mpl')"
   ]
  },
  {
   "cell_type": "code",
   "execution_count": 62,
   "id": "262f6826",
   "metadata": {},
   "outputs": [
    {
     "data": {
      "text/html": [
       "<pre style=\"word-wrap: normal;white-space: pre;background: #fff0;line-height: 1.1;font-family: &quot;Courier New&quot;,Courier,monospace\">     ┌──────────┐\n",
       "q_0: ┤0         ├\n",
       "     │  Unitary │\n",
       "q_1: ┤1         ├\n",
       "     └──────────┘</pre>"
      ],
      "text/plain": [
       "     ┌──────────┐\n",
       "q_0: ┤0         ├\n",
       "     │  Unitary │\n",
       "q_1: ┤1         ├\n",
       "     └──────────┘"
      ]
     },
     "execution_count": 62,
     "metadata": {},
     "output_type": "execute_result"
    }
   ],
   "source": [
    "# add unitary matrix to circuit\n",
    "matrix = [[0, 0, 0, 1],\n",
    "          [0, 0, 1, 0],\n",
    "          [1, 0, 0, 0],\n",
    "          [0, 1, 0, 0]]\n",
    "    \n",
    "# <INSERT CODE>\n",
    "circuit = QuantumCircuit(2)\n",
    "circuit.unitary(matrix, [0, 1])\n",
    "circuit.draw()"
   ]
  },
  {
   "cell_type": "code",
   "execution_count": 27,
   "id": "6cc1a26a",
   "metadata": {},
   "outputs": [
    {
     "data": {
      "text/html": [
       "<pre style=\"word-wrap: normal;white-space: pre;background: #fff0;line-height: 1.1;font-family: &quot;Courier New&quot;,Courier,monospace\">     ┌─────────┐\n",
       "q_0: ┤0        ├\n",
       "     │         │\n",
       "q_1: ┤1        ├\n",
       "     │  Oracle │\n",
       "q_2: ┤2        ├\n",
       "     │         │\n",
       "q_3: ┤3        ├\n",
       "     └─────────┘</pre>"
      ],
      "text/plain": [
       "     ┌─────────┐\n",
       "q_0: ┤0        ├\n",
       "     │         │\n",
       "q_1: ┤1        ├\n",
       "     │  Oracle │\n",
       "q_2: ┤2        ├\n",
       "     │         │\n",
       "q_3: ┤3        ├\n",
       "     └─────────┘"
      ]
     },
     "execution_count": 27,
     "metadata": {},
     "output_type": "execute_result"
    }
   ],
   "source": [
    "# Classical logic\n",
    "from qiskit.circuit import classical_function, Int1\n",
    "\n",
    "@classical_function\n",
    "def oracle(x: Int1, y: Int1, z: Int1) -> Int1:\n",
    "    return not x and (y or z)\n",
    "\n",
    "circuit = QuantumCircuit(4)\n",
    "circuit.append(oracle, [0, 1, 2, 3])\n",
    "circuit.draw()\n",
    "#circuit.decompose().draw() #synthesis"
   ]
  },
  {
   "cell_type": "code",
   "execution_count": 66,
   "id": "2416f0ed",
   "metadata": {},
   "outputs": [
    {
     "data": {
      "text/html": [
       "<pre style=\"word-wrap: normal;white-space: pre;background: #fff0;line-height: 1.1;font-family: &quot;Courier New&quot;,Courier,monospace\">     ┌─────────┐\n",
       "q_0: ┤0        ├\n",
       "     │  Oracle │\n",
       "q_1: ┤1        ├\n",
       "     └─────────┘</pre>"
      ],
      "text/plain": [
       "     ┌─────────┐\n",
       "q_0: ┤0        ├\n",
       "     │  Oracle │\n",
       "q_1: ┤1        ├\n",
       "     └─────────┘"
      ]
     },
     "execution_count": 66,
     "metadata": {},
     "output_type": "execute_result"
    }
   ],
   "source": [
    "# Classical logic\n",
    "from qiskit.circuit import classical_function, Int1\n",
    "\n",
    "@classical_function\n",
    "def oracle(x: Int1) -> Int1:\n",
    "    return not x\n",
    "\n",
    "circuit = QuantumCircuit(2)\n",
    "circuit.append(oracle, [0, 1])\n",
    "circuit.draw()"
   ]
  },
  {
   "cell_type": "code",
   "execution_count": 67,
   "id": "84353f0b",
   "metadata": {},
   "outputs": [
    {
     "data": {
      "text/html": [
       "<pre style=\"word-wrap: normal;white-space: pre;background: #fff0;line-height: 1.1;font-family: &quot;Courier New&quot;,Courier,monospace\">          \n",
       "q_0: ──o──\n",
       "     ┌─┴─┐\n",
       "q_1: ┤ X ├\n",
       "     └───┘</pre>"
      ],
      "text/plain": [
       "          \n",
       "q_0: ──o──\n",
       "     ┌─┴─┐\n",
       "q_1: ┤ X ├\n",
       "     └───┘"
      ]
     },
     "execution_count": 67,
     "metadata": {},
     "output_type": "execute_result"
    }
   ],
   "source": [
    "circuit.decompose().draw()"
   ]
  },
  {
   "cell_type": "markdown",
   "id": "e0e92680",
   "metadata": {},
   "source": [
    "https://qiskit.org/documentation/tutorials/circuits_advanced/02_operators_overview.html"
   ]
  },
  {
   "cell_type": "markdown",
   "id": "1a81a3c2",
   "metadata": {},
   "source": [
    "## 3. Quantum info, circuit lib and algorithms\n"
   ]
  },
  {
   "cell_type": "markdown",
   "id": "83e7a27a",
   "metadata": {},
   "source": [
    "### Circuit lib"
   ]
  },
  {
   "cell_type": "code",
   "execution_count": 29,
   "id": "0a0255aa",
   "metadata": {},
   "outputs": [],
   "source": [
    "from qiskit.circuit.library import InnerProduct, QuantumVolume, clifford_6_2, C3XGate"
   ]
  },
  {
   "cell_type": "code",
   "execution_count": 30,
   "id": "86cefbab",
   "metadata": {},
   "outputs": [
    {
     "data": {
      "text/html": [
       "<pre style=\"word-wrap: normal;white-space: pre;background: #fff0;line-height: 1.1;font-family: &quot;Courier New&quot;,Courier,monospace\">               \n",
       "q0_0: ─■───────\n",
       "       │       \n",
       "q0_1: ─┼──■────\n",
       "       │  │    \n",
       "q0_2: ─┼──┼──■─\n",
       "       │  │  │ \n",
       "q1_0: ─■──┼──┼─\n",
       "          │  │ \n",
       "q1_1: ────■──┼─\n",
       "             │ \n",
       "q1_2: ───────■─\n",
       "               </pre>"
      ],
      "text/plain": [
       "               \n",
       "q0_0: ─■───────\n",
       "       │       \n",
       "q0_1: ─┼──■────\n",
       "       │  │    \n",
       "q0_2: ─┼──┼──■─\n",
       "       │  │  │ \n",
       "q1_0: ─■──┼──┼─\n",
       "          │  │ \n",
       "q1_1: ────■──┼─\n",
       "             │ \n",
       "q1_2: ───────■─\n",
       "               "
      ]
     },
     "execution_count": 30,
     "metadata": {},
     "output_type": "execute_result"
    }
   ],
   "source": [
    "# inner product circuit\n",
    "# <INSERT CODE>\n",
    "\n",
    "InnerProduct(3).decompose().draw()"
   ]
  },
  {
   "cell_type": "code",
   "execution_count": 114,
   "id": "195f40c9",
   "metadata": {},
   "outputs": [
    {
     "data": {
      "text/html": [
       "<pre style=\"word-wrap: normal;white-space: pre;background: #fff0;line-height: 1.1;font-family: &quot;Courier New&quot;,Courier,monospace\">     ┌───┐                    \n",
       "q_0: ┤ S ├──■───────────■───■─\n",
       "     ├───┤┌─┴─┐┌─────┐┌─┴─┐ │ \n",
       "q_1: ┤ S ├┤ X ├┤ Sdg ├┤ X ├─■─\n",
       "     └───┘└───┘└─────┘└───┘   </pre>"
      ],
      "text/plain": [
       "     ┌───┐                    \n",
       "q_0: ┤ S ├──■───────────■───■─\n",
       "     ├───┤┌─┴─┐┌─────┐┌─┴─┐ │ \n",
       "q_1: ┤ S ├┤ X ├┤ Sdg ├┤ X ├─■─\n",
       "     └───┘└───┘└─────┘└───┘   "
      ]
     },
     "execution_count": 114,
     "metadata": {},
     "output_type": "execute_result"
    }
   ],
   "source": [
    "clifford_6_2().draw()"
   ]
  },
  {
   "cell_type": "markdown",
   "id": "97c8670f",
   "metadata": {},
   "source": [
    "### Quantum info"
   ]
  },
  {
   "cell_type": "markdown",
   "id": "7c8da1c8",
   "metadata": {},
   "source": [
    "- Operators\n",
    "- Simplectic\n",
    "  - Pauli\n",
    "  - Clifford\n",
    "- Measures"
   ]
  },
  {
   "cell_type": "code",
   "execution_count": 76,
   "id": "58a4b73d",
   "metadata": {},
   "outputs": [],
   "source": [
    "from qiskit.quantum_info.operators import Operator\n",
    "\n",
    "# Create an operator\n",
    "# <INSERT CODE>\n",
    "XX = Operator([\n",
    "    [0, 0, 0, 1], \n",
    "    [0, 0, 1, 0], \n",
    "    [0, 1, 0, 0], \n",
    "    [1, 0, 0, 0]\n",
    "])"
   ]
  },
  {
   "cell_type": "code",
   "execution_count": 77,
   "id": "5f4929fb",
   "metadata": {},
   "outputs": [
    {
     "data": {
      "image/png": "[encoded data removed]",
      "text/plain": [
       "<Figure size 327.252x204.68 with 1 Axes>"
      ]
     },
     "execution_count": 77,
     "metadata": {},
     "output_type": "execute_result"
    }
   ],
   "source": [
    "# add operator to circuit\n",
    "# <INSERT CODE>\n",
    "circ = QuantumCircuit(2, 2)\n",
    "circ.append(XX, [0, 1])\n",
    "circ.measure([0,1], [0,1])\n",
    "circ.draw('mpl')"
   ]
  },
  {
   "cell_type": "code",
   "execution_count": 68,
   "id": "b4e2ab51",
   "metadata": {},
   "outputs": [
    {
     "data": {
      "text/html": [
       "<pre style=\"word-wrap: normal;white-space: pre;background: #fff0;line-height: 1.1;font-family: &quot;Courier New&quot;,Courier,monospace\">     ┌──────────────┐\n",
       "q_0: ┤0             ├\n",
       "     │              │\n",
       "q_1: ┤1             ├\n",
       "     │  Pauli(IXYZ) │\n",
       "q_2: ┤2             ├\n",
       "     │              │\n",
       "q_3: ┤3             ├\n",
       "     └──────────────┘</pre>"
      ],
      "text/plain": [
       "     ┌──────────────┐\n",
       "q_0: ┤0             ├\n",
       "     │              │\n",
       "q_1: ┤1             ├\n",
       "     │  Pauli(IXYZ) │\n",
       "q_2: ┤2             ├\n",
       "     │              │\n",
       "q_3: ┤3             ├\n",
       "     └──────────────┘"
      ]
     },
     "execution_count": 68,
     "metadata": {},
     "output_type": "execute_result"
    }
   ],
   "source": [
    "# Pauli\n",
    "from qiskit.quantum_info.operators import Pauli\n",
    "\n",
    "# use Pauli operator\n",
    "# <INSERT CODE>\n",
    "circuit = QuantumCircuit(4)\n",
    "IXYZ = Pauli('IXYZ')\n",
    "circuit.append(IXYZ, [0, 1, 2, 3])\n",
    "circuit.draw()\n",
    "# circuit.decompose().draw()"
   ]
  },
  {
   "cell_type": "code",
   "execution_count": 61,
   "id": "334e02d5",
   "metadata": {},
   "outputs": [
    {
     "data": {
      "text/html": [
       "<pre style=\"word-wrap: normal;white-space: pre;background: #fff0;line-height: 1.1;font-family: &quot;Courier New&quot;,Courier,monospace\">     ┌────────┐\n",
       "q_0: ┤0       ├\n",
       "     │        │\n",
       "q_1: ┤1       ├\n",
       "     │  iIXYZ │\n",
       "q_2: ┤2       ├\n",
       "     │        │\n",
       "q_3: ┤3       ├\n",
       "     └────────┘</pre>"
      ],
      "text/plain": [
       "     ┌────────┐\n",
       "q_0: ┤0       ├\n",
       "     │        │\n",
       "q_1: ┤1       ├\n",
       "     │  iIXYZ │\n",
       "q_2: ┤2       ├\n",
       "     │        │\n",
       "q_3: ┤3       ├\n",
       "     └────────┘"
      ]
     },
     "execution_count": 61,
     "metadata": {},
     "output_type": "execute_result"
    }
   ],
   "source": [
    "# Pauli with phase \n",
    "from qiskit.quantum_info.operators import Pauli\n",
    "\n",
    "circuit = QuantumCircuit(4)\n",
    "iIXYZ = Pauli('iIXYZ')  # ['', '-i', '-', 'i']\n",
    "circuit.append(iIXYZ, [0, 1, 2, 3])\n",
    "circuit.draw()"
   ]
  },
  {
   "cell_type": "code",
   "execution_count": 81,
   "id": "470d972c",
   "metadata": {},
   "outputs": [
    {
     "data": {
      "text/html": [
       "<pre style=\"word-wrap: normal;white-space: pre;background: #fff0;line-height: 1.1;font-family: &quot;Courier New&quot;,Courier,monospace\">     ┌───┐┌─────┐┌───┐     ┌─────┐┌───┐     ┌─────┐┌───┐\n",
       "q_0: ┤ X ├┤ Sdg ├┤ H ├──■──┤ Sdg ├┤ H ├──■──┤ Sdg ├┤ H ├\n",
       "     ├───┤└┬───┬┘└───┘  │  └─────┘└───┘┌─┴─┐└┬───┬┘├───┤\n",
       "q_1: ┤ H ├─┤ S ├────────┼──────────────┤ X ├─┤ H ├─┤ S ├\n",
       "     ├───┤ ├───┤      ┌─┴─┐            └───┘ └───┘ └───┘\n",
       "q_2: ┤ Z ├─┤ S ├──────┤ X ├─────────────────────────────\n",
       "     └───┘ └───┘      └───┘                             </pre>"
      ],
      "text/plain": [
       "     ┌───┐┌─────┐┌───┐     ┌─────┐┌───┐     ┌─────┐┌───┐\n",
       "q_0: ┤ X ├┤ Sdg ├┤ H ├──■──┤ Sdg ├┤ H ├──■──┤ Sdg ├┤ H ├\n",
       "     ├───┤└┬───┬┘└───┘  │  └─────┘└───┘┌─┴─┐└┬───┬┘├───┤\n",
       "q_1: ┤ H ├─┤ S ├────────┼──────────────┤ X ├─┤ H ├─┤ S ├\n",
       "     ├───┤ ├───┤      ┌─┴─┐            └───┘ └───┘ └───┘\n",
       "q_2: ┤ Z ├─┤ S ├──────┤ X ├─────────────────────────────\n",
       "     └───┘ └───┘      └───┘                             "
      ]
     },
     "execution_count": 81,
     "metadata": {},
     "output_type": "execute_result"
    }
   ],
   "source": [
    "# create clifford\n",
    "from qiskit.quantum_info import random_clifford\n",
    "\n",
    "# random clifford\n",
    "# <INSERT CODE>\n",
    "clifford = random_clifford(3, 3)\n",
    "clifford.to_circuit().draw()"
   ]
  },
  {
   "cell_type": "code",
   "execution_count": 83,
   "id": "025ac8ea",
   "metadata": {},
   "outputs": [
    {
     "data": {
      "text/plain": [
       "{'stabilizer': ['-XZZ', '+IXX', '+ZZY'],\n",
       " 'destabilizer': ['+XIX', '+IYX', '-YZY']}"
      ]
     },
     "execution_count": 83,
     "metadata": {},
     "output_type": "execute_result"
    }
   ],
   "source": [
    "# stabilizer and destabilizer \n",
    "# <INSERT CODE>\n",
    "clifford.to_dict()"
   ]
  },
  {
   "cell_type": "markdown",
   "id": "bb7272c4",
   "metadata": {},
   "source": [
    "### Algorithms\n",
    "\n",
    "Next logical step in terms of abstractions will be algorithms"
   ]
  },
  {
   "cell_type": "markdown",
   "id": "4a068e57",
   "metadata": {},
   "source": [
    "It contains a collection of quantum algorithms, for use with quantum computers, to\n",
    "carry out research and investigate how to solve problems in different domains on\n",
    "near-term quantum devices with short depth circuits.\n",
    "\n",
    "Algorithms configuration includes the use of `qiskit.algorithms.optimizers` which\n",
    "were designed to be swappable sub-parts of an algorithm. Any component and may be exchanged for\n",
    "a different implementation of the same component type in order to potentially alter the behavior\n",
    "and outcome of the algorithm.\n",
    "\n",
    "Quantum algorithms are run via a `qiskit.algorithms.QuantumInstance`\n",
    "which must be set with the\n",
    "desired backend where the algorithm's circuits will be executed and be configured with a number of\n",
    "compile and runtime parameters controlling circuit compilation and execution."
   ]
  },
  {
   "cell_type": "code",
   "execution_count": null,
   "id": "06219d3d",
   "metadata": {},
   "outputs": [],
   "source": []
  },
  {
   "cell_type": "markdown",
   "id": "6a9dfde6",
   "metadata": {},
   "source": [
    "#### VQE\n",
    "\n",
    "For instance with VQE, the Variational Quantum Eigensolver, it takes a trial wavefunction, in the form of a QuantumCircuit and a classical optimizer among other things.\n",
    "\n",
    "Let’s take a look at an example to construct a VQE instance. Here TwoLocal is the variational form (trial wavefunction), a parameterized circuit which can be varied, and SLSQP a classical optimizer. These are created as separate instances and passed to VQE when it is constructed. Trying, for example, a different classical optimizer, or variational form is simply a case of creating an instance of the one you want and passing it into VQE."
   ]
  },
  {
   "cell_type": "code",
   "execution_count": 193,
   "id": "cd248eeb",
   "metadata": {},
   "outputs": [],
   "source": [
    "from qiskit.algorithms import VQE\n",
    "from qiskit.algorithms.optimizers import SLSQP\n",
    "from qiskit.circuit.library import TwoLocal\n",
    "\n",
    "num_qubits = 2\n",
    "ansatz = TwoLocal(num_qubits, 'ry', 'cz')\n",
    "opt = SLSQP(maxiter=1000)\n",
    "vqe = VQE(ansatz, optimizer=opt)"
   ]
  },
  {
   "cell_type": "code",
   "execution_count": 194,
   "id": "2aead6f2",
   "metadata": {},
   "outputs": [],
   "source": [
    "from qiskit.opflow import X, Z, I\n",
    "\n",
    "H2_op = (-1.052373245772859 * I ^ I) + \\\n",
    "        (0.39793742484318045 * I ^ Z) + \\\n",
    "        (-0.39793742484318045 * Z ^ I) + \\\n",
    "        (-0.01128010425623538 * Z ^ Z) + \\\n",
    "        (0.18093119978423156 * X ^ X)"
   ]
  },
  {
   "cell_type": "markdown",
   "id": "97ec40cc",
   "metadata": {},
   "source": [
    "So let’s build a VQE instance passing a backend using a QuantumInstance, to the constructor. Now VQE does have setters so the QuantumInstance can also be passed later.\n",
    "\n",
    "Note: In order that you can run this notebook and see the exact same output the random number generator used throughout algorithms in algorithms_globals, as well as the transpiler and simulator, via the QuantumInstance, are seeded. You do not have to do this but if want to be able to reproduce the exact same outcome each time then this is how it’s done.\n",
    "\n",
    "So let’s run VQE and print the result object it returns."
   ]
  },
  {
   "cell_type": "code",
   "execution_count": 195,
   "id": "64e9d1da",
   "metadata": {},
   "outputs": [
    {
     "name": "stdout",
     "output_type": "stream",
     "text": [
      "{   'aux_operator_eigenvalues': None,\n",
      "    'cost_function_evals': 65,\n",
      "    'eigenstate': array([ 9.54859815e-05+0.j, -9.93766272e-01+0.j,  1.11483572e-01+0.j,\n",
      "        1.76682876e-05+0.j]),\n",
      "    'eigenvalue': (-1.8572750175756148+0j),\n",
      "    'optimal_parameters': {   ParameterVectorElement(θ[7]): 0.3602072002159604,\n",
      "                              ParameterVectorElement(θ[4]): -2.5983258549202275,\n",
      "                              ParameterVectorElement(θ[5]): 1.5683258675929213,\n",
      "                              ParameterVectorElement(θ[6]): -4.717618294069471,\n",
      "                              ParameterVectorElement(θ[0]): 4.296520381438198,\n",
      "                              ParameterVectorElement(θ[2]): 0.5470752823568583,\n",
      "                              ParameterVectorElement(θ[3]): 6.092947734908081,\n",
      "                              ParameterVectorElement(θ[1]): 4.426962193808709},\n",
      "    'optimal_point': array([ 4.29652038,  4.42696219,  0.54707528,  6.09294773, -2.59832585,\n",
      "        1.56832587, -4.71761829,  0.3602072 ]),\n",
      "    'optimal_value': -1.8572750175756148,\n",
      "    'optimizer_evals': None,\n",
      "    'optimizer_time': 0.14026498794555664}\n"
     ]
    }
   ],
   "source": [
    "from qiskit.utils import algorithm_globals\n",
    "seed = 50\n",
    "algorithm_globals.random_seed = seed\n",
    "qi = QuantumInstance(Aer.get_backend('statevector_simulator'), seed_transpiler=seed, seed_simulator=seed)\n",
    "\n",
    "ansatz = TwoLocal(rotation_blocks='ry', entanglement_blocks='cz')\n",
    "slsqp = SLSQP(maxiter=1000)\n",
    "vqe = VQE(ansatz, optimizer=slsqp, quantum_instance=qi)\n",
    "result = vqe.compute_minimum_eigenvalue(H2_op)\n",
    "print(result)"
   ]
  },
  {
   "cell_type": "markdown",
   "id": "2b6609aa",
   "metadata": {},
   "source": [
    "From the above result we can see it took the optimizer 65 evaluations of parameter values until it found the minimum eigenvalue of -1.85727 which is the electronic ground state energy of the given H2 molecule. The optimal parameters of the ansatz can also be seen which are the values that were in the ansatz at the minimum value."
   ]
  },
  {
   "cell_type": "markdown",
   "id": "30cade38",
   "metadata": {},
   "source": [
    "#### Grover's algorithm\n",
    "\n",
    "Grover’s algorithm uses the Grover operator Q to amplify the amplitudes of the good states:\n",
    "\n",
    "\\begin{equation}\\mathcal{Q} = \\mathcal{A}\\mathcal{S_0}\\mathcal{A}^\\dagger \\mathcal{S_f}\\end{equation}\n",
    "Here, A is the initial search state for the algorithm, which is just Hadamards, H^n for the textbook Grover search, but can be more elaborate for Amplitude Amplification * \\mathcal{S_0} is the reflection about the all 0 state\n",
    "\n",
    "\\begin{split}|x\\rangle \\mapsto \\begin{cases} -|x\\rangle, &x \\neq 0 \\\\ |x\\rangle, &x = 0\\end{cases}\\end{split}\n",
    "\n",
    "S_f is the oracle that applies\n",
    "\n",
    "\\begin{split}|x\\rangle \\mapsto (-1)^{f(x)}|x\\rangle\\end{split}\n",
    "    　where f(x) is 1 if x is a good state and otherwise 0.\n",
    "\n",
    "In a nutshell, Grover’s algorithm applies different powers of \\mathcal{Q} and after each execution checks whether a good solution has been found."
   ]
  },
  {
   "cell_type": "code",
   "execution_count": 124,
   "id": "5da1dbe9",
   "metadata": {},
   "outputs": [],
   "source": [
    "from qiskit.algorithms import Grover\n",
    "from qiskit.algorithms import AmplificationProblem\n"
   ]
  },
  {
   "cell_type": "code",
   "execution_count": 125,
   "id": "f37ebc21",
   "metadata": {},
   "outputs": [
    {
     "data": {
      "image/png": "[encoded data removed]",
      "text/plain": [
       "<Figure size 186.168x144.48 with 1 Axes>"
      ]
     },
     "execution_count": 125,
     "metadata": {},
     "output_type": "execute_result"
    }
   ],
   "source": [
    "# the state we desire to find is '11'\n",
    "good_state = ['11']\n",
    "\n",
    "# specify the oracle that marks the state '11' as a good solution\n",
    "oracle = QuantumCircuit(2)\n",
    "oracle.cz(0, 1)\n",
    "\n",
    "# define Grover's algorithm\n",
    "problem = AmplificationProblem(oracle, is_good_state=good_state)\n",
    "\n",
    "# now we can have a look at the Grover operator that is used in running the algorithm\n",
    "problem.grover_operator.draw(output='mpl')"
   ]
  },
  {
   "cell_type": "code",
   "execution_count": 130,
   "id": "a058a635",
   "metadata": {},
   "outputs": [
    {
     "name": "stdout",
     "output_type": "stream",
     "text": [
      "Result type: <class 'qiskit.algorithms.amplitude_amplifiers.grover.GroverResult'>\n",
      "Success!\n",
      "Top measurement: 11\n"
     ]
    }
   ],
   "source": [
    "from qiskit import Aer\n",
    "from qiskit.utils import QuantumInstance\n",
    "from qiskit.algorithms import Grover\n",
    "\n",
    "aer_simulator = Aer.get_backend('aer_simulator')\n",
    "grover = Grover(quantum_instance=aer_simulator)\n",
    "result = grover.amplify(problem)\n",
    "print('Result type:', type(result))\n",
    "print('Success!' if result.oracle_evaluation else 'Failure!')\n",
    "print('Top measurement:', result.top_measurement)"
   ]
  },
  {
   "cell_type": "markdown",
   "id": "cfd8de51",
   "metadata": {},
   "source": [
    "## 4. Transpiling, pulse and opflow\n"
   ]
  },
  {
   "cell_type": "markdown",
   "id": "d18f156c",
   "metadata": {},
   "source": [
    "### Compiling circuits"
   ]
  },
  {
   "cell_type": "code",
   "execution_count": 131,
   "id": "b412c2d5",
   "metadata": {},
   "outputs": [
    {
     "data": {
      "text/plain": [
       "[('ibmq_qasm_simulator', 32),\n",
       " ('ibmq_armonk', 1),\n",
       " ('ibmq_santiago', 5),\n",
       " ('ibmq_bogota', 5),\n",
       " ('ibmq_lima', 5),\n",
       " ('ibmq_belem', 5),\n",
       " ('ibmq_quito', 5),\n",
       " ('simulator_statevector', 32),\n",
       " ('simulator_mps', 100),\n",
       " ('simulator_extended_stabilizer', 63),\n",
       " ('simulator_stabilizer', 5000),\n",
       " ('ibmq_manila', 5)]"
      ]
     },
     "execution_count": 131,
     "metadata": {},
     "output_type": "execute_result"
    }
   ],
   "source": [
    "[(b.name(), b.configuration().n_qubits) for b in provider.backends()]"
   ]
  },
  {
   "cell_type": "code",
   "execution_count": 134,
   "id": "da6c138f",
   "metadata": {},
   "outputs": [
    {
     "data": {
      "application/vnd.jupyter.widget-view+json": {
       "model_id": "8cc5e87e6fc9409f9222641beaa14032",
       "version_major": 2,
       "version_minor": 0
      },
      "text/plain": [
       "VBox(children=(HTML(value=\"<h2 style ='color:#ffffff; background-color:#000000;padding-top: 1%; padding-bottom…"
      ]
     },
     "metadata": {},
     "output_type": "display_data"
    }
   ],
   "source": [
    "from qiskit.tools.jupyter import *\n",
    "%qiskit_backend_overview"
   ]
  },
  {
   "cell_type": "code",
   "execution_count": 135,
   "id": "264421c3",
   "metadata": {},
   "outputs": [
    {
     "data": {
      "application/vnd.jupyter.widget-view+json": {
       "model_id": "d5c51262a0b34122ab96e365b9cb6dc1",
       "version_major": 2,
       "version_minor": 0
      },
      "text/plain": [
       "VBox(children=(HTML(value=\"<h1 style='color:#ffffff;background-color:#000000;padding-top: 1%;padding-bottom: 1…"
      ]
     },
     "metadata": {},
     "output_type": "display_data"
    },
    {
     "data": {
      "text/plain": [
       "<IBMQBackend('ibmq_lima') from IBMQ(hub='ibm-q', group='open', project='main')>"
      ]
     },
     "execution_count": 135,
     "metadata": {},
     "output_type": "execute_result"
    }
   ],
   "source": [
    "from qiskit.providers.ibmq import least_busy\n",
    "\n",
    "# get least busy backend\n",
    "# <INSERT CODE>\n",
    "backend = least_busy(provider.backends(\n",
    "                simulator=False,\n",
    "                filters=lambda b: b.configuration().n_qubits >= 2))\n",
    "backend"
   ]
  },
  {
   "cell_type": "code",
   "execution_count": 137,
   "id": "7b176b08",
   "metadata": {},
   "outputs": [
    {
     "data": {
      "text/html": [
       "<pre style=\"word-wrap: normal;white-space: pre;background: #fff0;line-height: 1.1;font-family: &quot;Courier New&quot;,Courier,monospace\">        ┌───┐      ░ ┌─┐   \n",
       "   q_0: ┤ H ├──■───░─┤M├───\n",
       "        └───┘┌─┴─┐ ░ └╥┘┌─┐\n",
       "   q_1: ─────┤ X ├─░──╫─┤M├\n",
       "             └───┘ ░  ║ └╥┘\n",
       "meas: 2/══════════════╩══╩═\n",
       "                      0  1 </pre>"
      ],
      "text/plain": [
       "        ┌───┐      ░ ┌─┐   \n",
       "   q_0: ┤ H ├──■───░─┤M├───\n",
       "        └───┘┌─┴─┐ ░ └╥┘┌─┐\n",
       "   q_1: ─────┤ X ├─░──╫─┤M├\n",
       "             └───┘ ░  ║ └╥┘\n",
       "meas: 2/══════════════╩══╩═\n",
       "                      0  1 "
      ]
     },
     "execution_count": 137,
     "metadata": {},
     "output_type": "execute_result"
    }
   ],
   "source": [
    "# bell state\n",
    "circuit = QuantumCircuit(2)\n",
    "circuit.h(0)\n",
    "circuit.cx(0, 1)\n",
    "circuit.measure_all()\n",
    "circuit.draw()"
   ]
  },
  {
   "cell_type": "code",
   "execution_count": 139,
   "id": "a3abc42d",
   "metadata": {},
   "outputs": [
    {
     "data": {
      "image/png": "[encoded data removed]",
      "text/plain": [
       "<Figure size 504x360 with 1 Axes>"
      ]
     },
     "execution_count": 139,
     "metadata": {},
     "output_type": "execute_result"
    }
   ],
   "source": [
    "# run it in simulator\n",
    "sim = Aer.get_backend('aer_simulator')\n",
    "result = sim.run(circuit).result()\n",
    "counts = result.get_counts()\n",
    "plot_histogram(counts)"
   ]
  },
  {
   "cell_type": "code",
   "execution_count": 140,
   "id": "e87fbe01",
   "metadata": {},
   "outputs": [],
   "source": [
    "# run on least busy backend\n",
    "# <INSERT CODE>\n",
    "job = backend.run(circuit)"
   ]
  },
  {
   "cell_type": "code",
   "execution_count": 141,
   "id": "2e3fd838",
   "metadata": {},
   "outputs": [
    {
     "ename": "IBMQJobFailureError",
     "evalue": "\"Unable to retrieve result for job 61d4a3216ae433d94795ee35. Job has failed: The Qobj uses gates (['h']) that are not among the basis gates (['id', 'rz', 'sx', 'x', 'cx', 'reset']). Error code: 1106.\"",
     "output_type": "error",
     "traceback": [
      "\u001b[0;31m---------------------------------------------------------------------------\u001b[0m",
      "\u001b[0;31mIBMQJobFailureError\u001b[0m                       Traceback (most recent call last)",
      "\u001b[0;32m<ipython-input-141-97f4f20faa6a>\u001b[0m in \u001b[0;36m<module>\u001b[0;34m\u001b[0m\n\u001b[0;32m----> 1\u001b[0;31m \u001b[0mjob\u001b[0m\u001b[0;34m.\u001b[0m\u001b[0mresult\u001b[0m\u001b[0;34m(\u001b[0m\u001b[0;34m)\u001b[0m\u001b[0;34m\u001b[0m\u001b[0;34m\u001b[0m\u001b[0m\n\u001b[0m",
      "\u001b[0;32m/opt/anaconda3/lib/python3.8/site-packages/qiskit/providers/ibmq/job/ibmqjob.py\u001b[0m in \u001b[0;36mresult\u001b[0;34m(self, timeout, wait, partial, refresh)\u001b[0m\n\u001b[1;32m    288\u001b[0m                 \u001b[0;32melse\u001b[0m\u001b[0;34m:\u001b[0m\u001b[0;34m\u001b[0m\u001b[0;34m\u001b[0m\u001b[0m\n\u001b[1;32m    289\u001b[0m                     \u001b[0merror_message\u001b[0m \u001b[0;34m=\u001b[0m \u001b[0;34m\": \"\u001b[0m \u001b[0;34m+\u001b[0m \u001b[0merror_message\u001b[0m\u001b[0;34m\u001b[0m\u001b[0;34m\u001b[0m\u001b[0m\n\u001b[0;32m--> 290\u001b[0;31m                 raise IBMQJobFailureError(\n\u001b[0m\u001b[1;32m    291\u001b[0m                     'Unable to retrieve result for job {}. Job has failed{}'.format(\n\u001b[1;32m    292\u001b[0m                         self.job_id(), error_message))\n",
      "\u001b[0;31mIBMQJobFailureError\u001b[0m: \"Unable to retrieve result for job 61d4a3216ae433d94795ee35. Job has failed: The Qobj uses gates (['h']) that are not among the basis gates (['id', 'rz', 'sx', 'x', 'cx', 'reset']). Error code: 1106.\""
     ]
    }
   ],
   "source": [
    "# get results\n",
    "# <INSERT CODE>\n",
    "\n",
    "job.result()"
   ]
  },
  {
   "cell_type": "code",
   "execution_count": 142,
   "id": "44491e1d",
   "metadata": {},
   "outputs": [
    {
     "data": {
      "image/png": "[encoded data removed]",
      "text/plain": [
       "<Figure size 417.879x204.68 with 1 Axes>"
      ]
     },
     "execution_count": 142,
     "metadata": {},
     "output_type": "execute_result"
    }
   ],
   "source": [
    "circuit.draw('mpl')"
   ]
  },
  {
   "cell_type": "code",
   "execution_count": 143,
   "id": "353d5c42",
   "metadata": {},
   "outputs": [
    {
     "data": {
      "text/html": [
       "<pre style=\"word-wrap: normal;white-space: pre;background: #fff0;line-height: 1.1;font-family: &quot;Courier New&quot;,Courier,monospace\">global phase: π/4\n",
       "               ┌─────────┐┌────┐┌─────────┐      ░ ┌─┐   \n",
       "      q_0 -> 0 ┤ Rz(π/2) ├┤ √X ├┤ Rz(π/2) ├──■───░─┤M├───\n",
       "               └─────────┘└────┘└─────────┘┌─┴─┐ ░ └╥┘┌─┐\n",
       "      q_1 -> 1 ────────────────────────────┤ X ├─░──╫─┤M├\n",
       "                                           └───┘ ░  ║ └╥┘\n",
       "ancilla_0 -> 2 ─────────────────────────────────────╫──╫─\n",
       "                                                    ║  ║ \n",
       "ancilla_1 -> 3 ─────────────────────────────────────╫──╫─\n",
       "                                                    ║  ║ \n",
       "ancilla_2 -> 4 ─────────────────────────────────────╫──╫─\n",
       "                                                    ║  ║ \n",
       "       meas: 2/═════════════════════════════════════╩══╩═\n",
       "                                                    0  1 </pre>"
      ],
      "text/plain": [
       "global phase: π/4\n",
       "               ┌─────────┐┌────┐┌─────────┐      ░ ┌─┐   \n",
       "      q_0 -> 0 ┤ Rz(π/2) ├┤ √X ├┤ Rz(π/2) ├──■───░─┤M├───\n",
       "               └─────────┘└────┘└─────────┘┌─┴─┐ ░ └╥┘┌─┐\n",
       "      q_1 -> 1 ────────────────────────────┤ X ├─░──╫─┤M├\n",
       "                                           └───┘ ░  ║ └╥┘\n",
       "ancilla_0 -> 2 ─────────────────────────────────────╫──╫─\n",
       "                                                    ║  ║ \n",
       "ancilla_1 -> 3 ─────────────────────────────────────╫──╫─\n",
       "                                                    ║  ║ \n",
       "ancilla_2 -> 4 ─────────────────────────────────────╫──╫─\n",
       "                                                    ║  ║ \n",
       "       meas: 2/═════════════════════════════════════╩══╩═\n",
       "                                                    0  1 "
      ]
     },
     "execution_count": 143,
     "metadata": {},
     "output_type": "execute_result"
    }
   ],
   "source": [
    "from qiskit import transpile\n",
    "\n",
    "# transpile with specified backend\n",
    "# <INSERT CODE>\n",
    "\n",
    "transpiled_circuit = transpile(circuit, backend)\n",
    "transpiled_circuit.draw()"
   ]
  },
  {
   "cell_type": "code",
   "execution_count": 144,
   "id": "799aa9ef",
   "metadata": {},
   "outputs": [],
   "source": [
    "# rerun job\n",
    "# <INSERT CODE>\n",
    "\n",
    "job = backend.run(transpiled_circuit)"
   ]
  },
  {
   "cell_type": "code",
   "execution_count": 145,
   "id": "184c29ea",
   "metadata": {},
   "outputs": [
    {
     "data": {
      "text/plain": [
       "<JobStatus.QUEUED: 'job is queued'>"
      ]
     },
     "execution_count": 145,
     "metadata": {},
     "output_type": "execute_result"
    }
   ],
   "source": [
    "# job status\n",
    "# <INSERT CODE>\n",
    "job.status()"
   ]
  },
  {
   "cell_type": "code",
   "execution_count": 146,
   "id": "7eb6d458",
   "metadata": {},
   "outputs": [
    {
     "data": {
      "image/png": "[encoded data removed]",
      "text/plain": [
       "<Figure size 504x360 with 1 Axes>"
      ]
     },
     "execution_count": 146,
     "metadata": {},
     "output_type": "execute_result"
    }
   ],
   "source": [
    "# get results\n",
    "# <INSERT CODE>\n",
    "\n",
    "result = job.result()\n",
    "counts = result.get_counts()\n",
    "plot_histogram(counts)"
   ]
  },
  {
   "cell_type": "code",
   "execution_count": 147,
   "id": "5c7f510a",
   "metadata": {},
   "outputs": [
    {
     "data": {
      "text/html": [
       "<pre style=\"word-wrap: normal;white-space: pre;background: #fff0;line-height: 1.1;font-family: &quot;Courier New&quot;,Courier,monospace\">global phase: π/4\n",
       "         ┌─────────┐┌────┐┌─────────┐      ░ ┌─┐   \n",
       "q_0 -> 0 ┤ Rz(π/2) ├┤ √X ├┤ Rz(π/2) ├──■───░─┤M├───\n",
       "         └─────────┘└────┘└─────────┘┌─┴─┐ ░ └╥┘┌─┐\n",
       "q_1 -> 1 ────────────────────────────┤ X ├─░──╫─┤M├\n",
       "                                     └───┘ ░  ║ └╥┘\n",
       " meas: 2/═════════════════════════════════════╩══╩═\n",
       "                                              0  1 </pre>"
      ],
      "text/plain": [
       "global phase: π/4\n",
       "         ┌─────────┐┌────┐┌─────────┐      ░ ┌─┐   \n",
       "q_0 -> 0 ┤ Rz(π/2) ├┤ √X ├┤ Rz(π/2) ├──■───░─┤M├───\n",
       "         └─────────┘└────┘└─────────┘┌─┴─┐ ░ └╥┘┌─┐\n",
       "q_1 -> 1 ────────────────────────────┤ X ├─░──╫─┤M├\n",
       "                                     └───┘ ░  ║ └╥┘\n",
       " meas: 2/═════════════════════════════════════╩══╩═\n",
       "                                              0  1 "
      ]
     },
     "metadata": {},
     "output_type": "display_data"
    },
    {
     "data": {
      "image/png": "[encoded data removed]",
      "text/plain": [
       "<Figure size 360x360 with 1 Axes>"
      ]
     },
     "metadata": {},
     "output_type": "display_data"
    },
    {
     "data": {
      "image/png": "[encoded data removed]",
      "text/plain": [
       "<Figure size 360x360 with 1 Axes>"
      ]
     },
     "execution_count": 147,
     "metadata": {},
     "output_type": "execute_result"
    }
   ],
   "source": [
    "from qiskit.visualization import plot_circuit_layout, plot_gate_map\n",
    "\n",
    "display(transpiled_circuit.draw(idle_wires=False))\n",
    "display(plot_gate_map(backend))\n",
    "plot_circuit_layout(transpiled_circuit, backend)"
   ]
  },
  {
   "cell_type": "code",
   "execution_count": 155,
   "id": "a9b2fe01",
   "metadata": {},
   "outputs": [
    {
     "data": {
      "text/html": [
       "<pre style=\"word-wrap: normal;white-space: pre;background: #fff0;line-height: 1.1;font-family: &quot;Courier New&quot;,Courier,monospace\">        ┌───┐     ┌───┐     ┌───┐ ░ ┌─┐      \n",
       "   q_0: ┤ H ├──■──┤ H ├──■──┤ H ├─░─┤M├──────\n",
       "        ├───┤  │  ├───┤┌─┴─┐├───┤ ░ └╥┘┌─┐   \n",
       "   q_1: ┤ H ├──■──┤ H ├┤ X ├┤ H ├─░──╫─┤M├───\n",
       "        ├───┤┌─┴─┐├───┤└─┬─┘├───┤ ░  ║ └╥┘┌─┐\n",
       "   q_2: ┤ H ├┤ X ├┤ H ├──■──┤ H ├─░──╫──╫─┤M├\n",
       "        └───┘└───┘└───┘     └───┘ ░  ║  ║ └╥┘\n",
       "meas: 3/═════════════════════════════╩══╩══╩═\n",
       "                                     0  1  2 </pre>"
      ],
      "text/plain": [
       "        ┌───┐     ┌───┐     ┌───┐ ░ ┌─┐      \n",
       "   q_0: ┤ H ├──■──┤ H ├──■──┤ H ├─░─┤M├──────\n",
       "        ├───┤  │  ├───┤┌─┴─┐├───┤ ░ └╥┘┌─┐   \n",
       "   q_1: ┤ H ├──■──┤ H ├┤ X ├┤ H ├─░──╫─┤M├───\n",
       "        ├───┤┌─┴─┐├───┤└─┬─┘├───┤ ░  ║ └╥┘┌─┐\n",
       "   q_2: ┤ H ├┤ X ├┤ H ├──■──┤ H ├─░──╫──╫─┤M├\n",
       "        └───┘└───┘└───┘     └───┘ ░  ║  ║ └╥┘\n",
       "meas: 3/═════════════════════════════╩══╩══╩═\n",
       "                                     0  1  2 "
      ]
     },
     "execution_count": 155,
     "metadata": {},
     "output_type": "execute_result"
    }
   ],
   "source": [
    "# a slightly more interesting example:\n",
    "circuit = QuantumCircuit(3)\n",
    "circuit.h([0,1,2])\n",
    "circuit.ccx(0, 1, 2)\n",
    "circuit.h([0,1,2])\n",
    "circuit.ccx(2, 0, 1)\n",
    "circuit.h([0,1,2])\n",
    "circuit.measure_all()\n",
    "circuit.draw()"
   ]
  },
  {
   "cell_type": "code",
   "execution_count": 156,
   "id": "5dabffe8",
   "metadata": {},
   "outputs": [
    {
     "data": {
      "text/html": [
       "<pre style=\"word-wrap: normal;white-space: pre;background: #fff0;line-height: 1.1;font-family: &quot;Courier New&quot;,Courier,monospace\">global phase: 3π/2\n",
       "                                     ┌───┐┌──────────┐     ┌───┐                          ┌─────────┐                        ┌───┐   ┌──────────┐┌───┐                            ┌───┐┌──────────┐     ┌───┐                          ┌─────────┐                        ┌───┐   ┌──────────┐┌───┐┌─────────┐┌────┐┌─────────┐ ░ ┌─┐      \n",
       "q_2 -> 0 ────────────────────────────┤ X ├┤ Rz(-π/4) ├──■──┤ X ├──■────────────────────■──┤ Rz(π/4) ├────────────────────────┤ X ├───┤ Rz(-π/4) ├┤ X ├────────────────────────────┤ X ├┤ Rz(-π/4) ├──■──┤ X ├──■────────────────────■──┤ Rz(π/4) ├────────────────────────┤ X ├───┤ Rz(-π/4) ├┤ X ├┤ Rz(π/2) ├┤ √X ├┤ Rz(π/2) ├─░─┤M├──────\n",
       "         ┌─────────┐┌────┐┌─────────┐└─┬─┘└──────────┘┌─┴─┐└─┬─┘┌─┴─┐┌───┐┌─────────┐┌─┴─┐├─────────┴┐┌───┐     ┌───┐        └─┬─┘   ├─────────┬┘└─┬─┘┌─────────┐┌────┐┌─────────┐└─┬─┘└──────────┘┌─┴─┐└─┬─┘┌─┴─┐┌───┐┌─────────┐┌─┴─┐├─────────┴┐┌───┐     ┌───┐        └─┬─┘   ├─────────┬┘└─┬─┘├─────────┤├────┤├─────────┤ ░ └╥┘   ┌─┐\n",
       "q_1 -> 1 ┤ Rz(π/2) ├┤ √X ├┤ Rz(π/2) ├──■──────────────┤ X ├──■──┤ X ├┤ X ├┤ Rz(π/4) ├┤ X ├┤ Rz(-π/4) ├┤ X ├──■──┤ X ├──■───────■─────┤ Rz(π/4) ├───■──┤ Rz(π/2) ├┤ √X ├┤ Rz(π/2) ├──■──────────────┤ X ├──■──┤ X ├┤ X ├┤ Rz(π/4) ├┤ X ├┤ Rz(-π/4) ├┤ X ├──■──┤ X ├──■───────■─────┤ Rz(π/4) ├───■──┤ Rz(π/2) ├┤ √X ├┤ Rz(π/2) ├─░──╫────┤M├\n",
       "         ├─────────┤├────┤├─────────┤                 └───┘     └───┘└─┬─┘└─────────┘└───┘└──────────┘└─┬─┘┌─┴─┐└─┬─┘┌─┴─┐┌─────────┐└─────────┘      └─────────┘└────┘└─────────┘                 └───┘     └───┘└─┬─┘└─────────┘└───┘└──────────┘└─┬─┘┌─┴─┐└─┬─┘┌─┴─┐┌─────────┐└─────────┘      └─────────┘└────┘└─────────┘ ░  ║ ┌─┐└╥┘\n",
       "q_0 -> 2 ┤ Rz(π/2) ├┤ √X ├┤ Rz(π/2) ├──────────────────────────────────■────────────────────────────────■──┤ X ├──■──┤ X ├┤ Rz(π/4) ├───────────────────────────────────────────────────────────────────────────────■────────────────────────────────■──┤ X ├──■──┤ X ├┤ Rz(π/4) ├──────────────────────────────────────────────░──╫─┤M├─╫─\n",
       "         └─────────┘└────┘└─────────┘                                                                      └───┘     └───┘└─────────┘                                                                                                                   └───┘     └───┘└─────────┘                                              ░  ║ └╥┘ ║ \n",
       " meas: 3/══════════════════════════════════════════════════════════════════════════════════════════════════════════════════════════════════════════════════════════════════════════════════════════════════════════════════════════════════════════════════════════════════════════════════════════════════════════════════════════╩══╩══╩═\n",
       "                                                                                                                                                                                                                                                                                                                                   0  1  2 </pre>"
      ],
      "text/plain": [
       "global phase: 3π/2\n",
       "                                     ┌───┐┌──────────┐     ┌───┐                          ┌─────────┐                        ┌───┐   ┌──────────┐┌───┐                            ┌───┐┌──────────┐     ┌───┐                          ┌─────────┐                        ┌───┐   ┌──────────┐┌───┐┌─────────┐┌────┐┌─────────┐ ░ ┌─┐      \n",
       "q_2 -> 0 ────────────────────────────┤ X ├┤ Rz(-π/4) ├──■──┤ X ├──■────────────────────■──┤ Rz(π/4) ├────────────────────────┤ X ├───┤ Rz(-π/4) ├┤ X ├────────────────────────────┤ X ├┤ Rz(-π/4) ├──■──┤ X ├──■────────────────────■──┤ Rz(π/4) ├────────────────────────┤ X ├───┤ Rz(-π/4) ├┤ X ├┤ Rz(π/2) ├┤ √X ├┤ Rz(π/2) ├─░─┤M├──────\n",
       "         ┌─────────┐┌────┐┌─────────┐└─┬─┘└──────────┘┌─┴─┐└─┬─┘┌─┴─┐┌───┐┌─────────┐┌─┴─┐├─────────┴┐┌───┐     ┌───┐        └─┬─┘   ├─────────┬┘└─┬─┘┌─────────┐┌────┐┌─────────┐└─┬─┘└──────────┘┌─┴─┐└─┬─┘┌─┴─┐┌───┐┌─────────┐┌─┴─┐├─────────┴┐┌───┐     ┌───┐        └─┬─┘   ├─────────┬┘└─┬─┘├─────────┤├────┤├─────────┤ ░ └╥┘   ┌─┐\n",
       "q_1 -> 1 ┤ Rz(π/2) ├┤ √X ├┤ Rz(π/2) ├──■──────────────┤ X ├──■──┤ X ├┤ X ├┤ Rz(π/4) ├┤ X ├┤ Rz(-π/4) ├┤ X ├──■──┤ X ├──■───────■─────┤ Rz(π/4) ├───■──┤ Rz(π/2) ├┤ √X ├┤ Rz(π/2) ├──■──────────────┤ X ├──■──┤ X ├┤ X ├┤ Rz(π/4) ├┤ X ├┤ Rz(-π/4) ├┤ X ├──■──┤ X ├──■───────■─────┤ Rz(π/4) ├───■──┤ Rz(π/2) ├┤ √X ├┤ Rz(π/2) ├─░──╫────┤M├\n",
       "         ├─────────┤├────┤├─────────┤                 └───┘     └───┘└─┬─┘└─────────┘└───┘└──────────┘└─┬─┘┌─┴─┐└─┬─┘┌─┴─┐┌─────────┐└─────────┘      └─────────┘└────┘└─────────┘                 └───┘     └───┘└─┬─┘└─────────┘└───┘└──────────┘└─┬─┘┌─┴─┐└─┬─┘┌─┴─┐┌─────────┐└─────────┘      └─────────┘└────┘└─────────┘ ░  ║ ┌─┐└╥┘\n",
       "q_0 -> 2 ┤ Rz(π/2) ├┤ √X ├┤ Rz(π/2) ├──────────────────────────────────■────────────────────────────────■──┤ X ├──■──┤ X ├┤ Rz(π/4) ├───────────────────────────────────────────────────────────────────────────────■────────────────────────────────■──┤ X ├──■──┤ X ├┤ Rz(π/4) ├──────────────────────────────────────────────░──╫─┤M├─╫─\n",
       "         └─────────┘└────┘└─────────┘                                                                      └───┘     └───┘└─────────┘                                                                                                                   └───┘     └───┘└─────────┘                                              ░  ║ └╥┘ ║ \n",
       " meas: 3/══════════════════════════════════════════════════════════════════════════════════════════════════════════════════════════════════════════════════════════════════════════════════════════════════════════════════════════════════════════════════════════════════════════════════════════════════════════════════════════╩══╩══╩═\n",
       "                                                                                                                                                                                                                                                                                                                                   0  1  2 "
      ]
     },
     "execution_count": 156,
     "metadata": {},
     "output_type": "execute_result"
    }
   ],
   "source": [
    "transpiled = transpile(circuit, backend)\n",
    "transpiled.draw(idle_wires=False, fold=-1)"
   ]
  },
  {
   "cell_type": "code",
   "execution_count": 157,
   "id": "6ba43bae",
   "metadata": {},
   "outputs": [],
   "source": [
    "# Initial layout"
   ]
  },
  {
   "cell_type": "code",
   "execution_count": 257,
   "id": "4ac45e72",
   "metadata": {},
   "outputs": [
    {
     "ename": "LayoutError",
     "evalue": "'Integer list length (3) must equal number of qubits in circuit (1): [0, 2, 3].'",
     "output_type": "error",
     "traceback": [
      "\u001b[0;31m---------------------------------------------------------------------------\u001b[0m",
      "\u001b[0;31mLayoutError\u001b[0m                               Traceback (most recent call last)",
      "\u001b[0;32m<ipython-input-257-1e627e997a69>\u001b[0m in \u001b[0;36m<module>\u001b[0;34m\u001b[0m\n\u001b[1;32m      2\u001b[0m \u001b[0;31m# <INSERT CODE>\u001b[0m\u001b[0;34m\u001b[0m\u001b[0;34m\u001b[0m\u001b[0;34m\u001b[0m\u001b[0m\n\u001b[1;32m      3\u001b[0m \u001b[0;34m\u001b[0m\u001b[0m\n\u001b[0;32m----> 4\u001b[0;31m \u001b[0mtranspiled\u001b[0m \u001b[0;34m=\u001b[0m \u001b[0mtranspile\u001b[0m\u001b[0;34m(\u001b[0m\u001b[0mcircuit\u001b[0m\u001b[0;34m,\u001b[0m \u001b[0mbackend\u001b[0m\u001b[0;34m,\u001b[0m \u001b[0minitial_layout\u001b[0m\u001b[0;34m=\u001b[0m\u001b[0;34m[\u001b[0m\u001b[0;36m0\u001b[0m\u001b[0;34m,\u001b[0m \u001b[0;36m2\u001b[0m\u001b[0;34m,\u001b[0m \u001b[0;36m3\u001b[0m\u001b[0;34m]\u001b[0m\u001b[0;34m)\u001b[0m\u001b[0;34m\u001b[0m\u001b[0;34m\u001b[0m\u001b[0m\n\u001b[0m\u001b[1;32m      5\u001b[0m \u001b[0mdisplay\u001b[0m\u001b[0;34m(\u001b[0m\u001b[0mplot_circuit_layout\u001b[0m\u001b[0;34m(\u001b[0m\u001b[0mtranspiled\u001b[0m\u001b[0;34m,\u001b[0m \u001b[0mbackend\u001b[0m\u001b[0;34m)\u001b[0m\u001b[0;34m)\u001b[0m\u001b[0;34m\u001b[0m\u001b[0;34m\u001b[0m\u001b[0m\n\u001b[1;32m      6\u001b[0m \u001b[0mplot_gate_map\u001b[0m\u001b[0;34m(\u001b[0m\u001b[0mbackend\u001b[0m\u001b[0;34m)\u001b[0m\u001b[0;34m\u001b[0m\u001b[0;34m\u001b[0m\u001b[0m\n",
      "\u001b[0;32m/opt/anaconda3/lib/python3.8/site-packages/qiskit/compiler/transpiler.py\u001b[0m in \u001b[0;36mtranspile\u001b[0;34m(circuits, backend, basis_gates, inst_map, coupling_map, backend_properties, initial_layout, layout_method, routing_method, translation_method, scheduling_method, instruction_durations, dt, approximation_degree, timing_constraints, seed_transpiler, optimization_level, pass_manager, callback, output_name, unitary_synthesis_method, unitary_synthesis_plugin_config, target)\u001b[0m\n\u001b[1;32m    305\u001b[0m \u001b[0;34m\u001b[0m\u001b[0m\n\u001b[1;32m    306\u001b[0m     \u001b[0;31m# Get transpile_args to configure the circuit transpilation job(s)\u001b[0m\u001b[0;34m\u001b[0m\u001b[0;34m\u001b[0m\u001b[0;34m\u001b[0m\u001b[0m\n\u001b[0;32m--> 307\u001b[0;31m     transpile_args = _parse_transpile_args(\n\u001b[0m\u001b[1;32m    308\u001b[0m         \u001b[0mcircuits\u001b[0m\u001b[0;34m,\u001b[0m\u001b[0;34m\u001b[0m\u001b[0;34m\u001b[0m\u001b[0m\n\u001b[1;32m    309\u001b[0m         \u001b[0mbackend\u001b[0m\u001b[0;34m,\u001b[0m\u001b[0;34m\u001b[0m\u001b[0;34m\u001b[0m\u001b[0m\n",
      "\u001b[0;32m/opt/anaconda3/lib/python3.8/site-packages/qiskit/compiler/transpiler.py\u001b[0m in \u001b[0;36m_parse_transpile_args\u001b[0;34m(circuits, backend, basis_gates, inst_map, coupling_map, backend_properties, initial_layout, layout_method, routing_method, translation_method, scheduling_method, instruction_durations, dt, approximation_degree, seed_transpiler, optimization_level, callback, output_name, timing_constraints, unitary_synthesis_method, unitary_synthesis_plugin_config, target)\u001b[0m\n\u001b[1;32m    565\u001b[0m     \u001b[0mbackend_properties\u001b[0m \u001b[0;34m=\u001b[0m \u001b[0m_parse_backend_properties\u001b[0m\u001b[0;34m(\u001b[0m\u001b[0mbackend_properties\u001b[0m\u001b[0;34m,\u001b[0m \u001b[0mbackend\u001b[0m\u001b[0;34m,\u001b[0m \u001b[0mnum_circuits\u001b[0m\u001b[0;34m)\u001b[0m\u001b[0;34m\u001b[0m\u001b[0;34m\u001b[0m\u001b[0m\n\u001b[1;32m    566\u001b[0m     \u001b[0mbackend_num_qubits\u001b[0m \u001b[0;34m=\u001b[0m \u001b[0m_parse_backend_num_qubits\u001b[0m\u001b[0;34m(\u001b[0m\u001b[0mbackend\u001b[0m\u001b[0;34m,\u001b[0m \u001b[0mnum_circuits\u001b[0m\u001b[0;34m)\u001b[0m\u001b[0;34m\u001b[0m\u001b[0;34m\u001b[0m\u001b[0m\n\u001b[0;32m--> 567\u001b[0;31m     \u001b[0minitial_layout\u001b[0m \u001b[0;34m=\u001b[0m \u001b[0m_parse_initial_layout\u001b[0m\u001b[0;34m(\u001b[0m\u001b[0minitial_layout\u001b[0m\u001b[0;34m,\u001b[0m \u001b[0mcircuits\u001b[0m\u001b[0;34m)\u001b[0m\u001b[0;34m\u001b[0m\u001b[0;34m\u001b[0m\u001b[0m\n\u001b[0m\u001b[1;32m    568\u001b[0m     \u001b[0mlayout_method\u001b[0m \u001b[0;34m=\u001b[0m \u001b[0m_parse_layout_method\u001b[0m\u001b[0;34m(\u001b[0m\u001b[0mlayout_method\u001b[0m\u001b[0;34m,\u001b[0m \u001b[0mnum_circuits\u001b[0m\u001b[0;34m)\u001b[0m\u001b[0;34m\u001b[0m\u001b[0;34m\u001b[0m\u001b[0m\n\u001b[1;32m    569\u001b[0m     \u001b[0mrouting_method\u001b[0m \u001b[0;34m=\u001b[0m \u001b[0m_parse_routing_method\u001b[0m\u001b[0;34m(\u001b[0m\u001b[0mrouting_method\u001b[0m\u001b[0;34m,\u001b[0m \u001b[0mnum_circuits\u001b[0m\u001b[0;34m)\u001b[0m\u001b[0;34m\u001b[0m\u001b[0;34m\u001b[0m\u001b[0m\n",
      "\u001b[0;32m/opt/anaconda3/lib/python3.8/site-packages/qiskit/compiler/transpiler.py\u001b[0m in \u001b[0;36m_parse_initial_layout\u001b[0;34m(initial_layout, circuits)\u001b[0m\n\u001b[1;32m    933\u001b[0m     \u001b[0;32melse\u001b[0m\u001b[0;34m:\u001b[0m\u001b[0;34m\u001b[0m\u001b[0;34m\u001b[0m\u001b[0m\n\u001b[1;32m    934\u001b[0m         \u001b[0;31m# even if one layout, but multiple circuits, the layout needs to be adapted for each\u001b[0m\u001b[0;34m\u001b[0m\u001b[0;34m\u001b[0m\u001b[0;34m\u001b[0m\u001b[0m\n\u001b[0;32m--> 935\u001b[0;31m         \u001b[0minitial_layout\u001b[0m \u001b[0;34m=\u001b[0m \u001b[0;34m[\u001b[0m\u001b[0m_layout_from_raw\u001b[0m\u001b[0;34m(\u001b[0m\u001b[0minitial_layout\u001b[0m\u001b[0;34m,\u001b[0m \u001b[0mcirc\u001b[0m\u001b[0;34m)\u001b[0m \u001b[0;32mfor\u001b[0m \u001b[0mcirc\u001b[0m \u001b[0;32min\u001b[0m \u001b[0mcircuits\u001b[0m\u001b[0;34m]\u001b[0m\u001b[0;34m\u001b[0m\u001b[0;34m\u001b[0m\u001b[0m\n\u001b[0m\u001b[1;32m    936\u001b[0m \u001b[0;34m\u001b[0m\u001b[0m\n\u001b[1;32m    937\u001b[0m     \u001b[0;32mif\u001b[0m \u001b[0;32mnot\u001b[0m \u001b[0misinstance\u001b[0m\u001b[0;34m(\u001b[0m\u001b[0minitial_layout\u001b[0m\u001b[0;34m,\u001b[0m \u001b[0mlist\u001b[0m\u001b[0;34m)\u001b[0m\u001b[0;34m:\u001b[0m\u001b[0;34m\u001b[0m\u001b[0;34m\u001b[0m\u001b[0m\n",
      "\u001b[0;32m/opt/anaconda3/lib/python3.8/site-packages/qiskit/compiler/transpiler.py\u001b[0m in \u001b[0;36m<listcomp>\u001b[0;34m(.0)\u001b[0m\n\u001b[1;32m    933\u001b[0m     \u001b[0;32melse\u001b[0m\u001b[0;34m:\u001b[0m\u001b[0;34m\u001b[0m\u001b[0;34m\u001b[0m\u001b[0m\n\u001b[1;32m    934\u001b[0m         \u001b[0;31m# even if one layout, but multiple circuits, the layout needs to be adapted for each\u001b[0m\u001b[0;34m\u001b[0m\u001b[0;34m\u001b[0m\u001b[0;34m\u001b[0m\u001b[0m\n\u001b[0;32m--> 935\u001b[0;31m         \u001b[0minitial_layout\u001b[0m \u001b[0;34m=\u001b[0m \u001b[0;34m[\u001b[0m\u001b[0m_layout_from_raw\u001b[0m\u001b[0;34m(\u001b[0m\u001b[0minitial_layout\u001b[0m\u001b[0;34m,\u001b[0m \u001b[0mcirc\u001b[0m\u001b[0;34m)\u001b[0m \u001b[0;32mfor\u001b[0m \u001b[0mcirc\u001b[0m \u001b[0;32min\u001b[0m \u001b[0mcircuits\u001b[0m\u001b[0;34m]\u001b[0m\u001b[0;34m\u001b[0m\u001b[0;34m\u001b[0m\u001b[0m\n\u001b[0m\u001b[1;32m    936\u001b[0m \u001b[0;34m\u001b[0m\u001b[0m\n\u001b[1;32m    937\u001b[0m     \u001b[0;32mif\u001b[0m \u001b[0;32mnot\u001b[0m \u001b[0misinstance\u001b[0m\u001b[0;34m(\u001b[0m\u001b[0minitial_layout\u001b[0m\u001b[0;34m,\u001b[0m \u001b[0mlist\u001b[0m\u001b[0;34m)\u001b[0m\u001b[0;34m:\u001b[0m\u001b[0;34m\u001b[0m\u001b[0;34m\u001b[0m\u001b[0m\n",
      "\u001b[0;32m/opt/anaconda3/lib/python3.8/site-packages/qiskit/compiler/transpiler.py\u001b[0m in \u001b[0;36m_layout_from_raw\u001b[0;34m(initial_layout, circuit)\u001b[0m\n\u001b[1;32m    914\u001b[0m         \u001b[0;32melif\u001b[0m \u001b[0misinstancelist\u001b[0m\u001b[0;34m(\u001b[0m\u001b[0minitial_layout\u001b[0m\u001b[0;34m)\u001b[0m\u001b[0;34m:\u001b[0m\u001b[0;34m\u001b[0m\u001b[0;34m\u001b[0m\u001b[0m\n\u001b[1;32m    915\u001b[0m             \u001b[0;32mif\u001b[0m \u001b[0mall\u001b[0m\u001b[0;34m(\u001b[0m\u001b[0misinstanceint\u001b[0m\u001b[0;34m(\u001b[0m\u001b[0melem\u001b[0m\u001b[0;34m)\u001b[0m \u001b[0;32mfor\u001b[0m \u001b[0melem\u001b[0m \u001b[0;32min\u001b[0m \u001b[0minitial_layout\u001b[0m\u001b[0;34m)\u001b[0m\u001b[0;34m:\u001b[0m\u001b[0;34m\u001b[0m\u001b[0;34m\u001b[0m\u001b[0m\n\u001b[0;32m--> 916\u001b[0;31m                 \u001b[0minitial_layout\u001b[0m \u001b[0;34m=\u001b[0m \u001b[0mLayout\u001b[0m\u001b[0;34m.\u001b[0m\u001b[0mfrom_intlist\u001b[0m\u001b[0;34m(\u001b[0m\u001b[0minitial_layout\u001b[0m\u001b[0;34m,\u001b[0m \u001b[0;34m*\u001b[0m\u001b[0mcircuit\u001b[0m\u001b[0;34m.\u001b[0m\u001b[0mqregs\u001b[0m\u001b[0;34m)\u001b[0m\u001b[0;34m\u001b[0m\u001b[0;34m\u001b[0m\u001b[0m\n\u001b[0m\u001b[1;32m    917\u001b[0m             \u001b[0;32melif\u001b[0m \u001b[0mall\u001b[0m\u001b[0;34m(\u001b[0m\u001b[0melem\u001b[0m \u001b[0;32mis\u001b[0m \u001b[0;32mNone\u001b[0m \u001b[0;32mor\u001b[0m \u001b[0misinstance\u001b[0m\u001b[0;34m(\u001b[0m\u001b[0melem\u001b[0m\u001b[0;34m,\u001b[0m \u001b[0mQubit\u001b[0m\u001b[0;34m)\u001b[0m \u001b[0;32mfor\u001b[0m \u001b[0melem\u001b[0m \u001b[0;32min\u001b[0m \u001b[0minitial_layout\u001b[0m\u001b[0;34m)\u001b[0m\u001b[0;34m:\u001b[0m\u001b[0;34m\u001b[0m\u001b[0;34m\u001b[0m\u001b[0m\n\u001b[1;32m    918\u001b[0m                 \u001b[0minitial_layout\u001b[0m \u001b[0;34m=\u001b[0m \u001b[0mLayout\u001b[0m\u001b[0;34m.\u001b[0m\u001b[0mfrom_qubit_list\u001b[0m\u001b[0;34m(\u001b[0m\u001b[0minitial_layout\u001b[0m\u001b[0;34m,\u001b[0m \u001b[0;34m*\u001b[0m\u001b[0mcircuit\u001b[0m\u001b[0;34m.\u001b[0m\u001b[0mqregs\u001b[0m\u001b[0;34m)\u001b[0m\u001b[0;34m\u001b[0m\u001b[0;34m\u001b[0m\u001b[0m\n",
      "\u001b[0;32m/opt/anaconda3/lib/python3.8/site-packages/qiskit/transpiler/layout.py\u001b[0m in \u001b[0;36mfrom_intlist\u001b[0;34m(int_list, *qregs)\u001b[0m\n\u001b[1;32m    311\u001b[0m         \u001b[0;31m# Check if list is too short to cover all qubits\u001b[0m\u001b[0;34m\u001b[0m\u001b[0;34m\u001b[0m\u001b[0;34m\u001b[0m\u001b[0m\n\u001b[1;32m    312\u001b[0m         \u001b[0;32mif\u001b[0m \u001b[0mlen\u001b[0m\u001b[0;34m(\u001b[0m\u001b[0mint_list\u001b[0m\u001b[0;34m)\u001b[0m \u001b[0;34m!=\u001b[0m \u001b[0mnum_qubits\u001b[0m\u001b[0;34m:\u001b[0m\u001b[0;34m\u001b[0m\u001b[0;34m\u001b[0m\u001b[0m\n\u001b[0;32m--> 313\u001b[0;31m             raise LayoutError(\n\u001b[0m\u001b[1;32m    314\u001b[0m                 \u001b[0;34mf\"Integer list length ({len(int_list)}) must equal number of qubits \"\u001b[0m\u001b[0;34m\u001b[0m\u001b[0;34m\u001b[0m\u001b[0m\n\u001b[1;32m    315\u001b[0m                 \u001b[0;34mf\"in circuit ({num_qubits}): {int_list}.\"\u001b[0m\u001b[0;34m\u001b[0m\u001b[0;34m\u001b[0m\u001b[0m\n",
      "\u001b[0;31mLayoutError\u001b[0m: 'Integer list length (3) must equal number of qubits in circuit (1): [0, 2, 3].'"
     ]
    }
   ],
   "source": [
    "# transpiling with initial layout \n",
    "# <INSERT CODE>\n",
    "\n",
    "transpiled = transpile(circuit, backend, initial_layout=[0, 2, 3])\n",
    "display(plot_circuit_layout(transpiled, backend))\n",
    "plot_gate_map(backend)"
   ]
  },
  {
   "cell_type": "code",
   "execution_count": 159,
   "id": "18f2728f",
   "metadata": {},
   "outputs": [
    {
     "data": {
      "text/html": [
       "<pre style=\"word-wrap: normal;white-space: pre;background: #fff0;line-height: 1.1;font-family: &quot;Courier New&quot;,Courier,monospace\">global phase: 3π/2\n",
       "               ┌─────────┐┌────┐┌─────────┐                                                                       ┌───┐     ┌─────────┐                                                              ┌───┐                                         ┌─────────┐                        ┌───┐   ┌──────────┐┌───┐┌─────────┐┌────┐┌─────────┐ ░ ┌─┐      \n",
       "      q_0 -> 0 ┤ Rz(π/2) ├┤ √X ├┤ Rz(π/2) ├────────────────────────────────────────■──────────────────────────────┤ X ├──■──┤ Rz(π/4) ├───────────────────────────────────────────────────────■──────┤ X ├──■───────────────────────────────────■──┤ Rz(π/4) ├────────────────────────┤ X ├───┤ Rz(-π/4) ├┤ X ├┤ Rz(π/2) ├┤ √X ├┤ Rz(π/2) ├─░─┤M├──────\n",
       "               └─────────┘└────┘└─────────┘┌───┐                ┌───┐┌──────────┐┌─┴─┐┌─────────┐┌───┐┌──────────┐└─┬─┘┌─┴─┐└─────────┘┌─────────┐      ┌─────────┐┌────┐┌─────────┐        ┌─┴─┐    └─┬─┘┌─┴─┐                     ┌───┐     ┌─┴─┐├─────────┴┐┌───┐     ┌───┐        └─┬─┘   ├─────────┬┘└─┬─┘├─────────┤├────┤├─────────┤ ░ └╥┘   ┌─┐\n",
       "ancilla_0 -> 1 ─────────────■──────────────┤ X ├─────────────■──┤ X ├┤ Rz(-π/4) ├┤ X ├┤ Rz(π/4) ├┤ X ├┤ Rz(-π/4) ├──■──┤ X ├─────■─────┤ Rz(π/4) ├───■──┤ Rz(π/2) ├┤ √X ├┤ Rz(π/2) ├──■─────┤ X ├──────■──┤ X ├──■───────────────■──┤ X ├──■──┤ X ├┤ Rz(-π/4) ├┤ X ├──■──┤ X ├──■───────■─────┤ Rz(π/4) ├───■──┤ Rz(π/2) ├┤ √X ├┤ Rz(π/2) ├─░──╫────┤M├\n",
       "               ┌─────────┐  │      ┌────┐  └─┬─┘┌─────────┐  │  └─┬─┘└──────────┘└───┘└─────────┘└─┬─┘├─────────┬┘     └───┘   ┌─┴─┐   ├─────────┴┐┌─┴─┐└─────────┘└────┘└─────────┘┌─┴─┐┌──┴───┴───┐     └───┘┌─┴─┐┌─────────┐┌─┴─┐└─┬─┘┌─┴─┐└───┘└──────────┘└─┬─┘┌─┴─┐└─┬─┘┌─┴─┐┌─────────┐└─────────┘      └─────────┘└────┘└─────────┘ ░  ║ ┌─┐└╥┘\n",
       "      q_1 -> 2 ┤ Rz(π/2) ├──┼──────┤ √X ├────┼──┤ Rz(π/2) ├──┼────■────────────────────────────────■──┤ Rz(π/4) ├──────────────┤ X ├───┤ Rz(-π/4) ├┤ X ├────────────────────────────┤ X ├┤ Rz(-π/4) ├──────────┤ X ├┤ Rz(π/4) ├┤ X ├──■──┤ X ├───────────────────■──┤ X ├──■──┤ X ├┤ Rz(π/4) ├──────────────────────────────────────────────░──╫─┤M├─╫─\n",
       "               └─────────┘┌─┴─┐    └────┘    │  └─────────┘┌─┴─┐                                      └─────────┘              └───┘   └──────────┘└───┘                            └───┘└──────────┘          └───┘└─────────┘└───┘     └───┘                      └───┘     └───┘└─────────┘                                              ░  ║ └╥┘ ║ \n",
       "      q_2 -> 3 ───────────┤ X ├──────────────■─────────────┤ X ├────────────────────────────────────────────────────────────────────────────────────────────────────────────────────────────────────────────────────────────────────────────────────────────────────────────────────────────────────────────────────────────────────────────░──╫──╫──╫─\n",
       "                          └───┘                            └───┘                                                                                                                                                                                                                                                                            ░  ║  ║  ║ \n",
       "       meas: 3/════════════════════════════════════════════════════════════════════════════════════════════════════════════════════════════════════════════════════════════════════════════════════════════════════════════════════════════════════════════════════════════════════════════════════════════════════════════════════════════════╩══╩══╩═\n",
       "                                                                                                                                                                                                                                                                                                                                               0  1  2 </pre>"
      ],
      "text/plain": [
       "global phase: 3π/2\n",
       "               ┌─────────┐┌────┐┌─────────┐                                                                       ┌───┐     ┌─────────┐                                                              ┌───┐                                         ┌─────────┐                        ┌───┐   ┌──────────┐┌───┐┌─────────┐┌────┐┌─────────┐ ░ ┌─┐      \n",
       "      q_0 -> 0 ┤ Rz(π/2) ├┤ √X ├┤ Rz(π/2) ├────────────────────────────────────────■──────────────────────────────┤ X ├──■──┤ Rz(π/4) ├───────────────────────────────────────────────────────■──────┤ X ├──■───────────────────────────────────■──┤ Rz(π/4) ├────────────────────────┤ X ├───┤ Rz(-π/4) ├┤ X ├┤ Rz(π/2) ├┤ √X ├┤ Rz(π/2) ├─░─┤M├──────\n",
       "               └─────────┘└────┘└─────────┘┌───┐                ┌───┐┌──────────┐┌─┴─┐┌─────────┐┌───┐┌──────────┐└─┬─┘┌─┴─┐└─────────┘┌─────────┐      ┌─────────┐┌────┐┌─────────┐        ┌─┴─┐    └─┬─┘┌─┴─┐                     ┌───┐     ┌─┴─┐├─────────┴┐┌───┐     ┌───┐        └─┬─┘   ├─────────┬┘└─┬─┘├─────────┤├────┤├─────────┤ ░ └╥┘   ┌─┐\n",
       "ancilla_0 -> 1 ─────────────■──────────────┤ X ├─────────────■──┤ X ├┤ Rz(-π/4) ├┤ X ├┤ Rz(π/4) ├┤ X ├┤ Rz(-π/4) ├──■──┤ X ├─────■─────┤ Rz(π/4) ├───■──┤ Rz(π/2) ├┤ √X ├┤ Rz(π/2) ├──■─────┤ X ├──────■──┤ X ├──■───────────────■──┤ X ├──■──┤ X ├┤ Rz(-π/4) ├┤ X ├──■──┤ X ├──■───────■─────┤ Rz(π/4) ├───■──┤ Rz(π/2) ├┤ √X ├┤ Rz(π/2) ├─░──╫────┤M├\n",
       "               ┌─────────┐  │      ┌────┐  └─┬─┘┌─────────┐  │  └─┬─┘└──────────┘└───┘└─────────┘└─┬─┘├─────────┬┘     └───┘   ┌─┴─┐   ├─────────┴┐┌─┴─┐└─────────┘└────┘└─────────┘┌─┴─┐┌──┴───┴───┐     └───┘┌─┴─┐┌─────────┐┌─┴─┐└─┬─┘┌─┴─┐└───┘└──────────┘└─┬─┘┌─┴─┐└─┬─┘┌─┴─┐┌─────────┐└─────────┘      └─────────┘└────┘└─────────┘ ░  ║ ┌─┐└╥┘\n",
       "      q_1 -> 2 ┤ Rz(π/2) ├──┼──────┤ √X ├────┼──┤ Rz(π/2) ├──┼────■────────────────────────────────■──┤ Rz(π/4) ├──────────────┤ X ├───┤ Rz(-π/4) ├┤ X ├────────────────────────────┤ X ├┤ Rz(-π/4) ├──────────┤ X ├┤ Rz(π/4) ├┤ X ├──■──┤ X ├───────────────────■──┤ X ├──■──┤ X ├┤ Rz(π/4) ├──────────────────────────────────────────────░──╫─┤M├─╫─\n",
       "               └─────────┘┌─┴─┐    └────┘    │  └─────────┘┌─┴─┐                                      └─────────┘              └───┘   └──────────┘└───┘                            └───┘└──────────┘          └───┘└─────────┘└───┘     └───┘                      └───┘     └───┘└─────────┘                                              ░  ║ └╥┘ ║ \n",
       "      q_2 -> 3 ───────────┤ X ├──────────────■─────────────┤ X ├────────────────────────────────────────────────────────────────────────────────────────────────────────────────────────────────────────────────────────────────────────────────────────────────────────────────────────────────────────────────────────────────────────────░──╫──╫──╫─\n",
       "                          └───┘                            └───┘                                                                                                                                                                                                                                                                            ░  ║  ║  ║ \n",
       "       meas: 3/════════════════════════════════════════════════════════════════════════════════════════════════════════════════════════════════════════════════════════════════════════════════════════════════════════════════════════════════════════════════════════════════════════════════════════════════════════════════════════════════╩══╩══╩═\n",
       "                                                                                                                                                                                                                                                                                                                                               0  1  2 "
      ]
     },
     "execution_count": 159,
     "metadata": {},
     "output_type": "execute_result"
    }
   ],
   "source": [
    "transpiled.draw(idle_wires=False, fold=-1)"
   ]
  },
  {
   "cell_type": "markdown",
   "id": "dfd58119",
   "metadata": {},
   "source": [
    "### Optimization level\n",
    "\n",
    "Higher levels generate more optimized circuits, at the expense of longer transpilation time.\n",
    "\n",
    " * 0: no explicit optimization other than mapping to backend\n",
    " * 1: light optimization by simple adjacent gate collapsing.(default)\n",
    " * 2: medium optimization by noise adaptive qubit mapping and gate cancellation using commutativity rules.\n",
    " * 3: heavy optimization by noise adaptive qubit mapping and gate cancellation using commutativity rules and unitary synthesis."
   ]
  },
  {
   "cell_type": "code",
   "execution_count": 160,
   "id": "e77eefb0",
   "metadata": {},
   "outputs": [],
   "source": [
    "level0 = transpile(circuit, backend, optimization_level=0)\n",
    "level1 = transpile(circuit, backend, optimization_level=1)\n",
    "level2 = transpile(circuit, backend, optimization_level=2)\n",
    "level3 = transpile(circuit, backend, optimization_level=3)"
   ]
  },
  {
   "cell_type": "code",
   "execution_count": 161,
   "id": "ef5c42b3",
   "metadata": {},
   "outputs": [
    {
     "name": "stdout",
     "output_type": "stream",
     "text": [
      "30 52\n",
      "30 45\n",
      "24 41\n",
      "17 40\n"
     ]
    }
   ],
   "source": [
    "for level in [level0, level1, level2, level3]:\n",
    "    print(level.count_ops()['cx'], level.depth())"
   ]
  },
  {
   "cell_type": "code",
   "execution_count": 162,
   "id": "9d1bd622",
   "metadata": {},
   "outputs": [],
   "source": [
    "# transpiling is a stochastic process"
   ]
  },
  {
   "cell_type": "code",
   "execution_count": 166,
   "id": "624b3083",
   "metadata": {},
   "outputs": [
    {
     "data": {
      "text/plain": [
       "41"
      ]
     },
     "execution_count": 166,
     "metadata": {},
     "output_type": "execute_result"
    }
   ],
   "source": [
    "transpiled = transpile(circuit, backend, optimization_level=2, seed_transpiler=42)\n",
    "transpiled.depth()"
   ]
  },
  {
   "cell_type": "code",
   "execution_count": 167,
   "id": "785ee4f0",
   "metadata": {},
   "outputs": [
    {
     "data": {
      "text/plain": [
       "36"
      ]
     },
     "execution_count": 167,
     "metadata": {},
     "output_type": "execute_result"
    }
   ],
   "source": [
    "transpiled = transpile(circuit, backend, optimization_level=2, seed_transpiler=1)\n",
    "transpiled.depth()"
   ]
  },
  {
   "cell_type": "code",
   "execution_count": 168,
   "id": "f1c508f5",
   "metadata": {},
   "outputs": [],
   "source": [
    "# Playing with other transpiler options (without a backend)"
   ]
  },
  {
   "cell_type": "code",
   "execution_count": 169,
   "id": "bc959577",
   "metadata": {},
   "outputs": [
    {
     "data": {
      "text/html": [
       "<pre style=\"word-wrap: normal;white-space: pre;background: #fff0;line-height: 1.1;font-family: &quot;Courier New&quot;,Courier,monospace\">        ┌───┐     ┌───┐     ┌───┐ ░ ┌─┐      \n",
       "   q_0: ┤ H ├──■──┤ H ├──■──┤ H ├─░─┤M├──────\n",
       "        ├───┤  │  ├───┤┌─┴─┐├───┤ ░ └╥┘┌─┐   \n",
       "   q_1: ┤ H ├──■──┤ H ├┤ X ├┤ H ├─░──╫─┤M├───\n",
       "        ├───┤┌─┴─┐├───┤└─┬─┘├───┤ ░  ║ └╥┘┌─┐\n",
       "   q_2: ┤ H ├┤ X ├┤ H ├──■──┤ H ├─░──╫──╫─┤M├\n",
       "        └───┘└───┘└───┘     └───┘ ░  ║  ║ └╥┘\n",
       "meas: 3/═════════════════════════════╩══╩══╩═\n",
       "                                     0  1  2 </pre>"
      ],
      "text/plain": [
       "        ┌───┐     ┌───┐     ┌───┐ ░ ┌─┐      \n",
       "   q_0: ┤ H ├──■──┤ H ├──■──┤ H ├─░─┤M├──────\n",
       "        ├───┤  │  ├───┤┌─┴─┐├───┤ ░ └╥┘┌─┐   \n",
       "   q_1: ┤ H ├──■──┤ H ├┤ X ├┤ H ├─░──╫─┤M├───\n",
       "        ├───┤┌─┴─┐├───┤└─┬─┘├───┤ ░  ║ └╥┘┌─┐\n",
       "   q_2: ┤ H ├┤ X ├┤ H ├──■──┤ H ├─░──╫──╫─┤M├\n",
       "        └───┘└───┘└───┘     └───┘ ░  ║  ║ └╥┘\n",
       "meas: 3/═════════════════════════════╩══╩══╩═\n",
       "                                     0  1  2 "
      ]
     },
     "execution_count": 169,
     "metadata": {},
     "output_type": "execute_result"
    }
   ],
   "source": [
    "transpiled = transpile(circuit)\n",
    "transpiled.draw(fold=-1)"
   ]
  },
  {
   "cell_type": "code",
   "execution_count": 170,
   "id": "78aaea92",
   "metadata": {},
   "outputs": [],
   "source": [
    "# Set a basis gates"
   ]
  },
  {
   "cell_type": "code",
   "execution_count": 171,
   "id": "e4c2a414",
   "metadata": {},
   "outputs": [
    {
     "data": {
      "text/plain": [
       "['id', 'rz', 'sx', 'x', 'cx', 'reset']"
      ]
     },
     "execution_count": 171,
     "metadata": {},
     "output_type": "execute_result"
    }
   ],
   "source": [
    "backend.configuration().basis_gates"
   ]
  },
  {
   "cell_type": "code",
   "execution_count": 172,
   "id": "272d2e00",
   "metadata": {},
   "outputs": [
    {
     "data": {
      "text/html": [
       "<pre style=\"word-wrap: normal;white-space: pre;background: #fff0;line-height: 1.1;font-family: &quot;Courier New&quot;,Courier,monospace\">        ┌───┐                                                                    ┌────────┐     ┌───┐                                          ┌────────┐               ┌───┐┌─────────┐     ┌───┐┌───┐ ░ ┌─┐      \n",
       "   q_0: ┤ H ├───────────────────────■──────────────────────────────■──────■──────┤ P(π/4) ├──■──┤ H ├───────■──────────────────────────────■───┤ P(π/4) ├───────────────┤ X ├┤ P(-π/4) ├─────┤ X ├┤ H ├─░─┤M├──────\n",
       "        ├───┤                       │                  ┌────────┐  │    ┌─┴─┐   ┌┴────────┤┌─┴─┐├───┤┌───┐┌─┴─┐┌─────────┐┌───┐┌────────┐┌─┴─┐┌┴────────┤┌───┐┌────────┐└─┬─┘└──┬───┬──┘┌───┐└─┬─┘└───┘ ░ └╥┘┌─┐   \n",
       "   q_1: ┤ H ├───────■───────────────┼──────────────■───┤ P(π/4) ├──┼────┤ X ├───┤ P(-π/4) ├┤ X ├┤ H ├┤ H ├┤ X ├┤ P(-π/4) ├┤ X ├┤ P(π/4) ├┤ X ├┤ P(-π/4) ├┤ X ├┤ P(π/4) ├──┼─────┤ H ├───┤ H ├──┼────────░──╫─┤M├───\n",
       "        ├───┤┌───┐┌─┴─┐┌─────────┐┌─┴─┐┌────────┐┌─┴─┐┌┴────────┤┌─┴─┐┌─┴───┴──┐└──┬───┬──┘├───┤└───┘└───┘└───┘└─────────┘└─┬─┘└────────┘└───┘└─────────┘└─┬─┘└────────┘  │   ┌─┴───┴──┐└───┘  │  ┌───┐ ░  ║ └╥┘┌─┐\n",
       "   q_2: ┤ H ├┤ H ├┤ X ├┤ P(-π/4) ├┤ X ├┤ P(π/4) ├┤ X ├┤ P(-π/4) ├┤ X ├┤ P(π/4) ├───┤ H ├───┤ H ├────────────────────────────■──────────────────────────────■──────────────■───┤ P(π/4) ├───────■──┤ H ├─░──╫──╫─┤M├\n",
       "        └───┘└───┘└───┘└─────────┘└───┘└────────┘└───┘└─────────┘└───┘└────────┘   └───┘   └───┘                                                                              └────────┘          └───┘ ░  ║  ║ └╥┘\n",
       "meas: 3/═══════════════════════════════════════════════════════════════════════════════════════════════════════════════════════════════════════════════════════════════════════════════════════════════════╩══╩══╩═\n",
       "                                                                                                                                                                                                           0  1  2 </pre>"
      ],
      "text/plain": [
       "        ┌───┐                                                                    ┌────────┐     ┌───┐                                          ┌────────┐               ┌───┐┌─────────┐     ┌───┐┌───┐ ░ ┌─┐      \n",
       "   q_0: ┤ H ├───────────────────────■──────────────────────────────■──────■──────┤ P(π/4) ├──■──┤ H ├───────■──────────────────────────────■───┤ P(π/4) ├───────────────┤ X ├┤ P(-π/4) ├─────┤ X ├┤ H ├─░─┤M├──────\n",
       "        ├───┤                       │                  ┌────────┐  │    ┌─┴─┐   ┌┴────────┤┌─┴─┐├───┤┌───┐┌─┴─┐┌─────────┐┌───┐┌────────┐┌─┴─┐┌┴────────┤┌───┐┌────────┐└─┬─┘└──┬───┬──┘┌───┐└─┬─┘└───┘ ░ └╥┘┌─┐   \n",
       "   q_1: ┤ H ├───────■───────────────┼──────────────■───┤ P(π/4) ├──┼────┤ X ├───┤ P(-π/4) ├┤ X ├┤ H ├┤ H ├┤ X ├┤ P(-π/4) ├┤ X ├┤ P(π/4) ├┤ X ├┤ P(-π/4) ├┤ X ├┤ P(π/4) ├──┼─────┤ H ├───┤ H ├──┼────────░──╫─┤M├───\n",
       "        ├───┤┌───┐┌─┴─┐┌─────────┐┌─┴─┐┌────────┐┌─┴─┐┌┴────────┤┌─┴─┐┌─┴───┴──┐└──┬───┬──┘├───┤└───┘└───┘└───┘└─────────┘└─┬─┘└────────┘└───┘└─────────┘└─┬─┘└────────┘  │   ┌─┴───┴──┐└───┘  │  ┌───┐ ░  ║ └╥┘┌─┐\n",
       "   q_2: ┤ H ├┤ H ├┤ X ├┤ P(-π/4) ├┤ X ├┤ P(π/4) ├┤ X ├┤ P(-π/4) ├┤ X ├┤ P(π/4) ├───┤ H ├───┤ H ├────────────────────────────■──────────────────────────────■──────────────■───┤ P(π/4) ├───────■──┤ H ├─░──╫──╫─┤M├\n",
       "        └───┘└───┘└───┘└─────────┘└───┘└────────┘└───┘└─────────┘└───┘└────────┘   └───┘   └───┘                                                                              └────────┘          └───┘ ░  ║  ║ └╥┘\n",
       "meas: 3/═══════════════════════════════════════════════════════════════════════════════════════════════════════════════════════════════════════════════════════════════════════════════════════════════════╩══╩══╩═\n",
       "                                                                                                                                                                                                           0  1  2 "
      ]
     },
     "execution_count": 172,
     "metadata": {},
     "output_type": "execute_result"
    }
   ],
   "source": [
    "# specify basis gates\n",
    "# <INSERT CODE>\n",
    "\n",
    "transpiled = transpile(circuit, basis_gates=['x', 'cx', 'h', 'p'])\n",
    "transpiled.draw(fold=-1)"
   ]
  },
  {
   "cell_type": "code",
   "execution_count": 173,
   "id": "5d2fe6c0",
   "metadata": {},
   "outputs": [],
   "source": [
    "# Set a coupling map"
   ]
  },
  {
   "cell_type": "code",
   "execution_count": 174,
   "id": "c11ffde4",
   "metadata": {},
   "outputs": [
    {
     "data": {
      "text/plain": [
       "[[0, 1], [1, 0], [1, 2], [1, 3], [2, 1], [3, 1], [3, 4], [4, 3]]"
      ]
     },
     "execution_count": 174,
     "metadata": {},
     "output_type": "execute_result"
    }
   ],
   "source": [
    "backend.configuration().coupling_map"
   ]
  },
  {
   "cell_type": "code",
   "execution_count": 175,
   "id": "6ac16226",
   "metadata": {},
   "outputs": [
    {
     "data": {
      "text/html": [
       "<pre style=\"word-wrap: normal;white-space: pre;background: #fff0;line-height: 1.1;font-family: &quot;Courier New&quot;,Courier,monospace\">         ┌───┐┌───┐┌───┐     ┌───┐┌─────┐┌───┐     ┌───┐┌───┐┌───┐     ┌───┐┌─────┐┌───┐          ┌───┐┌───┐ ┌───┐ ┌───┐                                         ┌───┐                     ┌───┐┌───┐┌───┐                            ░    ┌─┐   \n",
       "q_2 -> 0 ┤ H ├┤ H ├┤ H ├──■──┤ H ├┤ Tdg ├┤ H ├──■──┤ H ├┤ T ├┤ H ├──■──┤ H ├┤ Tdg ├┤ H ├───────■──┤ H ├┤ T ├─┤ H ├─┤ H ├──────────────────X──────────────────■───┤ T ├──────────────────X──┤ T ├┤ H ├┤ H ├────────────────────────────░────┤M├───\n",
       "         ├───┤├───┤└───┘┌─┴─┐├───┤└─────┘├───┤┌─┴─┐├───┤└───┘├───┤┌─┴─┐├───┤└┬───┬┘└───┘┌───┐┌─┴─┐├───┤└───┘ ├───┤ └───┘┌───┐             │                ┌─┴─┐┌┴───┴┐┌───┐     ┌───┐  │  ├───┤└───┘├───┤┌─────┐┌───┐     ┌───┐┌───┐ ░ ┌─┐└╥┘   \n",
       "q_1 -> 1 ┤ H ├┤ H ├─────┤ X ├┤ H ├───X───┤ H ├┤ X ├┤ H ├──X──┤ H ├┤ X ├┤ H ├─┤ T ├───X──┤ H ├┤ X ├┤ H ├──■───┤ T ├───■──┤ H ├───────■─────X─────■────────X─┤ X ├┤ Tdg ├┤ H ├──■──┤ H ├──X──┤ H ├──■──┤ H ├┤ Tdg ├┤ H ├──■──┤ H ├┤ H ├─░─┤M├─╫────\n",
       "         ├───┤└───┘     └───┘└───┘   │   └───┘└───┘└───┘  │  └───┘└───┘└───┘ └───┘   │  └───┘└───┘└───┘┌─┴─┐┌┴───┴┐┌─┴─┐├───┤┌───┐┌─┴─┐┌─────┐┌─┴─┐┌───┐ │ ├───┤└─────┘└───┘┌─┴─┐├───┤┌───┐└───┘┌─┴─┐├───┤└┬───┬┘├───┤┌─┴─┐├───┤├───┤ ░ └╥┘ ║ ┌─┐\n",
       "q_0 -> 2 ┤ H ├───────────────────────X────────────────────X──────────────────────────X─────────────────┤ X ├┤ Tdg ├┤ X ├┤ H ├┤ H ├┤ X ├┤ Tdg ├┤ X ├┤ T ├─X─┤ H ├────────────┤ X ├┤ H ├┤ H ├─────┤ X ├┤ H ├─┤ T ├─┤ H ├┤ X ├┤ H ├┤ H ├─░──╫──╫─┤M├\n",
       "         └───┘                                                                                         └───┘└─────┘└───┘└───┘└───┘└───┘└─────┘└───┘└───┘   └───┘            └───┘└───┘└───┘     └───┘└───┘ └───┘ └───┘└───┘└───┘└───┘ ░  ║  ║ └╥┘\n",
       " meas: 3/════════════════════════════════════════════════════════════════════════════════════════════════════════════════════════════════════════════════════════════════════════════════════════════════════════════════════════════════╩══╩══╩═\n",
       "                                                                                                                                                                                                                                         0  1  2 </pre>"
      ],
      "text/plain": [
       "         ┌───┐┌───┐┌───┐     ┌───┐┌─────┐┌───┐     ┌───┐┌───┐┌───┐     ┌───┐┌─────┐┌───┐          ┌───┐┌───┐ ┌───┐ ┌───┐                                         ┌───┐                     ┌───┐┌───┐┌───┐                            ░    ┌─┐   \n",
       "q_2 -> 0 ┤ H ├┤ H ├┤ H ├──■──┤ H ├┤ Tdg ├┤ H ├──■──┤ H ├┤ T ├┤ H ├──■──┤ H ├┤ Tdg ├┤ H ├───────■──┤ H ├┤ T ├─┤ H ├─┤ H ├──────────────────X──────────────────■───┤ T ├──────────────────X──┤ T ├┤ H ├┤ H ├────────────────────────────░────┤M├───\n",
       "         ├───┤├───┤└───┘┌─┴─┐├───┤└─────┘├───┤┌─┴─┐├───┤└───┘├───┤┌─┴─┐├───┤└┬───┬┘└───┘┌───┐┌─┴─┐├───┤└───┘ ├───┤ └───┘┌───┐             │                ┌─┴─┐┌┴───┴┐┌───┐     ┌───┐  │  ├───┤└───┘├───┤┌─────┐┌───┐     ┌───┐┌───┐ ░ ┌─┐└╥┘   \n",
       "q_1 -> 1 ┤ H ├┤ H ├─────┤ X ├┤ H ├───X───┤ H ├┤ X ├┤ H ├──X──┤ H ├┤ X ├┤ H ├─┤ T ├───X──┤ H ├┤ X ├┤ H ├──■───┤ T ├───■──┤ H ├───────■─────X─────■────────X─┤ X ├┤ Tdg ├┤ H ├──■──┤ H ├──X──┤ H ├──■──┤ H ├┤ Tdg ├┤ H ├──■──┤ H ├┤ H ├─░─┤M├─╫────\n",
       "         ├───┤└───┘     └───┘└───┘   │   └───┘└───┘└───┘  │  └───┘└───┘└───┘ └───┘   │  └───┘└───┘└───┘┌─┴─┐┌┴───┴┐┌─┴─┐├───┤┌───┐┌─┴─┐┌─────┐┌─┴─┐┌───┐ │ ├───┤└─────┘└───┘┌─┴─┐├───┤┌───┐└───┘┌─┴─┐├───┤└┬───┬┘├───┤┌─┴─┐├───┤├───┤ ░ └╥┘ ║ ┌─┐\n",
       "q_0 -> 2 ┤ H ├───────────────────────X────────────────────X──────────────────────────X─────────────────┤ X ├┤ Tdg ├┤ X ├┤ H ├┤ H ├┤ X ├┤ Tdg ├┤ X ├┤ T ├─X─┤ H ├────────────┤ X ├┤ H ├┤ H ├─────┤ X ├┤ H ├─┤ T ├─┤ H ├┤ X ├┤ H ├┤ H ├─░──╫──╫─┤M├\n",
       "         └───┘                                                                                         └───┘└─────┘└───┘└───┘└───┘└───┘└─────┘└───┘└───┘   └───┘            └───┘└───┘└───┘     └───┘└───┘ └───┘ └───┘└───┘└───┘└───┘ ░  ║  ║ └╥┘\n",
       " meas: 3/════════════════════════════════════════════════════════════════════════════════════════════════════════════════════════════════════════════════════════════════════════════════════════════════════════════════════════════════╩══╩══╩═\n",
       "                                                                                                                                                                                                                                         0  1  2 "
      ]
     },
     "execution_count": 175,
     "metadata": {},
     "output_type": "execute_result"
    }
   ],
   "source": [
    "from qiskit.transpiler import CouplingMap\n",
    "\n",
    "# specify coupling map\n",
    "# <INSERT CODE>\n",
    "\n",
    "transpiled = transpile(circuit, coupling_map=CouplingMap([(0,1),(1,2)]))\n",
    "transpiled.draw(fold=-1)"
   ]
  },
  {
   "cell_type": "code",
   "execution_count": 176,
   "id": "7d43f7d3",
   "metadata": {},
   "outputs": [],
   "source": [
    "# Set an initial layout in a coupling map"
   ]
  },
  {
   "cell_type": "code",
   "execution_count": 177,
   "id": "b1ee7dc4",
   "metadata": {},
   "outputs": [
    {
     "data": {
      "text/html": [
       "<pre style=\"word-wrap: normal;white-space: pre;background: #fff0;line-height: 1.1;font-family: &quot;Courier New&quot;,Courier,monospace\">         ┌───┐                                              ┌───┐ ┌───┐                       ┌───┐┌─────┐┌───┐     ┌───┐┌───┐┌───┐┌───┐     ┌───┐┌─────┐                             ┌───┐ ┌───┐                       ┌───┐┌─────┐┌───┐     ┌───┐┌───┐ ░ ┌─┐      \n",
       "q_1 -> 0 ┤ H ├──────────■───────────────────────────────■───┤ T ├─┤ H ├────────────────────■──┤ H ├┤ Tdg ├┤ H ├──■──┤ H ├┤ H ├┤ H ├┤ H ├──■──┤ H ├┤ Tdg ├─X───────────────────────■───┤ T ├─┤ H ├────────────────────■──┤ H ├┤ Tdg ├┤ H ├──■──┤ H ├┤ H ├─░─┤M├──────\n",
       "         ├───┤        ┌─┴─┐┌─────┐┌───┐     ┌───┐┌───┐┌─┴─┐┌┴───┴┐├───┤     ┌───┐   ┌───┐┌─┴─┐├───┤└┬───┬┘├───┤┌─┴─┐├───┤├───┤├───┤└───┘┌─┴─┐├───┤└─────┘ │ ┌───┐     ┌───┐┌───┐┌─┴─┐┌┴───┴┐├───┤     ┌───┐   ┌───┐┌─┴─┐├───┤└┬───┬┘├───┤┌─┴─┐├───┤├───┤ ░ └╥┘   ┌─┐\n",
       "q_0 -> 1 ┤ H ├──────X─┤ X ├┤ Tdg ├┤ H ├──■──┤ H ├┤ T ├┤ X ├┤ Tdg ├┤ H ├──■──┤ H ├─X─┤ H ├┤ X ├┤ H ├─┤ T ├─┤ H ├┤ X ├┤ H ├┤ H ├┤ H ├─────┤ X ├┤ H ├────────X─┤ H ├──■──┤ H ├┤ T ├┤ X ├┤ Tdg ├┤ H ├──■──┤ H ├─X─┤ H ├┤ X ├┤ H ├─┤ T ├─┤ H ├┤ X ├┤ H ├┤ H ├─░──╫────┤M├\n",
       "         ├───┤┌───┐ │ ├───┤└─────┘└───┘┌─┴─┐├───┤├───┤└───┘└─────┘└───┘┌─┴─┐├───┤ │ ├───┤├───┤├───┤ ├───┤ └───┘└───┘└───┘└───┘└───┘     └───┘└───┘          └───┘┌─┴─┐├───┤├───┤└───┘└─────┘└───┘┌─┴─┐├───┤ │ ├───┤├───┤├───┤ └───┘ └───┘└───┘└───┘└───┘ ░  ║ ┌─┐└╥┘\n",
       "q_2 -> 2 ┤ H ├┤ H ├─X─┤ H ├────────────┤ X ├┤ H ├┤ H ├─────────────────┤ X ├┤ H ├─X─┤ T ├┤ H ├┤ H ├─┤ H ├────────────────────────────────────────────────────────┤ X ├┤ H ├┤ H ├─────────────────┤ X ├┤ H ├─X─┤ T ├┤ H ├┤ H ├────────────────────────────░──╫─┤M├─╫─\n",
       "         └───┘└───┘   └───┘            └───┘└───┘└───┘                 └───┘└───┘   └───┘└───┘└───┘ └───┘                                                        └───┘└───┘└───┘                 └───┘└───┘   └───┘└───┘└───┘                            ░  ║ └╥┘ ║ \n",
       " meas: 3/═══════════════════════════════════════════════════════════════════════════════════════════════════════════════════════════════════════════════════════════════════════════════════════════════════════════════════════════════════════════════════╩══╩══╩═\n",
       "                                                                                                                                                                                                                                                            0  1  2 </pre>"
      ],
      "text/plain": [
       "         ┌───┐                                              ┌───┐ ┌───┐                       ┌───┐┌─────┐┌───┐     ┌───┐┌───┐┌───┐┌───┐     ┌───┐┌─────┐                             ┌───┐ ┌───┐                       ┌───┐┌─────┐┌───┐     ┌───┐┌───┐ ░ ┌─┐      \n",
       "q_1 -> 0 ┤ H ├──────────■───────────────────────────────■───┤ T ├─┤ H ├────────────────────■──┤ H ├┤ Tdg ├┤ H ├──■──┤ H ├┤ H ├┤ H ├┤ H ├──■──┤ H ├┤ Tdg ├─X───────────────────────■───┤ T ├─┤ H ├────────────────────■──┤ H ├┤ Tdg ├┤ H ├──■──┤ H ├┤ H ├─░─┤M├──────\n",
       "         ├───┤        ┌─┴─┐┌─────┐┌───┐     ┌───┐┌───┐┌─┴─┐┌┴───┴┐├───┤     ┌───┐   ┌───┐┌─┴─┐├───┤└┬───┬┘├───┤┌─┴─┐├───┤├───┤├───┤└───┘┌─┴─┐├───┤└─────┘ │ ┌───┐     ┌───┐┌───┐┌─┴─┐┌┴───┴┐├───┤     ┌───┐   ┌───┐┌─┴─┐├───┤└┬───┬┘├───┤┌─┴─┐├───┤├───┤ ░ └╥┘   ┌─┐\n",
       "q_0 -> 1 ┤ H ├──────X─┤ X ├┤ Tdg ├┤ H ├──■──┤ H ├┤ T ├┤ X ├┤ Tdg ├┤ H ├──■──┤ H ├─X─┤ H ├┤ X ├┤ H ├─┤ T ├─┤ H ├┤ X ├┤ H ├┤ H ├┤ H ├─────┤ X ├┤ H ├────────X─┤ H ├──■──┤ H ├┤ T ├┤ X ├┤ Tdg ├┤ H ├──■──┤ H ├─X─┤ H ├┤ X ├┤ H ├─┤ T ├─┤ H ├┤ X ├┤ H ├┤ H ├─░──╫────┤M├\n",
       "         ├───┤┌───┐ │ ├───┤└─────┘└───┘┌─┴─┐├───┤├───┤└───┘└─────┘└───┘┌─┴─┐├───┤ │ ├───┤├───┤├───┤ ├───┤ └───┘└───┘└───┘└───┘└───┘     └───┘└───┘          └───┘┌─┴─┐├───┤├───┤└───┘└─────┘└───┘┌─┴─┐├───┤ │ ├───┤├───┤├───┤ └───┘ └───┘└───┘└───┘└───┘ ░  ║ ┌─┐└╥┘\n",
       "q_2 -> 2 ┤ H ├┤ H ├─X─┤ H ├────────────┤ X ├┤ H ├┤ H ├─────────────────┤ X ├┤ H ├─X─┤ T ├┤ H ├┤ H ├─┤ H ├────────────────────────────────────────────────────────┤ X ├┤ H ├┤ H ├─────────────────┤ X ├┤ H ├─X─┤ T ├┤ H ├┤ H ├────────────────────────────░──╫─┤M├─╫─\n",
       "         └───┘└───┘   └───┘            └───┘└───┘└───┘                 └───┘└───┘   └───┘└───┘└───┘ └───┘                                                        └───┘└───┘└───┘                 └───┘└───┘   └───┘└───┘└───┘                            ░  ║ └╥┘ ║ \n",
       " meas: 3/═══════════════════════════════════════════════════════════════════════════════════════════════════════════════════════════════════════════════════════════════════════════════════════════════════════════════════════════════════════════════════╩══╩══╩═\n",
       "                                                                                                                                                                                                                                                            0  1  2 "
      ]
     },
     "execution_count": 177,
     "metadata": {},
     "output_type": "execute_result"
    }
   ],
   "source": [
    "transpiled = transpile(circuit,\n",
    "                       coupling_map=CouplingMap([(0,1),(1,2)]),\n",
    "                       initial_layout=[1, 0, 2])\n",
    "transpiled.draw(fold=-1)"
   ]
  },
  {
   "cell_type": "code",
   "execution_count": 178,
   "id": "3327d2f2",
   "metadata": {},
   "outputs": [],
   "source": [
    "# Set an initial_layout in the coupling map with basis gates"
   ]
  },
  {
   "cell_type": "code",
   "execution_count": 179,
   "id": "ebbf0b46",
   "metadata": {},
   "outputs": [
    {
     "data": {
      "text/html": [
       "<pre style=\"word-wrap: normal;white-space: pre;background: #fff0;line-height: 1.1;font-family: &quot;Courier New&quot;,Courier,monospace\">         ┌───┐     ┌───┐     ┌───┐                                                     ┌───┐                                       ┌───┐     ┌────────┐   ┌───┐   ┌───┐                                                          ┌───┐                                       ┌───┐     ┌────────┐   ┌───┐   ┌───┐      ░    ┌─┐   \n",
       "q_1 -> 0 ┤ H ├──■──┤ H ├──■──┤ H ├──■─────────────────────────────────────────────■────┤ H ├────────────────────────────────────■──┤ H ├──■──┤ P(π/4) ├───┤ H ├───┤ H ├─────────────────────────────────────────────────────■────┤ H ├────────────────────────────────────■──┤ H ├──■──┤ P(π/4) ├───┤ H ├───┤ H ├──────░────┤M├───\n",
       "         ├───┤┌─┴─┐├───┤┌─┴─┐├───┤┌─┴─┐                     ┌───┐     ┌───┐     ┌─┴─┐┌─┴───┴──┐┌───┐     ┌───┐┌─────────┐┌───┐┌─┴─┐├───┤┌─┴─┐└────────┘ ┌─┴───┴──┐└───┘┌───┐                          ┌───┐     ┌───┐     ┌─┴─┐┌─┴───┴──┐┌───┐     ┌───┐┌─────────┐┌───┐┌─┴─┐├───┤┌─┴─┐└────────┘ ┌─┴───┴──┐└───┘┌───┐ ░    └╥┘┌─┐\n",
       "q_0 -> 1 ┤ H ├┤ X ├┤ H ├┤ X ├┤ H ├┤ X ├──■───────────────■──┤ H ├──■──┤ H ├──■──┤ X ├┤ P(π/4) ├┤ H ├──■──┤ H ├┤ P(-π/4) ├┤ H ├┤ X ├┤ H ├┤ X ├────■──────┤ P(π/4) ├──■──┤ H ├───────■───────────────■──┤ H ├──■──┤ H ├──■──┤ X ├┤ P(π/4) ├┤ H ├──■──┤ H ├┤ P(-π/4) ├┤ H ├┤ X ├┤ H ├┤ X ├────■──────┤ P(π/4) ├──■──┤ H ├─░─────╫─┤M├\n",
       "         ├───┤├───┤└───┘└───┘└───┘└───┘┌─┴─┐┌─────────┐┌─┴─┐├───┤┌─┴─┐├───┤┌─┴─┐├───┤└────────┘└───┘┌─┴─┐├───┤└┬────────┤└───┘└───┘└───┘└───┘  ┌─┴─┐   ┌┴────────┤┌─┴─┐├───┤┌───┐┌─┴─┐┌─────────┐┌─┴─┐├───┤┌─┴─┐├───┤┌─┴─┐├───┤└────────┘└───┘┌─┴─┐├───┤└┬────────┤└───┘└───┘└───┘└───┘  ┌─┴─┐   ┌┴────────┤┌─┴─┐├───┤ ░ ┌─┐ ║ └╥┘\n",
       "q_2 -> 2 ┤ H ├┤ H ├────────────────────┤ X ├┤ P(-π/4) ├┤ X ├┤ H ├┤ X ├┤ H ├┤ X ├┤ H ├───────────────┤ X ├┤ H ├─┤ P(π/4) ├──────────────────────┤ X ├───┤ P(-π/4) ├┤ X ├┤ H ├┤ H ├┤ X ├┤ P(-π/4) ├┤ X ├┤ H ├┤ X ├┤ H ├┤ X ├┤ H ├───────────────┤ X ├┤ H ├─┤ P(π/4) ├──────────────────────┤ X ├───┤ P(-π/4) ├┤ X ├┤ H ├─░─┤M├─╫──╫─\n",
       "         └───┘└───┘                    └───┘└─────────┘└───┘└───┘└───┘└───┘└───┘└───┘               └───┘└───┘ └────────┘                      └───┘   └─────────┘└───┘└───┘└───┘└───┘└─────────┘└───┘└───┘└───┘└───┘└───┘└───┘               └───┘└───┘ └────────┘                      └───┘   └─────────┘└───┘└───┘ ░ └╥┘ ║  ║ \n",
       " meas: 3/═════════════════════════════════════════════════════════════════════════════════════════════════════════════════════════════════════════════════════════════════════════════════════════════════════════════════════════════════════════════════════════════════════════════════════════════════════════════════╩══╩══╩═\n",
       "                                                                                                                                                                                                                                                                                                                          0  1  2 </pre>"
      ],
      "text/plain": [
       "         ┌───┐     ┌───┐     ┌───┐                                                     ┌───┐                                       ┌───┐     ┌────────┐   ┌───┐   ┌───┐                                                          ┌───┐                                       ┌───┐     ┌────────┐   ┌───┐   ┌───┐      ░    ┌─┐   \n",
       "q_1 -> 0 ┤ H ├──■──┤ H ├──■──┤ H ├──■─────────────────────────────────────────────■────┤ H ├────────────────────────────────────■──┤ H ├──■──┤ P(π/4) ├───┤ H ├───┤ H ├─────────────────────────────────────────────────────■────┤ H ├────────────────────────────────────■──┤ H ├──■──┤ P(π/4) ├───┤ H ├───┤ H ├──────░────┤M├───\n",
       "         ├───┤┌─┴─┐├───┤┌─┴─┐├───┤┌─┴─┐                     ┌───┐     ┌───┐     ┌─┴─┐┌─┴───┴──┐┌───┐     ┌───┐┌─────────┐┌───┐┌─┴─┐├───┤┌─┴─┐└────────┘ ┌─┴───┴──┐└───┘┌───┐                          ┌───┐     ┌───┐     ┌─┴─┐┌─┴───┴──┐┌───┐     ┌───┐┌─────────┐┌───┐┌─┴─┐├───┤┌─┴─┐└────────┘ ┌─┴───┴──┐└───┘┌───┐ ░    └╥┘┌─┐\n",
       "q_0 -> 1 ┤ H ├┤ X ├┤ H ├┤ X ├┤ H ├┤ X ├──■───────────────■──┤ H ├──■──┤ H ├──■──┤ X ├┤ P(π/4) ├┤ H ├──■──┤ H ├┤ P(-π/4) ├┤ H ├┤ X ├┤ H ├┤ X ├────■──────┤ P(π/4) ├──■──┤ H ├───────■───────────────■──┤ H ├──■──┤ H ├──■──┤ X ├┤ P(π/4) ├┤ H ├──■──┤ H ├┤ P(-π/4) ├┤ H ├┤ X ├┤ H ├┤ X ├────■──────┤ P(π/4) ├──■──┤ H ├─░─────╫─┤M├\n",
       "         ├───┤├───┤└───┘└───┘└───┘└───┘┌─┴─┐┌─────────┐┌─┴─┐├───┤┌─┴─┐├───┤┌─┴─┐├───┤└────────┘└───┘┌─┴─┐├───┤└┬────────┤└───┘└───┘└───┘└───┘  ┌─┴─┐   ┌┴────────┤┌─┴─┐├───┤┌───┐┌─┴─┐┌─────────┐┌─┴─┐├───┤┌─┴─┐├───┤┌─┴─┐├───┤└────────┘└───┘┌─┴─┐├───┤└┬────────┤└───┘└───┘└───┘└───┘  ┌─┴─┐   ┌┴────────┤┌─┴─┐├───┤ ░ ┌─┐ ║ └╥┘\n",
       "q_2 -> 2 ┤ H ├┤ H ├────────────────────┤ X ├┤ P(-π/4) ├┤ X ├┤ H ├┤ X ├┤ H ├┤ X ├┤ H ├───────────────┤ X ├┤ H ├─┤ P(π/4) ├──────────────────────┤ X ├───┤ P(-π/4) ├┤ X ├┤ H ├┤ H ├┤ X ├┤ P(-π/4) ├┤ X ├┤ H ├┤ X ├┤ H ├┤ X ├┤ H ├───────────────┤ X ├┤ H ├─┤ P(π/4) ├──────────────────────┤ X ├───┤ P(-π/4) ├┤ X ├┤ H ├─░─┤M├─╫──╫─\n",
       "         └───┘└───┘                    └───┘└─────────┘└───┘└───┘└───┘└───┘└───┘└───┘               └───┘└───┘ └────────┘                      └───┘   └─────────┘└───┘└───┘└───┘└───┘└─────────┘└───┘└───┘└───┘└───┘└───┘└───┘               └───┘└───┘ └────────┘                      └───┘   └─────────┘└───┘└───┘ ░ └╥┘ ║  ║ \n",
       " meas: 3/═════════════════════════════════════════════════════════════════════════════════════════════════════════════════════════════════════════════════════════════════════════════════════════════════════════════════════════════════════════════════════════════════════════════════════════════════════════════════╩══╩══╩═\n",
       "                                                                                                                                                                                                                                                                                                                          0  1  2 "
      ]
     },
     "execution_count": 179,
     "metadata": {},
     "output_type": "execute_result"
    }
   ],
   "source": [
    "transpiled = transpile(circuit,\n",
    "                       coupling_map=CouplingMap([(0,1),(1,2)]),\n",
    "                       initial_layout=[1, 0, 2],\n",
    "                       basis_gates=['x', 'cx', 'h', 'p']\n",
    "                      )\n",
    "transpiled.draw(fold=-1)"
   ]
  },
  {
   "cell_type": "code",
   "execution_count": 180,
   "id": "c313cf0d",
   "metadata": {},
   "outputs": [
    {
     "data": {
      "text/plain": [
       "23"
      ]
     },
     "execution_count": 180,
     "metadata": {},
     "output_type": "execute_result"
    }
   ],
   "source": [
    "transpiled.count_ops()['cx']"
   ]
  },
  {
   "cell_type": "code",
   "execution_count": 181,
   "id": "e269c1f9",
   "metadata": {},
   "outputs": [],
   "source": [
    "# Plus optimization level"
   ]
  },
  {
   "cell_type": "code",
   "execution_count": 182,
   "id": "9728fcc6",
   "metadata": {},
   "outputs": [
    {
     "data": {
      "text/html": [
       "<pre style=\"word-wrap: normal;white-space: pre;background: #fff0;line-height: 1.1;font-family: &quot;Courier New&quot;,Courier,monospace\">global phase: 3.622\n",
       "         ┌────────┐┌─────────┐┌───┐┌─────────┐      ┌─────────┐      ┌─────────┐┌───┐┌─────────┐┌─────────┐            ┌────────┐       ┌─────────┐┌───┐┌─────────┐      ┌─────────┐      ┌─────────┐┌───┐┌─────────┐      ┌─────────┐                 ┌─────────┐       ┌─────────┐┌───┐┌─────────┐      ┌─────────┐      ┌─────────┐┌───┐┌─────────┐       ┌───────┐            ┌─────────────────────┐┌─────────┐┌───┐┌─────────┐        ┌──────┐       ┌─────────┐┌───┐┌─────────┐┌─────────────────────┐       ┌────────┐       ┌─────────┐┌───┐┌─────────┐┌─────────┐┌─────────┐┌───┐┌─────────┐      ┌─────────┐                                                                                                                                                                                                                                                     ┌────────┐       ┌─────────┐┌───┐┌─────────┐      ┌─────────┐      ┌─────────┐┌───┐┌─────────┐      ┌─────────┐                 ┌─────────┐       ┌─────────┐┌───┐┌─────────┐      ┌─────────┐      ┌─────────┐┌───┐┌─────────┐       ┌───────┐              ┌──────────────────────┐  ┌─────────┐┌───┐┌─────────┐┌─────────────────────┐┌─────────┐┌───┐┌─────────┐ ┌────────────────────┐┌────────┐┌─────────┐┌───┐┌─────────┐┌─────────┐┌─────────┐┌───┐┌─────────┐┌─────────┐                                                                                                                                                                                                                                                ┌────────┐       ┌─────────┐┌───┐┌─────────┐      ┌─────────┐      ┌─────────┐┌───┐┌─────────┐      ┌─────────┐                 ┌─────────┐       ┌─────────┐┌───┐┌─────────┐      ┌─────────┐      ┌─────────┐┌───┐┌─────────┐       ┌───────┐             ┌───────────────────────┐ ┌─────────┐┌───┐┌─────────┐┌─────────────────────┐┌─────────┐┌───┐┌─────────┐┌─────────────────────┐       ┌────────┐       ┌─────────┐┌───┐┌─────────┐┌─────────┐┌─────────┐┌───┐┌─────────┐     ┌─────────┐                                                                                                                                                                                                                                                       ┌────────┐       ┌─────────┐┌───┐┌─────────┐      ┌─────────┐      ┌─────────┐┌───┐┌─────────┐      ┌─────────┐                 ┌─────────┐       ┌─────────┐┌───┐┌─────────┐      ┌─────────┐      ┌─────────┐┌───┐┌─────────┐       ┌───────┐            ┌───────────────────────┐┌─────────┐┌───┐┌─────────┐┌─────────────────────┐┌─────────┐┌───┐┌─────────┐┌─────────────────────┐                                                                                                                                                                                                                                                                                                                              ┌─────────┐        ┌─────────┐┌───┐┌─────────┐      ┌─────────┐      ┌─────────┐┌───┐┌─────────┐       ┌───────┐            ┌─────────┐┌─────────┐┌───┐┌─────────┐      ┌─────────┐      ┌─────────┐┌───┐┌─────────┐┌─────────┐                                   ┌───┐┌────────┐┌───┐               ┌───┐┌─────────┐┌───┐                              ┌───┐┌────────┐                      ░    ┌─┐   \n",
       "q_1 -> 0 ┤ P(0.0) ├┤ P(-π/2) ├┤ H ├┤ P(-π/2) ├──────┤ P(3π/2) ├──────┤ P(-π/2) ├┤ H ├┤ P(-π/2) ├┤ P(7π/2) ├──■─────────┤ P(π/2) ├───────┤ P(-π/2) ├┤ H ├┤ P(-π/2) ├──────┤ P(3π/2) ├──────┤ P(-π/2) ├┤ H ├┤ P(-π/2) ├──────┤ P(5π/2) ├────────■────────┤ P(-π/2) ├───────┤ P(-π/2) ├┤ H ├┤ P(-π/2) ├──────┤ P(3π/2) ├──────┤ P(-π/2) ├┤ H ├┤ P(-π/2) ├───────┤ P(3π) ├─────────■──┤ P(2.55359005004222) ├┤ P(-π/2) ├┤ H ├┤ P(-π/2) ├────────┤ P(π) ├───────┤ P(-π/2) ├┤ H ├┤ P(-π/2) ├┤ P(10.0127805643169) ├───────┤ P(0.0) ├───────┤ P(-π/2) ├┤ H ├┤ P(-π/2) ├┤ P(3π/2) ├┤ P(-π/2) ├┤ H ├┤ P(-π/2) ├──────┤ P(7π/2) ├───────────────────────────────────────────────────────────────────────────────────────────────────────────────────────────────────────────────────────────────────────────────────────────────────────────────────────────────────────────■─────────┤ P(π/2) ├───────┤ P(-π/2) ├┤ H ├┤ P(-π/2) ├──────┤ P(3π/2) ├──────┤ P(-π/2) ├┤ H ├┤ P(-π/2) ├──────┤ P(5π/2) ├────────■────────┤ P(-π/2) ├───────┤ P(-π/2) ├┤ H ├┤ P(-π/2) ├──────┤ P(3π/2) ├──────┤ P(-π/2) ├┤ H ├┤ P(-π/2) ├───────┤ P(3π) ├─────────■────┤ P(-1.70834630517445) ├──┤ P(-π/2) ├┤ H ├┤ P(-π/2) ├┤ P(4.65054967478377) ├┤ P(-π/2) ├┤ H ├┤ P(-π/2) ├─┤ P(11.066556102168) ├┤ P(0.0) ├┤ P(-π/2) ├┤ H ├┤ P(-π/2) ├┤ P(3π/2) ├┤ P(-π/2) ├┤ H ├┤ P(-π/2) ├┤ P(7π/2) ├──────────────────────────────────────────────────────────────────────────────────────────────────────────────────────────────────────────────────────────────────────────────────────────────────────────────────────────────────────■─────────┤ P(π/2) ├───────┤ P(-π/2) ├┤ H ├┤ P(-π/2) ├──────┤ P(3π/2) ├──────┤ P(-π/2) ├┤ H ├┤ P(-π/2) ├──────┤ P(5π/2) ├────────■────────┤ P(-π/2) ├───────┤ P(-π/2) ├┤ H ├┤ P(-π/2) ├──────┤ P(3π/2) ├──────┤ P(-π/2) ├┤ H ├┤ P(-π/2) ├───────┤ P(3π) ├─────────■───┤ P(-0.128995593023095) ├─┤ P(-π/2) ├┤ H ├┤ P(-π/2) ├┤ P(4.57510358656354) ├┤ P(-π/2) ├┤ H ├┤ P(-π/2) ├┤ P(9.29578236774628) ├───────┤ P(0.0) ├───────┤ P(-π/2) ├┤ H ├┤ P(-π/2) ├┤ P(3π/2) ├┤ P(-π/2) ├┤ H ├┤ P(-π/2) ├─────┤ P(7π/2) ├─────────────────────────────────────────────────────────────────────────────────────────────────────────────────────────────────────────────────────────────────────────────────────────────────────────────────────────────────────────────■─────────┤ P(π/2) ├───────┤ P(-π/2) ├┤ H ├┤ P(-π/2) ├──────┤ P(3π/2) ├──────┤ P(-π/2) ├┤ H ├┤ P(-π/2) ├──────┤ P(5π/2) ├────────■────────┤ P(-π/2) ├───────┤ P(-π/2) ├┤ H ├┤ P(-π/2) ├──────┤ P(3π/2) ├──────┤ P(-π/2) ├┤ H ├┤ P(-π/2) ├───────┤ P(3π) ├─────────■──┤ P(-0.712452909500463) ├┤ P(-π/2) ├┤ H ├┤ P(-π/2) ├┤ P(6.03984286001465) ├┤ P(-π/2) ├┤ H ├┤ P(-π/2) ├┤ P(12.0543872339443) ├───────────────────────────────────────────────────────────────────────────────────────────────────────────────────────────────────────────────────────────────────────────────────────────────────────────────────────────────────────────────────────────────────────────────────────────────────────────────────■──────────┤ P(-π/2) ├────────┤ P(-π/2) ├┤ H ├┤ P(-π/2) ├──────┤ P(7π/4) ├──────┤ P(-π/2) ├┤ H ├┤ P(-π/2) ├───────┤ P(2π) ├─────────■──┤ P(-π/2) ├┤ P(-π/2) ├┤ H ├┤ P(-π/2) ├──────┤ P(7π/4) ├──────┤ P(-π/2) ├┤ H ├┤ P(-π/2) ├┤ P(5π/2) ├────────────────────────────────■──┤ H ├┤ P(π/4) ├┤ H ├────────────■──┤ H ├┤ P(-π/4) ├┤ H ├───────────────────────────■──┤ H ├┤ P(π/4) ├──────────────────────░────┤M├───\n",
       "         ├───────┬┘├─────────┤├───┤├─────────┤┌─────┴─────────┴─────┐├─────────┤├───┤├─────────┤├─────────┤┌─┴─┐┌──────┴────────┴──────┐├─────────┤├───┤├─────────┤┌─────┴─────────┴─────┐├─────────┤├───┤├─────────┤┌─────┴─────────┴─────┐┌─┴─┐┌─────┴─────────┴──────┐├─────────┤├───┤├─────────┤┌─────┴─────────┴─────┐├─────────┤├───┤├─────────┤┌──────┴───────┴──────┐┌─┴─┐└──────┬────────┬─────┘├─────────┤├───┤├─────────┤┌───────┴──────┴──────┐├─────────┤├───┤├─────────┤└─────┬─────────┬─────┘┌──────┴────────┴──────┐├─────────┤├───┤├─────────┤└┬───────┬┘├─────────┤├───┤├─────────┤┌─────┴─────────┴─────┐     ┌──────────────────────┐┌─────────┐┌───┐┌─────────┐┌─────────────────────┐┌─────────┐┌───┐┌─────────┐┌─────────────────────┐┌───────┐ ┌─────────┐┌───┐┌─────────┐┌─────────────────────┐┌─────────┐┌───┐┌─────────┐┌─────────┐┌─┴─┐┌──────┴────────┴──────┐├─────────┤├───┤├─────────┤┌─────┴─────────┴─────┐├─────────┤├───┤├─────────┤┌─────┴─────────┴─────┐┌─┴─┐┌─────┴─────────┴──────┐├─────────┤├───┤├─────────┤┌─────┴─────────┴─────┐├─────────┤├───┤├─────────┤┌──────┴───────┴──────┐┌─┴─┐┌─┴──────────────────────┴─┐├─────────┤├───┤├─────────┤└─────┬─────────┬─────┘├─────────┤├───┤├─────────┤┌┴────────────────────┤├───────┬┘├─────────┤├───┤├─────────┤└─┬──────┬┘├─────────┤├───┤├─────────┤└┬───────┬┘     ┌──────────────────────┐┌─────────┐┌───┐┌─────────┐┌─────────────────────┐┌─────────┐┌───┐┌─────────┐ ┌────────────────────┐ ┌───────┐ ┌─────────┐┌───┐┌─────────┐┌─────────────────────┐┌─────────┐┌───┐┌─────────┐┌─────────┐┌─┴─┐┌──────┴────────┴──────┐├─────────┤├───┤├─────────┤┌─────┴─────────┴─────┐├─────────┤├───┤├─────────┤┌─────┴─────────┴─────┐┌─┴─┐┌─────┴─────────┴──────┐├─────────┤├───┤├─────────┤┌─────┴─────────┴─────┐├─────────┤├───┤├─────────┤┌──────┴───────┴──────┐┌─┴─┐┌┴───────────────────────┴┐├─────────┤├───┤├─────────┤└─────┬─────────┬─────┘├─────────┤├───┤├─────────┤├─────────────────────┤┌──────┴────────┴──────┐├─────────┤├───┤├─────────┤└┬───────┬┘├─────────┤├───┤├─────────┤┌────┴─────────┴─────┐     ┌───────────────────────┐┌─────────┐┌───┐┌─────────┐ ┌────────────────────┐┌─────────┐┌───┐┌─────────┐┌─────────────────────┐ ┌───────┐ ┌─────────┐┌───┐┌─────────┐┌─────────────────────┐┌─────────┐┌───┐┌─────────┐┌─────────┐┌─┴─┐┌──────┴────────┴──────┐├─────────┤├───┤├─────────┤┌─────┴─────────┴─────┐├─────────┤├───┤├─────────┤┌─────┴─────────┴─────┐┌─┴─┐┌─────┴─────────┴──────┐├─────────┤├───┤├─────────┤┌─────┴─────────┴─────┐├─────────┤├───┤├─────────┤┌──────┴───────┴──────┐┌─┴─┐└───────┬────────┬──────┘├─────────┤├───┤├─────────┤├─────────────────────┤├─────────┤├───┤├─────────┤└──────┬───────┬──────┘┌───────┐┌─────────┐┌───┐┌─────────┐┌──────┐┌─────────┐┌───┐┌─────────┐┌───────┐     ┌─────────────────────┐┌─────────┐┌───┐┌─────────┐      ┌─────────┐      ┌─────────┐┌───┐┌─────────┐ ┌───────┐  ┌─────────────────────┐┌─────────┐┌───┐┌─────────┐┌──────┐┌─────────┐┌───┐┌─────────┐┌─────────────────────┐┌─┴─┐┌───────┴─────────┴───────┐├─────────┤├───┤├─────────┤┌─────┴─────────┴─────┐├─────────┤├───┤├─────────┤┌──────┴───────┴──────┐┌─┴─┐└┬────────┤├─────────┤├───┤├─────────┤┌─────┴─────────┴─────┐├─────────┤├───┤├─────────┤└┬───────┬┘     ┌───┐     ┌───┐     ┌───┐┌─┴─┐└───┘└─┬───┬──┘└───┘┌───┐     ┌─┴─┐├───┤└┬────────┤└───┘┌───┐     ┌───┐     ┌───┐┌─┴─┐├───┤└────────┘ ┌────────┐     ┌───┐ ░    └╥┘┌─┐\n",
       "q_0 -> 1 ┤ P(-π) ├─┤ P(-π/2) ├┤ H ├┤ P(-π/2) ├┤ P(4.77895714416051) ├┤ P(-π/2) ├┤ H ├┤ P(-π/2) ├┤ P(7π/2) ├┤ X ├┤ P(-3.07517149405071) ├┤ P(-π/2) ├┤ H ├┤ P(-π/2) ├┤ P(4.70796418718496) ├┤ P(-π/2) ├┤ H ├┤ P(-π/2) ├┤ P(6.34960646671867) ├┤ X ├┤ P(-1.63751181823046) ├┤ P(-π/2) ├┤ H ├┤ P(-π/2) ├┤ P(4.64596847202556) ├┤ P(-π/2) ├┤ H ├┤ P(-π/2) ├┤ P(9.42921253240149) ├┤ X ├───────┤ P(π/2) ├──────┤ P(-π/2) ├┤ H ├┤ P(-π/2) ├┤ P(4.77895714416051) ├┤ P(-π/2) ├┤ H ├┤ P(-π/2) ├──────┤ P(5π/2) ├──────┤ P(-2.84403484267763) ├┤ P(-π/2) ├┤ H ├┤ P(-π/2) ├─┤ P(2π) ├─┤ P(-π/2) ├┤ H ├┤ P(-π/2) ├┤ P(9.72233577168154) ├──■──┤ P(-2.65071017606403) ├┤ P(-π/2) ├┤ H ├┤ P(-π/2) ├┤ P(6.13245394896806) ├┤ P(-π/2) ├┤ H ├┤ P(-π/2) ├┤ P(8.27814336427716) ├┤ P(-π) ├─┤ P(-π/2) ├┤ H ├┤ P(-π/2) ├┤ P(4.77895714416051) ├┤ P(-π/2) ├┤ H ├┤ P(-π/2) ├┤ P(7π/2) ├┤ X ├┤ P(-3.07517149405071) ├┤ P(-π/2) ├┤ H ├┤ P(-π/2) ├┤ P(4.70796418718496) ├┤ P(-π/2) ├┤ H ├┤ P(-π/2) ├┤ P(6.34960646671867) ├┤ X ├┤ P(-1.63751181823046) ├┤ P(-π/2) ├┤ H ├┤ P(-π/2) ├┤ P(4.64596847202556) ├┤ P(-π/2) ├┤ H ├┤ P(-π/2) ├┤ P(9.42921253240149) ├┤ X ├┤ P(-4.44089209850063e-16) ├┤ P(-π/2) ├┤ H ├┤ P(-π/2) ├──────┤ P(3π/2) ├──────┤ P(-π/2) ├┤ H ├┤ P(-π/2) ├┤ P(9.35820979699356) ├┤ P(-π) ├─┤ P(-π/2) ├┤ H ├┤ P(-π/2) ├──┤ P(π) ├─┤ P(-π/2) ├┤ H ├┤ P(-π/2) ├─┤ P(2π) ├───■──┤ P(0.720890083958762) ├┤ P(-π/2) ├┤ H ├┤ P(-π/2) ├┤ P(3.33586922339811) ├┤ P(-π/2) ├┤ H ├┤ P(-π/2) ├─┤ P(11.716464371523) ├─┤ P(-π) ├─┤ P(-π/2) ├┤ H ├┤ P(-π/2) ├┤ P(4.77895714416051) ├┤ P(-π/2) ├┤ H ├┤ P(-π/2) ├┤ P(7π/2) ├┤ X ├┤ P(-3.07517149405071) ├┤ P(-π/2) ├┤ H ├┤ P(-π/2) ├┤ P(4.70796418718496) ├┤ P(-π/2) ├┤ H ├┤ P(-π/2) ├┤ P(6.34960646671867) ├┤ X ├┤ P(-1.63751181823046) ├┤ P(-π/2) ├┤ H ├┤ P(-π/2) ├┤ P(4.64596847202556) ├┤ P(-π/2) ├┤ H ├┤ P(-π/2) ├┤ P(9.42921253240149) ├┤ X ├┤ P(4.44089209850063e-16) ├┤ P(-π/2) ├┤ H ├┤ P(-π/2) ├──────┤ P(3π/2) ├──────┤ P(-π/2) ├┤ H ├┤ P(-π/2) ├┤ P(7.78741347019866) ├┤ P(-1.73500968299816) ├┤ P(-π/2) ├┤ H ├┤ P(-π/2) ├─┤ P(2π) ├─┤ P(-π/2) ├┤ H ├┤ P(-π/2) ├┤ P(10.831360931361) ├──■──┤ P(-0.946282573752005) ├┤ P(-π/2) ├┤ H ├┤ P(-π/2) ├─┤ P(4.8957547376936) ├┤ P(-π/2) ├┤ H ├┤ P(-π/2) ├┤ P(10.7802812268855) ├─┤ P(-π) ├─┤ P(-π/2) ├┤ H ├┤ P(-π/2) ├┤ P(4.77895714416051) ├┤ P(-π/2) ├┤ H ├┤ P(-π/2) ├┤ P(7π/2) ├┤ X ├┤ P(-3.07517149405071) ├┤ P(-π/2) ├┤ H ├┤ P(-π/2) ├┤ P(4.70796418718496) ├┤ P(-π/2) ├┤ H ├┤ P(-π/2) ├┤ P(6.34960646671867) ├┤ X ├┤ P(-1.63751181823046) ├┤ P(-π/2) ├┤ H ├┤ P(-π/2) ├┤ P(4.64596847202556) ├┤ P(-π/2) ├┤ H ├┤ P(-π/2) ├┤ P(9.42921253240149) ├┤ X ├────────┤ P(π/2) ├───────┤ P(-π/2) ├┤ H ├┤ P(-π/2) ├┤ P(3.20816081736561) ├┤ P(-π/2) ├┤ H ├┤ P(-π/2) ├───────┤ P(3π) ├───────┤ P(-π) ├┤ P(-π/2) ├┤ H ├┤ P(-π/2) ├┤ P(π) ├┤ P(-π/2) ├┤ H ├┤ P(-π/2) ├┤ P(2π) ├──■──┤ P(2.28962632641652) ├┤ P(-π/2) ├┤ H ├┤ P(-π/2) ├──────┤ P(3π/2) ├──────┤ P(-π/2) ├┤ H ├┤ P(-π/2) ├─┤ P(3π) ├──┤ P(1.80958582064431) ├┤ P(-π/2) ├┤ H ├┤ P(-π/2) ├┤ P(π) ├┤ P(-π/2) ├┤ H ├┤ P(-π/2) ├┤ P(7.61519214012507) ├┤ X ├┤ P(-0.00443457163211036) ├┤ P(-π/2) ├┤ H ├┤ P(-π/2) ├┤ P(4.77880948874382) ├┤ P(-π/2) ├┤ H ├┤ P(-π/2) ├┤ P(10.9288587961287) ├┤ X ├─┤ P(π/2) ├┤ P(-π/2) ├┤ H ├┤ P(-π/2) ├┤ P(4.77895714416051) ├┤ P(-π/2) ├┤ H ├┤ P(-π/2) ├─┤ P(2π) ├───■──┤ H ├──■──┤ H ├──■──┤ H ├┤ X ├──■────┤ H ├─────■──┤ H ├──■──┤ X ├┤ H ├─┤ P(π/4) ├──■──┤ H ├──■──┤ H ├──■──┤ H ├┤ X ├┤ H ├────■──────┤ P(π/4) ├──■──┤ H ├─░─────╫─┤M├\n",
       "         ├───────┴┐├─────────┤├───┤├─────────┤├─────────────────────┤├─────────┤├───┤├─────────┤├─────────┤└───┘└──────────────────────┘└─────────┘└───┘└─────────┘└─────────────────────┘└─────────┘└───┘└─────────┘└─────────────────────┘└───┘└──────────────────────┘└─────────┘└───┘└─────────┘└─────────────────────┘└─────────┘└───┘└─────────┘└─────────────────────┘└───┘       └────────┘      └─────────┘└───┘└─────────┘└─────────────────────┘└─────────┘└───┘└─────────┘      └─────────┘      └──────────────────────┘└─────────┘└───┘└─────────┘ └───────┘ └─────────┘└───┘└─────────┘└─────────────────────┘┌─┴─┐├─────────────────────┬┘├─────────┤├───┤├─────────┤└┬────────────────────┤├─────────┤├───┤├─────────┤├─────────────────────┤├───────┴┐├─────────┤├───┤├─────────┤├─────────────────────┤├─────────┤├───┤├─────────┤├─────────┤└───┘└──────────────────────┘└─────────┘└───┘└─────────┘└─────────────────────┘└─────────┘└───┘└─────────┘└─────────────────────┘└───┘└──────────────────────┘└─────────┘└───┘└─────────┘└─────────────────────┘└─────────┘└───┘└─────────┘└─────────────────────┘└───┘└──────────────────────────┘└─────────┘└───┘└─────────┘      └─────────┘      └─────────┘└───┘└─────────┘└─────────────────────┘└───────┘ └─────────┘└───┘└─────────┘  └──────┘ └─────────┘└───┘└─────────┘ └───────┘ ┌─┴─┐├──────────────────────┤├─────────┤├───┤├─────────┤├─────────────────────┤├─────────┤├───┤├─────────┤┌┴────────────────────┤┌┴───────┴┐├─────────┤├───┤├─────────┤├─────────────────────┤├─────────┤├───┤├─────────┤├─────────┤└───┘└──────────────────────┘└─────────┘└───┘└─────────┘└─────────────────────┘└─────────┘└───┘└─────────┘└─────────────────────┘└───┘└──────────────────────┘└─────────┘└───┘└─────────┘└─────────────────────┘└─────────┘└───┘└─────────┘└─────────────────────┘└───┘└─────────────────────────┘└─────────┘└───┘└─────────┘      └─────────┘      └─────────┘└───┘└─────────┘└─────────────────────┘└──────────────────────┘└─────────┘└───┘└─────────┘ └───────┘ └─────────┘└───┘└─────────┘└────────────────────┘┌─┴─┐├───────────────────────┤├─────────┤├───┤├─────────┤┌┴────────────────────┤├─────────┤├───┤├─────────┤├─────────────────────┤┌┴───────┴┐├─────────┤├───┤├─────────┤├─────────────────────┤├─────────┤├───┤├─────────┤├─────────┤└───┘└──────────────────────┘└─────────┘└───┘└─────────┘└─────────────────────┘└─────────┘└───┘└─────────┘└─────────────────────┘└───┘└──────────────────────┘└─────────┘└───┘└─────────┘└─────────────────────┘└─────────┘└───┘└─────────┘└─────────────────────┘└───┘        └────────┘       └─────────┘└───┘└─────────┘└─────────────────────┘└─────────┘└───┘└─────────┘       └───────┘       └───────┘└─────────┘└───┘└─────────┘└──────┘└─────────┘└───┘└─────────┘└───────┘┌─┴─┐└──────┬────────┬─────┘├─────────┤├───┤├─────────┤┌─────┴─────────┴─────┐├─────────┤├───┤├─────────┤┌┴───────┴─┐└─────────────────────┘└─────────┘└───┘└─────────┘└──────┘└─────────┘└───┘└─────────┘└─────────────────────┘└───┘└─────────────────────────┘└─────────┘└───┘└─────────┘└─────────────────────┘└─────────┘└───┘└─────────┘└─────────────────────┘└───┘ └────────┘└─────────┘└───┘└─────────┘└─────────────────────┘└─────────┘└───┘└─────────┘ └───────┘ ┌─┴─┐├───┤┌─┴─┐├───┤┌─┴─┐├───┤└───┘┌─┴─┐  ├───┤   ┌─┴─┐├───┤┌─┴─┐├───┤└───┘ └────────┘┌─┴─┐├───┤┌─┴─┐├───┤┌─┴─┐└───┘└───┘└───┘  ┌─┴─┐   ┌┴────────┤┌─┴─┐├───┤ ░ ┌─┐ ║ └╥┘\n",
       "q_2 -> 2 ┤ P(π/2) ├┤ P(-π/2) ├┤ H ├┤ P(-π/2) ├┤ P(3.76656390823947) ├┤ P(-π/2) ├┤ H ├┤ P(-π/2) ├┤ P(7π/2) ├──────────────────────────────────────────────────────────────────────────────────────────────────────────────────────────────────────────────────────────────────────────────────────────────────────────────────────────────────────────────────────────────────────────────────────────────────────────────────────────────────────────────────────────────────────────────────────────────────────────────────────────────────────────────────────────────────────────────────────────────────────────────────┤ X ├┤ P(2.24163662919662) ├─┤ P(-π/2) ├┤ H ├┤ P(-π/2) ├─┤ P(4.6891553743391) ├┤ P(-π/2) ├┤ H ├┤ P(-π/2) ├┤ P(11.4222221096246) ├┤ P(π/2) ├┤ P(-π/2) ├┤ H ├┤ P(-π/2) ├┤ P(3.30058667798127) ├┤ P(-π/2) ├┤ H ├┤ P(-π/2) ├┤ P(7π/2) ├─────────────────────────────────────────────────────────────────────────────────────────────────────────────────────────────────────────────────────────────────────────────────────────────────────────────────────────────────────────────────────────────────────────────────────────────────────────────────────────────────────────────────────────────────────────────────────────────────────────────────────────────────────────────────────────────────────────────────────────────┤ X ├┤ P(0.829262316271711) ├┤ P(-π/2) ├┤ H ├┤ P(-π/2) ├┤ P(4.43512513298352) ├┤ P(-π/2) ├┤ H ├┤ P(-π/2) ├┤ P(11.6173533601044) ├┤ P(-π/2) ├┤ P(-π/2) ├┤ H ├┤ P(-π/2) ├┤ P(5.49309665010892) ├┤ P(-π/2) ├┤ H ├┤ P(-π/2) ├┤ P(7π/2) ├─────────────────────────────────────────────────────────────────────────────────────────────────────────────────────────────────────────────────────────────────────────────────────────────────────────────────────────────────────────────────────────────────────────────────────────────────────────────────────────────────────────────────────────────────────────────────────────────────────────────────────────────────────────────────────────────────────────────────────────────────────────────────────┤ X ├┤ P(0.0793974862321627) ├┤ P(-π/2) ├┤ H ├┤ P(-π/2) ├┤ P(5.51889446107598) ├┤ P(-π/2) ├┤ H ├┤ P(-π/2) ├┤ P(9.75073032732052) ├┤ P(-π/2) ├┤ P(-π/2) ├┤ H ├┤ P(-π/2) ├┤ P(5.57918086439534) ├┤ P(-π/2) ├┤ H ├┤ P(-π/2) ├┤ P(7π/2) ├────────────────────────────────────────────────────────────────────────────────────────────────────────────────────────────────────────────────────────────────────────────────────────────────────────────────────────────────────────────────────────────────────────────────────────────────────────────────────────────────────────────────────────────────────────────────────────────────────────────────────────────────────────────────────────────────────────────────────┤ X ├───────┤ P(π/2) ├──────┤ P(-π/2) ├┤ H ├┤ P(-π/2) ├┤ P(4.22979640452201) ├┤ P(-π/2) ├┤ H ├┤ P(-π/2) ├┤ P(15π/4) ├────────────────────────────────────────────────────────────────────────────────────────────────────────────────────────────────────────────────────────────────────────────────────────────────────────────────────────────────────────────────────────────────────────────────────────────────────────────────────────────────────────────────────────┤ X ├┤ H ├┤ X ├┤ H ├┤ X ├┤ H ├─────┤ X ├──┤ H ├───┤ X ├┤ H ├┤ X ├┤ H ├────────────────┤ X ├┤ H ├┤ X ├┤ H ├┤ X ├─────────────────┤ X ├───┤ P(-π/4) ├┤ X ├┤ H ├─░─┤M├─╫──╫─\n",
       "         └────────┘└─────────┘└───┘└─────────┘└─────────────────────┘└─────────┘└───┘└─────────┘└─────────┘                                                                                                                                                                                                                                                                                                                                                                                                                                                                                                                  └───┘└─────────────────────┘ └─────────┘└───┘└─────────┘ └────────────────────┘└─────────┘└───┘└─────────┘└─────────────────────┘└────────┘└─────────┘└───┘└─────────┘└─────────────────────┘└─────────┘└───┘└─────────┘└─────────┘                                                                                                                                                                                                                                                                                                                                                                                                                                                                                             └───┘└──────────────────────┘└─────────┘└───┘└─────────┘└─────────────────────┘└─────────┘└───┘└─────────┘└─────────────────────┘└─────────┘└─────────┘└───┘└─────────┘└─────────────────────┘└─────────┘└───┘└─────────┘└─────────┘                                                                                                                                                                                                                                                                                                                                                                                                                                                                                                                     └───┘└───────────────────────┘└─────────┘└───┘└─────────┘└─────────────────────┘└─────────┘└───┘└─────────┘└─────────────────────┘└─────────┘└─────────┘└───┘└─────────┘└─────────────────────┘└─────────┘└───┘└─────────┘└─────────┘                                                                                                                                                                                                                                                                                                                                                                                                                                                                                    └───┘       └────────┘      └─────────┘└───┘└─────────┘└─────────────────────┘└─────────┘└───┘└─────────┘└──────────┘                                                                                                                                                                                                                                                                                                                                                        └───┘└───┘└───┘└───┘└───┘└───┘     └───┘  └───┘   └───┘└───┘└───┘└───┘                └───┘└───┘└───┘└───┘└───┘                 └───┘   └─────────┘└───┘└───┘ ░ └╥┘ ║  ║ \n",
       " meas: 3/════════════════════════════════════════════════════════════════════════════════════════════════════════════════════════════════════════════════════════════════════════════════════════════════════════════════════════════════════════════════════════════════════════════════════════════════════════════════════════════════════════════════════════════════════════════════════════════════════════════════════════════════════════════════════════════════════════════════════════════════════════════════════════════════════════════════════════════════════════════════════════════════════════════════════════════════════════════════════════════════════════════════════════════════════════════════════════════════════════════════════════════════════════════════════════════════════════════════════════════════════════════════════════════════════════════════════════════════════════════════════════════════════════════════════════════════════════════════════════════════════════════════════════════════════════════════════════════════════════════════════════════════════════════════════════════════════════════════════════════════════════════════════════════════════════════════════════════════════════════════════════════════════════════════════════════════════════════════════════════════════════════════════════════════════════════════════════════════════════════════════════════════════════════════════════════════════════════════════════════════════════════════════════════════════════════════════════════════════════════════════════════════════════════════════════════════════════════════════════════════════════════════════════════════════════════════════════════════════════════════════════════════════════════════════════════════════════════════════════════════════════════════════════════════════════════════════════════════════════════════════════════════════════════════════════════════════════════════════════════════════════════════════════════════════════════════════════════════════════════════════════════════════════════════════════════════════════════════════════════════════════════════════════════════════════════════════════════════════════════════════════════════════════════════════════════════════════════════════════════════════════════════════════════════════════════════════════════════════════════════════════════════════════════════════════════════════════════════════════════════════════════════════════════════════════════════════════════════════════════════════════════════════════════════════════════════════════════════════════════════════════════════════════════════════════════════════════════════════════════════════════════════════════════════════════════════════════════════════════════════════════════════════════════════════════════════════════════════════════════════════════════════════════════════════════════════════════════════════════════════════════════════════════════════════════════════════════════════════════════════════════════════════════════════════════════════════════════════════════════════════════════════════════════════════════════════════════════════════════════════════════════════════════════════════════════════════════════════════════════════════════════════════════════════════════════════════════════════════════════════════════════════════════════════════════════════════════════════════╩══╩══╩═\n",
       "                                                                                                                                                                                                                                                                                                                                                                                                                                                                                                                                                                                                                                                                                                                                                                                                                                                                                                                                                                                                                                                                                                                                                                                                                                                                                                                                                                                                                                                                                                                                                                                                                                                                                                                                                                                                                                                                                                                                                                                                                                                                                                                                                                                                                                                                                                                                                                                                                                                                                                                                                                                                                                                                                                                                                                                                                                                                                                                                                                                                                                                                                                                                                                                                                                                                                                                                                                                                                                                                                             0  1  2 </pre>"
      ],
      "text/plain": [
       "global phase: 3.622\n",
       "         ┌────────┐┌─────────┐┌───┐┌─────────┐      ┌─────────┐      ┌─────────┐┌───┐┌─────────┐┌─────────┐            ┌────────┐       ┌─────────┐┌───┐┌─────────┐      ┌─────────┐      ┌─────────┐┌───┐┌─────────┐      ┌─────────┐                 ┌─────────┐       ┌─────────┐┌───┐┌─────────┐      ┌─────────┐      ┌─────────┐┌───┐┌─────────┐       ┌───────┐            ┌─────────────────────┐┌─────────┐┌───┐┌─────────┐        ┌──────┐       ┌─────────┐┌───┐┌─────────┐┌─────────────────────┐       ┌────────┐       ┌─────────┐┌───┐┌─────────┐┌─────────┐┌─────────┐┌───┐┌─────────┐      ┌─────────┐                                                                                                                                                                                                                                                     ┌────────┐       ┌─────────┐┌───┐┌─────────┐      ┌─────────┐      ┌─────────┐┌───┐┌─────────┐      ┌─────────┐                 ┌─────────┐       ┌─────────┐┌───┐┌─────────┐      ┌─────────┐      ┌─────────┐┌───┐┌─────────┐       ┌───────┐              ┌──────────────────────┐  ┌─────────┐┌───┐┌─────────┐┌─────────────────────┐┌─────────┐┌───┐┌─────────┐ ┌────────────────────┐┌────────┐┌─────────┐┌───┐┌─────────┐┌─────────┐┌─────────┐┌───┐┌─────────┐┌─────────┐                                                                                                                                                                                                                                                ┌────────┐       ┌─────────┐┌───┐┌─────────┐      ┌─────────┐      ┌─────────┐┌───┐┌─────────┐      ┌─────────┐                 ┌─────────┐       ┌─────────┐┌───┐┌─────────┐      ┌─────────┐      ┌─────────┐┌───┐┌─────────┐       ┌───────┐             ┌───────────────────────┐ ┌─────────┐┌───┐┌─────────┐┌─────────────────────┐┌─────────┐┌───┐┌─────────┐┌─────────────────────┐       ┌────────┐       ┌─────────┐┌───┐┌─────────┐┌─────────┐┌─────────┐┌───┐┌─────────┐     ┌─────────┐                                                                                                                                                                                                                                                       ┌────────┐       ┌─────────┐┌───┐┌─────────┐      ┌─────────┐      ┌─────────┐┌───┐┌─────────┐      ┌─────────┐                 ┌─────────┐       ┌─────────┐┌───┐┌─────────┐      ┌─────────┐      ┌─────────┐┌───┐┌─────────┐       ┌───────┐            ┌───────────────────────┐┌─────────┐┌───┐┌─────────┐┌─────────────────────┐┌─────────┐┌───┐┌─────────┐┌─────────────────────┐                                                                                                                                                                                                                                                                                                                              ┌─────────┐        ┌─────────┐┌───┐┌─────────┐      ┌─────────┐      ┌─────────┐┌───┐┌─────────┐       ┌───────┐            ┌─────────┐┌─────────┐┌───┐┌─────────┐      ┌─────────┐      ┌─────────┐┌───┐┌─────────┐┌─────────┐                                   ┌───┐┌────────┐┌───┐               ┌───┐┌─────────┐┌───┐                              ┌───┐┌────────┐                      ░    ┌─┐   \n",
       "q_1 -> 0 ┤ P(0.0) ├┤ P(-π/2) ├┤ H ├┤ P(-π/2) ├──────┤ P(3π/2) ├──────┤ P(-π/2) ├┤ H ├┤ P(-π/2) ├┤ P(7π/2) ├──■─────────┤ P(π/2) ├───────┤ P(-π/2) ├┤ H ├┤ P(-π/2) ├──────┤ P(3π/2) ├──────┤ P(-π/2) ├┤ H ├┤ P(-π/2) ├──────┤ P(5π/2) ├────────■────────┤ P(-π/2) ├───────┤ P(-π/2) ├┤ H ├┤ P(-π/2) ├──────┤ P(3π/2) ├──────┤ P(-π/2) ├┤ H ├┤ P(-π/2) ├───────┤ P(3π) ├─────────■──┤ P(2.55359005004222) ├┤ P(-π/2) ├┤ H ├┤ P(-π/2) ├────────┤ P(π) ├───────┤ P(-π/2) ├┤ H ├┤ P(-π/2) ├┤ P(10.0127805643169) ├───────┤ P(0.0) ├───────┤ P(-π/2) ├┤ H ├┤ P(-π/2) ├┤ P(3π/2) ├┤ P(-π/2) ├┤ H ├┤ P(-π/2) ├──────┤ P(7π/2) ├───────────────────────────────────────────────────────────────────────────────────────────────────────────────────────────────────────────────────────────────────────────────────────────────────────────────────────────────────────────■─────────┤ P(π/2) ├───────┤ P(-π/2) ├┤ H ├┤ P(-π/2) ├──────┤ P(3π/2) ├──────┤ P(-π/2) ├┤ H ├┤ P(-π/2) ├──────┤ P(5π/2) ├────────■────────┤ P(-π/2) ├───────┤ P(-π/2) ├┤ H ├┤ P(-π/2) ├──────┤ P(3π/2) ├──────┤ P(-π/2) ├┤ H ├┤ P(-π/2) ├───────┤ P(3π) ├─────────■────┤ P(-1.70834630517445) ├──┤ P(-π/2) ├┤ H ├┤ P(-π/2) ├┤ P(4.65054967478377) ├┤ P(-π/2) ├┤ H ├┤ P(-π/2) ├─┤ P(11.066556102168) ├┤ P(0.0) ├┤ P(-π/2) ├┤ H ├┤ P(-π/2) ├┤ P(3π/2) ├┤ P(-π/2) ├┤ H ├┤ P(-π/2) ├┤ P(7π/2) ├──────────────────────────────────────────────────────────────────────────────────────────────────────────────────────────────────────────────────────────────────────────────────────────────────────────────────────────────────────■─────────┤ P(π/2) ├───────┤ P(-π/2) ├┤ H ├┤ P(-π/2) ├──────┤ P(3π/2) ├──────┤ P(-π/2) ├┤ H ├┤ P(-π/2) ├──────┤ P(5π/2) ├────────■────────┤ P(-π/2) ├───────┤ P(-π/2) ├┤ H ├┤ P(-π/2) ├──────┤ P(3π/2) ├──────┤ P(-π/2) ├┤ H ├┤ P(-π/2) ├───────┤ P(3π) ├─────────■───┤ P(-0.128995593023095) ├─┤ P(-π/2) ├┤ H ├┤ P(-π/2) ├┤ P(4.57510358656354) ├┤ P(-π/2) ├┤ H ├┤ P(-π/2) ├┤ P(9.29578236774628) ├───────┤ P(0.0) ├───────┤ P(-π/2) ├┤ H ├┤ P(-π/2) ├┤ P(3π/2) ├┤ P(-π/2) ├┤ H ├┤ P(-π/2) ├─────┤ P(7π/2) ├─────────────────────────────────────────────────────────────────────────────────────────────────────────────────────────────────────────────────────────────────────────────────────────────────────────────────────────────────────────────■─────────┤ P(π/2) ├───────┤ P(-π/2) ├┤ H ├┤ P(-π/2) ├──────┤ P(3π/2) ├──────┤ P(-π/2) ├┤ H ├┤ P(-π/2) ├──────┤ P(5π/2) ├────────■────────┤ P(-π/2) ├───────┤ P(-π/2) ├┤ H ├┤ P(-π/2) ├──────┤ P(3π/2) ├──────┤ P(-π/2) ├┤ H ├┤ P(-π/2) ├───────┤ P(3π) ├─────────■──┤ P(-0.712452909500463) ├┤ P(-π/2) ├┤ H ├┤ P(-π/2) ├┤ P(6.03984286001465) ├┤ P(-π/2) ├┤ H ├┤ P(-π/2) ├┤ P(12.0543872339443) ├───────────────────────────────────────────────────────────────────────────────────────────────────────────────────────────────────────────────────────────────────────────────────────────────────────────────────────────────────────────────────────────────────────────────────────────────────────────────────■──────────┤ P(-π/2) ├────────┤ P(-π/2) ├┤ H ├┤ P(-π/2) ├──────┤ P(7π/4) ├──────┤ P(-π/2) ├┤ H ├┤ P(-π/2) ├───────┤ P(2π) ├─────────■──┤ P(-π/2) ├┤ P(-π/2) ├┤ H ├┤ P(-π/2) ├──────┤ P(7π/4) ├──────┤ P(-π/2) ├┤ H ├┤ P(-π/2) ├┤ P(5π/2) ├────────────────────────────────■──┤ H ├┤ P(π/4) ├┤ H ├────────────■──┤ H ├┤ P(-π/4) ├┤ H ├───────────────────────────■──┤ H ├┤ P(π/4) ├──────────────────────░────┤M├───\n",
       "         ├───────┬┘├─────────┤├───┤├─────────┤┌─────┴─────────┴─────┐├─────────┤├───┤├─────────┤├─────────┤┌─┴─┐┌──────┴────────┴──────┐├─────────┤├───┤├─────────┤┌─────┴─────────┴─────┐├─────────┤├───┤├─────────┤┌─────┴─────────┴─────┐┌─┴─┐┌─────┴─────────┴──────┐├─────────┤├───┤├─────────┤┌─────┴─────────┴─────┐├─────────┤├───┤├─────────┤┌──────┴───────┴──────┐┌─┴─┐└──────┬────────┬─────┘├─────────┤├───┤├─────────┤┌───────┴──────┴──────┐├─────────┤├───┤├─────────┤└─────┬─────────┬─────┘┌──────┴────────┴──────┐├─────────┤├───┤├─────────┤└┬───────┬┘├─────────┤├───┤├─────────┤┌─────┴─────────┴─────┐     ┌──────────────────────┐┌─────────┐┌───┐┌─────────┐┌─────────────────────┐┌─────────┐┌───┐┌─────────┐┌─────────────────────┐┌───────┐ ┌─────────┐┌───┐┌─────────┐┌─────────────────────┐┌─────────┐┌───┐┌─────────┐┌─────────┐┌─┴─┐┌──────┴────────┴──────┐├─────────┤├───┤├─────────┤┌─────┴─────────┴─────┐├─────────┤├───┤├─────────┤┌─────┴─────────┴─────┐┌─┴─┐┌─────┴─────────┴──────┐├─────────┤├───┤├─────────┤┌─────┴─────────┴─────┐├─────────┤├───┤├─────────┤┌──────┴───────┴──────┐┌─┴─┐┌─┴──────────────────────┴─┐├─────────┤├───┤├─────────┤└─────┬─────────┬─────┘├─────────┤├───┤├─────────┤┌┴────────────────────┤├───────┬┘├─────────┤├───┤├─────────┤└─┬──────┬┘├─────────┤├───┤├─────────┤└┬───────┬┘     ┌──────────────────────┐┌─────────┐┌───┐┌─────────┐┌─────────────────────┐┌─────────┐┌───┐┌─────────┐ ┌────────────────────┐ ┌───────┐ ┌─────────┐┌───┐┌─────────┐┌─────────────────────┐┌─────────┐┌───┐┌─────────┐┌─────────┐┌─┴─┐┌──────┴────────┴──────┐├─────────┤├───┤├─────────┤┌─────┴─────────┴─────┐├─────────┤├───┤├─────────┤┌─────┴─────────┴─────┐┌─┴─┐┌─────┴─────────┴──────┐├─────────┤├───┤├─────────┤┌─────┴─────────┴─────┐├─────────┤├───┤├─────────┤┌──────┴───────┴──────┐┌─┴─┐┌┴───────────────────────┴┐├─────────┤├───┤├─────────┤└─────┬─────────┬─────┘├─────────┤├───┤├─────────┤├─────────────────────┤┌──────┴────────┴──────┐├─────────┤├───┤├─────────┤└┬───────┬┘├─────────┤├───┤├─────────┤┌────┴─────────┴─────┐     ┌───────────────────────┐┌─────────┐┌───┐┌─────────┐ ┌────────────────────┐┌─────────┐┌───┐┌─────────┐┌─────────────────────┐ ┌───────┐ ┌─────────┐┌───┐┌─────────┐┌─────────────────────┐┌─────────┐┌───┐┌─────────┐┌─────────┐┌─┴─┐┌──────┴────────┴──────┐├─────────┤├───┤├─────────┤┌─────┴─────────┴─────┐├─────────┤├───┤├─────────┤┌─────┴─────────┴─────┐┌─┴─┐┌─────┴─────────┴──────┐├─────────┤├───┤├─────────┤┌─────┴─────────┴─────┐├─────────┤├───┤├─────────┤┌──────┴───────┴──────┐┌─┴─┐└───────┬────────┬──────┘├─────────┤├───┤├─────────┤├─────────────────────┤├─────────┤├───┤├─────────┤└──────┬───────┬──────┘┌───────┐┌─────────┐┌───┐┌─────────┐┌──────┐┌─────────┐┌───┐┌─────────┐┌───────┐     ┌─────────────────────┐┌─────────┐┌───┐┌─────────┐      ┌─────────┐      ┌─────────┐┌───┐┌─────────┐ ┌───────┐  ┌─────────────────────┐┌─────────┐┌───┐┌─────────┐┌──────┐┌─────────┐┌───┐┌─────────┐┌─────────────────────┐┌─┴─┐┌───────┴─────────┴───────┐├─────────┤├───┤├─────────┤┌─────┴─────────┴─────┐├─────────┤├───┤├─────────┤┌──────┴───────┴──────┐┌─┴─┐└┬────────┤├─────────┤├───┤├─────────┤┌─────┴─────────┴─────┐├─────────┤├───┤├─────────┤└┬───────┬┘     ┌───┐     ┌───┐     ┌───┐┌─┴─┐└───┘└─┬───┬──┘└───┘┌───┐     ┌─┴─┐├───┤└┬────────┤└───┘┌───┐     ┌───┐     ┌───┐┌─┴─┐├───┤└────────┘ ┌────────┐     ┌───┐ ░    └╥┘┌─┐\n",
       "q_0 -> 1 ┤ P(-π) ├─┤ P(-π/2) ├┤ H ├┤ P(-π/2) ├┤ P(4.77895714416051) ├┤ P(-π/2) ├┤ H ├┤ P(-π/2) ├┤ P(7π/2) ├┤ X ├┤ P(-3.07517149405071) ├┤ P(-π/2) ├┤ H ├┤ P(-π/2) ├┤ P(4.70796418718496) ├┤ P(-π/2) ├┤ H ├┤ P(-π/2) ├┤ P(6.34960646671867) ├┤ X ├┤ P(-1.63751181823046) ├┤ P(-π/2) ├┤ H ├┤ P(-π/2) ├┤ P(4.64596847202556) ├┤ P(-π/2) ├┤ H ├┤ P(-π/2) ├┤ P(9.42921253240149) ├┤ X ├───────┤ P(π/2) ├──────┤ P(-π/2) ├┤ H ├┤ P(-π/2) ├┤ P(4.77895714416051) ├┤ P(-π/2) ├┤ H ├┤ P(-π/2) ├──────┤ P(5π/2) ├──────┤ P(-2.84403484267763) ├┤ P(-π/2) ├┤ H ├┤ P(-π/2) ├─┤ P(2π) ├─┤ P(-π/2) ├┤ H ├┤ P(-π/2) ├┤ P(9.72233577168154) ├──■──┤ P(-2.65071017606403) ├┤ P(-π/2) ├┤ H ├┤ P(-π/2) ├┤ P(6.13245394896806) ├┤ P(-π/2) ├┤ H ├┤ P(-π/2) ├┤ P(8.27814336427716) ├┤ P(-π) ├─┤ P(-π/2) ├┤ H ├┤ P(-π/2) ├┤ P(4.77895714416051) ├┤ P(-π/2) ├┤ H ├┤ P(-π/2) ├┤ P(7π/2) ├┤ X ├┤ P(-3.07517149405071) ├┤ P(-π/2) ├┤ H ├┤ P(-π/2) ├┤ P(4.70796418718496) ├┤ P(-π/2) ├┤ H ├┤ P(-π/2) ├┤ P(6.34960646671867) ├┤ X ├┤ P(-1.63751181823046) ├┤ P(-π/2) ├┤ H ├┤ P(-π/2) ├┤ P(4.64596847202556) ├┤ P(-π/2) ├┤ H ├┤ P(-π/2) ├┤ P(9.42921253240149) ├┤ X ├┤ P(-4.44089209850063e-16) ├┤ P(-π/2) ├┤ H ├┤ P(-π/2) ├──────┤ P(3π/2) ├──────┤ P(-π/2) ├┤ H ├┤ P(-π/2) ├┤ P(9.35820979699356) ├┤ P(-π) ├─┤ P(-π/2) ├┤ H ├┤ P(-π/2) ├──┤ P(π) ├─┤ P(-π/2) ├┤ H ├┤ P(-π/2) ├─┤ P(2π) ├───■──┤ P(0.720890083958762) ├┤ P(-π/2) ├┤ H ├┤ P(-π/2) ├┤ P(3.33586922339811) ├┤ P(-π/2) ├┤ H ├┤ P(-π/2) ├─┤ P(11.716464371523) ├─┤ P(-π) ├─┤ P(-π/2) ├┤ H ├┤ P(-π/2) ├┤ P(4.77895714416051) ├┤ P(-π/2) ├┤ H ├┤ P(-π/2) ├┤ P(7π/2) ├┤ X ├┤ P(-3.07517149405071) ├┤ P(-π/2) ├┤ H ├┤ P(-π/2) ├┤ P(4.70796418718496) ├┤ P(-π/2) ├┤ H ├┤ P(-π/2) ├┤ P(6.34960646671867) ├┤ X ├┤ P(-1.63751181823046) ├┤ P(-π/2) ├┤ H ├┤ P(-π/2) ├┤ P(4.64596847202556) ├┤ P(-π/2) ├┤ H ├┤ P(-π/2) ├┤ P(9.42921253240149) ├┤ X ├┤ P(4.44089209850063e-16) ├┤ P(-π/2) ├┤ H ├┤ P(-π/2) ├──────┤ P(3π/2) ├──────┤ P(-π/2) ├┤ H ├┤ P(-π/2) ├┤ P(7.78741347019866) ├┤ P(-1.73500968299816) ├┤ P(-π/2) ├┤ H ├┤ P(-π/2) ├─┤ P(2π) ├─┤ P(-π/2) ├┤ H ├┤ P(-π/2) ├┤ P(10.831360931361) ├──■──┤ P(-0.946282573752005) ├┤ P(-π/2) ├┤ H ├┤ P(-π/2) ├─┤ P(4.8957547376936) ├┤ P(-π/2) ├┤ H ├┤ P(-π/2) ├┤ P(10.7802812268855) ├─┤ P(-π) ├─┤ P(-π/2) ├┤ H ├┤ P(-π/2) ├┤ P(4.77895714416051) ├┤ P(-π/2) ├┤ H ├┤ P(-π/2) ├┤ P(7π/2) ├┤ X ├┤ P(-3.07517149405071) ├┤ P(-π/2) ├┤ H ├┤ P(-π/2) ├┤ P(4.70796418718496) ├┤ P(-π/2) ├┤ H ├┤ P(-π/2) ├┤ P(6.34960646671867) ├┤ X ├┤ P(-1.63751181823046) ├┤ P(-π/2) ├┤ H ├┤ P(-π/2) ├┤ P(4.64596847202556) ├┤ P(-π/2) ├┤ H ├┤ P(-π/2) ├┤ P(9.42921253240149) ├┤ X ├────────┤ P(π/2) ├───────┤ P(-π/2) ├┤ H ├┤ P(-π/2) ├┤ P(3.20816081736561) ├┤ P(-π/2) ├┤ H ├┤ P(-π/2) ├───────┤ P(3π) ├───────┤ P(-π) ├┤ P(-π/2) ├┤ H ├┤ P(-π/2) ├┤ P(π) ├┤ P(-π/2) ├┤ H ├┤ P(-π/2) ├┤ P(2π) ├──■──┤ P(2.28962632641652) ├┤ P(-π/2) ├┤ H ├┤ P(-π/2) ├──────┤ P(3π/2) ├──────┤ P(-π/2) ├┤ H ├┤ P(-π/2) ├─┤ P(3π) ├──┤ P(1.80958582064431) ├┤ P(-π/2) ├┤ H ├┤ P(-π/2) ├┤ P(π) ├┤ P(-π/2) ├┤ H ├┤ P(-π/2) ├┤ P(7.61519214012507) ├┤ X ├┤ P(-0.00443457163211036) ├┤ P(-π/2) ├┤ H ├┤ P(-π/2) ├┤ P(4.77880948874382) ├┤ P(-π/2) ├┤ H ├┤ P(-π/2) ├┤ P(10.9288587961287) ├┤ X ├─┤ P(π/2) ├┤ P(-π/2) ├┤ H ├┤ P(-π/2) ├┤ P(4.77895714416051) ├┤ P(-π/2) ├┤ H ├┤ P(-π/2) ├─┤ P(2π) ├───■──┤ H ├──■──┤ H ├──■──┤ H ├┤ X ├──■────┤ H ├─────■──┤ H ├──■──┤ X ├┤ H ├─┤ P(π/4) ├──■──┤ H ├──■──┤ H ├──■──┤ H ├┤ X ├┤ H ├────■──────┤ P(π/4) ├──■──┤ H ├─░─────╫─┤M├\n",
       "         ├───────┴┐├─────────┤├───┤├─────────┤├─────────────────────┤├─────────┤├───┤├─────────┤├─────────┤└───┘└──────────────────────┘└─────────┘└───┘└─────────┘└─────────────────────┘└─────────┘└───┘└─────────┘└─────────────────────┘└───┘└──────────────────────┘└─────────┘└───┘└─────────┘└─────────────────────┘└─────────┘└───┘└─────────┘└─────────────────────┘└───┘       └────────┘      └─────────┘└───┘└─────────┘└─────────────────────┘└─────────┘└───┘└─────────┘      └─────────┘      └──────────────────────┘└─────────┘└───┘└─────────┘ └───────┘ └─────────┘└───┘└─────────┘└─────────────────────┘┌─┴─┐├─────────────────────┬┘├─────────┤├───┤├─────────┤└┬────────────────────┤├─────────┤├───┤├─────────┤├─────────────────────┤├───────┴┐├─────────┤├───┤├─────────┤├─────────────────────┤├─────────┤├───┤├─────────┤├─────────┤└───┘└──────────────────────┘└─────────┘└───┘└─────────┘└─────────────────────┘└─────────┘└───┘└─────────┘└─────────────────────┘└───┘└──────────────────────┘└─────────┘└───┘└─────────┘└─────────────────────┘└─────────┘└───┘└─────────┘└─────────────────────┘└───┘└──────────────────────────┘└─────────┘└───┘└─────────┘      └─────────┘      └─────────┘└───┘└─────────┘└─────────────────────┘└───────┘ └─────────┘└───┘└─────────┘  └──────┘ └─────────┘└───┘└─────────┘ └───────┘ ┌─┴─┐├──────────────────────┤├─────────┤├───┤├─────────┤├─────────────────────┤├─────────┤├───┤├─────────┤┌┴────────────────────┤┌┴───────┴┐├─────────┤├───┤├─────────┤├─────────────────────┤├─────────┤├───┤├─────────┤├─────────┤└───┘└──────────────────────┘└─────────┘└───┘└─────────┘└─────────────────────┘└─────────┘└───┘└─────────┘└─────────────────────┘└───┘└──────────────────────┘└─────────┘└───┘└─────────┘└─────────────────────┘└─────────┘└───┘└─────────┘└─────────────────────┘└───┘└─────────────────────────┘└─────────┘└───┘└─────────┘      └─────────┘      └─────────┘└───┘└─────────┘└─────────────────────┘└──────────────────────┘└─────────┘└───┘└─────────┘ └───────┘ └─────────┘└───┘└─────────┘└────────────────────┘┌─┴─┐├───────────────────────┤├─────────┤├───┤├─────────┤┌┴────────────────────┤├─────────┤├───┤├─────────┤├─────────────────────┤┌┴───────┴┐├─────────┤├───┤├─────────┤├─────────────────────┤├─────────┤├───┤├─────────┤├─────────┤└───┘└──────────────────────┘└─────────┘└───┘└─────────┘└─────────────────────┘└─────────┘└───┘└─────────┘└─────────────────────┘└───┘└──────────────────────┘└─────────┘└───┘└─────────┘└─────────────────────┘└─────────┘└───┘└─────────┘└─────────────────────┘└───┘        └────────┘       └─────────┘└───┘└─────────┘└─────────────────────┘└─────────┘└───┘└─────────┘       └───────┘       └───────┘└─────────┘└───┘└─────────┘└──────┘└─────────┘└───┘└─────────┘└───────┘┌─┴─┐└──────┬────────┬─────┘├─────────┤├───┤├─────────┤┌─────┴─────────┴─────┐├─────────┤├───┤├─────────┤┌┴───────┴─┐└─────────────────────┘└─────────┘└───┘└─────────┘└──────┘└─────────┘└───┘└─────────┘└─────────────────────┘└───┘└─────────────────────────┘└─────────┘└───┘└─────────┘└─────────────────────┘└─────────┘└───┘└─────────┘└─────────────────────┘└───┘ └────────┘└─────────┘└───┘└─────────┘└─────────────────────┘└─────────┘└───┘└─────────┘ └───────┘ ┌─┴─┐├───┤┌─┴─┐├───┤┌─┴─┐├───┤└───┘┌─┴─┐  ├───┤   ┌─┴─┐├───┤┌─┴─┐├───┤└───┘ └────────┘┌─┴─┐├───┤┌─┴─┐├───┤┌─┴─┐└───┘└───┘└───┘  ┌─┴─┐   ┌┴────────┤┌─┴─┐├───┤ ░ ┌─┐ ║ └╥┘\n",
       "q_2 -> 2 ┤ P(π/2) ├┤ P(-π/2) ├┤ H ├┤ P(-π/2) ├┤ P(3.76656390823947) ├┤ P(-π/2) ├┤ H ├┤ P(-π/2) ├┤ P(7π/2) ├──────────────────────────────────────────────────────────────────────────────────────────────────────────────────────────────────────────────────────────────────────────────────────────────────────────────────────────────────────────────────────────────────────────────────────────────────────────────────────────────────────────────────────────────────────────────────────────────────────────────────────────────────────────────────────────────────────────────────────────────────────────────────┤ X ├┤ P(2.24163662919662) ├─┤ P(-π/2) ├┤ H ├┤ P(-π/2) ├─┤ P(4.6891553743391) ├┤ P(-π/2) ├┤ H ├┤ P(-π/2) ├┤ P(11.4222221096246) ├┤ P(π/2) ├┤ P(-π/2) ├┤ H ├┤ P(-π/2) ├┤ P(3.30058667798127) ├┤ P(-π/2) ├┤ H ├┤ P(-π/2) ├┤ P(7π/2) ├─────────────────────────────────────────────────────────────────────────────────────────────────────────────────────────────────────────────────────────────────────────────────────────────────────────────────────────────────────────────────────────────────────────────────────────────────────────────────────────────────────────────────────────────────────────────────────────────────────────────────────────────────────────────────────────────────────────────────────────────┤ X ├┤ P(0.829262316271711) ├┤ P(-π/2) ├┤ H ├┤ P(-π/2) ├┤ P(4.43512513298352) ├┤ P(-π/2) ├┤ H ├┤ P(-π/2) ├┤ P(11.6173533601044) ├┤ P(-π/2) ├┤ P(-π/2) ├┤ H ├┤ P(-π/2) ├┤ P(5.49309665010892) ├┤ P(-π/2) ├┤ H ├┤ P(-π/2) ├┤ P(7π/2) ├─────────────────────────────────────────────────────────────────────────────────────────────────────────────────────────────────────────────────────────────────────────────────────────────────────────────────────────────────────────────────────────────────────────────────────────────────────────────────────────────────────────────────────────────────────────────────────────────────────────────────────────────────────────────────────────────────────────────────────────────────────────────────────┤ X ├┤ P(0.0793974862321627) ├┤ P(-π/2) ├┤ H ├┤ P(-π/2) ├┤ P(5.51889446107598) ├┤ P(-π/2) ├┤ H ├┤ P(-π/2) ├┤ P(9.75073032732052) ├┤ P(-π/2) ├┤ P(-π/2) ├┤ H ├┤ P(-π/2) ├┤ P(5.57918086439534) ├┤ P(-π/2) ├┤ H ├┤ P(-π/2) ├┤ P(7π/2) ├────────────────────────────────────────────────────────────────────────────────────────────────────────────────────────────────────────────────────────────────────────────────────────────────────────────────────────────────────────────────────────────────────────────────────────────────────────────────────────────────────────────────────────────────────────────────────────────────────────────────────────────────────────────────────────────────────────────────────┤ X ├───────┤ P(π/2) ├──────┤ P(-π/2) ├┤ H ├┤ P(-π/2) ├┤ P(4.22979640452201) ├┤ P(-π/2) ├┤ H ├┤ P(-π/2) ├┤ P(15π/4) ├────────────────────────────────────────────────────────────────────────────────────────────────────────────────────────────────────────────────────────────────────────────────────────────────────────────────────────────────────────────────────────────────────────────────────────────────────────────────────────────────────────────────────────┤ X ├┤ H ├┤ X ├┤ H ├┤ X ├┤ H ├─────┤ X ├──┤ H ├───┤ X ├┤ H ├┤ X ├┤ H ├────────────────┤ X ├┤ H ├┤ X ├┤ H ├┤ X ├─────────────────┤ X ├───┤ P(-π/4) ├┤ X ├┤ H ├─░─┤M├─╫──╫─\n",
       "         └────────┘└─────────┘└───┘└─────────┘└─────────────────────┘└─────────┘└───┘└─────────┘└─────────┘                                                                                                                                                                                                                                                                                                                                                                                                                                                                                                                  └───┘└─────────────────────┘ └─────────┘└───┘└─────────┘ └────────────────────┘└─────────┘└───┘└─────────┘└─────────────────────┘└────────┘└─────────┘└───┘└─────────┘└─────────────────────┘└─────────┘└───┘└─────────┘└─────────┘                                                                                                                                                                                                                                                                                                                                                                                                                                                                                             └───┘└──────────────────────┘└─────────┘└───┘└─────────┘└─────────────────────┘└─────────┘└───┘└─────────┘└─────────────────────┘└─────────┘└─────────┘└───┘└─────────┘└─────────────────────┘└─────────┘└───┘└─────────┘└─────────┘                                                                                                                                                                                                                                                                                                                                                                                                                                                                                                                     └───┘└───────────────────────┘└─────────┘└───┘└─────────┘└─────────────────────┘└─────────┘└───┘└─────────┘└─────────────────────┘└─────────┘└─────────┘└───┘└─────────┘└─────────────────────┘└─────────┘└───┘└─────────┘└─────────┘                                                                                                                                                                                                                                                                                                                                                                                                                                                                                    └───┘       └────────┘      └─────────┘└───┘└─────────┘└─────────────────────┘└─────────┘└───┘└─────────┘└──────────┘                                                                                                                                                                                                                                                                                                                                                        └───┘└───┘└───┘└───┘└───┘└───┘     └───┘  └───┘   └───┘└───┘└───┘└───┘                └───┘└───┘└───┘└───┘└───┘                 └───┘   └─────────┘└───┘└───┘ ░ └╥┘ ║  ║ \n",
       " meas: 3/════════════════════════════════════════════════════════════════════════════════════════════════════════════════════════════════════════════════════════════════════════════════════════════════════════════════════════════════════════════════════════════════════════════════════════════════════════════════════════════════════════════════════════════════════════════════════════════════════════════════════════════════════════════════════════════════════════════════════════════════════════════════════════════════════════════════════════════════════════════════════════════════════════════════════════════════════════════════════════════════════════════════════════════════════════════════════════════════════════════════════════════════════════════════════════════════════════════════════════════════════════════════════════════════════════════════════════════════════════════════════════════════════════════════════════════════════════════════════════════════════════════════════════════════════════════════════════════════════════════════════════════════════════════════════════════════════════════════════════════════════════════════════════════════════════════════════════════════════════════════════════════════════════════════════════════════════════════════════════════════════════════════════════════════════════════════════════════════════════════════════════════════════════════════════════════════════════════════════════════════════════════════════════════════════════════════════════════════════════════════════════════════════════════════════════════════════════════════════════════════════════════════════════════════════════════════════════════════════════════════════════════════════════════════════════════════════════════════════════════════════════════════════════════════════════════════════════════════════════════════════════════════════════════════════════════════════════════════════════════════════════════════════════════════════════════════════════════════════════════════════════════════════════════════════════════════════════════════════════════════════════════════════════════════════════════════════════════════════════════════════════════════════════════════════════════════════════════════════════════════════════════════════════════════════════════════════════════════════════════════════════════════════════════════════════════════════════════════════════════════════════════════════════════════════════════════════════════════════════════════════════════════════════════════════════════════════════════════════════════════════════════════════════════════════════════════════════════════════════════════════════════════════════════════════════════════════════════════════════════════════════════════════════════════════════════════════════════════════════════════════════════════════════════════════════════════════════════════════════════════════════════════════════════════════════════════════════════════════════════════════════════════════════════════════════════════════════════════════════════════════════════════════════════════════════════════════════════════════════════════════════════════════════════════════════════════════════════════════════════════════════════════════════════════════════════════════════════════════════════════════════════════════════════════════════════════════════════════════╩══╩══╩═\n",
       "                                                                                                                                                                                                                                                                                                                                                                                                                                                                                                                                                                                                                                                                                                                                                                                                                                                                                                                                                                                                                                                                                                                                                                                                                                                                                                                                                                                                                                                                                                                                                                                                                                                                                                                                                                                                                                                                                                                                                                                                                                                                                                                                                                                                                                                                                                                                                                                                                                                                                                                                                                                                                                                                                                                                                                                                                                                                                                                                                                                                                                                                                                                                                                                                                                                                                                                                                                                                                                                                                             0  1  2 "
      ]
     },
     "execution_count": 182,
     "metadata": {},
     "output_type": "execute_result"
    }
   ],
   "source": [
    "transpiled = transpile(circuit,\n",
    "                       coupling_map=CouplingMap([(0,1),(1,2)]),\n",
    "                       initial_layout=[1, 0, 2],\n",
    "                       basis_gates=['x', 'cx', 'h', 'p'],\n",
    "                       optimization_level=3\n",
    "                      )\n",
    "transpiled.draw(fold=-1)"
   ]
  },
  {
   "cell_type": "code",
   "execution_count": 183,
   "id": "d5b876a0",
   "metadata": {},
   "outputs": [
    {
     "data": {
      "text/plain": [
       "32"
      ]
     },
     "execution_count": 183,
     "metadata": {},
     "output_type": "execute_result"
    }
   ],
   "source": [
    "transpiled.count_ops()['cx']"
   ]
  },
  {
   "cell_type": "code",
   "execution_count": 184,
   "id": "cf11d975",
   "metadata": {},
   "outputs": [],
   "source": [
    "# Last parameter, approximation degree"
   ]
  },
  {
   "cell_type": "code",
   "execution_count": 185,
   "id": "def47b72",
   "metadata": {},
   "outputs": [
    {
     "data": {
      "text/html": [
       "<pre style=\"word-wrap: normal;white-space: pre;background: #fff0;line-height: 1.1;font-family: &quot;Courier New&quot;,Courier,monospace\">global phase: 3.622\n",
       "         ┌────────┐┌─────────┐┌───┐┌─────────┐      ┌─────────┐      ┌─────────┐┌───┐┌─────────┐┌─────────┐            ┌────────┐       ┌─────────┐┌───┐┌─────────┐      ┌─────────┐      ┌─────────┐┌───┐┌─────────┐      ┌─────────┐                 ┌─────────┐       ┌─────────┐┌───┐┌─────────┐      ┌─────────┐      ┌─────────┐┌───┐┌─────────┐       ┌───────┐            ┌─────────────────────┐┌─────────┐┌───┐┌─────────┐        ┌──────┐       ┌─────────┐┌───┐┌─────────┐┌─────────────────────┐       ┌────────┐       ┌─────────┐┌───┐┌─────────┐┌─────────┐┌─────────┐┌───┐┌─────────┐      ┌─────────┐                                                                                                                                                                                                                                                     ┌────────┐       ┌─────────┐┌───┐┌─────────┐      ┌─────────┐      ┌─────────┐┌───┐┌─────────┐      ┌─────────┐                 ┌─────────┐       ┌─────────┐┌───┐┌─────────┐      ┌─────────┐      ┌─────────┐┌───┐┌─────────┐       ┌───────┐              ┌──────────────────────┐  ┌─────────┐┌───┐┌─────────┐┌─────────────────────┐┌─────────┐┌───┐┌─────────┐ ┌────────────────────┐┌────────┐┌─────────┐┌───┐┌─────────┐┌─────────┐┌─────────┐┌───┐┌─────────┐┌─────────┐                                                                                                                                                                                                                                                ┌────────┐       ┌─────────┐┌───┐┌─────────┐      ┌─────────┐      ┌─────────┐┌───┐┌─────────┐      ┌─────────┐                 ┌─────────┐       ┌─────────┐┌───┐┌─────────┐      ┌─────────┐      ┌─────────┐┌───┐┌─────────┐       ┌───────┐             ┌───────────────────────┐ ┌─────────┐┌───┐┌─────────┐┌─────────────────────┐┌─────────┐┌───┐┌─────────┐┌─────────────────────┐       ┌────────┐       ┌─────────┐┌───┐┌─────────┐┌─────────┐┌─────────┐┌───┐┌─────────┐     ┌─────────┐                                                                                                                                                                                                                                                       ┌────────┐       ┌─────────┐┌───┐┌─────────┐      ┌─────────┐      ┌─────────┐┌───┐┌─────────┐      ┌─────────┐                 ┌─────────┐       ┌─────────┐┌───┐┌─────────┐      ┌─────────┐      ┌─────────┐┌───┐┌─────────┐       ┌───────┐            ┌───────────────────────┐┌─────────┐┌───┐┌─────────┐┌─────────────────────┐┌─────────┐┌───┐┌─────────┐┌─────────────────────┐                                                                                                                                                                                                                                                                                                                              ┌─────────┐        ┌─────────┐┌───┐┌─────────┐      ┌─────────┐      ┌─────────┐┌───┐┌─────────┐       ┌───────┐            ┌─────────┐┌─────────┐┌───┐┌─────────┐      ┌─────────┐      ┌─────────┐┌───┐┌─────────┐┌─────────┐                                   ┌───┐┌────────┐┌───┐               ┌───┐┌─────────┐┌───┐                              ┌───┐┌────────┐                      ░    ┌─┐   \n",
       "q_1 -> 0 ┤ P(0.0) ├┤ P(-π/2) ├┤ H ├┤ P(-π/2) ├──────┤ P(3π/2) ├──────┤ P(-π/2) ├┤ H ├┤ P(-π/2) ├┤ P(7π/2) ├──■─────────┤ P(π/2) ├───────┤ P(-π/2) ├┤ H ├┤ P(-π/2) ├──────┤ P(3π/2) ├──────┤ P(-π/2) ├┤ H ├┤ P(-π/2) ├──────┤ P(5π/2) ├────────■────────┤ P(-π/2) ├───────┤ P(-π/2) ├┤ H ├┤ P(-π/2) ├──────┤ P(3π/2) ├──────┤ P(-π/2) ├┤ H ├┤ P(-π/2) ├───────┤ P(3π) ├─────────■──┤ P(2.55359005004222) ├┤ P(-π/2) ├┤ H ├┤ P(-π/2) ├────────┤ P(π) ├───────┤ P(-π/2) ├┤ H ├┤ P(-π/2) ├┤ P(10.0127805643169) ├───────┤ P(0.0) ├───────┤ P(-π/2) ├┤ H ├┤ P(-π/2) ├┤ P(3π/2) ├┤ P(-π/2) ├┤ H ├┤ P(-π/2) ├──────┤ P(7π/2) ├───────────────────────────────────────────────────────────────────────────────────────────────────────────────────────────────────────────────────────────────────────────────────────────────────────────────────────────────────────────■─────────┤ P(π/2) ├───────┤ P(-π/2) ├┤ H ├┤ P(-π/2) ├──────┤ P(3π/2) ├──────┤ P(-π/2) ├┤ H ├┤ P(-π/2) ├──────┤ P(5π/2) ├────────■────────┤ P(-π/2) ├───────┤ P(-π/2) ├┤ H ├┤ P(-π/2) ├──────┤ P(3π/2) ├──────┤ P(-π/2) ├┤ H ├┤ P(-π/2) ├───────┤ P(3π) ├─────────■────┤ P(-1.70834630517445) ├──┤ P(-π/2) ├┤ H ├┤ P(-π/2) ├┤ P(4.65054967478377) ├┤ P(-π/2) ├┤ H ├┤ P(-π/2) ├─┤ P(11.066556102168) ├┤ P(0.0) ├┤ P(-π/2) ├┤ H ├┤ P(-π/2) ├┤ P(3π/2) ├┤ P(-π/2) ├┤ H ├┤ P(-π/2) ├┤ P(7π/2) ├──────────────────────────────────────────────────────────────────────────────────────────────────────────────────────────────────────────────────────────────────────────────────────────────────────────────────────────────────────■─────────┤ P(π/2) ├───────┤ P(-π/2) ├┤ H ├┤ P(-π/2) ├──────┤ P(3π/2) ├──────┤ P(-π/2) ├┤ H ├┤ P(-π/2) ├──────┤ P(5π/2) ├────────■────────┤ P(-π/2) ├───────┤ P(-π/2) ├┤ H ├┤ P(-π/2) ├──────┤ P(3π/2) ├──────┤ P(-π/2) ├┤ H ├┤ P(-π/2) ├───────┤ P(3π) ├─────────■───┤ P(-0.128995593023095) ├─┤ P(-π/2) ├┤ H ├┤ P(-π/2) ├┤ P(4.57510358656354) ├┤ P(-π/2) ├┤ H ├┤ P(-π/2) ├┤ P(9.29578236774628) ├───────┤ P(0.0) ├───────┤ P(-π/2) ├┤ H ├┤ P(-π/2) ├┤ P(3π/2) ├┤ P(-π/2) ├┤ H ├┤ P(-π/2) ├─────┤ P(7π/2) ├─────────────────────────────────────────────────────────────────────────────────────────────────────────────────────────────────────────────────────────────────────────────────────────────────────────────────────────────────────────────■─────────┤ P(π/2) ├───────┤ P(-π/2) ├┤ H ├┤ P(-π/2) ├──────┤ P(3π/2) ├──────┤ P(-π/2) ├┤ H ├┤ P(-π/2) ├──────┤ P(5π/2) ├────────■────────┤ P(-π/2) ├───────┤ P(-π/2) ├┤ H ├┤ P(-π/2) ├──────┤ P(3π/2) ├──────┤ P(-π/2) ├┤ H ├┤ P(-π/2) ├───────┤ P(3π) ├─────────■──┤ P(-0.712452909500463) ├┤ P(-π/2) ├┤ H ├┤ P(-π/2) ├┤ P(6.03984286001465) ├┤ P(-π/2) ├┤ H ├┤ P(-π/2) ├┤ P(12.0543872339443) ├───────────────────────────────────────────────────────────────────────────────────────────────────────────────────────────────────────────────────────────────────────────────────────────────────────────────────────────────────────────────────────────────────────────────────────────────────────────────────■──────────┤ P(-π/2) ├────────┤ P(-π/2) ├┤ H ├┤ P(-π/2) ├──────┤ P(7π/4) ├──────┤ P(-π/2) ├┤ H ├┤ P(-π/2) ├───────┤ P(2π) ├─────────■──┤ P(-π/2) ├┤ P(-π/2) ├┤ H ├┤ P(-π/2) ├──────┤ P(7π/4) ├──────┤ P(-π/2) ├┤ H ├┤ P(-π/2) ├┤ P(5π/2) ├────────────────────────────────■──┤ H ├┤ P(π/4) ├┤ H ├────────────■──┤ H ├┤ P(-π/4) ├┤ H ├───────────────────────────■──┤ H ├┤ P(π/4) ├──────────────────────░────┤M├───\n",
       "         ├───────┬┘├─────────┤├───┤├─────────┤┌─────┴─────────┴─────┐├─────────┤├───┤├─────────┤├─────────┤┌─┴─┐┌──────┴────────┴──────┐├─────────┤├───┤├─────────┤┌─────┴─────────┴─────┐├─────────┤├───┤├─────────┤┌─────┴─────────┴─────┐┌─┴─┐┌─────┴─────────┴──────┐├─────────┤├───┤├─────────┤┌─────┴─────────┴─────┐├─────────┤├───┤├─────────┤┌──────┴───────┴──────┐┌─┴─┐└──────┬────────┬─────┘├─────────┤├───┤├─────────┤┌───────┴──────┴──────┐├─────────┤├───┤├─────────┤└─────┬─────────┬─────┘┌──────┴────────┴──────┐├─────────┤├───┤├─────────┤└┬───────┬┘├─────────┤├───┤├─────────┤┌─────┴─────────┴─────┐     ┌──────────────────────┐┌─────────┐┌───┐┌─────────┐┌─────────────────────┐┌─────────┐┌───┐┌─────────┐┌─────────────────────┐┌───────┐ ┌─────────┐┌───┐┌─────────┐┌─────────────────────┐┌─────────┐┌───┐┌─────────┐┌─────────┐┌─┴─┐┌──────┴────────┴──────┐├─────────┤├───┤├─────────┤┌─────┴─────────┴─────┐├─────────┤├───┤├─────────┤┌─────┴─────────┴─────┐┌─┴─┐┌─────┴─────────┴──────┐├─────────┤├───┤├─────────┤┌─────┴─────────┴─────┐├─────────┤├───┤├─────────┤┌──────┴───────┴──────┐┌─┴─┐┌─┴──────────────────────┴─┐├─────────┤├───┤├─────────┤└─────┬─────────┬─────┘├─────────┤├───┤├─────────┤┌┴────────────────────┤├───────┬┘├─────────┤├───┤├─────────┤└─┬──────┬┘├─────────┤├───┤├─────────┤└┬───────┬┘     ┌──────────────────────┐┌─────────┐┌───┐┌─────────┐┌─────────────────────┐┌─────────┐┌───┐┌─────────┐ ┌────────────────────┐ ┌───────┐ ┌─────────┐┌───┐┌─────────┐┌─────────────────────┐┌─────────┐┌───┐┌─────────┐┌─────────┐┌─┴─┐┌──────┴────────┴──────┐├─────────┤├───┤├─────────┤┌─────┴─────────┴─────┐├─────────┤├───┤├─────────┤┌─────┴─────────┴─────┐┌─┴─┐┌─────┴─────────┴──────┐├─────────┤├───┤├─────────┤┌─────┴─────────┴─────┐├─────────┤├───┤├─────────┤┌──────┴───────┴──────┐┌─┴─┐┌┴───────────────────────┴┐├─────────┤├───┤├─────────┤└─────┬─────────┬─────┘├─────────┤├───┤├─────────┤├─────────────────────┤┌──────┴────────┴──────┐├─────────┤├───┤├─────────┤└┬───────┬┘├─────────┤├───┤├─────────┤┌────┴─────────┴─────┐     ┌───────────────────────┐┌─────────┐┌───┐┌─────────┐ ┌────────────────────┐┌─────────┐┌───┐┌─────────┐┌─────────────────────┐ ┌───────┐ ┌─────────┐┌───┐┌─────────┐┌─────────────────────┐┌─────────┐┌───┐┌─────────┐┌─────────┐┌─┴─┐┌──────┴────────┴──────┐├─────────┤├───┤├─────────┤┌─────┴─────────┴─────┐├─────────┤├───┤├─────────┤┌─────┴─────────┴─────┐┌─┴─┐┌─────┴─────────┴──────┐├─────────┤├───┤├─────────┤┌─────┴─────────┴─────┐├─────────┤├───┤├─────────┤┌──────┴───────┴──────┐┌─┴─┐└───────┬────────┬──────┘├─────────┤├───┤├─────────┤├─────────────────────┤├─────────┤├───┤├─────────┤└──────┬───────┬──────┘┌───────┐┌─────────┐┌───┐┌─────────┐┌──────┐┌─────────┐┌───┐┌─────────┐┌───────┐     ┌─────────────────────┐┌─────────┐┌───┐┌─────────┐      ┌─────────┐      ┌─────────┐┌───┐┌─────────┐ ┌───────┐  ┌─────────────────────┐┌─────────┐┌───┐┌─────────┐┌──────┐┌─────────┐┌───┐┌─────────┐┌─────────────────────┐┌─┴─┐┌───────┴─────────┴───────┐├─────────┤├───┤├─────────┤┌─────┴─────────┴─────┐├─────────┤├───┤├─────────┤┌──────┴───────┴──────┐┌─┴─┐└┬────────┤├─────────┤├───┤├─────────┤┌─────┴─────────┴─────┐├─────────┤├───┤├─────────┤└┬───────┬┘     ┌───┐     ┌───┐     ┌───┐┌─┴─┐└───┘└─┬───┬──┘└───┘┌───┐     ┌─┴─┐├───┤└┬────────┤└───┘┌───┐     ┌───┐     ┌───┐┌─┴─┐├───┤└────────┘ ┌────────┐     ┌───┐ ░    └╥┘┌─┐\n",
       "q_0 -> 1 ┤ P(-π) ├─┤ P(-π/2) ├┤ H ├┤ P(-π/2) ├┤ P(4.77895714416051) ├┤ P(-π/2) ├┤ H ├┤ P(-π/2) ├┤ P(7π/2) ├┤ X ├┤ P(-3.07517149405071) ├┤ P(-π/2) ├┤ H ├┤ P(-π/2) ├┤ P(4.70796418718496) ├┤ P(-π/2) ├┤ H ├┤ P(-π/2) ├┤ P(6.34960646671867) ├┤ X ├┤ P(-1.63751181823046) ├┤ P(-π/2) ├┤ H ├┤ P(-π/2) ├┤ P(4.64596847202556) ├┤ P(-π/2) ├┤ H ├┤ P(-π/2) ├┤ P(9.42921253240149) ├┤ X ├───────┤ P(π/2) ├──────┤ P(-π/2) ├┤ H ├┤ P(-π/2) ├┤ P(4.77895714416051) ├┤ P(-π/2) ├┤ H ├┤ P(-π/2) ├──────┤ P(5π/2) ├──────┤ P(-2.84403484267763) ├┤ P(-π/2) ├┤ H ├┤ P(-π/2) ├─┤ P(2π) ├─┤ P(-π/2) ├┤ H ├┤ P(-π/2) ├┤ P(9.72233577168154) ├──■──┤ P(-2.65071017606403) ├┤ P(-π/2) ├┤ H ├┤ P(-π/2) ├┤ P(6.13245394896806) ├┤ P(-π/2) ├┤ H ├┤ P(-π/2) ├┤ P(8.27814336427716) ├┤ P(-π) ├─┤ P(-π/2) ├┤ H ├┤ P(-π/2) ├┤ P(4.77895714416051) ├┤ P(-π/2) ├┤ H ├┤ P(-π/2) ├┤ P(7π/2) ├┤ X ├┤ P(-3.07517149405071) ├┤ P(-π/2) ├┤ H ├┤ P(-π/2) ├┤ P(4.70796418718496) ├┤ P(-π/2) ├┤ H ├┤ P(-π/2) ├┤ P(6.34960646671867) ├┤ X ├┤ P(-1.63751181823046) ├┤ P(-π/2) ├┤ H ├┤ P(-π/2) ├┤ P(4.64596847202556) ├┤ P(-π/2) ├┤ H ├┤ P(-π/2) ├┤ P(9.42921253240149) ├┤ X ├┤ P(-4.44089209850063e-16) ├┤ P(-π/2) ├┤ H ├┤ P(-π/2) ├──────┤ P(3π/2) ├──────┤ P(-π/2) ├┤ H ├┤ P(-π/2) ├┤ P(9.35820979699356) ├┤ P(-π) ├─┤ P(-π/2) ├┤ H ├┤ P(-π/2) ├──┤ P(π) ├─┤ P(-π/2) ├┤ H ├┤ P(-π/2) ├─┤ P(2π) ├───■──┤ P(0.720890083958762) ├┤ P(-π/2) ├┤ H ├┤ P(-π/2) ├┤ P(3.33586922339811) ├┤ P(-π/2) ├┤ H ├┤ P(-π/2) ├─┤ P(11.716464371523) ├─┤ P(-π) ├─┤ P(-π/2) ├┤ H ├┤ P(-π/2) ├┤ P(4.77895714416051) ├┤ P(-π/2) ├┤ H ├┤ P(-π/2) ├┤ P(7π/2) ├┤ X ├┤ P(-3.07517149405071) ├┤ P(-π/2) ├┤ H ├┤ P(-π/2) ├┤ P(4.70796418718496) ├┤ P(-π/2) ├┤ H ├┤ P(-π/2) ├┤ P(6.34960646671867) ├┤ X ├┤ P(-1.63751181823046) ├┤ P(-π/2) ├┤ H ├┤ P(-π/2) ├┤ P(4.64596847202556) ├┤ P(-π/2) ├┤ H ├┤ P(-π/2) ├┤ P(9.42921253240149) ├┤ X ├┤ P(4.44089209850063e-16) ├┤ P(-π/2) ├┤ H ├┤ P(-π/2) ├──────┤ P(3π/2) ├──────┤ P(-π/2) ├┤ H ├┤ P(-π/2) ├┤ P(7.78741347019866) ├┤ P(-1.73500968299816) ├┤ P(-π/2) ├┤ H ├┤ P(-π/2) ├─┤ P(2π) ├─┤ P(-π/2) ├┤ H ├┤ P(-π/2) ├┤ P(10.831360931361) ├──■──┤ P(-0.946282573752005) ├┤ P(-π/2) ├┤ H ├┤ P(-π/2) ├─┤ P(4.8957547376936) ├┤ P(-π/2) ├┤ H ├┤ P(-π/2) ├┤ P(10.7802812268855) ├─┤ P(-π) ├─┤ P(-π/2) ├┤ H ├┤ P(-π/2) ├┤ P(4.77895714416051) ├┤ P(-π/2) ├┤ H ├┤ P(-π/2) ├┤ P(7π/2) ├┤ X ├┤ P(-3.07517149405071) ├┤ P(-π/2) ├┤ H ├┤ P(-π/2) ├┤ P(4.70796418718496) ├┤ P(-π/2) ├┤ H ├┤ P(-π/2) ├┤ P(6.34960646671867) ├┤ X ├┤ P(-1.63751181823046) ├┤ P(-π/2) ├┤ H ├┤ P(-π/2) ├┤ P(4.64596847202556) ├┤ P(-π/2) ├┤ H ├┤ P(-π/2) ├┤ P(9.42921253240149) ├┤ X ├────────┤ P(π/2) ├───────┤ P(-π/2) ├┤ H ├┤ P(-π/2) ├┤ P(3.20816081736561) ├┤ P(-π/2) ├┤ H ├┤ P(-π/2) ├───────┤ P(3π) ├───────┤ P(-π) ├┤ P(-π/2) ├┤ H ├┤ P(-π/2) ├┤ P(π) ├┤ P(-π/2) ├┤ H ├┤ P(-π/2) ├┤ P(2π) ├──■──┤ P(2.28962632641652) ├┤ P(-π/2) ├┤ H ├┤ P(-π/2) ├──────┤ P(3π/2) ├──────┤ P(-π/2) ├┤ H ├┤ P(-π/2) ├─┤ P(3π) ├──┤ P(1.80958582064431) ├┤ P(-π/2) ├┤ H ├┤ P(-π/2) ├┤ P(π) ├┤ P(-π/2) ├┤ H ├┤ P(-π/2) ├┤ P(7.61519214012507) ├┤ X ├┤ P(-0.00443457163211036) ├┤ P(-π/2) ├┤ H ├┤ P(-π/2) ├┤ P(4.77880948874382) ├┤ P(-π/2) ├┤ H ├┤ P(-π/2) ├┤ P(10.9288587961287) ├┤ X ├─┤ P(π/2) ├┤ P(-π/2) ├┤ H ├┤ P(-π/2) ├┤ P(4.77895714416051) ├┤ P(-π/2) ├┤ H ├┤ P(-π/2) ├─┤ P(2π) ├───■──┤ H ├──■──┤ H ├──■──┤ H ├┤ X ├──■────┤ H ├─────■──┤ H ├──■──┤ X ├┤ H ├─┤ P(π/4) ├──■──┤ H ├──■──┤ H ├──■──┤ H ├┤ X ├┤ H ├────■──────┤ P(π/4) ├──■──┤ H ├─░─────╫─┤M├\n",
       "         ├───────┴┐├─────────┤├───┤├─────────┤├─────────────────────┤├─────────┤├───┤├─────────┤├─────────┤└───┘└──────────────────────┘└─────────┘└───┘└─────────┘└─────────────────────┘└─────────┘└───┘└─────────┘└─────────────────────┘└───┘└──────────────────────┘└─────────┘└───┘└─────────┘└─────────────────────┘└─────────┘└───┘└─────────┘└─────────────────────┘└───┘       └────────┘      └─────────┘└───┘└─────────┘└─────────────────────┘└─────────┘└───┘└─────────┘      └─────────┘      └──────────────────────┘└─────────┘└───┘└─────────┘ └───────┘ └─────────┘└───┘└─────────┘└─────────────────────┘┌─┴─┐├─────────────────────┬┘├─────────┤├───┤├─────────┤└┬────────────────────┤├─────────┤├───┤├─────────┤├─────────────────────┤├───────┴┐├─────────┤├───┤├─────────┤├─────────────────────┤├─────────┤├───┤├─────────┤├─────────┤└───┘└──────────────────────┘└─────────┘└───┘└─────────┘└─────────────────────┘└─────────┘└───┘└─────────┘└─────────────────────┘└───┘└──────────────────────┘└─────────┘└───┘└─────────┘└─────────────────────┘└─────────┘└───┘└─────────┘└─────────────────────┘└───┘└──────────────────────────┘└─────────┘└───┘└─────────┘      └─────────┘      └─────────┘└───┘└─────────┘└─────────────────────┘└───────┘ └─────────┘└───┘└─────────┘  └──────┘ └─────────┘└───┘└─────────┘ └───────┘ ┌─┴─┐├──────────────────────┤├─────────┤├───┤├─────────┤├─────────────────────┤├─────────┤├───┤├─────────┤┌┴────────────────────┤┌┴───────┴┐├─────────┤├───┤├─────────┤├─────────────────────┤├─────────┤├───┤├─────────┤├─────────┤└───┘└──────────────────────┘└─────────┘└───┘└─────────┘└─────────────────────┘└─────────┘└───┘└─────────┘└─────────────────────┘└───┘└──────────────────────┘└─────────┘└───┘└─────────┘└─────────────────────┘└─────────┘└───┘└─────────┘└─────────────────────┘└───┘└─────────────────────────┘└─────────┘└───┘└─────────┘      └─────────┘      └─────────┘└───┘└─────────┘└─────────────────────┘└──────────────────────┘└─────────┘└───┘└─────────┘ └───────┘ └─────────┘└───┘└─────────┘└────────────────────┘┌─┴─┐├───────────────────────┤├─────────┤├───┤├─────────┤┌┴────────────────────┤├─────────┤├───┤├─────────┤├─────────────────────┤┌┴───────┴┐├─────────┤├───┤├─────────┤├─────────────────────┤├─────────┤├───┤├─────────┤├─────────┤└───┘└──────────────────────┘└─────────┘└───┘└─────────┘└─────────────────────┘└─────────┘└───┘└─────────┘└─────────────────────┘└───┘└──────────────────────┘└─────────┘└───┘└─────────┘└─────────────────────┘└─────────┘└───┘└─────────┘└─────────────────────┘└───┘        └────────┘       └─────────┘└───┘└─────────┘└─────────────────────┘└─────────┘└───┘└─────────┘       └───────┘       └───────┘└─────────┘└───┘└─────────┘└──────┘└─────────┘└───┘└─────────┘└───────┘┌─┴─┐└──────┬────────┬─────┘├─────────┤├───┤├─────────┤┌─────┴─────────┴─────┐├─────────┤├───┤├─────────┤┌┴───────┴─┐└─────────────────────┘└─────────┘└───┘└─────────┘└──────┘└─────────┘└───┘└─────────┘└─────────────────────┘└───┘└─────────────────────────┘└─────────┘└───┘└─────────┘└─────────────────────┘└─────────┘└───┘└─────────┘└─────────────────────┘└───┘ └────────┘└─────────┘└───┘└─────────┘└─────────────────────┘└─────────┘└───┘└─────────┘ └───────┘ ┌─┴─┐├───┤┌─┴─┐├───┤┌─┴─┐├───┤└───┘┌─┴─┐  ├───┤   ┌─┴─┐├───┤┌─┴─┐├───┤└───┘ └────────┘┌─┴─┐├───┤┌─┴─┐├───┤┌─┴─┐└───┘└───┘└───┘  ┌─┴─┐   ┌┴────────┤┌─┴─┐├───┤ ░ ┌─┐ ║ └╥┘\n",
       "q_2 -> 2 ┤ P(π/2) ├┤ P(-π/2) ├┤ H ├┤ P(-π/2) ├┤ P(3.76656390823947) ├┤ P(-π/2) ├┤ H ├┤ P(-π/2) ├┤ P(7π/2) ├──────────────────────────────────────────────────────────────────────────────────────────────────────────────────────────────────────────────────────────────────────────────────────────────────────────────────────────────────────────────────────────────────────────────────────────────────────────────────────────────────────────────────────────────────────────────────────────────────────────────────────────────────────────────────────────────────────────────────────────────────────────────────┤ X ├┤ P(2.24163662919662) ├─┤ P(-π/2) ├┤ H ├┤ P(-π/2) ├─┤ P(4.6891553743391) ├┤ P(-π/2) ├┤ H ├┤ P(-π/2) ├┤ P(11.4222221096246) ├┤ P(π/2) ├┤ P(-π/2) ├┤ H ├┤ P(-π/2) ├┤ P(3.30058667798127) ├┤ P(-π/2) ├┤ H ├┤ P(-π/2) ├┤ P(7π/2) ├─────────────────────────────────────────────────────────────────────────────────────────────────────────────────────────────────────────────────────────────────────────────────────────────────────────────────────────────────────────────────────────────────────────────────────────────────────────────────────────────────────────────────────────────────────────────────────────────────────────────────────────────────────────────────────────────────────────────────────────────┤ X ├┤ P(0.829262316271711) ├┤ P(-π/2) ├┤ H ├┤ P(-π/2) ├┤ P(4.43512513298352) ├┤ P(-π/2) ├┤ H ├┤ P(-π/2) ├┤ P(11.6173533601044) ├┤ P(-π/2) ├┤ P(-π/2) ├┤ H ├┤ P(-π/2) ├┤ P(5.49309665010892) ├┤ P(-π/2) ├┤ H ├┤ P(-π/2) ├┤ P(7π/2) ├─────────────────────────────────────────────────────────────────────────────────────────────────────────────────────────────────────────────────────────────────────────────────────────────────────────────────────────────────────────────────────────────────────────────────────────────────────────────────────────────────────────────────────────────────────────────────────────────────────────────────────────────────────────────────────────────────────────────────────────────────────────────────────┤ X ├┤ P(0.0793974862321627) ├┤ P(-π/2) ├┤ H ├┤ P(-π/2) ├┤ P(5.51889446107598) ├┤ P(-π/2) ├┤ H ├┤ P(-π/2) ├┤ P(9.75073032732052) ├┤ P(-π/2) ├┤ P(-π/2) ├┤ H ├┤ P(-π/2) ├┤ P(5.57918086439534) ├┤ P(-π/2) ├┤ H ├┤ P(-π/2) ├┤ P(7π/2) ├────────────────────────────────────────────────────────────────────────────────────────────────────────────────────────────────────────────────────────────────────────────────────────────────────────────────────────────────────────────────────────────────────────────────────────────────────────────────────────────────────────────────────────────────────────────────────────────────────────────────────────────────────────────────────────────────────────────────────┤ X ├───────┤ P(π/2) ├──────┤ P(-π/2) ├┤ H ├┤ P(-π/2) ├┤ P(4.22979640452201) ├┤ P(-π/2) ├┤ H ├┤ P(-π/2) ├┤ P(15π/4) ├────────────────────────────────────────────────────────────────────────────────────────────────────────────────────────────────────────────────────────────────────────────────────────────────────────────────────────────────────────────────────────────────────────────────────────────────────────────────────────────────────────────────────────┤ X ├┤ H ├┤ X ├┤ H ├┤ X ├┤ H ├─────┤ X ├──┤ H ├───┤ X ├┤ H ├┤ X ├┤ H ├────────────────┤ X ├┤ H ├┤ X ├┤ H ├┤ X ├─────────────────┤ X ├───┤ P(-π/4) ├┤ X ├┤ H ├─░─┤M├─╫──╫─\n",
       "         └────────┘└─────────┘└───┘└─────────┘└─────────────────────┘└─────────┘└───┘└─────────┘└─────────┘                                                                                                                                                                                                                                                                                                                                                                                                                                                                                                                  └───┘└─────────────────────┘ └─────────┘└───┘└─────────┘ └────────────────────┘└─────────┘└───┘└─────────┘└─────────────────────┘└────────┘└─────────┘└───┘└─────────┘└─────────────────────┘└─────────┘└───┘└─────────┘└─────────┘                                                                                                                                                                                                                                                                                                                                                                                                                                                                                             └───┘└──────────────────────┘└─────────┘└───┘└─────────┘└─────────────────────┘└─────────┘└───┘└─────────┘└─────────────────────┘└─────────┘└─────────┘└───┘└─────────┘└─────────────────────┘└─────────┘└───┘└─────────┘└─────────┘                                                                                                                                                                                                                                                                                                                                                                                                                                                                                                                     └───┘└───────────────────────┘└─────────┘└───┘└─────────┘└─────────────────────┘└─────────┘└───┘└─────────┘└─────────────────────┘└─────────┘└─────────┘└───┘└─────────┘└─────────────────────┘└─────────┘└───┘└─────────┘└─────────┘                                                                                                                                                                                                                                                                                                                                                                                                                                                                                    └───┘       └────────┘      └─────────┘└───┘└─────────┘└─────────────────────┘└─────────┘└───┘└─────────┘└──────────┘                                                                                                                                                                                                                                                                                                                                                        └───┘└───┘└───┘└───┘└───┘└───┘     └───┘  └───┘   └───┘└───┘└───┘└───┘                └───┘└───┘└───┘└───┘└───┘                 └───┘   └─────────┘└───┘└───┘ ░ └╥┘ ║  ║ \n",
       " meas: 3/════════════════════════════════════════════════════════════════════════════════════════════════════════════════════════════════════════════════════════════════════════════════════════════════════════════════════════════════════════════════════════════════════════════════════════════════════════════════════════════════════════════════════════════════════════════════════════════════════════════════════════════════════════════════════════════════════════════════════════════════════════════════════════════════════════════════════════════════════════════════════════════════════════════════════════════════════════════════════════════════════════════════════════════════════════════════════════════════════════════════════════════════════════════════════════════════════════════════════════════════════════════════════════════════════════════════════════════════════════════════════════════════════════════════════════════════════════════════════════════════════════════════════════════════════════════════════════════════════════════════════════════════════════════════════════════════════════════════════════════════════════════════════════════════════════════════════════════════════════════════════════════════════════════════════════════════════════════════════════════════════════════════════════════════════════════════════════════════════════════════════════════════════════════════════════════════════════════════════════════════════════════════════════════════════════════════════════════════════════════════════════════════════════════════════════════════════════════════════════════════════════════════════════════════════════════════════════════════════════════════════════════════════════════════════════════════════════════════════════════════════════════════════════════════════════════════════════════════════════════════════════════════════════════════════════════════════════════════════════════════════════════════════════════════════════════════════════════════════════════════════════════════════════════════════════════════════════════════════════════════════════════════════════════════════════════════════════════════════════════════════════════════════════════════════════════════════════════════════════════════════════════════════════════════════════════════════════════════════════════════════════════════════════════════════════════════════════════════════════════════════════════════════════════════════════════════════════════════════════════════════════════════════════════════════════════════════════════════════════════════════════════════════════════════════════════════════════════════════════════════════════════════════════════════════════════════════════════════════════════════════════════════════════════════════════════════════════════════════════════════════════════════════════════════════════════════════════════════════════════════════════════════════════════════════════════════════════════════════════════════════════════════════════════════════════════════════════════════════════════════════════════════════════════════════════════════════════════════════════════════════════════════════════════════════════════════════════════════════════════════════════════════════════════════════════════════════════════════════════════════════════════════════════════════════════════════════════════════════╩══╩══╩═\n",
       "                                                                                                                                                                                                                                                                                                                                                                                                                                                                                                                                                                                                                                                                                                                                                                                                                                                                                                                                                                                                                                                                                                                                                                                                                                                                                                                                                                                                                                                                                                                                                                                                                                                                                                                                                                                                                                                                                                                                                                                                                                                                                                                                                                                                                                                                                                                                                                                                                                                                                                                                                                                                                                                                                                                                                                                                                                                                                                                                                                                                                                                                                                                                                                                                                                                                                                                                                                                                                                                                                             0  1  2 </pre>"
      ],
      "text/plain": [
       "global phase: 3.622\n",
       "         ┌────────┐┌─────────┐┌───┐┌─────────┐      ┌─────────┐      ┌─────────┐┌───┐┌─────────┐┌─────────┐            ┌────────┐       ┌─────────┐┌───┐┌─────────┐      ┌─────────┐      ┌─────────┐┌───┐┌─────────┐      ┌─────────┐                 ┌─────────┐       ┌─────────┐┌───┐┌─────────┐      ┌─────────┐      ┌─────────┐┌───┐┌─────────┐       ┌───────┐            ┌─────────────────────┐┌─────────┐┌───┐┌─────────┐        ┌──────┐       ┌─────────┐┌───┐┌─────────┐┌─────────────────────┐       ┌────────┐       ┌─────────┐┌───┐┌─────────┐┌─────────┐┌─────────┐┌───┐┌─────────┐      ┌─────────┐                                                                                                                                                                                                                                                     ┌────────┐       ┌─────────┐┌───┐┌─────────┐      ┌─────────┐      ┌─────────┐┌───┐┌─────────┐      ┌─────────┐                 ┌─────────┐       ┌─────────┐┌───┐┌─────────┐      ┌─────────┐      ┌─────────┐┌───┐┌─────────┐       ┌───────┐              ┌──────────────────────┐  ┌─────────┐┌───┐┌─────────┐┌─────────────────────┐┌─────────┐┌───┐┌─────────┐ ┌────────────────────┐┌────────┐┌─────────┐┌───┐┌─────────┐┌─────────┐┌─────────┐┌───┐┌─────────┐┌─────────┐                                                                                                                                                                                                                                                ┌────────┐       ┌─────────┐┌───┐┌─────────┐      ┌─────────┐      ┌─────────┐┌───┐┌─────────┐      ┌─────────┐                 ┌─────────┐       ┌─────────┐┌───┐┌─────────┐      ┌─────────┐      ┌─────────┐┌───┐┌─────────┐       ┌───────┐             ┌───────────────────────┐ ┌─────────┐┌───┐┌─────────┐┌─────────────────────┐┌─────────┐┌───┐┌─────────┐┌─────────────────────┐       ┌────────┐       ┌─────────┐┌───┐┌─────────┐┌─────────┐┌─────────┐┌───┐┌─────────┐     ┌─────────┐                                                                                                                                                                                                                                                       ┌────────┐       ┌─────────┐┌───┐┌─────────┐      ┌─────────┐      ┌─────────┐┌───┐┌─────────┐      ┌─────────┐                 ┌─────────┐       ┌─────────┐┌───┐┌─────────┐      ┌─────────┐      ┌─────────┐┌───┐┌─────────┐       ┌───────┐            ┌───────────────────────┐┌─────────┐┌───┐┌─────────┐┌─────────────────────┐┌─────────┐┌───┐┌─────────┐┌─────────────────────┐                                                                                                                                                                                                                                                                                                                              ┌─────────┐        ┌─────────┐┌───┐┌─────────┐      ┌─────────┐      ┌─────────┐┌───┐┌─────────┐       ┌───────┐            ┌─────────┐┌─────────┐┌───┐┌─────────┐      ┌─────────┐      ┌─────────┐┌───┐┌─────────┐┌─────────┐                                   ┌───┐┌────────┐┌───┐               ┌───┐┌─────────┐┌───┐                              ┌───┐┌────────┐                      ░    ┌─┐   \n",
       "q_1 -> 0 ┤ P(0.0) ├┤ P(-π/2) ├┤ H ├┤ P(-π/2) ├──────┤ P(3π/2) ├──────┤ P(-π/2) ├┤ H ├┤ P(-π/2) ├┤ P(7π/2) ├──■─────────┤ P(π/2) ├───────┤ P(-π/2) ├┤ H ├┤ P(-π/2) ├──────┤ P(3π/2) ├──────┤ P(-π/2) ├┤ H ├┤ P(-π/2) ├──────┤ P(5π/2) ├────────■────────┤ P(-π/2) ├───────┤ P(-π/2) ├┤ H ├┤ P(-π/2) ├──────┤ P(3π/2) ├──────┤ P(-π/2) ├┤ H ├┤ P(-π/2) ├───────┤ P(3π) ├─────────■──┤ P(2.55359005004222) ├┤ P(-π/2) ├┤ H ├┤ P(-π/2) ├────────┤ P(π) ├───────┤ P(-π/2) ├┤ H ├┤ P(-π/2) ├┤ P(10.0127805643169) ├───────┤ P(0.0) ├───────┤ P(-π/2) ├┤ H ├┤ P(-π/2) ├┤ P(3π/2) ├┤ P(-π/2) ├┤ H ├┤ P(-π/2) ├──────┤ P(7π/2) ├───────────────────────────────────────────────────────────────────────────────────────────────────────────────────────────────────────────────────────────────────────────────────────────────────────────────────────────────────────────■─────────┤ P(π/2) ├───────┤ P(-π/2) ├┤ H ├┤ P(-π/2) ├──────┤ P(3π/2) ├──────┤ P(-π/2) ├┤ H ├┤ P(-π/2) ├──────┤ P(5π/2) ├────────■────────┤ P(-π/2) ├───────┤ P(-π/2) ├┤ H ├┤ P(-π/2) ├──────┤ P(3π/2) ├──────┤ P(-π/2) ├┤ H ├┤ P(-π/2) ├───────┤ P(3π) ├─────────■────┤ P(-1.70834630517445) ├──┤ P(-π/2) ├┤ H ├┤ P(-π/2) ├┤ P(4.65054967478377) ├┤ P(-π/2) ├┤ H ├┤ P(-π/2) ├─┤ P(11.066556102168) ├┤ P(0.0) ├┤ P(-π/2) ├┤ H ├┤ P(-π/2) ├┤ P(3π/2) ├┤ P(-π/2) ├┤ H ├┤ P(-π/2) ├┤ P(7π/2) ├──────────────────────────────────────────────────────────────────────────────────────────────────────────────────────────────────────────────────────────────────────────────────────────────────────────────────────────────────────■─────────┤ P(π/2) ├───────┤ P(-π/2) ├┤ H ├┤ P(-π/2) ├──────┤ P(3π/2) ├──────┤ P(-π/2) ├┤ H ├┤ P(-π/2) ├──────┤ P(5π/2) ├────────■────────┤ P(-π/2) ├───────┤ P(-π/2) ├┤ H ├┤ P(-π/2) ├──────┤ P(3π/2) ├──────┤ P(-π/2) ├┤ H ├┤ P(-π/2) ├───────┤ P(3π) ├─────────■───┤ P(-0.128995593023095) ├─┤ P(-π/2) ├┤ H ├┤ P(-π/2) ├┤ P(4.57510358656354) ├┤ P(-π/2) ├┤ H ├┤ P(-π/2) ├┤ P(9.29578236774628) ├───────┤ P(0.0) ├───────┤ P(-π/2) ├┤ H ├┤ P(-π/2) ├┤ P(3π/2) ├┤ P(-π/2) ├┤ H ├┤ P(-π/2) ├─────┤ P(7π/2) ├─────────────────────────────────────────────────────────────────────────────────────────────────────────────────────────────────────────────────────────────────────────────────────────────────────────────────────────────────────────────■─────────┤ P(π/2) ├───────┤ P(-π/2) ├┤ H ├┤ P(-π/2) ├──────┤ P(3π/2) ├──────┤ P(-π/2) ├┤ H ├┤ P(-π/2) ├──────┤ P(5π/2) ├────────■────────┤ P(-π/2) ├───────┤ P(-π/2) ├┤ H ├┤ P(-π/2) ├──────┤ P(3π/2) ├──────┤ P(-π/2) ├┤ H ├┤ P(-π/2) ├───────┤ P(3π) ├─────────■──┤ P(-0.712452909500463) ├┤ P(-π/2) ├┤ H ├┤ P(-π/2) ├┤ P(6.03984286001465) ├┤ P(-π/2) ├┤ H ├┤ P(-π/2) ├┤ P(12.0543872339443) ├───────────────────────────────────────────────────────────────────────────────────────────────────────────────────────────────────────────────────────────────────────────────────────────────────────────────────────────────────────────────────────────────────────────────────────────────────────────────────■──────────┤ P(-π/2) ├────────┤ P(-π/2) ├┤ H ├┤ P(-π/2) ├──────┤ P(7π/4) ├──────┤ P(-π/2) ├┤ H ├┤ P(-π/2) ├───────┤ P(2π) ├─────────■──┤ P(-π/2) ├┤ P(-π/2) ├┤ H ├┤ P(-π/2) ├──────┤ P(7π/4) ├──────┤ P(-π/2) ├┤ H ├┤ P(-π/2) ├┤ P(5π/2) ├────────────────────────────────■──┤ H ├┤ P(π/4) ├┤ H ├────────────■──┤ H ├┤ P(-π/4) ├┤ H ├───────────────────────────■──┤ H ├┤ P(π/4) ├──────────────────────░────┤M├───\n",
       "         ├───────┬┘├─────────┤├───┤├─────────┤┌─────┴─────────┴─────┐├─────────┤├───┤├─────────┤├─────────┤┌─┴─┐┌──────┴────────┴──────┐├─────────┤├───┤├─────────┤┌─────┴─────────┴─────┐├─────────┤├───┤├─────────┤┌─────┴─────────┴─────┐┌─┴─┐┌─────┴─────────┴──────┐├─────────┤├───┤├─────────┤┌─────┴─────────┴─────┐├─────────┤├───┤├─────────┤┌──────┴───────┴──────┐┌─┴─┐└──────┬────────┬─────┘├─────────┤├───┤├─────────┤┌───────┴──────┴──────┐├─────────┤├───┤├─────────┤└─────┬─────────┬─────┘┌──────┴────────┴──────┐├─────────┤├───┤├─────────┤└┬───────┬┘├─────────┤├───┤├─────────┤┌─────┴─────────┴─────┐     ┌──────────────────────┐┌─────────┐┌───┐┌─────────┐┌─────────────────────┐┌─────────┐┌───┐┌─────────┐┌─────────────────────┐┌───────┐ ┌─────────┐┌───┐┌─────────┐┌─────────────────────┐┌─────────┐┌───┐┌─────────┐┌─────────┐┌─┴─┐┌──────┴────────┴──────┐├─────────┤├───┤├─────────┤┌─────┴─────────┴─────┐├─────────┤├───┤├─────────┤┌─────┴─────────┴─────┐┌─┴─┐┌─────┴─────────┴──────┐├─────────┤├───┤├─────────┤┌─────┴─────────┴─────┐├─────────┤├───┤├─────────┤┌──────┴───────┴──────┐┌─┴─┐┌─┴──────────────────────┴─┐├─────────┤├───┤├─────────┤└─────┬─────────┬─────┘├─────────┤├───┤├─────────┤┌┴────────────────────┤├───────┬┘├─────────┤├───┤├─────────┤└─┬──────┬┘├─────────┤├───┤├─────────┤└┬───────┬┘     ┌──────────────────────┐┌─────────┐┌───┐┌─────────┐┌─────────────────────┐┌─────────┐┌───┐┌─────────┐ ┌────────────────────┐ ┌───────┐ ┌─────────┐┌───┐┌─────────┐┌─────────────────────┐┌─────────┐┌───┐┌─────────┐┌─────────┐┌─┴─┐┌──────┴────────┴──────┐├─────────┤├───┤├─────────┤┌─────┴─────────┴─────┐├─────────┤├───┤├─────────┤┌─────┴─────────┴─────┐┌─┴─┐┌─────┴─────────┴──────┐├─────────┤├───┤├─────────┤┌─────┴─────────┴─────┐├─────────┤├───┤├─────────┤┌──────┴───────┴──────┐┌─┴─┐┌┴───────────────────────┴┐├─────────┤├───┤├─────────┤└─────┬─────────┬─────┘├─────────┤├───┤├─────────┤├─────────────────────┤┌──────┴────────┴──────┐├─────────┤├───┤├─────────┤└┬───────┬┘├─────────┤├───┤├─────────┤┌────┴─────────┴─────┐     ┌───────────────────────┐┌─────────┐┌───┐┌─────────┐ ┌────────────────────┐┌─────────┐┌───┐┌─────────┐┌─────────────────────┐ ┌───────┐ ┌─────────┐┌───┐┌─────────┐┌─────────────────────┐┌─────────┐┌───┐┌─────────┐┌─────────┐┌─┴─┐┌──────┴────────┴──────┐├─────────┤├───┤├─────────┤┌─────┴─────────┴─────┐├─────────┤├───┤├─────────┤┌─────┴─────────┴─────┐┌─┴─┐┌─────┴─────────┴──────┐├─────────┤├───┤├─────────┤┌─────┴─────────┴─────┐├─────────┤├───┤├─────────┤┌──────┴───────┴──────┐┌─┴─┐└───────┬────────┬──────┘├─────────┤├───┤├─────────┤├─────────────────────┤├─────────┤├───┤├─────────┤└──────┬───────┬──────┘┌───────┐┌─────────┐┌───┐┌─────────┐┌──────┐┌─────────┐┌───┐┌─────────┐┌───────┐     ┌─────────────────────┐┌─────────┐┌───┐┌─────────┐      ┌─────────┐      ┌─────────┐┌───┐┌─────────┐ ┌───────┐  ┌─────────────────────┐┌─────────┐┌───┐┌─────────┐┌──────┐┌─────────┐┌───┐┌─────────┐┌─────────────────────┐┌─┴─┐┌───────┴─────────┴───────┐├─────────┤├───┤├─────────┤┌─────┴─────────┴─────┐├─────────┤├───┤├─────────┤┌──────┴───────┴──────┐┌─┴─┐└┬────────┤├─────────┤├───┤├─────────┤┌─────┴─────────┴─────┐├─────────┤├───┤├─────────┤└┬───────┬┘     ┌───┐     ┌───┐     ┌───┐┌─┴─┐└───┘└─┬───┬──┘└───┘┌───┐     ┌─┴─┐├───┤└┬────────┤└───┘┌───┐     ┌───┐     ┌───┐┌─┴─┐├───┤└────────┘ ┌────────┐     ┌───┐ ░    └╥┘┌─┐\n",
       "q_0 -> 1 ┤ P(-π) ├─┤ P(-π/2) ├┤ H ├┤ P(-π/2) ├┤ P(4.77895714416051) ├┤ P(-π/2) ├┤ H ├┤ P(-π/2) ├┤ P(7π/2) ├┤ X ├┤ P(-3.07517149405071) ├┤ P(-π/2) ├┤ H ├┤ P(-π/2) ├┤ P(4.70796418718496) ├┤ P(-π/2) ├┤ H ├┤ P(-π/2) ├┤ P(6.34960646671867) ├┤ X ├┤ P(-1.63751181823046) ├┤ P(-π/2) ├┤ H ├┤ P(-π/2) ├┤ P(4.64596847202556) ├┤ P(-π/2) ├┤ H ├┤ P(-π/2) ├┤ P(9.42921253240149) ├┤ X ├───────┤ P(π/2) ├──────┤ P(-π/2) ├┤ H ├┤ P(-π/2) ├┤ P(4.77895714416051) ├┤ P(-π/2) ├┤ H ├┤ P(-π/2) ├──────┤ P(5π/2) ├──────┤ P(-2.84403484267763) ├┤ P(-π/2) ├┤ H ├┤ P(-π/2) ├─┤ P(2π) ├─┤ P(-π/2) ├┤ H ├┤ P(-π/2) ├┤ P(9.72233577168154) ├──■──┤ P(-2.65071017606403) ├┤ P(-π/2) ├┤ H ├┤ P(-π/2) ├┤ P(6.13245394896806) ├┤ P(-π/2) ├┤ H ├┤ P(-π/2) ├┤ P(8.27814336427716) ├┤ P(-π) ├─┤ P(-π/2) ├┤ H ├┤ P(-π/2) ├┤ P(4.77895714416051) ├┤ P(-π/2) ├┤ H ├┤ P(-π/2) ├┤ P(7π/2) ├┤ X ├┤ P(-3.07517149405071) ├┤ P(-π/2) ├┤ H ├┤ P(-π/2) ├┤ P(4.70796418718496) ├┤ P(-π/2) ├┤ H ├┤ P(-π/2) ├┤ P(6.34960646671867) ├┤ X ├┤ P(-1.63751181823046) ├┤ P(-π/2) ├┤ H ├┤ P(-π/2) ├┤ P(4.64596847202556) ├┤ P(-π/2) ├┤ H ├┤ P(-π/2) ├┤ P(9.42921253240149) ├┤ X ├┤ P(-4.44089209850063e-16) ├┤ P(-π/2) ├┤ H ├┤ P(-π/2) ├──────┤ P(3π/2) ├──────┤ P(-π/2) ├┤ H ├┤ P(-π/2) ├┤ P(9.35820979699356) ├┤ P(-π) ├─┤ P(-π/2) ├┤ H ├┤ P(-π/2) ├──┤ P(π) ├─┤ P(-π/2) ├┤ H ├┤ P(-π/2) ├─┤ P(2π) ├───■──┤ P(0.720890083958762) ├┤ P(-π/2) ├┤ H ├┤ P(-π/2) ├┤ P(3.33586922339811) ├┤ P(-π/2) ├┤ H ├┤ P(-π/2) ├─┤ P(11.716464371523) ├─┤ P(-π) ├─┤ P(-π/2) ├┤ H ├┤ P(-π/2) ├┤ P(4.77895714416051) ├┤ P(-π/2) ├┤ H ├┤ P(-π/2) ├┤ P(7π/2) ├┤ X ├┤ P(-3.07517149405071) ├┤ P(-π/2) ├┤ H ├┤ P(-π/2) ├┤ P(4.70796418718496) ├┤ P(-π/2) ├┤ H ├┤ P(-π/2) ├┤ P(6.34960646671867) ├┤ X ├┤ P(-1.63751181823046) ├┤ P(-π/2) ├┤ H ├┤ P(-π/2) ├┤ P(4.64596847202556) ├┤ P(-π/2) ├┤ H ├┤ P(-π/2) ├┤ P(9.42921253240149) ├┤ X ├┤ P(4.44089209850063e-16) ├┤ P(-π/2) ├┤ H ├┤ P(-π/2) ├──────┤ P(3π/2) ├──────┤ P(-π/2) ├┤ H ├┤ P(-π/2) ├┤ P(7.78741347019866) ├┤ P(-1.73500968299816) ├┤ P(-π/2) ├┤ H ├┤ P(-π/2) ├─┤ P(2π) ├─┤ P(-π/2) ├┤ H ├┤ P(-π/2) ├┤ P(10.831360931361) ├──■──┤ P(-0.946282573752005) ├┤ P(-π/2) ├┤ H ├┤ P(-π/2) ├─┤ P(4.8957547376936) ├┤ P(-π/2) ├┤ H ├┤ P(-π/2) ├┤ P(10.7802812268855) ├─┤ P(-π) ├─┤ P(-π/2) ├┤ H ├┤ P(-π/2) ├┤ P(4.77895714416051) ├┤ P(-π/2) ├┤ H ├┤ P(-π/2) ├┤ P(7π/2) ├┤ X ├┤ P(-3.07517149405071) ├┤ P(-π/2) ├┤ H ├┤ P(-π/2) ├┤ P(4.70796418718496) ├┤ P(-π/2) ├┤ H ├┤ P(-π/2) ├┤ P(6.34960646671867) ├┤ X ├┤ P(-1.63751181823046) ├┤ P(-π/2) ├┤ H ├┤ P(-π/2) ├┤ P(4.64596847202556) ├┤ P(-π/2) ├┤ H ├┤ P(-π/2) ├┤ P(9.42921253240149) ├┤ X ├────────┤ P(π/2) ├───────┤ P(-π/2) ├┤ H ├┤ P(-π/2) ├┤ P(3.20816081736561) ├┤ P(-π/2) ├┤ H ├┤ P(-π/2) ├───────┤ P(3π) ├───────┤ P(-π) ├┤ P(-π/2) ├┤ H ├┤ P(-π/2) ├┤ P(π) ├┤ P(-π/2) ├┤ H ├┤ P(-π/2) ├┤ P(2π) ├──■──┤ P(2.28962632641652) ├┤ P(-π/2) ├┤ H ├┤ P(-π/2) ├──────┤ P(3π/2) ├──────┤ P(-π/2) ├┤ H ├┤ P(-π/2) ├─┤ P(3π) ├──┤ P(1.80958582064431) ├┤ P(-π/2) ├┤ H ├┤ P(-π/2) ├┤ P(π) ├┤ P(-π/2) ├┤ H ├┤ P(-π/2) ├┤ P(7.61519214012507) ├┤ X ├┤ P(-0.00443457163211036) ├┤ P(-π/2) ├┤ H ├┤ P(-π/2) ├┤ P(4.77880948874382) ├┤ P(-π/2) ├┤ H ├┤ P(-π/2) ├┤ P(10.9288587961287) ├┤ X ├─┤ P(π/2) ├┤ P(-π/2) ├┤ H ├┤ P(-π/2) ├┤ P(4.77895714416051) ├┤ P(-π/2) ├┤ H ├┤ P(-π/2) ├─┤ P(2π) ├───■──┤ H ├──■──┤ H ├──■──┤ H ├┤ X ├──■────┤ H ├─────■──┤ H ├──■──┤ X ├┤ H ├─┤ P(π/4) ├──■──┤ H ├──■──┤ H ├──■──┤ H ├┤ X ├┤ H ├────■──────┤ P(π/4) ├──■──┤ H ├─░─────╫─┤M├\n",
       "         ├───────┴┐├─────────┤├───┤├─────────┤├─────────────────────┤├─────────┤├───┤├─────────┤├─────────┤└───┘└──────────────────────┘└─────────┘└───┘└─────────┘└─────────────────────┘└─────────┘└───┘└─────────┘└─────────────────────┘└───┘└──────────────────────┘└─────────┘└───┘└─────────┘└─────────────────────┘└─────────┘└───┘└─────────┘└─────────────────────┘└───┘       └────────┘      └─────────┘└───┘└─────────┘└─────────────────────┘└─────────┘└───┘└─────────┘      └─────────┘      └──────────────────────┘└─────────┘└───┘└─────────┘ └───────┘ └─────────┘└───┘└─────────┘└─────────────────────┘┌─┴─┐├─────────────────────┬┘├─────────┤├───┤├─────────┤└┬────────────────────┤├─────────┤├───┤├─────────┤├─────────────────────┤├───────┴┐├─────────┤├───┤├─────────┤├─────────────────────┤├─────────┤├───┤├─────────┤├─────────┤└───┘└──────────────────────┘└─────────┘└───┘└─────────┘└─────────────────────┘└─────────┘└───┘└─────────┘└─────────────────────┘└───┘└──────────────────────┘└─────────┘└───┘└─────────┘└─────────────────────┘└─────────┘└───┘└─────────┘└─────────────────────┘└───┘└──────────────────────────┘└─────────┘└───┘└─────────┘      └─────────┘      └─────────┘└───┘└─────────┘└─────────────────────┘└───────┘ └─────────┘└───┘└─────────┘  └──────┘ └─────────┘└───┘└─────────┘ └───────┘ ┌─┴─┐├──────────────────────┤├─────────┤├───┤├─────────┤├─────────────────────┤├─────────┤├───┤├─────────┤┌┴────────────────────┤┌┴───────┴┐├─────────┤├───┤├─────────┤├─────────────────────┤├─────────┤├───┤├─────────┤├─────────┤└───┘└──────────────────────┘└─────────┘└───┘└─────────┘└─────────────────────┘└─────────┘└───┘└─────────┘└─────────────────────┘└───┘└──────────────────────┘└─────────┘└───┘└─────────┘└─────────────────────┘└─────────┘└───┘└─────────┘└─────────────────────┘└───┘└─────────────────────────┘└─────────┘└───┘└─────────┘      └─────────┘      └─────────┘└───┘└─────────┘└─────────────────────┘└──────────────────────┘└─────────┘└───┘└─────────┘ └───────┘ └─────────┘└───┘└─────────┘└────────────────────┘┌─┴─┐├───────────────────────┤├─────────┤├───┤├─────────┤┌┴────────────────────┤├─────────┤├───┤├─────────┤├─────────────────────┤┌┴───────┴┐├─────────┤├───┤├─────────┤├─────────────────────┤├─────────┤├───┤├─────────┤├─────────┤└───┘└──────────────────────┘└─────────┘└───┘└─────────┘└─────────────────────┘└─────────┘└───┘└─────────┘└─────────────────────┘└───┘└──────────────────────┘└─────────┘└───┘└─────────┘└─────────────────────┘└─────────┘└───┘└─────────┘└─────────────────────┘└───┘        └────────┘       └─────────┘└───┘└─────────┘└─────────────────────┘└─────────┘└───┘└─────────┘       └───────┘       └───────┘└─────────┘└───┘└─────────┘└──────┘└─────────┘└───┘└─────────┘└───────┘┌─┴─┐└──────┬────────┬─────┘├─────────┤├───┤├─────────┤┌─────┴─────────┴─────┐├─────────┤├───┤├─────────┤┌┴───────┴─┐└─────────────────────┘└─────────┘└───┘└─────────┘└──────┘└─────────┘└───┘└─────────┘└─────────────────────┘└───┘└─────────────────────────┘└─────────┘└───┘└─────────┘└─────────────────────┘└─────────┘└───┘└─────────┘└─────────────────────┘└───┘ └────────┘└─────────┘└───┘└─────────┘└─────────────────────┘└─────────┘└───┘└─────────┘ └───────┘ ┌─┴─┐├───┤┌─┴─┐├───┤┌─┴─┐├───┤└───┘┌─┴─┐  ├───┤   ┌─┴─┐├───┤┌─┴─┐├───┤└───┘ └────────┘┌─┴─┐├───┤┌─┴─┐├───┤┌─┴─┐└───┘└───┘└───┘  ┌─┴─┐   ┌┴────────┤┌─┴─┐├───┤ ░ ┌─┐ ║ └╥┘\n",
       "q_2 -> 2 ┤ P(π/2) ├┤ P(-π/2) ├┤ H ├┤ P(-π/2) ├┤ P(3.76656390823947) ├┤ P(-π/2) ├┤ H ├┤ P(-π/2) ├┤ P(7π/2) ├──────────────────────────────────────────────────────────────────────────────────────────────────────────────────────────────────────────────────────────────────────────────────────────────────────────────────────────────────────────────────────────────────────────────────────────────────────────────────────────────────────────────────────────────────────────────────────────────────────────────────────────────────────────────────────────────────────────────────────────────────────────────────┤ X ├┤ P(2.24163662919662) ├─┤ P(-π/2) ├┤ H ├┤ P(-π/2) ├─┤ P(4.6891553743391) ├┤ P(-π/2) ├┤ H ├┤ P(-π/2) ├┤ P(11.4222221096246) ├┤ P(π/2) ├┤ P(-π/2) ├┤ H ├┤ P(-π/2) ├┤ P(3.30058667798127) ├┤ P(-π/2) ├┤ H ├┤ P(-π/2) ├┤ P(7π/2) ├─────────────────────────────────────────────────────────────────────────────────────────────────────────────────────────────────────────────────────────────────────────────────────────────────────────────────────────────────────────────────────────────────────────────────────────────────────────────────────────────────────────────────────────────────────────────────────────────────────────────────────────────────────────────────────────────────────────────────────────────┤ X ├┤ P(0.829262316271711) ├┤ P(-π/2) ├┤ H ├┤ P(-π/2) ├┤ P(4.43512513298352) ├┤ P(-π/2) ├┤ H ├┤ P(-π/2) ├┤ P(11.6173533601044) ├┤ P(-π/2) ├┤ P(-π/2) ├┤ H ├┤ P(-π/2) ├┤ P(5.49309665010892) ├┤ P(-π/2) ├┤ H ├┤ P(-π/2) ├┤ P(7π/2) ├─────────────────────────────────────────────────────────────────────────────────────────────────────────────────────────────────────────────────────────────────────────────────────────────────────────────────────────────────────────────────────────────────────────────────────────────────────────────────────────────────────────────────────────────────────────────────────────────────────────────────────────────────────────────────────────────────────────────────────────────────────────────────────┤ X ├┤ P(0.0793974862321627) ├┤ P(-π/2) ├┤ H ├┤ P(-π/2) ├┤ P(5.51889446107598) ├┤ P(-π/2) ├┤ H ├┤ P(-π/2) ├┤ P(9.75073032732052) ├┤ P(-π/2) ├┤ P(-π/2) ├┤ H ├┤ P(-π/2) ├┤ P(5.57918086439534) ├┤ P(-π/2) ├┤ H ├┤ P(-π/2) ├┤ P(7π/2) ├────────────────────────────────────────────────────────────────────────────────────────────────────────────────────────────────────────────────────────────────────────────────────────────────────────────────────────────────────────────────────────────────────────────────────────────────────────────────────────────────────────────────────────────────────────────────────────────────────────────────────────────────────────────────────────────────────────────────────┤ X ├───────┤ P(π/2) ├──────┤ P(-π/2) ├┤ H ├┤ P(-π/2) ├┤ P(4.22979640452201) ├┤ P(-π/2) ├┤ H ├┤ P(-π/2) ├┤ P(15π/4) ├────────────────────────────────────────────────────────────────────────────────────────────────────────────────────────────────────────────────────────────────────────────────────────────────────────────────────────────────────────────────────────────────────────────────────────────────────────────────────────────────────────────────────────┤ X ├┤ H ├┤ X ├┤ H ├┤ X ├┤ H ├─────┤ X ├──┤ H ├───┤ X ├┤ H ├┤ X ├┤ H ├────────────────┤ X ├┤ H ├┤ X ├┤ H ├┤ X ├─────────────────┤ X ├───┤ P(-π/4) ├┤ X ├┤ H ├─░─┤M├─╫──╫─\n",
       "         └────────┘└─────────┘└───┘└─────────┘└─────────────────────┘└─────────┘└───┘└─────────┘└─────────┘                                                                                                                                                                                                                                                                                                                                                                                                                                                                                                                  └───┘└─────────────────────┘ └─────────┘└───┘└─────────┘ └────────────────────┘└─────────┘└───┘└─────────┘└─────────────────────┘└────────┘└─────────┘└───┘└─────────┘└─────────────────────┘└─────────┘└───┘└─────────┘└─────────┘                                                                                                                                                                                                                                                                                                                                                                                                                                                                                             └───┘└──────────────────────┘└─────────┘└───┘└─────────┘└─────────────────────┘└─────────┘└───┘└─────────┘└─────────────────────┘└─────────┘└─────────┘└───┘└─────────┘└─────────────────────┘└─────────┘└───┘└─────────┘└─────────┘                                                                                                                                                                                                                                                                                                                                                                                                                                                                                                                     └───┘└───────────────────────┘└─────────┘└───┘└─────────┘└─────────────────────┘└─────────┘└───┘└─────────┘└─────────────────────┘└─────────┘└─────────┘└───┘└─────────┘└─────────────────────┘└─────────┘└───┘└─────────┘└─────────┘                                                                                                                                                                                                                                                                                                                                                                                                                                                                                    └───┘       └────────┘      └─────────┘└───┘└─────────┘└─────────────────────┘└─────────┘└───┘└─────────┘└──────────┘                                                                                                                                                                                                                                                                                                                                                        └───┘└───┘└───┘└───┘└───┘└───┘     └───┘  └───┘   └───┘└───┘└───┘└───┘                └───┘└───┘└───┘└───┘└───┘                 └───┘   └─────────┘└───┘└───┘ ░ └╥┘ ║  ║ \n",
       " meas: 3/════════════════════════════════════════════════════════════════════════════════════════════════════════════════════════════════════════════════════════════════════════════════════════════════════════════════════════════════════════════════════════════════════════════════════════════════════════════════════════════════════════════════════════════════════════════════════════════════════════════════════════════════════════════════════════════════════════════════════════════════════════════════════════════════════════════════════════════════════════════════════════════════════════════════════════════════════════════════════════════════════════════════════════════════════════════════════════════════════════════════════════════════════════════════════════════════════════════════════════════════════════════════════════════════════════════════════════════════════════════════════════════════════════════════════════════════════════════════════════════════════════════════════════════════════════════════════════════════════════════════════════════════════════════════════════════════════════════════════════════════════════════════════════════════════════════════════════════════════════════════════════════════════════════════════════════════════════════════════════════════════════════════════════════════════════════════════════════════════════════════════════════════════════════════════════════════════════════════════════════════════════════════════════════════════════════════════════════════════════════════════════════════════════════════════════════════════════════════════════════════════════════════════════════════════════════════════════════════════════════════════════════════════════════════════════════════════════════════════════════════════════════════════════════════════════════════════════════════════════════════════════════════════════════════════════════════════════════════════════════════════════════════════════════════════════════════════════════════════════════════════════════════════════════════════════════════════════════════════════════════════════════════════════════════════════════════════════════════════════════════════════════════════════════════════════════════════════════════════════════════════════════════════════════════════════════════════════════════════════════════════════════════════════════════════════════════════════════════════════════════════════════════════════════════════════════════════════════════════════════════════════════════════════════════════════════════════════════════════════════════════════════════════════════════════════════════════════════════════════════════════════════════════════════════════════════════════════════════════════════════════════════════════════════════════════════════════════════════════════════════════════════════════════════════════════════════════════════════════════════════════════════════════════════════════════════════════════════════════════════════════════════════════════════════════════════════════════════════════════════════════════════════════════════════════════════════════════════════════════════════════════════════════════════════════════════════════════════════════════════════════════════════════════════════════════════════════════════════════════════════════════════════════════════════════════════════════════════════════╩══╩══╩═\n",
       "                                                                                                                                                                                                                                                                                                                                                                                                                                                                                                                                                                                                                                                                                                                                                                                                                                                                                                                                                                                                                                                                                                                                                                                                                                                                                                                                                                                                                                                                                                                                                                                                                                                                                                                                                                                                                                                                                                                                                                                                                                                                                                                                                                                                                                                                                                                                                                                                                                                                                                                                                                                                                                                                                                                                                                                                                                                                                                                                                                                                                                                                                                                                                                                                                                                                                                                                                                                                                                                                                             0  1  2 "
      ]
     },
     "execution_count": 185,
     "metadata": {},
     "output_type": "execute_result"
    }
   ],
   "source": [
    "transpiled = transpile(circuit,\n",
    "                       coupling_map=CouplingMap([(0,1),(1,2)]),\n",
    "                       initial_layout=[1, 0, 2],\n",
    "                       basis_gates=['x', 'cx', 'h', 'p'],\n",
    "                       approximation_degree=0.99,\n",
    "                       optimization_level=3\n",
    "                      )\n",
    "transpiled.draw(fold=-1)"
   ]
  },
  {
   "cell_type": "code",
   "execution_count": 186,
   "id": "930d7a29",
   "metadata": {},
   "outputs": [
    {
     "data": {
      "text/plain": [
       "289"
      ]
     },
     "execution_count": 186,
     "metadata": {},
     "output_type": "execute_result"
    }
   ],
   "source": [
    "transpiled.depth()"
   ]
  },
  {
   "cell_type": "code",
   "execution_count": 187,
   "id": "e8777cf1",
   "metadata": {},
   "outputs": [
    {
     "data": {
      "text/html": [
       "<pre style=\"word-wrap: normal;white-space: pre;background: #fff0;line-height: 1.1;font-family: &quot;Courier New&quot;,Courier,monospace\">         ┌──────────────┐┌───┐┌───────────┐ ┌───┐┌───────────┐ ░    ┌─┐   \n",
       "q_1 -> 0 ┤ P(-0.091209) ├┤ H ├┤ P(1.0764) ├─┤ H ├┤ P(10.185) ├─░────┤M├───\n",
       "         └┬────────────┬┘├───┤├───────────┴┐├───┤├───────────┤ ░    └╥┘┌─┐\n",
       "q_0 -> 1 ─┤ P(-0.5635) ├─┤ H ├┤ P(0.84748) ├┤ H ├┤ P(9.2938) ├─░─────╫─┤M├\n",
       "          ├────────────┤ ├───┤├───────────┬┘├───┤├───────────┤ ░ ┌─┐ ║ └╥┘\n",
       "q_2 -> 2 ─┤ P(0.05161) ├─┤ H ├┤ P(1.6946) ├─┤ H ├┤ P(9.4269) ├─░─┤M├─╫──╫─\n",
       "          └────────────┘ └───┘└───────────┘ └───┘└───────────┘ ░ └╥┘ ║  ║ \n",
       " meas: 3/═════════════════════════════════════════════════════════╩══╩══╩═\n",
       "                                                                  0  1  2 </pre>"
      ],
      "text/plain": [
       "         ┌──────────────┐┌───┐┌───────────┐ ┌───┐┌───────────┐ ░    ┌─┐   \n",
       "q_1 -> 0 ┤ P(-0.091209) ├┤ H ├┤ P(1.0764) ├─┤ H ├┤ P(10.185) ├─░────┤M├───\n",
       "         └┬────────────┬┘├───┤├───────────┴┐├───┤├───────────┤ ░    └╥┘┌─┐\n",
       "q_0 -> 1 ─┤ P(-0.5635) ├─┤ H ├┤ P(0.84748) ├┤ H ├┤ P(9.2938) ├─░─────╫─┤M├\n",
       "          ├────────────┤ ├───┤├───────────┬┘├───┤├───────────┤ ░ ┌─┐ ║ └╥┘\n",
       "q_2 -> 2 ─┤ P(0.05161) ├─┤ H ├┤ P(1.6946) ├─┤ H ├┤ P(9.4269) ├─░─┤M├─╫──╫─\n",
       "          └────────────┘ └───┘└───────────┘ └───┘└───────────┘ ░ └╥┘ ║  ║ \n",
       " meas: 3/═════════════════════════════════════════════════════════╩══╩══╩═\n",
       "                                                                  0  1  2 "
      ]
     },
     "execution_count": 187,
     "metadata": {},
     "output_type": "execute_result"
    }
   ],
   "source": [
    "transpiled = transpile(circuit,\n",
    "                       coupling_map=CouplingMap([(0,1),(1,2)]),\n",
    "                       initial_layout=[1, 0, 2],\n",
    "                       basis_gates=['x', 'cx', 'h', 'p'],\n",
    "                       approximation_degree=0.01,\n",
    "                       optimization_level=3\n",
    "                      )\n",
    "transpiled.draw(fold=-1)"
   ]
  },
  {
   "cell_type": "code",
   "execution_count": 188,
   "id": "bcd979ba",
   "metadata": {},
   "outputs": [
    {
     "data": {
      "text/plain": [
       "6"
      ]
     },
     "execution_count": 188,
     "metadata": {},
     "output_type": "execute_result"
    }
   ],
   "source": [
    "transpiled.depth()"
   ]
  },
  {
   "cell_type": "markdown",
   "id": "32eb11ff",
   "metadata": {},
   "source": [
    "#### Qiskit is hardware agnostic!"
   ]
  },
  {
   "cell_type": "code",
   "execution_count": 189,
   "id": "62811e63",
   "metadata": {},
   "outputs": [],
   "source": [
    "# !pip install qiskit-ionq"
   ]
  },
  {
   "cell_type": "code",
   "execution_count": 190,
   "id": "9e47b8b4",
   "metadata": {},
   "outputs": [],
   "source": [
    "# from qiskit_ionq import IonQProvider\n",
    "# provider = IonQProvider(<your token>)\n",
    "\n",
    "# circuit = QuantumCircuit(2)\n",
    "# circuit.h(0)\n",
    "# circuit.cx(0, 1)\n",
    "# circuit.measure_all()\n",
    "# circuit.draw()\n",
    "\n",
    "# backend = provider.get_backend(\"ionq_qpu\")\n",
    "# job = backend.run(circuit)\n",
    "\n",
    "# plot_histogram(job.get_counts())"
   ]
  },
  {
   "cell_type": "markdown",
   "id": "4c1d476a",
   "metadata": {},
   "source": [
    "### Pulse"
   ]
  },
  {
   "cell_type": "markdown",
   "id": "4a48d44f",
   "metadata": {},
   "source": [
    "Pulse programs, which are called Schedules, describe instruction sequences for the control electronics. We build Schedules using the Pulse Builder. It's easy to initialize a schedule:\n",
    "\n"
   ]
  },
  {
   "cell_type": "code",
   "execution_count": 34,
   "id": "9e05c80a",
   "metadata": {},
   "outputs": [
    {
     "data": {
      "image/png": "[encoded data removed]",
      "text/plain": [
       "<Figure size 936x833.862 with 1 Axes>"
      ]
     },
     "execution_count": 34,
     "metadata": {},
     "output_type": "execute_result"
    }
   ],
   "source": [
    "from qiskit import QuantumCircuit\n",
    "from qiskit import transpile, schedule as build_schedule\n",
    "from qiskit.test.mock import FakeAlmaden\n",
    "\n",
    "circ = QuantumCircuit(2, 2)\n",
    "circ.h(0)\n",
    "circ.cx(0, 1)\n",
    "circ.measure([0, 1], [0, 1])\n",
    "\n",
    "circ.draw('mpl')\n",
    "\n",
    "\n",
    "backend = FakeAlmaden()\n",
    "\n",
    "transpiled_circ = transpile(circ, backend)  # Undefined Hadamard is replaced by U1\n",
    "schedule = build_schedule(transpiled_circ, backend)\n",
    "schedule.draw()"
   ]
  },
  {
   "cell_type": "code",
   "execution_count": 236,
   "id": "57aecd20",
   "metadata": {},
   "outputs": [
    {
     "data": {
      "text/plain": [
       "ScheduleBlock(, name=\"my_example\", transform=AlignLeft())"
      ]
     },
     "execution_count": 236,
     "metadata": {},
     "output_type": "execute_result"
    }
   ],
   "source": [
    "from qiskit import pulse\n",
    "\n",
    "# create dummy pusle program\n",
    "# <INSERT CODE>\n",
    "\n",
    "with pulse.build(name='my_example') as my_program:\n",
    "    # Add instructions here\n",
    "    pass\n",
    "\n",
    "my_program"
   ]
  },
  {
   "cell_type": "markdown",
   "id": "338bfde7",
   "metadata": {},
   "source": [
    "You can see that there are no instructions yet. The next section of this page will explain each of the instructions you might add to a schedule, and the last section will describe various alignment contexts, which determine how instructions are placed in time relative to one another."
   ]
  },
  {
   "cell_type": "markdown",
   "id": "5e788b61",
   "metadata": {},
   "source": [
    "#### Schedule Instructions\n",
    "\n",
    "- `delay(duration, channel)`\n",
    "- `play(pulse, channel)`\n",
    "- `set_frequency(frequency, channel)`\n",
    "- `shift_phase(phase, channel)`\n",
    "- `acquire(duration, channel, mem_slot, reg_slot)`\n",
    "\n",
    "Each instruction type has its own set of operands. As you can see above, they each include at least one Channel to specify where the instruction will be applied.\n",
    "\n",
    "**Channels** are labels for signal lines from the control hardware to the quantum chip.\n",
    "\n",
    "- `DriveChannels` are typically used for driving single qubit rotations,\n",
    "- `ControlChannels` are typically used for multi-qubit gates or additional drive lines for tunable qubits,\n",
    "- `MeasureChannels` are specific to transmitting pulses which stimulate readout, and\n",
    "- `AcquireChannels` are used to trigger digitizers which collect readout signals.\n",
    "\n",
    "`DriveChannels`, `ControlChannels`, and `MeasureChannels` are all `PulseChannels`; this means that they support transmitting pulses, whereas the AcquireChannel is a receive channel only and cannot play waveforms.\n",
    "\n",
    "For the following examples, we will create one `DriveChannel` instance for each `Instruction` that accepts a `PulseChannel`. Channels take one integer `index` argument. Except for `ControlChannels`, the index maps trivially to the qubit label."
   ]
  },
  {
   "cell_type": "code",
   "execution_count": 237,
   "id": "11ef8fc9",
   "metadata": {},
   "outputs": [],
   "source": [
    "from qiskit.pulse import DriveChannel\n",
    "\n",
    "channel = DriveChannel(0)"
   ]
  },
  {
   "cell_type": "markdown",
   "id": "dbd619cc",
   "metadata": {},
   "source": [
    "The pulse Schedule is independent of the backend it runs on. However, we can build our program in a context that is aware of the target backend by supplying it to pulse.build. When possible you should supply a backend. By using the channel accessors pulse.<type>_channel(<idx>) we can make sure we are only using available device resources."
   ]
  },
  {
   "cell_type": "code",
   "execution_count": 238,
   "id": "e551537e",
   "metadata": {},
   "outputs": [
    {
     "name": "stdout",
     "output_type": "stream",
     "text": [
      "5\n"
     ]
    }
   ],
   "source": [
    "from qiskit.test.mock import FakeValencia\n",
    "\n",
    "# build backend aware pulse schedule\n",
    "# <INSERT CODE>\n",
    "\n",
    "backend = FakeValencia()\n",
    "\n",
    "with pulse.build(backend=backend, name='backend_aware') as backend_aware_program:\n",
    "    channel = pulse.drive_channel(0)\n",
    "    print(pulse.num_qubits())"
   ]
  },
  {
   "cell_type": "markdown",
   "id": "e2397930",
   "metadata": {},
   "source": [
    "#### Delay instruction\n",
    "\n",
    "One of the simplest instructions we can build is delay. This is a blocking instruction that tells the control electronics to output no signal on the given channel for the duration specified. It is useful for controlling the timing of other instructions."
   ]
  },
  {
   "cell_type": "code",
   "execution_count": 240,
   "id": "3a0701bf",
   "metadata": {},
   "outputs": [
    {
     "data": {
      "image/png": "[encoded data removed]",
      "text/plain": [
       "<Figure size 936x10.8 with 1 Axes>"
      ]
     },
     "execution_count": 240,
     "metadata": {},
     "output_type": "execute_result"
    }
   ],
   "source": [
    "# delay instruction\n",
    "# <INSERT CODE>\n",
    "\n",
    "with pulse.build(backend) as delay_5dt:\n",
    "    pulse.delay(5, channel)\n",
    "delay_5dt.draw()"
   ]
  },
  {
   "cell_type": "markdown",
   "id": "6668efc6",
   "metadata": {},
   "source": [
    "#### Play instruction\n",
    "\n",
    "The play instruction is responsible for executing pulses. It's straightforward to add a play instruction:\n",
    "\n",
    "```\n",
    "with pulse.build() as sched:\n",
    "    pulse.play(pulse, channel)\n",
    "```\n",
    "\n",
    "Let's clarify what the `pulse` argument is and explore a few different ways to build one.\n",
    "\n",
    "A Pulse specifies an arbitrary pulse envelope. The modulation frequency and phase of the output waveform are controlled by the `set_frequency` and `shift_phase` instructions."
   ]
  },
  {
   "cell_type": "markdown",
   "id": "3fe1ecd2",
   "metadata": {},
   "source": [
    "#### Parametric pulses\n",
    "\n",
    "Let's build our `Gaussian` pulse using the Gaussian parametric pulse. \n",
    "\n",
    "A parametric pulse sends the name of the function and its parameters to the backend, rather than every individual sample. Using parametric pulses makes the jobs you send to the backend much smaller. IBM Quantum backends limit the maximum job size that they accept, so parametric pulses may allow you to run larger programs."
   ]
  },
  {
   "cell_type": "code",
   "execution_count": 241,
   "id": "17547fb6",
   "metadata": {},
   "outputs": [
    {
     "data": {
      "image/png": "[encoded data removed]",
      "text/plain": [
       "<Figure size 936x118.8 with 1 Axes>"
      ]
     },
     "execution_count": 241,
     "metadata": {},
     "output_type": "execute_result"
    }
   ],
   "source": [
    "from qiskit.pulse import library\n",
    "\n",
    "# build parametric pulse\n",
    "# <INSERT CODE>\n",
    "\n",
    "amp = 1\n",
    "sigma = 10\n",
    "num_samples = 128\n",
    "\n",
    "gaus = pulse.library.Gaussian(num_samples, amp, sigma,\n",
    "                              name=\"Parametric Gaus\")\n",
    "gaus.draw()"
   ]
  },
  {
   "cell_type": "code",
   "execution_count": 242,
   "id": "a11a107b",
   "metadata": {},
   "outputs": [
    {
     "data": {
      "image/png": "[encoded data removed]",
      "text/plain": [
       "<Figure size 936x118.8 with 1 Axes>"
      ]
     },
     "execution_count": 242,
     "metadata": {},
     "output_type": "execute_result"
    }
   ],
   "source": [
    "# play parametric pulse\n",
    "# <INSERT CODE>\n",
    "\n",
    "with pulse.build() as schedule:\n",
    "    pulse.play(gaus, channel)\n",
    "schedule.draw()"
   ]
  },
  {
   "cell_type": "markdown",
   "id": "58e4b067",
   "metadata": {},
   "source": [
    "The frequency of a channel can be updated at any time within a Schedule by the `set_frequency` instruction. It takes a float frequency and a PulseChannel channel as input. All pulses on a channel following a set_frequency instruction will be modulated by the given frequency until another set_frequency instruction is encountered or until the program ends."
   ]
  },
  {
   "cell_type": "code",
   "execution_count": 244,
   "id": "2bafed31",
   "metadata": {},
   "outputs": [],
   "source": [
    "# set frequency\n",
    "# <INSERT CODE>\n",
    "\n",
    "with pulse.build(backend) as schedule:\n",
    "    pulse.set_frequency(4.5e9, channel)"
   ]
  },
  {
   "cell_type": "markdown",
   "id": "e0e16b07",
   "metadata": {},
   "source": [
    "The `shift_phase` instruction will increase the phase of the frequency modulation by phase. Like set_frequency, this phase shift will affect all following instructions on the same channel until the program ends. To undo the affect of a shift_phase, the negative phase can be passed to a new instruction."
   ]
  },
  {
   "cell_type": "code",
   "execution_count": 258,
   "id": "465ad5c8",
   "metadata": {},
   "outputs": [],
   "source": [
    "# shift phase\n",
    "# <INSERT CODE>\n",
    "\n",
    "with pulse.build(backend) as schedule:\n",
    "    pulse.shift_phase(np.pi, channel)"
   ]
  },
  {
   "cell_type": "markdown",
   "id": "61640e29",
   "metadata": {},
   "source": [
    "The acquire instruction triggers data acquisition for readout. It takes a duration, an `AcquireChannel` which maps to the qubit being measured, and a `MemorySlot` or a `RegisterSlot`. The `MemorySlot` is classical memory where the readout result will be stored. The `RegisterSlot` maps to a register in the control electronics which stores the readout result for fast feedback."
   ]
  },
  {
   "cell_type": "code",
   "execution_count": 259,
   "id": "06402f29",
   "metadata": {},
   "outputs": [],
   "source": [
    "from qiskit.pulse import Acquire, AcquireChannel, MemorySlot\n",
    "\n",
    "# aqure instruction\n",
    "# <INSERT CODE>\n",
    "\n",
    "with pulse.build(backend) as schedule:\n",
    "    pulse.acquire(1200, pulse.acquire_channel(0), MemorySlot(0))"
   ]
  },
  {
   "cell_type": "code",
   "execution_count": 250,
   "id": "61571e79",
   "metadata": {},
   "outputs": [
    {
     "data": {
      "image/png": "[encoded data removed]",
      "text/plain": [
       "<Figure size 936x237.6 with 1 Axes>"
      ]
     },
     "execution_count": 250,
     "metadata": {},
     "output_type": "execute_result"
    }
   ],
   "source": [
    "# example with left align schedule\n",
    "# <INSERT CODE>\n",
    "\n",
    "with pulse.build(backend, name='Left align example') as program:\n",
    "    with pulse.align_left():\n",
    "        gaussian_pulse = library.gaussian(100, 0.5, 20)\n",
    "        pulse.play(gaussian_pulse, pulse.drive_channel(0))\n",
    "        pulse.play(gaussian_pulse, pulse.drive_channel(1))\n",
    "        pulse.play(gaussian_pulse, pulse.drive_channel(1))\n",
    "\n",
    "program.draw()"
   ]
  },
  {
   "cell_type": "code",
   "execution_count": 200,
   "id": "2e59e45d",
   "metadata": {},
   "outputs": [
    {
     "data": {
      "image/png": "[encoded data removed]",
      "text/plain": [
       "<Figure size 936x594 with 1 Axes>"
      ]
     },
     "execution_count": 200,
     "metadata": {},
     "output_type": "execute_result"
    }
   ],
   "source": [
    "from qiskit import pulse\n",
    "\n",
    "dc = pulse.DriveChannel\n",
    "d0, d1, d2, d3, d4 = dc(0), dc(1), dc(2), dc(3), dc(4)\n",
    "\n",
    "with pulse.build(name='pulse_programming_in') as pulse_prog:\n",
    "    pulse.play([1, 1, 1, 0, 0, 1, 1, 1, 0, 1, 1, 1, 0, 1, 0, 1, 0, 1, 1, 1, 0, 1, 1, 1], d0)\n",
    "    pulse.play([1, 0, 1, 0, 0, 0, 1, 0, 0, 1, 0, 0, 0, 1, 1, 0, 0, 0, 1, 0, 0, 0, 1, 0], d1)\n",
    "    pulse.play([1, 0, 1, 0, 0, 0, 1, 0, 0, 1, 1, 1, 0, 1, 0, 0, 0, 0, 1, 0, 0, 0, 1, 0], d2)\n",
    "    pulse.play([1, 0, 1, 0, 0, 0, 1, 0, 0, 0, 0, 1, 0, 1, 1, 0, 0, 0, 1, 0, 0, 0, 1, 0], d3)\n",
    "    pulse.play([1, 1, 1, 1, 0, 1, 1, 1, 0, 1, 1, 1, 0, 1, 0, 1, 0, 1, 1, 1, 0, 0, 1, 0], d4)\n",
    "\n",
    "pulse_prog.draw()"
   ]
  },
  {
   "cell_type": "markdown",
   "id": "1aa66180",
   "metadata": {},
   "source": [
    "### Opflow"
   ]
  },
  {
   "cell_type": "markdown",
   "id": "4ff2045d",
   "metadata": {},
   "source": [
    "The most important base operators are the Pauli operators. The Pauli operators are represented like this.\n",
    "\n"
   ]
  },
  {
   "cell_type": "code",
   "execution_count": 206,
   "id": "f7f130d4",
   "metadata": {},
   "outputs": [
    {
     "name": "stdout",
     "output_type": "stream",
     "text": [
      "I X Y Z\n"
     ]
    }
   ],
   "source": [
    "from qiskit.opflow import I, X, Y, Z\n",
    "print(I, X, Y, Z)"
   ]
  },
  {
   "cell_type": "code",
   "execution_count": 213,
   "id": "90cb850c",
   "metadata": {},
   "outputs": [
    {
     "name": "stdout",
     "output_type": "stream",
     "text": [
      "1.5 * I\n",
      "2.5 * X\n"
     ]
    }
   ],
   "source": [
    "# These operators may also carry a coefficient.\n",
    "# <INSERT CODE>\n",
    "\n",
    "print(1.5 * I)\n",
    "print(2.5 * X)"
   ]
  },
  {
   "cell_type": "code",
   "execution_count": 212,
   "id": "f1cf5beb",
   "metadata": {},
   "outputs": [
    {
     "name": "stdout",
     "output_type": "stream",
     "text": [
      "1.0 * X\n",
      "+ 2.0 * Y\n"
     ]
    }
   ],
   "source": [
    "# These coefficients allow the operators to be used as terms in a sum.\n",
    "# <INSERT CODE>\n",
    "\n",
    "print(X + 2.0 * Y)"
   ]
  },
  {
   "cell_type": "code",
   "execution_count": 211,
   "id": "8e810e83",
   "metadata": {},
   "outputs": [
    {
     "name": "stdout",
     "output_type": "stream",
     "text": [
      "XYZ\n"
     ]
    }
   ],
   "source": [
    "# Tensor products are denoted with a caret, like this.\n",
    "# <INSERT CODE>\n",
    "\n",
    "print(X^Y^Z)"
   ]
  },
  {
   "cell_type": "code",
   "execution_count": 216,
   "id": "72f4438f",
   "metadata": {},
   "outputs": [
    {
     "name": "stdout",
     "output_type": "stream",
     "text": [
      "iI\n"
     ]
    }
   ],
   "source": [
    "# Composition is denoted by the @ symbol.\n",
    "# <INSERT CODE>\n",
    "\n",
    "print(X @ Y @ Z)"
   ]
  },
  {
   "cell_type": "markdown",
   "id": "16ff2d66",
   "metadata": {},
   "source": [
    "### State functions and measurements"
   ]
  },
  {
   "cell_type": "markdown",
   "id": "2434f94b",
   "metadata": {},
   "source": [
    "Quantum states are represented by subclasses of the class StateFn. There are four representations of quantum states: DictStateFn is a sparse representation in the computational basis, backed by a dict. VectorStateFn is a dense representation in the computational basis backed by a numpy array. CircuitStateFn is backed by a circuit and represents the state obtained by executing the circuit on the all-zero computational-basis state. OperatorStateFn represents mixed states via a density matrix. (As we will see later, OperatorStateFn is also used to represent observables.)"
   ]
  },
  {
   "cell_type": "code",
   "execution_count": 224,
   "id": "0783d1c3",
   "metadata": {},
   "outputs": [],
   "source": [
    "from qiskit.opflow import (StateFn, Zero, One, Plus, Minus, H,\n",
    "                           DictStateFn, VectorStateFn, CircuitStateFn, OperatorStateFn)"
   ]
  },
  {
   "cell_type": "code",
   "execution_count": 225,
   "id": "6c75a86b",
   "metadata": {},
   "outputs": [
    {
     "name": "stdout",
     "output_type": "stream",
     "text": [
      "DictStateFn({'0': 1}) DictStateFn({'1': 1})\n"
     ]
    }
   ],
   "source": [
    "# zero, one\n",
    "# <INSERT CODE>\n",
    "\n",
    "print(Zero, One)"
   ]
  },
  {
   "cell_type": "code",
   "execution_count": 227,
   "id": "c062581d",
   "metadata": {},
   "outputs": [
    {
     "name": "stdout",
     "output_type": "stream",
     "text": [
      "CircuitStateFn(\n",
      "   ┌───┐\n",
      "q: ┤ H ├\n",
      "   └───┘\n",
      ") CircuitStateFn(\n",
      "   ┌───┐┌───┐\n",
      "q: ┤ X ├┤ H ├\n",
      "   └───┘└───┘\n",
      ")\n"
     ]
    }
   ],
   "source": [
    "# plus, minus\n",
    "# <INSERT CODE>\n",
    "\n",
    "print(Plus, Minus)"
   ]
  },
  {
   "cell_type": "code",
   "execution_count": 228,
   "id": "fb19258b",
   "metadata": {},
   "outputs": [
    {
     "name": "stdout",
     "output_type": "stream",
     "text": [
      "1.0\n",
      "0.0\n",
      "1.0\n",
      "(0.7071067811865475+0j)\n",
      "(-0.7071067811865475+8.7e-17j)\n"
     ]
    }
   ],
   "source": [
    "# evaulation\n",
    "# <INSERT CODE>\n",
    "\n",
    "print(Zero.eval('0'))\n",
    "print(Zero.eval('1'))\n",
    "print(One.eval('1'))\n",
    "print(Plus.eval('0'))\n",
    "print(Minus.eval('1'))"
   ]
  },
  {
   "cell_type": "code",
   "execution_count": 230,
   "id": "1140da8b",
   "metadata": {},
   "outputs": [
    {
     "data": {
      "text/plain": [
       "DictStateFn({'1': 1}, coeff=1.0, is_measurement=True)"
      ]
     },
     "execution_count": 230,
     "metadata": {},
     "output_type": "execute_result"
    }
   ],
   "source": [
    "# adjoint\n",
    "# <INSERT CODE>\n",
    "\n",
    "One.adjoint()"
   ]
  },
  {
   "cell_type": "code",
   "execution_count": 231,
   "id": "89cee370",
   "metadata": {},
   "outputs": [
    {
     "data": {
      "text/plain": [
       "DictStateFn({'1': 1}, coeff=1.0, is_measurement=True)"
      ]
     },
     "execution_count": 231,
     "metadata": {},
     "output_type": "execute_result"
    }
   ],
   "source": [
    "# other way of writing adjoint\n",
    "# <INSERT CODE>\n",
    "\n",
    "~One"
   ]
  },
  {
   "cell_type": "markdown",
   "id": "0d478f49",
   "metadata": {},
   "source": [
    "#### Algebraic operations\n",
    "\n",
    "`+` - addition\n",
    "\n",
    "`-` - subtraction, negation (scalar multiplication by -1)\n",
    "\n",
    "`*` - scalar multiplication\n",
    "\n",
    "`/` - scalar division\n",
    "\n",
    "`@` - composition\n",
    "\n",
    "`^` - tensor product or tensor power (tensor with self n times)\n",
    "\n",
    "`**` - composition power (compose with self n times)\n",
    "\n",
    "`==` - equality\n",
    "\n",
    "`~` - adjoint, alternating between a State Function and Measurement"
   ]
  },
  {
   "cell_type": "code",
   "execution_count": 233,
   "id": "fd049d83",
   "metadata": {},
   "outputs": [
    {
     "name": "stdout",
     "output_type": "stream",
     "text": [
      "DictStateFn({'0': 1.0, '1': 1.0}) * 0.7071067811865475\n"
     ]
    }
   ],
   "source": [
    "import math\n",
    "\n",
    "v_zero_one = (Zero + One) / math.sqrt(2)\n",
    "print(v_zero_one)"
   ]
  },
  {
   "cell_type": "markdown",
   "id": "97911dd7",
   "metadata": {},
   "source": [
    "Constructing State functions\n",
    "\n",
    "str (equal to some basis bitstring) -> DictStateFn\n",
    "\n",
    "dict -> DictStateFn\n",
    "\n",
    "Qiskit Result object -> DictStateFn\n",
    "\n",
    "list -> VectorStateFn\n",
    "\n",
    "np.ndarray -> VectorStateFn\n",
    "\n",
    "Statevector -> VectorStateFn\n",
    "\n",
    "QuantumCircuit -> CircuitStateFn\n",
    "\n",
    "Instruction -> CircuitStateFn\n",
    "\n",
    "OperatorBase -> OperatorStateFn"
   ]
  },
  {
   "cell_type": "code",
   "execution_count": 234,
   "id": "669c905c",
   "metadata": {},
   "outputs": [
    {
     "name": "stdout",
     "output_type": "stream",
     "text": [
      "DictStateFn({'0': 1})\n",
      "True\n",
      "VectorStateFn(Statevector([0.+0.j, 1.+0.j, 1.+0.j, 0.+0.j],\n",
      "            dims=(2, 2)))\n",
      "CircuitStateFn(\n",
      "     ┌──────────────────────────────────────────────────────────┐\n",
      "q_0: ┤0                                                         ├\n",
      "     │  RealAmplitudes(θ[0],θ[1],θ[2],θ[3],θ[4],θ[5],θ[6],θ[7]) │\n",
      "q_1: ┤1                                                         ├\n",
      "     └──────────────────────────────────────────────────────────┘\n",
      ")\n"
     ]
    }
   ],
   "source": [
    "print(StateFn({'0':1}))\n",
    "print(StateFn({'0':1}) == Zero)\n",
    "\n",
    "print(StateFn([0,1,1,0]))\n",
    "\n",
    "from qiskit.circuit.library import RealAmplitudes\n",
    "print(StateFn(RealAmplitudes(2)))"
   ]
  },
  {
   "cell_type": "code",
   "execution_count": 221,
   "id": "4af7e6c9",
   "metadata": {},
   "outputs": [
    {
     "name": "stdout",
     "output_type": "stream",
     "text": [
      "CircuitStateFn(\n",
      "     ┌───┐     \n",
      "q_0: ┤ H ├──■──\n",
      "     └───┘┌─┴─┐\n",
      "q_1: ─────┤ X ├\n",
      "          └───┘\n",
      ")\n"
     ]
    }
   ],
   "source": [
    "from qiskit.opflow import Zero, One, H, CX, I\n",
    "\n",
    "# bell state\n",
    "# <INSERT CODE>\n",
    "\n",
    "bell_op = CX @ (I ^ H) @ Zero\n",
    "print(bell_op.to_circuit_op())"
   ]
  },
  {
   "cell_type": "code",
   "execution_count": 235,
   "id": "9d8fa451",
   "metadata": {},
   "outputs": [
    {
     "name": "stdout",
     "output_type": "stream",
     "text": [
      "(1+0j)\n",
      "          ┌───┐          ┌───┐     \n",
      "q_0: ──■──┤ H ├───────■──┤ H ├─────\n",
      "     ┌─┴─┐└───┘┌───┐┌─┴─┐└───┘┌───┐\n",
      "q_1: ┤ X ├──■──┤ H ├┤ X ├──■──┤ H ├\n",
      "     └───┘┌─┴─┐├───┤└───┘┌─┴─┐├───┤\n",
      "q_2: ──■──┤ X ├┤ H ├──■──┤ X ├┤ H ├\n",
      "     ┌─┴─┐└───┘├───┤┌─┴─┐└───┘├───┤\n",
      "q_3: ┤ X ├──■──┤ H ├┤ X ├──■──┤ H ├\n",
      "     └───┘┌─┴─┐├───┤└───┘┌─┴─┐├───┤\n",
      "q_4: ─────┤ X ├┤ H ├─────┤ X ├┤ H ├\n",
      "          └───┘└───┘     └───┘└───┘\n",
      "CircuitStateFn(\n",
      "     ┌───┐┌───┐     ┌───┐          ┌───┐     \n",
      "q_0: ┤ X ├┤ H ├──■──┤ H ├───────■──┤ H ├─────\n",
      "     ├───┤├───┤┌─┴─┐└───┘┌───┐┌─┴─┐└───┘┌───┐\n",
      "q_1: ┤ X ├┤ H ├┤ X ├──■──┤ H ├┤ X ├──■──┤ H ├\n",
      "     ├───┤├───┤└───┘┌─┴─┐├───┤└───┘┌─┴─┐├───┤\n",
      "q_2: ┤ X ├┤ H ├──■──┤ X ├┤ H ├──■──┤ X ├┤ H ├\n",
      "     ├───┤├───┤┌─┴─┐└───┘├───┤┌─┴─┐└───┘├───┤\n",
      "q_3: ┤ X ├┤ H ├┤ X ├──■──┤ H ├┤ X ├──■──┤ H ├\n",
      "     ├───┤├───┤└───┘┌─┴─┐├───┤└───┘┌─┴─┐├───┤\n",
      "q_4: ┤ X ├┤ H ├─────┤ X ├┤ H ├─────┤ X ├┤ H ├\n",
      "     └───┘└───┘     └───┘└───┘     └───┘└───┘\n",
      ")\n",
      "CircuitStateFn(\n",
      "     ┌─────────────┐     \n",
      "q_0: ┤0            ├─────\n",
      "     │             │     \n",
      "q_1: ┤1 Pauli(XII) ├─────\n",
      "     │             │┌───┐\n",
      "q_2: ┤2            ├┤ H ├\n",
      "     └─────────────┘└───┘\n",
      ")\n"
     ]
    }
   ],
   "source": [
    "# implement arbitrary circuits\n",
    "# <INSERT CODE>\n",
    "\n",
    "print(((~One^2) @ (CX.eval('01'))).eval())\n",
    "print(((H^5) @ ((CX^2)^I) @ (I^(CX^2)))**2)\n",
    "print((((H^5) @ ((CX^2)^I) @ (I^(CX^2)))**2) @ (Minus^5))\n",
    "print(((H^I^I)@(X^I^I)@Zero))"
   ]
  },
  {
   "cell_type": "code",
   "execution_count": null,
   "id": "dacccb12",
   "metadata": {},
   "outputs": [],
   "source": []
  }
 ],
 "metadata": {
  "kernelspec": {
   "display_name": "Python 3",
   "language": "python",
   "name": "python3"
  },
  "language_info": {
   "codemirror_mode": {
    "name": "ipython",
    "version": 3
   },
   "file_extension": ".py",
   "mimetype": "text/x-python",
   "name": "python",
   "nbconvert_exporter": "python",
   "pygments_lexer": "ipython3",
   "version": "3.8.8"
  }
 },
 "nbformat": 4,
 "nbformat_minor": 5
}
