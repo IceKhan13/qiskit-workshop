{
 "cells": [
  {
   "cell_type": "markdown",
   "id": "617ea102",
   "metadata": {},
   "source": [
    "\n",
    "# Qiskit: Open-Source Quantum Development, an introduction\n",
    "\n",
    "---\n",
    "\n",
    "\n",
    "\n",
    "\n",
    "\n",
    "\n"
   ]
  },
  {
   "cell_type": "markdown",
   "id": "b4186963",
   "metadata": {},
   "source": [
    "\n",
    "\n",
    "### Workshop contents\n",
    "\n",
    "1.   Intro IBM Quantum Lab and Qiskit modules\n",
    "2.   Circuits, backends, visualization\n",
    "3.   Quantum info, circuit lib, algorithms\n",
    "4.   Circuit compilation, pulse, opflow\n",
    "\n"
   ]
  },
  {
   "cell_type": "markdown",
   "id": "cbf4c6f1",
   "metadata": {},
   "source": [
    "## 1. Intro IBM Quantum Lab and Qiskit modules"
   ]
  },
  {
   "cell_type": "markdown",
   "id": "cdb252ab",
   "metadata": {},
   "source": [
    "### https://quantum-computing.ibm.com/lab\n",
    "\n",
    "### https://qiskit.org/documentation/\n",
    "\n",
    "### https://github.com/qiskit"
   ]
  },
  {
   "cell_type": "markdown",
   "id": "af6f13f0",
   "metadata": {},
   "source": [
    "## 2. Circuits, backends and visualization"
   ]
  },
  {
   "cell_type": "code",
   "execution_count": null,
   "id": "b3702a45",
   "metadata": {},
   "outputs": [],
   "source": [
    "from qiskit import IBMQ\n",
    "# Loading your IBM Quantum account(s)\n",
    "#provider = IBMQ.load_account()\n",
    "#provider = IBMQ.enable_account(<token>)"
   ]
  },
  {
   "cell_type": "code",
   "execution_count": null,
   "id": "fd7e3443",
   "metadata": {},
   "outputs": [],
   "source": [
    "IBMQ.providers()"
   ]
  },
  {
   "cell_type": "markdown",
   "id": "8d2add04",
   "metadata": {},
   "source": [
    "### Your first quantum circuit\n",
    "\n",
    "Let's begin exploring the different tools in Qiskit Terra. For that, we will now create a Quantum Circuit.\n",
    "\n"
   ]
  },
  {
   "cell_type": "code",
   "execution_count": null,
   "id": "f73fe8be",
   "metadata": {},
   "outputs": [],
   "source": [
    "from qiskit import QuantumCircuit\n",
    "\n",
    "# Create circuit\n",
    "# <INSERT CODE>"
   ]
  },
  {
   "cell_type": "code",
   "execution_count": null,
   "id": "f910cb44",
   "metadata": {},
   "outputs": [],
   "source": [
    "# print circuit\n",
    "# <INSERT CODE>"
   ]
  },
  {
   "cell_type": "markdown",
   "id": "07f5337e",
   "metadata": {},
   "source": [
    "Now let's run the circuit in the Aer simulator and plot the results in a histogram.\n"
   ]
  },
  {
   "cell_type": "code",
   "execution_count": null,
   "id": "b0c5f066",
   "metadata": {},
   "outputs": [],
   "source": [
    "from qiskit import Aer\n",
    "\n",
    "# run circuit on Aer simulator\n",
    "# <INSERT CODE>"
   ]
  },
  {
   "cell_type": "code",
   "execution_count": null,
   "id": "20a858a5",
   "metadata": {},
   "outputs": [],
   "source": [
    "from qiskit.visualization import plot_histogram\n",
    "\n",
    "# and display it on a histogram\n",
    "# <INSERT CODE>"
   ]
  },
  {
   "cell_type": "markdown",
   "id": "d52f7282",
   "metadata": {},
   "source": [
    "### Qiskit Visualization tools"
   ]
  },
  {
   "cell_type": "code",
   "execution_count": null,
   "id": "283b1096",
   "metadata": {},
   "outputs": [],
   "source": [
    "from qiskit.visualization import plot_state_city\n",
    "from qiskit.visualization import plot_state_paulivec, plot_state_hinton"
   ]
  },
  {
   "cell_type": "code",
   "execution_count": null,
   "id": "5ee92a66",
   "metadata": {},
   "outputs": [],
   "source": [
    "circuit = QuantumCircuit(2, 2)\n",
    "circuit.h(0)\n",
    "circuit.cx(0, 1)"
   ]
  },
  {
   "cell_type": "code",
   "execution_count": null,
   "id": "fee6e5a6",
   "metadata": {},
   "outputs": [],
   "source": [
    "backend = Aer.get_backend('statevector_simulator') # the device to run on\n",
    "result = backend.run(circuit).result()\n",
    "psi  = result.get_statevector(circuit)"
   ]
  },
  {
   "cell_type": "code",
   "execution_count": null,
   "id": "d4acce6d",
   "metadata": {},
   "outputs": [],
   "source": [
    "# plot state city\n",
    "# <INSERT CODE>"
   ]
  },
  {
   "cell_type": "code",
   "execution_count": null,
   "id": "8138314c",
   "metadata": {},
   "outputs": [],
   "source": [
    "# plot state hinton\n",
    "# <INSERT CODE>\n"
   ]
  },
  {
   "cell_type": "code",
   "execution_count": null,
   "id": "f31b332d",
   "metadata": {},
   "outputs": [],
   "source": [
    "# plot state paulivec\n",
    "# <INSERT CODE>\n"
   ]
  },
  {
   "cell_type": "markdown",
   "id": "78b9e2bd",
   "metadata": {},
   "source": [
    "#### Circuit Visualization"
   ]
  },
  {
   "cell_type": "code",
   "execution_count": null,
   "id": "44d2d2c3",
   "metadata": {},
   "outputs": [],
   "source": [
    "from qiskit import QuantumCircuit, ClassicalRegister, QuantumRegister"
   ]
  },
  {
   "cell_type": "code",
   "execution_count": null,
   "id": "cb9b07cd",
   "metadata": {},
   "outputs": [],
   "source": [
    "# Build a quantum circuit\n",
    "circuit = QuantumCircuit(3, 3)\n",
    "\n",
    "circuit.x(1)\n",
    "circuit.h(range(3))\n",
    "circuit.cx(0, 1)\n",
    "circuit.measure(range(3), range(3));"
   ]
  },
  {
   "cell_type": "code",
   "execution_count": null,
   "id": "13ac4b50",
   "metadata": {},
   "outputs": [],
   "source": [
    "# print circuit\n",
    "# <INSERT CODE>\n"
   ]
  },
  {
   "cell_type": "code",
   "execution_count": null,
   "id": "4223dd99",
   "metadata": {},
   "outputs": [],
   "source": [
    "# print circuit using draw method\n",
    "# <INSERT CODE>\n"
   ]
  },
  {
   "cell_type": "markdown",
   "id": "e69f607b",
   "metadata": {},
   "source": [
    "There are different drawing formats. The parameter output (str) selects the output method to use for drawing the circuit. Valid choices are ``text, mpl, latex, latex_source``. See [qiskit.circuit.QuantumCircuit.draw](https://qiskit.org/documentation/stubs/qiskit.circuit.QuantumCircuit.draw.html?highlight=draw)"
   ]
  },
  {
   "cell_type": "code",
   "execution_count": null,
   "id": "1223e4b0",
   "metadata": {},
   "outputs": [],
   "source": [
    "# print circuit using different drawer (mlp for example)\n",
    "# <INSERT CODE>\n"
   ]
  },
  {
   "cell_type": "markdown",
   "id": "24f06865",
   "metadata": {},
   "source": [
    "##### Disable Plot Barriers and Reversing Bit Order"
   ]
  },
  {
   "cell_type": "code",
   "execution_count": null,
   "id": "53c54616",
   "metadata": {},
   "outputs": [],
   "source": [
    "# Draw a new circuit with barriers and more registers\n",
    "\n",
    "q_a = QuantumRegister(3, name='qa')\n",
    "q_b = QuantumRegister(5, name='qb')\n",
    "c_a = ClassicalRegister(3)\n",
    "c_b = ClassicalRegister(5)\n",
    "\n",
    "circuit = QuantumCircuit(q_a, q_b, c_a, c_b)\n",
    "\n",
    "circuit.x(q_a[1])\n",
    "circuit.x(q_b[1])\n",
    "circuit.x(q_b[2])\n",
    "circuit.x(q_b[4])\n",
    "circuit.barrier()\n",
    "circuit.h(q_a)\n",
    "circuit.barrier(q_a)\n",
    "circuit.h(q_b)\n",
    "circuit.cswap(q_b[0], q_b[1], q_b[2])\n",
    "circuit.cswap(q_b[2], q_b[3], q_b[4])\n",
    "circuit.cswap(q_b[3], q_b[4], q_b[0])\n",
    "circuit.barrier(q_b)\n",
    "circuit.measure(q_a, c_a)\n",
    "circuit.measure(q_b, c_b);"
   ]
  },
  {
   "cell_type": "code",
   "execution_count": null,
   "id": "2fcdf4c4",
   "metadata": {},
   "outputs": [],
   "source": [
    "# Draw the circuit\n",
    "# <INSERT CODE>\n"
   ]
  },
  {
   "cell_type": "code",
   "execution_count": null,
   "id": "0d7bf342",
   "metadata": {},
   "outputs": [],
   "source": [
    "# Draw the circuit with reversed bit order\n",
    "# <INSERT CODE>\n"
   ]
  },
  {
   "cell_type": "code",
   "execution_count": null,
   "id": "16915afb",
   "metadata": {},
   "outputs": [],
   "source": [
    "# Draw the circuit without barriers\n",
    "# <INSERT CODE>\n"
   ]
  },
  {
   "cell_type": "markdown",
   "id": "dbceaddd",
   "metadata": {},
   "source": [
    "##### MPL specific costumizations"
   ]
  },
  {
   "cell_type": "code",
   "execution_count": null,
   "id": "54c30728",
   "metadata": {},
   "outputs": [],
   "source": [
    "# Change the background color in mpl\n",
    "# <INSERT CODE>"
   ]
  },
  {
   "cell_type": "code",
   "execution_count": null,
   "id": "3f91b464",
   "metadata": {},
   "outputs": [],
   "source": [
    "# Scale the mpl output to 1/2 the normal size\n",
    "# <INSERT CODE>"
   ]
  },
  {
   "cell_type": "markdown",
   "id": "d972c6dd",
   "metadata": {},
   "source": [
    "### Simulators "
   ]
  },
  {
   "cell_type": "code",
   "execution_count": null,
   "id": "dfb756cf",
   "metadata": {},
   "outputs": [],
   "source": [
    "import numpy as np\n",
    "\n",
    "# Import Qiskit\n",
    "from qiskit import QuantumCircuit\n",
    "from qiskit import Aer, transpile\n",
    "from qiskit.tools.visualization import plot_histogram, plot_state_city\n",
    "import qiskit.quantum_info as qi"
   ]
  },
  {
   "cell_type": "code",
   "execution_count": null,
   "id": "a1e91d98",
   "metadata": {},
   "outputs": [],
   "source": [
    "Aer.backends()"
   ]
  },
  {
   "cell_type": "code",
   "execution_count": null,
   "id": "2a397dbf",
   "metadata": {},
   "outputs": [],
   "source": [
    "simulator = Aer.get_backend('aer_simulator')"
   ]
  },
  {
   "cell_type": "code",
   "execution_count": null,
   "id": "6a19c06f",
   "metadata": {},
   "outputs": [],
   "source": [
    "# Create circuit\n",
    "circ = QuantumCircuit(2)\n",
    "circ.h(0)\n",
    "circ.cx(0, 1)\n",
    "circ.measure_all()\n",
    "\n",
    "# Transpile for simulator\n",
    "simulator = Aer.get_backend('aer_simulator')\n",
    "circ = transpile(circ, simulator)\n",
    "\n",
    "# Run and get counts\n",
    "result = simulator.run(circ).result()\n",
    "counts = result.get_counts(circ)\n",
    "plot_histogram(counts, title='Bell-State counts')"
   ]
  },
  {
   "cell_type": "code",
   "execution_count": null,
   "id": "5f1e4f17",
   "metadata": {},
   "outputs": [],
   "source": [
    "# Run and get memory (measurement outcomes for each individual shot)\n",
    "result = simulator.run(circ, shots=10, memory=True).result()\n",
    "memory = result.get_memory(circ)\n",
    "print(memory)"
   ]
  },
  {
   "cell_type": "markdown",
   "id": "21a0c000",
   "metadata": {},
   "source": [
    "##### Simulation methods\n"
   ]
  },
  {
   "cell_type": "code",
   "execution_count": null,
   "id": "10c12d33",
   "metadata": {},
   "outputs": [],
   "source": [
    "# Increase shots to reduce sampling variance\n",
    "shots = 10000\n",
    "\n",
    "# Stabilizer simulation method\n",
    "sim_stabilizer = Aer.get_backend('aer_simulator_stabilizer')\n",
    "job_stabilizer = sim_stabilizer.run(circ, shots=shots)\n",
    "counts_stabilizer = job_stabilizer.result().get_counts(0)\n",
    "\n",
    "# Statevector simulation method\n",
    "sim_statevector = Aer.get_backend('aer_simulator_statevector')\n",
    "job_statevector = sim_statevector.run(circ, shots=shots)\n",
    "counts_statevector = job_statevector.result().get_counts(0)\n",
    "\n",
    "# Density Matrix simulation method\n",
    "sim_density = Aer.get_backend('aer_simulator_density_matrix')\n",
    "job_density = sim_density.run(circ, shots=shots)\n",
    "counts_density = job_density.result().get_counts(0)\n",
    "\n",
    "# Matrix Product State simulation method\n",
    "sim_mps = Aer.get_backend('aer_simulator_matrix_product_state')\n",
    "job_mps = sim_mps.run(circ, shots=shots)\n",
    "counts_mps = job_mps.result().get_counts(0)\n",
    "\n",
    "plot_histogram([counts_stabilizer, counts_statevector, counts_density, counts_mps],\n",
    "               title='Counts for different simulation methods',\n",
    "               legend=['stabilizer', 'statevector',\n",
    "                       'density_matrix', 'matrix_product_state'])"
   ]
  },
  {
   "cell_type": "markdown",
   "id": "185de6a6",
   "metadata": {},
   "source": [
    "##### Simulation precision\n"
   ]
  },
  {
   "cell_type": "code",
   "execution_count": null,
   "id": "38825082",
   "metadata": {},
   "outputs": [],
   "source": [
    "# Configure a single-precision statevector simulator backend\n",
    "simulator = Aer.get_backend('aer_simulator_statevector')\n",
    "simulator.set_options(precision='single')\n",
    "\n",
    "# Run and get counts\n",
    "result = simulator.run(circ).result()\n",
    "counts = result.get_counts(circ)\n",
    "print(counts)"
   ]
  },
  {
   "cell_type": "markdown",
   "id": "34137e20",
   "metadata": {},
   "source": [
    "##### Device backend noise model simulations\n",
    "\n"
   ]
  },
  {
   "cell_type": "code",
   "execution_count": null,
   "id": "edcc70ea",
   "metadata": {},
   "outputs": [],
   "source": [
    "from qiskit import IBMQ, transpile\n",
    "from qiskit import QuantumCircuit\n",
    "from qiskit.providers.aer import AerSimulator\n",
    "from qiskit.tools.visualization import plot_histogram"
   ]
  },
  {
   "cell_type": "code",
   "execution_count": null,
   "id": "fb170efe",
   "metadata": {},
   "outputs": [],
   "source": [
    "from qiskit.test.mock import FakeVigo\n",
    "device_backend = FakeVigo()"
   ]
  },
  {
   "cell_type": "code",
   "execution_count": null,
   "id": "aa90adba",
   "metadata": {},
   "outputs": [],
   "source": [
    "# Construct quantum circuit\n",
    "circ = QuantumCircuit(3, 3)\n",
    "circ.h(0)\n",
    "circ.cx(0, 1)\n",
    "circ.cx(1, 2)\n",
    "circ.measure([0, 1, 2], [0, 1, 2])\n",
    "\n",
    "# Create ideal simulator and run\n",
    "# <INSERT CODE>"
   ]
  },
  {
   "cell_type": "code",
   "execution_count": null,
   "id": "6a39210f",
   "metadata": {},
   "outputs": [],
   "source": [
    "# Create simulator from backend \n",
    "# <INSERT CODE>\n"
   ]
  },
  {
   "cell_type": "code",
   "execution_count": null,
   "id": "72b5dff4",
   "metadata": {},
   "outputs": [],
   "source": [
    "# Transpile the circuit for the noisy basis gates and get results\n",
    "# <INSERT CODE>\n"
   ]
  },
  {
   "cell_type": "markdown",
   "id": "88ad98d5",
   "metadata": {},
   "source": [
    "#### Usefull operations with circuits"
   ]
  },
  {
   "cell_type": "code",
   "execution_count": null,
   "id": "bd00e9ca",
   "metadata": {},
   "outputs": [],
   "source": [
    "qc = QuantumCircuit(12)\n",
    "for idx in range(5):\n",
    "    qc.h(idx)\n",
    "    qc.cx(idx, idx+5)\n",
    "\n",
    "qc.cx(1, 7)\n",
    "qc.x(8)\n",
    "qc.cx(1, 9)\n",
    "qc.x(7)\n",
    "qc.cx(1, 11)\n",
    "qc.swap(6, 11)\n",
    "qc.swap(6, 9)\n",
    "qc.swap(6, 10)\n",
    "qc.x(6)\n",
    "qc.draw()"
   ]
  },
  {
   "cell_type": "code",
   "execution_count": null,
   "id": "882a4c0d",
   "metadata": {},
   "outputs": [],
   "source": [
    "# width of circuit\n",
    "# <INSERT CODE>"
   ]
  },
  {
   "cell_type": "code",
   "execution_count": null,
   "id": "40ed33e9",
   "metadata": {},
   "outputs": [],
   "source": [
    "# number of qubits\n",
    "# <INSERT CODE>"
   ]
  },
  {
   "cell_type": "code",
   "execution_count": null,
   "id": "c9f34f20",
   "metadata": {},
   "outputs": [],
   "source": [
    "# count of operations\n",
    "# <INSERT CODE>"
   ]
  },
  {
   "cell_type": "code",
   "execution_count": null,
   "id": "a9eb959c",
   "metadata": {},
   "outputs": [],
   "source": [
    "# size of circuit\n",
    "# <INSERT CODE>\n"
   ]
  },
  {
   "cell_type": "code",
   "execution_count": null,
   "id": "9f03c0bc",
   "metadata": {},
   "outputs": [],
   "source": [
    "# depth of circuit\n",
    "# <INSERT CODE>\n"
   ]
  },
  {
   "cell_type": "markdown",
   "id": "8d69c6db",
   "metadata": {},
   "source": [
    "#### Final statevector"
   ]
  },
  {
   "cell_type": "code",
   "execution_count": null,
   "id": "d66479ae",
   "metadata": {},
   "outputs": [],
   "source": [
    "# Saving the final statevector\n",
    "# Construct quantum circuit without measure\n",
    "\n",
    "from qiskit.visualization import array_to_latex\n",
    "\n",
    "circuit = QuantumCircuit(2)\n",
    "circuit.h(0)\n",
    "circuit.cx(0, 1)\n",
    "# save statevector, run circuit and get results\n",
    "# <INSERT CODE>"
   ]
  },
  {
   "cell_type": "code",
   "execution_count": null,
   "id": "8a0a9d64",
   "metadata": {},
   "outputs": [],
   "source": [
    "# Saving the circuit unitary\n",
    "# Construct quantum circuit without measure\n",
    "\n",
    "circuit = QuantumCircuit(2)\n",
    "circuit.h(0)\n",
    "circuit.cx(0, 1)\n",
    "# save unitary, run circuit and get results\n",
    "# <INSERT CODE>"
   ]
  },
  {
   "cell_type": "markdown",
   "id": "b5b218cb",
   "metadata": {},
   "source": [
    "Saving multiple statevectors"
   ]
  },
  {
   "cell_type": "code",
   "execution_count": null,
   "id": "bb20650e",
   "metadata": {},
   "outputs": [],
   "source": [
    "# Saving multiple states\n",
    "# Construct quantum circuit without measure\n",
    "\n",
    "steps = 5\n",
    "circ = QuantumCircuit(1)\n",
    "for i in range(steps):\n",
    "    circ.save_statevector(label=f'psi_{i}')\n",
    "    circ.rx(i * np.pi / steps, 0)\n",
    "circ.save_statevector(label=f'psi_{steps}')\n",
    "\n",
    "# Transpile for simulator\n",
    "simulator = Aer.get_backend('aer_simulator')\n",
    "circ = transpile(circ, simulator)\n",
    "\n",
    "# Run and get saved data\n",
    "result = simulator.run(circ).result()\n",
    "data = result.data(0)\n",
    "data"
   ]
  },
  {
   "cell_type": "markdown",
   "id": "b0e28cf3",
   "metadata": {},
   "source": [
    "Saving custom statevector"
   ]
  },
  {
   "cell_type": "code",
   "execution_count": null,
   "id": "a9f16fea",
   "metadata": {},
   "outputs": [],
   "source": [
    "# Generate a random statevector\n",
    "num_qubits = 2\n",
    "psi = qi.random_statevector(2 ** num_qubits, seed=100)\n",
    "\n",
    "# Set initial state to generated statevector\n",
    "circ = QuantumCircuit(num_qubits)\n",
    "circ.set_statevector(psi)\n",
    "circ.save_state()\n",
    "\n",
    "# Transpile for simulator\n",
    "simulator = Aer.get_backend('aer_simulator')\n",
    "circ = transpile(circ, simulator)\n",
    "\n",
    "# Run and get saved data\n",
    "result = simulator.run(circ).result()\n",
    "result.data(0)"
   ]
  },
  {
   "cell_type": "markdown",
   "id": "d3165694",
   "metadata": {},
   "source": [
    "### Parametric circuits"
   ]
  },
  {
   "cell_type": "code",
   "execution_count": null,
   "id": "a1f7a469",
   "metadata": {},
   "outputs": [],
   "source": [
    "# Parameterized Quantum Circuits \n",
    "\n",
    "from qiskit.circuit import Parameter\n",
    "\n",
    "# create parameter and use it in circuit\n",
    "# <INSERT CODE>"
   ]
  },
  {
   "cell_type": "code",
   "execution_count": null,
   "id": "f7b44266",
   "metadata": {},
   "outputs": [],
   "source": [
    "res = sim.run(circuit, parameter_binds=[{theta: [np.pi/2, np.pi, 0]}]).result()  # Different bindings\n",
    "res.get_counts()"
   ]
  },
  {
   "cell_type": "code",
   "execution_count": null,
   "id": "a842bf32",
   "metadata": {},
   "outputs": [],
   "source": [
    "from qiskit.circuit import Parameter\n",
    "\n",
    "theta = Parameter('θ')\n",
    "\n",
    "n = 5\n",
    "\n",
    "qc = QuantumCircuit(5, 1)\n",
    "\n",
    "qc.h(0)\n",
    "for i in range(n-1):\n",
    "    qc.cx(i, i+1)\n",
    "\n",
    "qc.barrier()\n",
    "qc.rz(theta, range(5))\n",
    "qc.barrier()\n",
    "\n",
    "for i in reversed(range(n-1)):\n",
    "    qc.cx(i, i+1)\n",
    "qc.h(0)\n",
    "qc.measure(0, 0)\n",
    "\n",
    "qc.draw('mpl')"
   ]
  },
  {
   "cell_type": "code",
   "execution_count": null,
   "id": "05acaa7d",
   "metadata": {},
   "outputs": [],
   "source": [
    "#We can inspect the circuit’s parameters\n",
    "# <INSERT CODE>\n"
   ]
  },
  {
   "cell_type": "code",
   "execution_count": null,
   "id": "b2ca646c",
   "metadata": {},
   "outputs": [],
   "source": [
    "import numpy as np\n",
    "\n",
    "theta_range = np.linspace(0, 2 * np.pi, 128)\n",
    "\n",
    "circuits = [qc.bind_parameters({theta: theta_val})\n",
    "            for theta_val in theta_range]\n",
    "\n",
    "circuits[-1].draw()"
   ]
  },
  {
   "cell_type": "code",
   "execution_count": null,
   "id": "ed93d439",
   "metadata": {},
   "outputs": [],
   "source": [
    "backend = Aer.get_backend('aer_simulator')\n",
    "job = backend.run(transpile(circuits, backend))\n",
    "counts = job.result().get_counts()"
   ]
  },
  {
   "cell_type": "code",
   "execution_count": null,
   "id": "caa5c3ca",
   "metadata": {},
   "outputs": [],
   "source": [
    "import matplotlib.pyplot as plt\n",
    "fig = plt.figure(figsize=(8,6))\n",
    "ax = fig.add_subplot(111)\n",
    "\n",
    "ax.plot(theta_range, list(map(lambda c: c.get('0', 0), counts)), '.-', label='0')\n",
    "ax.plot(theta_range, list(map(lambda c: c.get('1', 0), counts)), '.-', label='1')\n",
    "\n",
    "ax.set_xticks([i * np.pi / 2 for i in range(5)])\n",
    "ax.set_xticklabels(['0', r'$\\frac{\\pi}{2}$', r'$\\pi$', r'$\\frac{3\\pi}{2}$', r'$2\\pi$'], fontsize=14)\n",
    "ax.set_xlabel('θ', fontsize=14)\n",
    "ax.set_ylabel('Counts', fontsize=14)\n",
    "ax.legend(fontsize=14)"
   ]
  },
  {
   "cell_type": "code",
   "execution_count": null,
   "id": "a4f4183f",
   "metadata": {},
   "outputs": [],
   "source": [
    "# Random Circuit\n",
    "\n",
    "from qiskit.circuit.random import random_circuit\n",
    "\n",
    "# create random circuit\n",
    "# <INSERT CODE>\n"
   ]
  },
  {
   "cell_type": "code",
   "execution_count": null,
   "id": "cb9f6999",
   "metadata": {},
   "outputs": [],
   "source": [
    "# add unitary matrix to circuit\n",
    "matrix = [[0, 0, 0, 1],\n",
    "          [0, 0, 1, 0],\n",
    "          [1, 0, 0, 0],\n",
    "          [0, 1, 0, 0]]\n",
    "    \n",
    "# <INSERT CODE>\n"
   ]
  },
  {
   "cell_type": "code",
   "execution_count": null,
   "id": "bee66768",
   "metadata": {},
   "outputs": [],
   "source": [
    "# Classical logic\n",
    "from qiskit.circuit import classical_function, Int1\n",
    "\n",
    "@classical_function\n",
    "def oracle(x: Int1, y: Int1, z: Int1) -> Int1:\n",
    "    return not x and (y or z)\n",
    "\n",
    "circuit = QuantumCircuit(4)\n",
    "circuit.append(oracle, [0, 1, 2, 3])\n",
    "circuit.draw()\n",
    "# circuit.decompose().draw() #synthesis"
   ]
  },
  {
   "cell_type": "code",
   "execution_count": null,
   "id": "8273c5ae",
   "metadata": {},
   "outputs": [],
   "source": [
    "# Classical logic\n",
    "from qiskit.circuit import classical_function, Int1\n",
    "\n",
    "@classical_function\n",
    "def oracle(x: Int1) -> Int1:\n",
    "    return not x\n",
    "\n",
    "circuit = QuantumCircuit(2)\n",
    "circuit.append(oracle, [0, 1])\n",
    "circuit.draw()"
   ]
  },
  {
   "cell_type": "code",
   "execution_count": null,
   "id": "f0b13faf",
   "metadata": {},
   "outputs": [],
   "source": [
    "circuit.decompose().draw()"
   ]
  },
  {
   "cell_type": "markdown",
   "id": "6d28668a",
   "metadata": {},
   "source": [
    "https://qiskit.org/documentation/tutorials/circuits_advanced/02_operators_overview.html"
   ]
  },
  {
   "cell_type": "markdown",
   "id": "1a81a3c2",
   "metadata": {},
   "source": [
    "## 3. Quantum info, circuit lib and algorithms\n"
   ]
  },
  {
   "cell_type": "markdown",
   "id": "ca4bc591",
   "metadata": {},
   "source": [
    "### Circuit lib"
   ]
  },
  {
   "cell_type": "code",
   "execution_count": null,
   "id": "d21e0e42",
   "metadata": {},
   "outputs": [],
   "source": [
    "from qiskit.circuit.library import InnerProduct, QuantumVolume, clifford_6_2, C3XGate"
   ]
  },
  {
   "cell_type": "code",
   "execution_count": null,
   "id": "7e8501eb",
   "metadata": {},
   "outputs": [],
   "source": [
    "# inner product circuit\n",
    "# <INSERT CODE>\n"
   ]
  },
  {
   "cell_type": "code",
   "execution_count": null,
   "id": "0b23e239",
   "metadata": {},
   "outputs": [],
   "source": [
    "# clifford\n",
    "# <INSERT CODE>\n"
   ]
  },
  {
   "cell_type": "markdown",
   "id": "8b1a41e1",
   "metadata": {},
   "source": [
    "### Quantum info"
   ]
  },
  {
   "cell_type": "code",
   "execution_count": null,
   "id": "d30f5d31",
   "metadata": {},
   "outputs": [],
   "source": [
    "from qiskit.quantum_info.operators import Operator\n",
    "\n",
    "# Create an operator\n",
    "# <INSERT CODE>\n"
   ]
  },
  {
   "cell_type": "code",
   "execution_count": null,
   "id": "36ff06f9",
   "metadata": {},
   "outputs": [],
   "source": [
    "# add operator to circuit\n",
    "# <INSERT CODE>\n"
   ]
  },
  {
   "cell_type": "code",
   "execution_count": null,
   "id": "b4e2ab51",
   "metadata": {},
   "outputs": [],
   "source": [
    "# Pauli\n",
    "from qiskit.quantum_info.operators import Pauli\n",
    "\n",
    "# use Pauli operator\n",
    "# <INSERT CODE>\n"
   ]
  },
  {
   "cell_type": "code",
   "execution_count": null,
   "id": "ac58f6ef",
   "metadata": {},
   "outputs": [],
   "source": [
    "# Pauli with phase \n",
    "from qiskit.quantum_info.operators import Pauli\n",
    "\n",
    "circuit = QuantumCircuit(4)\n",
    "iIXYZ = Pauli('iIXYZ')  # ['', '-i', '-', 'i']\n",
    "circuit.append(iIXYZ, [0, 1, 2, 3])\n",
    "circuit.draw()"
   ]
  },
  {
   "cell_type": "code",
   "execution_count": null,
   "id": "784dd220",
   "metadata": {},
   "outputs": [],
   "source": [
    "# create clifford\n",
    "from qiskit.quantum_info import random_clifford\n",
    "\n",
    "# random clifford\n",
    "# <INSERT CODE>\n"
   ]
  },
  {
   "cell_type": "code",
   "execution_count": null,
   "id": "27d69641",
   "metadata": {},
   "outputs": [],
   "source": [
    "# stabilizer and destabilizer \n",
    "# <INSERT CODE>\n"
   ]
  },
  {
   "cell_type": "markdown",
   "id": "73a3b4f5",
   "metadata": {},
   "source": [
    "### Algorithms\n"
   ]
  },
  {
   "cell_type": "code",
   "execution_count": null,
   "id": "34652211",
   "metadata": {},
   "outputs": [],
   "source": []
  },
  {
   "cell_type": "markdown",
   "id": "bc6f008e",
   "metadata": {},
   "source": [
    "#### VQE\n"
   ]
  },
  {
   "cell_type": "code",
   "execution_count": null,
   "id": "4ac85c5c",
   "metadata": {},
   "outputs": [],
   "source": [
    "from qiskit.algorithms import VQE\n",
    "from qiskit.algorithms.optimizers import SLSQP\n",
    "from qiskit.circuit.library import TwoLocal\n",
    "\n",
    "num_qubits = 2\n",
    "ansatz = TwoLocal(num_qubits, 'ry', 'cz')\n",
    "opt = SLSQP(maxiter=1000)\n",
    "vqe = VQE(ansatz, optimizer=opt)"
   ]
  },
  {
   "cell_type": "code",
   "execution_count": null,
   "id": "d6c8122f",
   "metadata": {},
   "outputs": [],
   "source": [
    "from qiskit.opflow import X, Z, I\n",
    "\n",
    "H2_op = (-1.052373245772859 * I ^ I) + \\\n",
    "        (0.39793742484318045 * I ^ Z) + \\\n",
    "        (-0.39793742484318045 * Z ^ I) + \\\n",
    "        (-0.01128010425623538 * Z ^ Z) + \\\n",
    "        (0.18093119978423156 * X ^ X)"
   ]
  },
  {
   "cell_type": "code",
   "execution_count": null,
   "id": "11b54576",
   "metadata": {},
   "outputs": [],
   "source": [
    "from qiskit.utils import algorithm_globals\n",
    "seed = 50\n",
    "algorithm_globals.random_seed = seed\n",
    "qi = QuantumInstance(Aer.get_backend('statevector_simulator'), seed_transpiler=seed, seed_simulator=seed)\n",
    "\n",
    "ansatz = TwoLocal(rotation_blocks='ry', entanglement_blocks='cz')\n",
    "slsqp = SLSQP(maxiter=1000)\n",
    "vqe = VQE(ansatz, optimizer=slsqp, quantum_instance=qi)\n",
    "result = vqe.compute_minimum_eigenvalue(H2_op)\n",
    "print(result)"
   ]
  },
  {
   "cell_type": "markdown",
   "id": "e261677c",
   "metadata": {},
   "source": [
    "#### Grover's algorithm\n"
   ]
  },
  {
   "cell_type": "code",
   "execution_count": null,
   "id": "9c03c018",
   "metadata": {},
   "outputs": [],
   "source": [
    "from qiskit.algorithms import Grover\n",
    "from qiskit.algorithms import AmplificationProblem\n"
   ]
  },
  {
   "cell_type": "code",
   "execution_count": null,
   "id": "04ed6fdd",
   "metadata": {},
   "outputs": [],
   "source": [
    "# the state we desire to find is '11'\n",
    "good_state = ['11']\n",
    "\n",
    "# specify the oracle that marks the state '11' as a good solution\n",
    "oracle = QuantumCircuit(2)\n",
    "oracle.cz(0, 1)\n",
    "\n",
    "# define Grover's algorithm\n",
    "problem = AmplificationProblem(oracle, is_good_state=good_state)\n",
    "\n",
    "# now we can have a look at the Grover operator that is used in running the algorithm\n",
    "problem.grover_operator.draw(output='mpl')"
   ]
  },
  {
   "cell_type": "code",
   "execution_count": null,
   "id": "b0dc1c36",
   "metadata": {},
   "outputs": [],
   "source": [
    "from qiskit import Aer\n",
    "from qiskit.utils import QuantumInstance\n",
    "from qiskit.algorithms import Grover\n",
    "\n",
    "aer_simulator = Aer.get_backend('aer_simulator')\n",
    "grover = Grover(quantum_instance=aer_simulator)\n",
    "result = grover.amplify(problem)\n",
    "print('Result type:', type(result))\n",
    "print('Success!' if result.oracle_evaluation else 'Failure!')\n",
    "print('Top measurement:', result.top_measurement)"
   ]
  },
  {
   "cell_type": "markdown",
   "id": "cfd8de51",
   "metadata": {},
   "source": [
    "## 4. Transpiling, pulse and opflow\n"
   ]
  },
  {
   "cell_type": "markdown",
   "id": "53318513",
   "metadata": {},
   "source": [
    "### Compiling circuits"
   ]
  },
  {
   "cell_type": "code",
   "execution_count": null,
   "id": "b412c2d5",
   "metadata": {},
   "outputs": [],
   "source": [
    "[(b.name(), b.configuration().n_qubits) for b in provider.backends()]"
   ]
  },
  {
   "cell_type": "code",
   "execution_count": null,
   "id": "59b5ff2c",
   "metadata": {},
   "outputs": [],
   "source": [
    "from qiskit.tools.jupyter import *\n",
    "%qiskit_backend_overview"
   ]
  },
  {
   "cell_type": "code",
   "execution_count": null,
   "id": "ec5d9cd7",
   "metadata": {},
   "outputs": [],
   "source": [
    "from qiskit.providers.ibmq import least_busy\n",
    "\n",
    "# get least busy backend\n",
    "# <INSERT CODE>\n"
   ]
  },
  {
   "cell_type": "code",
   "execution_count": null,
   "id": "f9b2eb86",
   "metadata": {},
   "outputs": [],
   "source": [
    "# bell state\n",
    "circuit = QuantumCircuit(2)\n",
    "circuit.h(0)\n",
    "circuit.cx(0, 1)\n",
    "circuit.measure_all()\n",
    "circuit.draw()"
   ]
  },
  {
   "cell_type": "code",
   "execution_count": null,
   "id": "1d282449",
   "metadata": {},
   "outputs": [],
   "source": [
    "# run it in simulator\n",
    "sim = Aer.get_backend('aer_simulator')\n",
    "result = sim.run(circuit).result()\n",
    "counts = result.get_counts()\n",
    "plot_histogram(counts)"
   ]
  },
  {
   "cell_type": "code",
   "execution_count": null,
   "id": "0a22158f",
   "metadata": {},
   "outputs": [],
   "source": [
    "# run on least busy backend\n",
    "# <INSERT CODE>\n"
   ]
  },
  {
   "cell_type": "code",
   "execution_count": null,
   "id": "725d9a5f",
   "metadata": {},
   "outputs": [],
   "source": [
    "# get results\n",
    "# <INSERT CODE>\n"
   ]
  },
  {
   "cell_type": "code",
   "execution_count": null,
   "id": "6c216d4b",
   "metadata": {},
   "outputs": [],
   "source": [
    "circuit.draw('mpl')"
   ]
  },
  {
   "cell_type": "code",
   "execution_count": null,
   "id": "a4fb9d32",
   "metadata": {},
   "outputs": [],
   "source": [
    "from qiskit import transpile\n",
    "\n",
    "# transpile with specified backend\n",
    "# <INSERT CODE>\n"
   ]
  },
  {
   "cell_type": "code",
   "execution_count": null,
   "id": "a3720362",
   "metadata": {},
   "outputs": [],
   "source": [
    "# rerun job\n",
    "# <INSERT CODE>\n"
   ]
  },
  {
   "cell_type": "code",
   "execution_count": null,
   "id": "88ba7e4b",
   "metadata": {},
   "outputs": [],
   "source": [
    "# job status\n",
    "# <INSERT CODE>\n"
   ]
  },
  {
   "cell_type": "code",
   "execution_count": null,
   "id": "37e23b2a",
   "metadata": {},
   "outputs": [],
   "source": [
    "# get results\n",
    "# <INSERT CODE>\n",
    "\n"
   ]
  },
  {
   "cell_type": "code",
   "execution_count": null,
   "id": "896f6801",
   "metadata": {},
   "outputs": [],
   "source": [
    "from qiskit.visualization import plot_circuit_layout, plot_gate_map\n",
    "\n",
    "display(transpiled_circuit.draw(idle_wires=False))\n",
    "display(plot_gate_map(backend))\n",
    "plot_circuit_layout(transpiled_circuit, backend)"
   ]
  },
  {
   "cell_type": "code",
   "execution_count": null,
   "id": "cb666c7c",
   "metadata": {},
   "outputs": [],
   "source": [
    "# a slightly more interesting example:\n",
    "circuit = QuantumCircuit(3)\n",
    "circuit.h([0,1,2])\n",
    "circuit.ccx(0, 1, 2)\n",
    "circuit.h([0,1,2])\n",
    "circuit.ccx(2, 0, 1)\n",
    "circuit.h([0,1,2])\n",
    "circuit.measure_all()\n",
    "circuit.draw()"
   ]
  },
  {
   "cell_type": "code",
   "execution_count": null,
   "id": "cc0bc167",
   "metadata": {},
   "outputs": [],
   "source": [
    "transpiled = transpile(circuit, backend)\n",
    "transpiled.draw(idle_wires=False, fold=-1)"
   ]
  },
  {
   "cell_type": "code",
   "execution_count": null,
   "id": "74bb77e7",
   "metadata": {},
   "outputs": [],
   "source": [
    "# Initial layout"
   ]
  },
  {
   "cell_type": "code",
   "execution_count": null,
   "id": "268a3623",
   "metadata": {},
   "outputs": [],
   "source": [
    "# transpiling with initial layout \n",
    "# <INSERT CODE>\n"
   ]
  },
  {
   "cell_type": "code",
   "execution_count": null,
   "id": "6ca9fbfd",
   "metadata": {},
   "outputs": [],
   "source": [
    "transpiled.draw(idle_wires=False, fold=-1)"
   ]
  },
  {
   "cell_type": "code",
   "execution_count": null,
   "id": "7e5aff89",
   "metadata": {},
   "outputs": [],
   "source": [
    "level0 = transpile(circuit, backend, optimization_level=0)\n",
    "level1 = transpile(circuit, backend, optimization_level=1)\n",
    "level2 = transpile(circuit, backend, optimization_level=2)\n",
    "level3 = transpile(circuit, backend, optimization_level=3)"
   ]
  },
  {
   "cell_type": "code",
   "execution_count": null,
   "id": "31001269",
   "metadata": {},
   "outputs": [],
   "source": [
    "for level in [level0, level1, level2, level3]:\n",
    "    print(level.count_ops()['cx'], level.depth())"
   ]
  },
  {
   "cell_type": "code",
   "execution_count": null,
   "id": "a4ca82d9",
   "metadata": {},
   "outputs": [],
   "source": [
    "# transpiling is a stochastic process"
   ]
  },
  {
   "cell_type": "code",
   "execution_count": null,
   "id": "aee0cdb0",
   "metadata": {},
   "outputs": [],
   "source": [
    "transpiled = transpile(circuit, backend, optimization_level=2, seed_transpiler=42)\n",
    "transpiled.depth()"
   ]
  },
  {
   "cell_type": "code",
   "execution_count": null,
   "id": "b384426d",
   "metadata": {},
   "outputs": [],
   "source": [
    "transpiled = transpile(circuit, backend, optimization_level=2, seed_transpiler=1)\n",
    "transpiled.depth()"
   ]
  },
  {
   "cell_type": "code",
   "execution_count": null,
   "id": "beec7e8d",
   "metadata": {},
   "outputs": [],
   "source": [
    "# Playing with other transpiler options (without a backend)"
   ]
  },
  {
   "cell_type": "code",
   "execution_count": null,
   "id": "a5e8175a",
   "metadata": {},
   "outputs": [],
   "source": [
    "transpiled = transpile(circuit)\n",
    "transpiled.draw(fold=-1)"
   ]
  },
  {
   "cell_type": "code",
   "execution_count": null,
   "id": "e7ec19b8",
   "metadata": {},
   "outputs": [],
   "source": [
    "# Set a basis gates"
   ]
  },
  {
   "cell_type": "code",
   "execution_count": null,
   "id": "2f33145c",
   "metadata": {},
   "outputs": [],
   "source": [
    "backend.configuration().basis_gates"
   ]
  },
  {
   "cell_type": "code",
   "execution_count": null,
   "id": "612b568c",
   "metadata": {},
   "outputs": [],
   "source": [
    "# specify basis gates\n",
    "# <INSERT CODE>\n"
   ]
  },
  {
   "cell_type": "code",
   "execution_count": null,
   "id": "f932588c",
   "metadata": {},
   "outputs": [],
   "source": [
    "# Set a coupling map"
   ]
  },
  {
   "cell_type": "code",
   "execution_count": null,
   "id": "aa2bfab3",
   "metadata": {},
   "outputs": [],
   "source": [
    "backend.configuration().coupling_map"
   ]
  },
  {
   "cell_type": "code",
   "execution_count": null,
   "id": "47325893",
   "metadata": {},
   "outputs": [],
   "source": [
    "from qiskit.transpiler import CouplingMap\n",
    "\n",
    "# specify coupling map\n",
    "# <INSERT CODE>\n"
   ]
  },
  {
   "cell_type": "code",
   "execution_count": null,
   "id": "b307475b",
   "metadata": {},
   "outputs": [],
   "source": [
    "# Set an initial layout in a coupling map"
   ]
  },
  {
   "cell_type": "code",
   "execution_count": null,
   "id": "1ede413a",
   "metadata": {},
   "outputs": [],
   "source": [
    "transpiled = transpile(circuit,\n",
    "                       coupling_map=CouplingMap([(0,1),(1,2)]),\n",
    "                       initial_layout=[1, 0, 2])\n",
    "transpiled.draw(fold=-1)"
   ]
  },
  {
   "cell_type": "code",
   "execution_count": null,
   "id": "5a9729a1",
   "metadata": {},
   "outputs": [],
   "source": [
    "# Set an initial_layout in the coupling map with basis gates"
   ]
  },
  {
   "cell_type": "code",
   "execution_count": null,
   "id": "7f315eba",
   "metadata": {},
   "outputs": [],
   "source": [
    "transpiled = transpile(circuit,\n",
    "                       coupling_map=CouplingMap([(0,1),(1,2)]),\n",
    "                       initial_layout=[1, 0, 2],\n",
    "                       basis_gates=['x', 'cx', 'h', 'p']\n",
    "                      )\n",
    "transpiled.draw(fold=-1)"
   ]
  },
  {
   "cell_type": "code",
   "execution_count": null,
   "id": "366b873a",
   "metadata": {},
   "outputs": [],
   "source": [
    "transpiled.count_ops()['cx']"
   ]
  },
  {
   "cell_type": "code",
   "execution_count": null,
   "id": "9c0c9142",
   "metadata": {},
   "outputs": [],
   "source": [
    "# Plus optimization level"
   ]
  },
  {
   "cell_type": "code",
   "execution_count": null,
   "id": "cbd5b930",
   "metadata": {},
   "outputs": [],
   "source": [
    "transpiled = transpile(circuit,\n",
    "                       coupling_map=CouplingMap([(0,1),(1,2)]),\n",
    "                       initial_layout=[1, 0, 2],\n",
    "                       basis_gates=['x', 'cx', 'h', 'p'],\n",
    "                       optimization_level=3\n",
    "                      )\n",
    "transpiled.draw(fold=-1)"
   ]
  },
  {
   "cell_type": "code",
   "execution_count": null,
   "id": "f8b5a689",
   "metadata": {},
   "outputs": [],
   "source": [
    "transpiled.count_ops()['cx']"
   ]
  },
  {
   "cell_type": "code",
   "execution_count": null,
   "id": "e4b19ec3",
   "metadata": {},
   "outputs": [],
   "source": [
    "# Last parameter, approximation degree"
   ]
  },
  {
   "cell_type": "code",
   "execution_count": null,
   "id": "541c6357",
   "metadata": {},
   "outputs": [],
   "source": [
    "transpiled = transpile(circuit,\n",
    "                       coupling_map=CouplingMap([(0,1),(1,2)]),\n",
    "                       initial_layout=[1, 0, 2],\n",
    "                       basis_gates=['x', 'cx', 'h', 'p'],\n",
    "                       approximation_degree=0.99,\n",
    "                       optimization_level=3\n",
    "                      )\n",
    "transpiled.draw(fold=-1)"
   ]
  },
  {
   "cell_type": "code",
   "execution_count": null,
   "id": "853bd630",
   "metadata": {},
   "outputs": [],
   "source": [
    "transpiled.depth()"
   ]
  },
  {
   "cell_type": "code",
   "execution_count": null,
   "id": "cc3700af",
   "metadata": {},
   "outputs": [],
   "source": [
    "transpiled = transpile(circuit,\n",
    "                       coupling_map=CouplingMap([(0,1),(1,2)]),\n",
    "                       initial_layout=[1, 0, 2],\n",
    "                       basis_gates=['x', 'cx', 'h', 'p'],\n",
    "                       approximation_degree=0.01,\n",
    "                       optimization_level=3\n",
    "                      )\n",
    "transpiled.draw(fold=-1)"
   ]
  },
  {
   "cell_type": "code",
   "execution_count": null,
   "id": "924f17fa",
   "metadata": {},
   "outputs": [],
   "source": [
    "transpiled.depth()"
   ]
  },
  {
   "cell_type": "markdown",
   "id": "299efba9",
   "metadata": {},
   "source": [
    "#### Qiskit is hardware agnostic!"
   ]
  },
  {
   "cell_type": "code",
   "execution_count": null,
   "id": "39df7f4c",
   "metadata": {},
   "outputs": [],
   "source": [
    "# !pip install qiskit-ionq"
   ]
  },
  {
   "cell_type": "code",
   "execution_count": null,
   "id": "554edca0",
   "metadata": {},
   "outputs": [],
   "source": [
    "# from qiskit_ionq import IonQProvider\n",
    "# provider = IonQProvider(<your token>)\n",
    "\n",
    "# circuit = QuantumCircuit(2)\n",
    "# circuit.h(0)\n",
    "# circuit.cx(0, 1)\n",
    "# circuit.measure_all()\n",
    "# circuit.draw()\n",
    "\n",
    "# backend = provider.get_backend(\"ionq_qpu\")\n",
    "# job = backend.run(circuit)\n",
    "\n",
    "# plot_histogram(job.get_counts())"
   ]
  },
  {
   "cell_type": "markdown",
   "id": "df4a5647",
   "metadata": {},
   "source": [
    "### Pulse"
   ]
  },
  {
   "cell_type": "code",
   "execution_count": null,
   "id": "1e8a6d12",
   "metadata": {},
   "outputs": [],
   "source": [
    "from qiskit import pulse\n",
    "\n",
    "# create dummy pusle program\n",
    "# <INSERT CODE>\n",
    "\n"
   ]
  },
  {
   "cell_type": "code",
   "execution_count": null,
   "id": "7f0e83a1",
   "metadata": {},
   "outputs": [],
   "source": [
    "from qiskit.pulse import DriveChannel\n",
    "\n",
    "channel = DriveChannel(0)"
   ]
  },
  {
   "cell_type": "code",
   "execution_count": null,
   "id": "cf12e961",
   "metadata": {},
   "outputs": [],
   "source": [
    "from qiskit.test.mock import FakeValencia\n",
    "\n",
    "# build backend aware pulse schedule\n",
    "# <INSERT CODE>\n"
   ]
  },
  {
   "cell_type": "markdown",
   "id": "2f596b38",
   "metadata": {},
   "source": [
    "#### Delay instruction\n"
   ]
  },
  {
   "cell_type": "code",
   "execution_count": null,
   "id": "acb1b31a",
   "metadata": {},
   "outputs": [],
   "source": [
    "# delay instruction\n",
    "# <INSERT CODE>\n"
   ]
  },
  {
   "cell_type": "markdown",
   "id": "08e4699f",
   "metadata": {},
   "source": [
    "#### Play instruction\n"
   ]
  },
  {
   "cell_type": "markdown",
   "id": "7a775cc2",
   "metadata": {},
   "source": [
    "#### Parametric pulses\n"
   ]
  },
  {
   "cell_type": "code",
   "execution_count": null,
   "id": "a8fad8a3",
   "metadata": {},
   "outputs": [],
   "source": [
    "from qiskit.pulse import library\n",
    "\n",
    "# build parametric pulse\n",
    "# <INSERT CODE>\n",
    "\n"
   ]
  },
  {
   "cell_type": "code",
   "execution_count": null,
   "id": "5ac13617",
   "metadata": {},
   "outputs": [],
   "source": [
    "# play parametric pulse\n",
    "# <INSERT CODE>\n",
    "\n"
   ]
  },
  {
   "cell_type": "code",
   "execution_count": null,
   "id": "1de5ac3b",
   "metadata": {},
   "outputs": [],
   "source": [
    "# set frequency\n",
    "# <INSERT CODE>\n"
   ]
  },
  {
   "cell_type": "code",
   "execution_count": null,
   "id": "fe978c84",
   "metadata": {},
   "outputs": [],
   "source": [
    "# shift phase\n",
    "# <INSERT CODE>\n",
    "\n"
   ]
  },
  {
   "cell_type": "code",
   "execution_count": null,
   "id": "9778606b",
   "metadata": {},
   "outputs": [],
   "source": [
    "from qiskit.pulse import Acquire, AcquireChannel, MemorySlot\n",
    "\n",
    "# aqure instruction\n",
    "# <INSERT CODE>\n"
   ]
  },
  {
   "cell_type": "code",
   "execution_count": null,
   "id": "0fbc519d",
   "metadata": {},
   "outputs": [],
   "source": [
    "# example with left align schedule\n",
    "# <INSERT CODE>\n"
   ]
  },
  {
   "cell_type": "code",
   "execution_count": null,
   "id": "e09e00dd",
   "metadata": {},
   "outputs": [],
   "source": [
    "from qiskit import pulse\n",
    "\n",
    "dc = pulse.DriveChannel\n",
    "d0, d1, d2, d3, d4 = dc(0), dc(1), dc(2), dc(3), dc(4)\n",
    "\n",
    "with pulse.build(name='pulse_programming_in') as pulse_prog:\n",
    "    pulse.play([1, 1, 1, 0, 0, 1, 1, 1, 0, 1, 1, 1, 0, 1, 0, 1, 0, 1, 1, 1, 0, 1, 1, 1], d0)\n",
    "    pulse.play([1, 0, 1, 0, 0, 0, 1, 0, 0, 1, 0, 0, 0, 1, 1, 0, 0, 0, 1, 0, 0, 0, 1, 0], d1)\n",
    "    pulse.play([1, 0, 1, 0, 0, 0, 1, 0, 0, 1, 1, 1, 0, 1, 0, 0, 0, 0, 1, 0, 0, 0, 1, 0], d2)\n",
    "    pulse.play([1, 0, 1, 0, 0, 0, 1, 0, 0, 0, 0, 1, 0, 1, 1, 0, 0, 0, 1, 0, 0, 0, 1, 0], d3)\n",
    "    pulse.play([1, 1, 1, 1, 0, 1, 1, 1, 0, 1, 1, 1, 0, 1, 0, 1, 0, 1, 1, 1, 0, 0, 1, 0], d4)\n",
    "\n",
    "pulse_prog.draw()"
   ]
  },
  {
   "cell_type": "markdown",
   "id": "11df16ce",
   "metadata": {},
   "source": [
    "### Opflow"
   ]
  },
  {
   "cell_type": "code",
   "execution_count": null,
   "id": "05273576",
   "metadata": {},
   "outputs": [],
   "source": [
    "from qiskit.opflow import I, X, Y, Z\n",
    "print(I, X, Y, Z)"
   ]
  },
  {
   "cell_type": "code",
   "execution_count": null,
   "id": "16356f1a",
   "metadata": {},
   "outputs": [],
   "source": [
    "# These operators may also carry a coefficient.\n",
    "# <INSERT CODE>\n"
   ]
  },
  {
   "cell_type": "code",
   "execution_count": null,
   "id": "51539a1d",
   "metadata": {},
   "outputs": [],
   "source": [
    "# These coefficients allow the operators to be used as terms in a sum.\n",
    "# <INSERT CODE>\n",
    "\n"
   ]
  },
  {
   "cell_type": "code",
   "execution_count": null,
   "id": "229b9ad9",
   "metadata": {},
   "outputs": [],
   "source": [
    "# Tensor products are denoted with a caret, like this.\n",
    "# <INSERT CODE>\n",
    "\n"
   ]
  },
  {
   "cell_type": "code",
   "execution_count": null,
   "id": "eb9ac381",
   "metadata": {},
   "outputs": [],
   "source": [
    "# Composition is denoted by the @ symbol.\n",
    "# <INSERT CODE>\n",
    "\n"
   ]
  },
  {
   "cell_type": "markdown",
   "id": "b5fec57b",
   "metadata": {},
   "source": [
    "### State functions and measurements"
   ]
  },
  {
   "cell_type": "code",
   "execution_count": null,
   "id": "0783d1c3",
   "metadata": {},
   "outputs": [],
   "source": [
    "from qiskit.opflow import (StateFn, Zero, One, Plus, Minus, H,\n",
    "                           DictStateFn, VectorStateFn, CircuitStateFn, OperatorStateFn)"
   ]
  },
  {
   "cell_type": "code",
   "execution_count": null,
   "id": "6c75a86b",
   "metadata": {},
   "outputs": [],
   "source": [
    "# zero, one\n",
    "# <INSERT CODE>\n",
    "\n"
   ]
  },
  {
   "cell_type": "code",
   "execution_count": null,
   "id": "c062581d",
   "metadata": {},
   "outputs": [],
   "source": [
    "# plus, minus\n",
    "# <INSERT CODE>\n",
    "\n"
   ]
  },
  {
   "cell_type": "code",
   "execution_count": null,
   "id": "add9908b",
   "metadata": {},
   "outputs": [],
   "source": [
    "# evaulation\n",
    "# <INSERT CODE>\n",
    "\n"
   ]
  },
  {
   "cell_type": "code",
   "execution_count": null,
   "id": "d5f16cfb",
   "metadata": {},
   "outputs": [],
   "source": [
    "# adjoint\n",
    "# <INSERT CODE>\n",
    "\n"
   ]
  },
  {
   "cell_type": "code",
   "execution_count": null,
   "id": "d7fcdf39",
   "metadata": {},
   "outputs": [],
   "source": [
    "# other way of writing adjoint\n",
    "# <INSERT CODE>\n"
   ]
  },
  {
   "cell_type": "markdown",
   "id": "214f53bf",
   "metadata": {},
   "source": [
    "#### Algebraic operations\n",
    "\n"
   ]
  },
  {
   "cell_type": "code",
   "execution_count": null,
   "id": "dc18a2d3",
   "metadata": {},
   "outputs": [],
   "source": [
    "import math\n",
    "\n",
    "v_zero_one = (Zero + One) / math.sqrt(2)\n",
    "print(v_zero_one)"
   ]
  },
  {
   "cell_type": "code",
   "execution_count": null,
   "id": "dbf78c98",
   "metadata": {},
   "outputs": [],
   "source": [
    "print(StateFn({'0':1}))\n",
    "print(StateFn({'0':1}) == Zero)\n",
    "\n",
    "print(StateFn([0,1,1,0]))\n",
    "\n",
    "from qiskit.circuit.library import RealAmplitudes\n",
    "print(StateFn(RealAmplitudes(2)))"
   ]
  },
  {
   "cell_type": "code",
   "execution_count": null,
   "id": "4af7e6c9",
   "metadata": {},
   "outputs": [],
   "source": [
    "from qiskit.opflow import Zero, One, H, CX, I\n",
    "\n",
    "# bell state\n",
    "# <INSERT CODE>\n",
    "\n"
   ]
  },
  {
   "cell_type": "code",
   "execution_count": null,
   "id": "acf03e40",
   "metadata": {},
   "outputs": [],
   "source": [
    "# implement arbitrary circuits\n",
    "# <INSERT CODE>\n",
    "\n"
   ]
  },
  {
   "cell_type": "code",
   "execution_count": null,
   "id": "625b784e",
   "metadata": {},
   "outputs": [],
   "source": []
  }
 ],
 "metadata": {
  "kernelspec": {
   "display_name": "Python 3",
   "language": "python",
   "name": "python3"
  },
  "language_info": {
   "codemirror_mode": {
    "name": "ipython",
    "version": 3
   },
   "file_extension": ".py",
   "mimetype": "text/x-python",
   "name": "python",
   "nbconvert_exporter": "python",
   "pygments_lexer": "ipython3",
   "version": "3.8.8"
  }
 },
 "nbformat": 4,
 "nbformat_minor": 5
}
